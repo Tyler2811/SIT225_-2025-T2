{
 "cells": [
  {
   "cell_type": "code",
   "execution_count": 4,
   "id": "460199b3-253e-439b-bfb6-e6ae5937d499",
   "metadata": {},
   "outputs": [
    {
     "data": {
      "text/html": [
       "\n",
       "        <iframe\n",
       "            width=\"100%\"\n",
       "            height=\"650\"\n",
       "            src=\"http://127.0.0.1:8050/\"\n",
       "            frameborder=\"0\"\n",
       "            allowfullscreen\n",
       "            \n",
       "        ></iframe>\n",
       "        "
      ],
      "text/plain": [
       "<IPython.lib.display.IFrame at 0x203de912fd0>"
      ]
     },
     "metadata": {},
     "output_type": "display_data"
    }
   ],
   "source": [
    "import pandas as pd\n",
    "import plotly.express as px\n",
    "from dash import Dash, dcc, html, Input, Output, dash_table\n",
    "\n",
    "# Step 1: Load Gyroscope CSV data (expects columns like time, x, y, z)\n",
    "df = pd.read_csv(\"gyro_data.csv\")\n",
    "\n",
    "# Step 2: Create the Dash app layout\n",
    "app = Dash(__name__)\n",
    "app.layout = html.Div([\n",
    "    html.H1(\"Gyroscope Data Dashboard\"),\n",
    "\n",
    "    dcc.Dropdown(\n",
    "        id=\"chart-type\",\n",
    "        options=[\n",
    "            {\"label\": \"Line Chart\", \"value\": \"line\"},\n",
    "            {\"label\": \"Scatter Plot\", \"value\": \"scatter\"},\n",
    "            {\"label\": \"Histogram\", \"value\": \"hist\"}\n",
    "        ],\n",
    "        value=\"line\"\n",
    "    ),\n",
    "    dcc.Dropdown(\n",
    "        id=\"variables\",\n",
    "        options=[\n",
    "            {\"label\": \"X-axis\", \"value\": \"x\"},\n",
    "            {\"label\": \"Y-axis\", \"value\": \"y\"},\n",
    "            {\"label\": \"Z-axis\", \"value\": \"z\"}\n",
    "        ],\n",
    "        value=[\"x\", \"y\", \"z\"],\n",
    "        multi=True\n",
    "    ),\n",
    "    dcc.Input(id=\"num-samples\", type=\"number\", value=100, min=10, step=10),\n",
    "    html.Div([\n",
    "        html.Button(\"Previous\", id=\"prev-btn\", n_clicks=0),\n",
    "        html.Button(\"Next\", id=\"next-btn\", n_clicks=0),\n",
    "    ]),\n",
    "\n",
    "    dcc.Graph(id=\"gyro-graph\"),\n",
    "    dash_table.DataTable(id=\"summary-table\")\n",
    "])\n",
    "\n",
    "# Step 3: Add interactivity with a callback\n",
    "@app.callback(\n",
    "    [Output(\"gyro-graph\", \"figure\"),\n",
    "     Output(\"summary-table\", \"data\"),\n",
    "     Output(\"summary-table\", \"columns\")],\n",
    "    [Input(\"chart-type\", \"value\"),\n",
    "     Input(\"variables\", \"value\"),\n",
    "     Input(\"num-samples\", \"value\"),\n",
    "     Input(\"prev-btn\", \"n_clicks\"),\n",
    "     Input(\"next-btn\", \"n_clicks\")]\n",
    ")\n",
    "def update_graph(chart_type, variables, num_samples, prev_clicks, next_clicks):\n",
    "    start_index = max(0, (next_clicks - prev_clicks) * num_samples)\n",
    "    end_index = start_index + num_samples\n",
    "    dff = df.iloc[start_index:end_index]\n",
    "\n",
    "    # Step 4: Generate the selected plot type\n",
    "    if chart_type == \"line\":\n",
    "        fig = px.line(dff, y=variables, title=\"Line Chart of Gyroscope Data\")\n",
    "    elif chart_type == \"scatter\":\n",
    "        fig = px.scatter(dff, y=variables, title=\"Scatter Plot of Gyroscope Data\")\n",
    "    else:\n",
    "        fig = px.histogram(dff, x=variables[0], title=\"Histogram of Selected Variable\")\n",
    "\n",
    "    # Step 5: Create a cleaner summary table (Minimum, Maximum, Average)\n",
    "    summary = dff[variables].describe().loc[[\"min\", \"max\", \"mean\"]]\n",
    "    summary = summary.rename(index={\"min\": \"Minimum\", \"max\": \"Maximum\", \"mean\": \"Average\"})\n",
    "    summary = summary.reset_index().rename(columns={\"index\": \"Statistic\"})\n",
    "\n",
    "    data = summary.to_dict(\"records\")\n",
    "    columns = [{\"name\": i, \"id\": i} for i in summary.columns]\n",
    "\n",
    "    return fig, data, columns\n",
    "\n",
    "# Step 6: Run the app\n",
    "if __name__ == \"__main__\":\n",
    "    app.run(debug=True)\n"
   ]
  },
  {
   "cell_type": "code",
   "execution_count": null,
   "id": "b7576671-8efa-4ca4-bc4c-217855b53dc4",
   "metadata": {},
   "outputs": [],
   "source": []
  }
 ],
 "metadata": {
  "kernelspec": {
   "display_name": "Python [conda env:base] *",
   "language": "python",
   "name": "conda-base-py"
  },
  "language_info": {
   "codemirror_mode": {
    "name": "ipython",
    "version": 3
   },
   "file_extension": ".py",
   "mimetype": "text/x-python",
   "name": "python",
   "nbconvert_exporter": "python",
   "pygments_lexer": "ipython3",
   "version": "3.13.5"
  }
 },
 "nbformat": 4,
 "nbformat_minor": 5
}
