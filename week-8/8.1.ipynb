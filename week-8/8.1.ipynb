{
 "cells": [
  {
   "cell_type": "code",
   "execution_count": 1,
   "id": "0117a7f1-fddf-4c84-958f-2c82b68e0de6",
   "metadata": {},
   "outputs": [
    {
     "name": "stdout",
     "output_type": "stream",
     "text": [
      "Starting Arduino Cloud client...\n",
      "Waiting for accelerometer data...\n",
      "Press Ctrl+C to stop\n"
     ]
    },
    {
     "name": "stderr",
     "output_type": "stream",
     "text": [
      "ERROR:root:task: connection_task raised exception: .\n",
      "ERROR:root:task: discovery raised exception: [WinError 10054] An existing connection was forcibly closed by the remote host.\n",
      "ERROR:root:task: mqtt_task raised exception: [WinError 10054] An existing connection was forcibly closed by the remote host.\n",
      "ERROR:root:task: connection_task raised exception: .\n"
     ]
    },
    {
     "name": "stdout",
     "output_type": "stream",
     "text": [
      "Saved: 2025-09-12 19:09:07,0.20350714027881622,0.031124621629714966,9.926360130310059\n"
     ]
    },
    {
     "name": "stderr",
     "output_type": "stream",
     "text": [
      "ERROR:root:task: mqtt_task raised exception: [WinError 10054] An existing connection was forcibly closed by the remote host.\n",
      "ERROR:root:task: connection_task raised exception: .\n"
     ]
    },
    {
     "name": "stdout",
     "output_type": "stream",
     "text": [
      "Saved: 2025-09-12 19:09:11,0.1867477297782898,0.031124621629714966,9.926360130310059\n"
     ]
    },
    {
     "name": "stderr",
     "output_type": "stream",
     "text": [
      "ERROR:root:task: mqtt_task raised exception: [WinError 10054] An existing connection was forcibly closed by the remote host.\n",
      "ERROR:root:task: connection_task raised exception: .\n"
     ]
    },
    {
     "name": "stdout",
     "output_type": "stream",
     "text": [
      "Saved: 2025-09-12 19:09:15,0.14604631066322327,0.031124621629714966,9.926360130310059\n"
     ]
    },
    {
     "name": "stderr",
     "output_type": "stream",
     "text": [
      "ERROR:root:task: mqtt_task raised exception: [WinError 10054] An existing connection was forcibly closed by the remote host.\n",
      "ERROR:root:task: connection_task raised exception: .\n",
      "ERROR:root:task: mqtt_task raised exception: [WinError 10054] An existing connection was forcibly closed by the remote host.\n",
      "ERROR:root:task: connection_task raised exception: .\n"
     ]
    },
    {
     "name": "stdout",
     "output_type": "stream",
     "text": [
      "Saved: 2025-09-12 19:09:23,0.14604631066322327,0.047884032130241394,9.926360130310059\n"
     ]
    },
    {
     "name": "stderr",
     "output_type": "stream",
     "text": [
      "ERROR:root:task: mqtt_task raised exception: [WinError 10054] An existing connection was forcibly closed by the remote host.\n",
      "ERROR:root:task: connection_task raised exception: .\n"
     ]
    },
    {
     "name": "stdout",
     "output_type": "stream",
     "text": [
      "Saved: 2025-09-12 19:09:26,-6.021417140960693,0.047884032130241394,9.926360130310059\n"
     ]
    },
    {
     "name": "stderr",
     "output_type": "stream",
     "text": [
      "ERROR:root:task: mqtt_task raised exception: [WinError 10054] An existing connection was forcibly closed by the remote host.\n",
      "ERROR:root:task: connection_task raised exception: .\n",
      "ERROR:root:task: mqtt_task raised exception: [WinError 10054] An existing connection was forcibly closed by the remote host.\n",
      "ERROR:root:task: connection_task raised exception: .\n"
     ]
    },
    {
     "name": "stdout",
     "output_type": "stream",
     "text": [
      "Saved: 2025-09-12 19:09:33,1.625662922859192,0.047884032130241394,9.926360130310059\n"
     ]
    },
    {
     "name": "stderr",
     "output_type": "stream",
     "text": [
      "ERROR:root:task: mqtt_task raised exception: [WinError 10054] An existing connection was forcibly closed by the remote host.\n",
      "ERROR:root:task: connection_task raised exception: .\n"
     ]
    },
    {
     "name": "stdout",
     "output_type": "stream",
     "text": [
      "Saved: 2025-09-12 19:09:37,1.4508862495422363,0.047884032130241394,9.926360130310059\n"
     ]
    },
    {
     "name": "stderr",
     "output_type": "stream",
     "text": [
      "ERROR:root:task: mqtt_task raised exception: [WinError 10054] An existing connection was forcibly closed by the remote host.\n",
      "ERROR:root:task: connection_task raised exception: .\n",
      "ERROR:root:task: mqtt_task raised exception: [WinError 10054] An existing connection was forcibly closed by the remote host.\n",
      "ERROR:root:task: connection_task raised exception: .\n",
      "ERROR:root:task: mqtt_task raised exception: [WinError 10054] An existing connection was forcibly closed by the remote host.\n",
      "ERROR:root:task: connection_task raised exception: .\n",
      "ERROR:root:task: mqtt_task raised exception: [WinError 10054] An existing connection was forcibly closed by the remote host.\n",
      "ERROR:root:task: connection_task raised exception: .\n",
      "ERROR:root:task: mqtt_task raised exception: [WinError 10054] An existing connection was forcibly closed by the remote host.\n",
      "ERROR:root:task: connection_task raised exception: .\n",
      "ERROR:root:task: mqtt_task raised exception: [WinError 10054] An existing connection was forcibly closed by the remote host.\n",
      "ERROR:root:task: connection_task raised exception: .\n",
      "ERROR:root:task: mqtt_task raised exception: [WinError 10054] An existing connection was forcibly closed by the remote host.\n",
      "ERROR:root:task: connection_task raised exception: .\n",
      "ERROR:root:task: mqtt_task raised exception: [WinError 10054] An existing connection was forcibly closed by the remote host.\n",
      "ERROR:root:task: connection_task raised exception: .\n"
     ]
    },
    {
     "name": "stdout",
     "output_type": "stream",
     "text": [
      "Saved: 2025-09-12 19:10:01,-2.3271639347076416,0.047884032130241394,9.926360130310059\n"
     ]
    },
    {
     "name": "stderr",
     "output_type": "stream",
     "text": [
      "ERROR:root:task: mqtt_task raised exception: [WinError 10054] An existing connection was forcibly closed by the remote host.\n",
      "ERROR:root:task: connection_task raised exception: .\n"
     ]
    },
    {
     "name": "stdout",
     "output_type": "stream",
     "text": [
      "Saved: 2025-09-12 19:10:04,0.5291185975074768,0.047884032130241394,9.926360130310059\n"
     ]
    },
    {
     "name": "stderr",
     "output_type": "stream",
     "text": [
      "ERROR:root:task: mqtt_task raised exception: [WinError 10054] An existing connection was forcibly closed by the remote host.\n",
      "ERROR:root:task: connection_task raised exception: .\n",
      "ERROR:root:task: mqtt_task raised exception: [WinError 10054] An existing connection was forcibly closed by the remote host.\n",
      "ERROR:root:task: connection_task raised exception: .\n",
      "ERROR:root:task: mqtt_task raised exception: [WinError 10054] An existing connection was forcibly closed by the remote host.\n",
      "ERROR:root:task: connection_task raised exception: .\n",
      "ERROR:root:task: mqtt_task raised exception: [WinError 10054] An existing connection was forcibly closed by the remote host.\n",
      "ERROR:root:task: connection_task raised exception: .\n",
      "ERROR:root:task: mqtt_task raised exception: [WinError 10054] An existing connection was forcibly closed by the remote host.\n",
      "ERROR:root:task: connection_task raised exception: .\n",
      "ERROR:root:task: mqtt_task raised exception: [WinError 10054] An existing connection was forcibly closed by the remote host.\n",
      "ERROR:root:task: connection_task raised exception: .\n",
      "ERROR:root:task: mqtt_task raised exception: [WinError 10054] An existing connection was forcibly closed by the remote host.\n",
      "ERROR:root:task: connection_task raised exception: .\n"
     ]
    },
    {
     "name": "stdout",
     "output_type": "stream",
     "text": [
      "Saved: 2025-09-12 19:10:25,1.3000515699386597,0.047884032130241394,9.926360130310059\n"
     ]
    },
    {
     "name": "stderr",
     "output_type": "stream",
     "text": [
      "ERROR:root:task: mqtt_task raised exception: [WinError 10054] An existing connection was forcibly closed by the remote host.\n",
      "ERROR:root:task: connection_task raised exception: .\n",
      "ERROR:root:task: mqtt_task raised exception: [WinError 10054] An existing connection was forcibly closed by the remote host.\n",
      "ERROR:root:task: connection_task raised exception: .\n"
     ]
    },
    {
     "name": "stdout",
     "output_type": "stream",
     "text": [
      "Saved: 2025-09-12 19:10:33,1.4173674583435059,0.047884032130241394,9.926360130310059\n"
     ]
    },
    {
     "name": "stderr",
     "output_type": "stream",
     "text": [
      "ERROR:root:task: mqtt_task raised exception: [WinError 10054] An existing connection was forcibly closed by the remote host.\n",
      "ERROR:root:task: connection_task raised exception: .\n"
     ]
    },
    {
     "name": "stdout",
     "output_type": "stream",
     "text": [
      "Saved: 2025-09-12 19:10:37,7.094019412994385,0.047884032130241394,9.926360130310059\n"
     ]
    },
    {
     "name": "stderr",
     "output_type": "stream",
     "text": [
      "ERROR:root:task: mqtt_task raised exception: [WinError 10054] An existing connection was forcibly closed by the remote host.\n",
      "ERROR:root:task: connection_task raised exception: .\n",
      "ERROR:root:task: mqtt_task raised exception: [WinError 10054] An existing connection was forcibly closed by the remote host.\n",
      "ERROR:root:task: connection_task raised exception: .\n"
     ]
    },
    {
     "name": "stdout",
     "output_type": "stream",
     "text": [
      "Saved: 2025-09-12 19:10:44,0.4668693244457245,0.047884032130241394,9.926360130310059\n"
     ]
    },
    {
     "name": "stderr",
     "output_type": "stream",
     "text": [
      "ERROR:root:task: mqtt_task raised exception: [WinError 10054] An existing connection was forcibly closed by the remote host.\n",
      "ERROR:root:task: connection_task raised exception: .\n",
      "ERROR:root:task: mqtt_task raised exception: [WinError 10054] An existing connection was forcibly closed by the remote host.\n",
      "ERROR:root:task: connection_task raised exception: .\n"
     ]
    },
    {
     "name": "stdout",
     "output_type": "stream",
     "text": [
      "Saved: 2025-09-12 19:10:50,0.4668693244457245,0.031124621629714966,9.926360130310059\n"
     ]
    },
    {
     "name": "stderr",
     "output_type": "stream",
     "text": [
      "ERROR:root:task: mqtt_task raised exception: [WinError 10054] An existing connection was forcibly closed by the remote host.\n",
      "ERROR:root:task: connection_task raised exception: .\n",
      "ERROR:root:task: mqtt_task raised exception: [WinError 10054] An existing connection was forcibly closed by the remote host.\n",
      "ERROR:root:task: connection_task raised exception: .\n",
      "ERROR:root:task: mqtt_task raised exception: [WinError 10054] An existing connection was forcibly closed by the remote host.\n",
      "ERROR:root:task: connection_task raised exception: .\n",
      "ERROR:root:task: mqtt_task raised exception: [WinError 10054] An existing connection was forcibly closed by the remote host.\n",
      "ERROR:root:task: connection_task raised exception: .\n",
      "ERROR:root:task: mqtt_task raised exception: [WinError 10054] An existing connection was forcibly closed by the remote host.\n",
      "ERROR:root:task: connection_task raised exception: .\n",
      "ERROR:root:task: mqtt_task raised exception: [WinError 10054] An existing connection was forcibly closed by the remote host.\n",
      "ERROR:root:task: connection_task raised exception: .\n",
      "ERROR:root:task: mqtt_task raised exception: [WinError 10054] An existing connection was forcibly closed by the remote host.\n",
      "ERROR:root:task: connection_task raised exception: .\n"
     ]
    },
    {
     "name": "stdout",
     "output_type": "stream",
     "text": [
      "Saved: 2025-09-12 19:11:10,-0.8906430602073669,0.031124621629714966,9.926360130310059\n"
     ]
    },
    {
     "name": "stderr",
     "output_type": "stream",
     "text": [
      "ERROR:root:task: mqtt_task raised exception: [WinError 10054] An existing connection was forcibly closed by the remote host.\n",
      "ERROR:root:task: connection_task raised exception: .\n"
     ]
    },
    {
     "name": "stdout",
     "output_type": "stream",
     "text": [
      "Saved: 2025-09-12 19:11:13,2.3104045391082764,0.031124621629714966,9.926360130310059\n",
      "Saved: 2025-09-12 19:11:14,2.3104045391082764,6.1770405769348145,9.926360130310059\n"
     ]
    },
    {
     "name": "stderr",
     "output_type": "stream",
     "text": [
      "ERROR:root:task: mqtt_task raised exception: [WinError 10054] An existing connection was forcibly closed by the remote host.\n",
      "ERROR:root:task: connection_task raised exception: .\n"
     ]
    },
    {
     "name": "stdout",
     "output_type": "stream",
     "text": [
      "Saved: 2025-09-12 19:11:18,-0.44532153010368347,6.1770405769348145,9.926360130310059\n"
     ]
    },
    {
     "name": "stderr",
     "output_type": "stream",
     "text": [
      "ERROR:root:task: mqtt_task raised exception: [WinError 10054] An existing connection was forcibly closed by the remote host.\n",
      "ERROR:root:task: connection_task raised exception: .\n"
     ]
    },
    {
     "name": "stdout",
     "output_type": "stream",
     "text": [
      "Saved: 2025-09-12 19:11:21,3.507505416870117,6.1770405769348145,9.926360130310059\n"
     ]
    },
    {
     "name": "stderr",
     "output_type": "stream",
     "text": [
      "ERROR:root:task: mqtt_task raised exception: [WinError 10054] An existing connection was forcibly closed by the remote host.\n",
      "ERROR:root:task: connection_task raised exception: .\n",
      "ERROR:root:task: mqtt_task raised exception: [WinError 10054] An existing connection was forcibly closed by the remote host.\n",
      "ERROR:root:task: connection_task raised exception: .\n"
     ]
    },
    {
     "name": "stdout",
     "output_type": "stream",
     "text": [
      "Saved: 2025-09-12 19:11:29,0.1867477297782898,6.1770405769348145,9.926360130310059\n"
     ]
    },
    {
     "name": "stderr",
     "output_type": "stream",
     "text": [
      "ERROR:root:task: mqtt_task raised exception: [WinError 10054] An existing connection was forcibly closed by the remote host.\n",
      "ERROR:root:task: connection_task raised exception: .\n"
     ]
    },
    {
     "name": "stdout",
     "output_type": "stream",
     "text": [
      "Saved: 2025-09-12 19:11:33,-0.7493851184844971,6.1770405769348145,9.926360130310059\n"
     ]
    },
    {
     "name": "stderr",
     "output_type": "stream",
     "text": [
      "ERROR:root:task: mqtt_task raised exception: [WinError 10054] An existing connection was forcibly closed by the remote host.\n",
      "ERROR:root:task: connection_task raised exception: .\n",
      "ERROR:root:task: mqtt_task raised exception: [WinError 10054] An existing connection was forcibly closed by the remote host.\n",
      "ERROR:root:task: connection_task raised exception: .\n"
     ]
    },
    {
     "name": "stdout",
     "output_type": "stream",
     "text": [
      "Saved: 2025-09-12 19:11:40,-0.6967126727104187,6.1770405769348145,9.926360130310059\n"
     ]
    },
    {
     "name": "stderr",
     "output_type": "stream",
     "text": [
      "ERROR:root:task: mqtt_task raised exception: [WinError 10054] An existing connection was forcibly closed by the remote host.\n",
      "ERROR:root:task: connection_task raised exception: .\n"
     ]
    },
    {
     "name": "stdout",
     "output_type": "stream",
     "text": [
      "Saved: 2025-09-12 19:11:44,-1.9991583824157715,6.1770405769348145,9.926360130310059\n"
     ]
    },
    {
     "name": "stderr",
     "output_type": "stream",
     "text": [
      "ERROR:root:task: mqtt_task raised exception: [WinError 10054] An existing connection was forcibly closed by the remote host.\n",
      "ERROR:root:task: connection_task raised exception: .\n"
     ]
    },
    {
     "name": "stdout",
     "output_type": "stream",
     "text": [
      "Saved: 2025-09-12 19:11:48,-1.9057846069335938,6.1770405769348145,9.926360130310059\n"
     ]
    },
    {
     "name": "stderr",
     "output_type": "stream",
     "text": [
      "ERROR:root:task: mqtt_task raised exception: [WinError 10054] An existing connection was forcibly closed by the remote host.\n",
      "ERROR:root:task: connection_task raised exception: .\n"
     ]
    },
    {
     "name": "stdout",
     "output_type": "stream",
     "text": [
      "Saved: 2025-09-12 19:11:52,-1.86508309841156,6.1770405769348145,9.926360130310059\n"
     ]
    },
    {
     "name": "stderr",
     "output_type": "stream",
     "text": [
      "ERROR:root:task: mqtt_task raised exception: [WinError 10054] An existing connection was forcibly closed by the remote host.\n",
      "ERROR:root:task: connection_task raised exception: .\n"
     ]
    },
    {
     "name": "stdout",
     "output_type": "stream",
     "text": [
      "Saved: 2025-09-12 19:11:55,-1.8698714971542358,6.1770405769348145,9.926360130310059\n"
     ]
    },
    {
     "name": "stderr",
     "output_type": "stream",
     "text": [
      "ERROR:root:task: mqtt_task raised exception: [WinError 10054] An existing connection was forcibly closed by the remote host.\n",
      "ERROR:root:task: connection_task raised exception: .\n",
      "ERROR:root:task: mqtt_task raised exception: [WinError 10054] An existing connection was forcibly closed by the remote host.\n",
      "ERROR:root:task: connection_task raised exception: .\n"
     ]
    },
    {
     "name": "stdout",
     "output_type": "stream",
     "text": [
      "Saved: 2025-09-12 19:12:03,2.006340980529785,6.1770405769348145,9.926360130310059\n"
     ]
    },
    {
     "name": "stderr",
     "output_type": "stream",
     "text": [
      "ERROR:root:task: mqtt_task raised exception: [WinError 10054] An existing connection was forcibly closed by the remote host.\n",
      "ERROR:root:task: connection_task raised exception: .\n"
     ]
    },
    {
     "name": "stdout",
     "output_type": "stream",
     "text": [
      "Saved: 2025-09-12 19:12:07,-2.564189910888672,6.1770405769348145,9.926360130310059\n"
     ]
    },
    {
     "name": "stderr",
     "output_type": "stream",
     "text": [
      "ERROR:root:task: mqtt_task raised exception: [WinError 10054] An existing connection was forcibly closed by the remote host.\n",
      "ERROR:root:task: connection_task raised exception: .\n",
      "ERROR:root:task: mqtt_task raised exception: [WinError 10054] An existing connection was forcibly closed by the remote host.\n",
      "ERROR:root:task: connection_task raised exception: .\n"
     ]
    },
    {
     "name": "stdout",
     "output_type": "stream",
     "text": [
      "Saved: 2025-09-12 19:12:14,-1.9847931861877441,6.1770405769348145,9.926360130310059\n"
     ]
    },
    {
     "name": "stderr",
     "output_type": "stream",
     "text": [
      "ERROR:root:task: mqtt_task raised exception: [WinError 10054] An existing connection was forcibly closed by the remote host.\n",
      "ERROR:root:task: connection_task raised exception: .\n"
     ]
    },
    {
     "name": "stdout",
     "output_type": "stream",
     "text": [
      "Saved: 2025-09-12 19:12:18,-0.5267243981361389,6.1770405769348145,9.926360130310059\n"
     ]
    },
    {
     "name": "stderr",
     "output_type": "stream",
     "text": [
      "ERROR:root:task: mqtt_task raised exception: [WinError 10054] An existing connection was forcibly closed by the remote host.\n",
      "ERROR:root:task: connection_task raised exception: .\n",
      "ERROR:root:task: mqtt_task raised exception: [WinError 10054] An existing connection was forcibly closed by the remote host.\n",
      "ERROR:root:task: connection_task raised exception: .\n"
     ]
    },
    {
     "name": "stdout",
     "output_type": "stream",
     "text": [
      "Saved: 2025-09-12 19:12:36,-2.030282974243164,6.1770405769348145,9.926360130310059\n"
     ]
    },
    {
     "name": "stderr",
     "output_type": "stream",
     "text": [
      "ERROR:root:task: mqtt_task raised exception: [WinError 10054] An existing connection was forcibly closed by the remote host.\n",
      "ERROR:root:task: connection_task raised exception: .\n"
     ]
    },
    {
     "name": "stdout",
     "output_type": "stream",
     "text": [
      "Saved: 2025-09-12 19:12:39,-1.3694833517074585,6.1770405769348145,9.926360130310059\n"
     ]
    },
    {
     "name": "stderr",
     "output_type": "stream",
     "text": [
      "ERROR:root:task: mqtt_task raised exception: [WinError 10054] An existing connection was forcibly closed by the remote host.\n",
      "ERROR:root:task: connection_task raised exception: .\n"
     ]
    },
    {
     "name": "stdout",
     "output_type": "stream",
     "text": [
      "Saved: 2025-09-12 19:12:43,-0.8164227604866028,6.1770405769348145,9.926360130310059\n"
     ]
    },
    {
     "name": "stderr",
     "output_type": "stream",
     "text": [
      "ERROR:root:task: mqtt_task raised exception: [WinError 10054] An existing connection was forcibly closed by the remote host.\n",
      "ERROR:root:task: connection_task raised exception: .\n",
      "ERROR:root:task: mqtt_task raised exception: [WinError 10054] An existing connection was forcibly closed by the remote host.\n",
      "ERROR:root:task: connection_task raised exception: .\n"
     ]
    },
    {
     "name": "stdout",
     "output_type": "stream",
     "text": [
      "Saved: 2025-09-12 19:12:50,-1.6496049165725708,6.1770405769348145,9.926360130310059\n"
     ]
    },
    {
     "name": "stderr",
     "output_type": "stream",
     "text": [
      "ERROR:root:task: mqtt_task raised exception: [WinError 10054] An existing connection was forcibly closed by the remote host.\n",
      "ERROR:root:task: connection_task raised exception: .\n",
      "ERROR:root:task: mqtt_task raised exception: [WinError 10054] An existing connection was forcibly closed by the remote host.\n",
      "ERROR:root:task: connection_task raised exception: .\n"
     ]
    },
    {
     "name": "stdout",
     "output_type": "stream",
     "text": [
      "Saved: 2025-09-12 19:12:55,-2.5905263423919678,6.1770405769348145,9.926360130310059\n"
     ]
    },
    {
     "name": "stderr",
     "output_type": "stream",
     "text": [
      "ERROR:root:task: mqtt_task raised exception: [WinError 10054] An existing connection was forcibly closed by the remote host.\n",
      "ERROR:root:task: connection_task raised exception: .\n"
     ]
    },
    {
     "name": "stdout",
     "output_type": "stream",
     "text": [
      "Saved: 2025-09-12 19:12:59,-1.01753568649292,6.1770405769348145,9.926360130310059\n"
     ]
    },
    {
     "name": "stderr",
     "output_type": "stream",
     "text": [
      "ERROR:root:task: mqtt_task raised exception: [WinError 10054] An existing connection was forcibly closed by the remote host.\n",
      "ERROR:root:task: connection_task raised exception: .\n"
     ]
    },
    {
     "name": "stdout",
     "output_type": "stream",
     "text": [
      "Saved: 2025-09-12 19:13:03,-3.2345664501190186,6.1770405769348145,9.926360130310059\n"
     ]
    },
    {
     "name": "stderr",
     "output_type": "stream",
     "text": [
      "ERROR:root:task: mqtt_task raised exception: [WinError 10054] An existing connection was forcibly closed by the remote host.\n",
      "ERROR:root:task: connection_task raised exception: .\n",
      "ERROR:root:task: mqtt_task raised exception: [WinError 10054] An existing connection was forcibly closed by the remote host.\n",
      "ERROR:root:task: connection_task raised exception: .\n"
     ]
    },
    {
     "name": "stdout",
     "output_type": "stream",
     "text": [
      "Saved: 2025-09-12 19:13:10,-3.6511576175689697,6.1770405769348145,9.926360130310059\n"
     ]
    },
    {
     "name": "stderr",
     "output_type": "stream",
     "text": [
      "ERROR:root:task: mqtt_task raised exception: [WinError 10054] An existing connection was forcibly closed by the remote host.\n",
      "ERROR:root:task: connection_task raised exception: .\n",
      "ERROR:root:task: mqtt_task raised exception: [WinError 10054] An existing connection was forcibly closed by the remote host.\n",
      "ERROR:root:task: connection_task raised exception: .\n"
     ]
    },
    {
     "name": "stdout",
     "output_type": "stream",
     "text": [
      "Saved: 2025-09-12 19:13:17,-3.337517261505127,6.1770405769348145,9.926360130310059\n"
     ]
    },
    {
     "name": "stderr",
     "output_type": "stream",
     "text": [
      "ERROR:root:task: mqtt_task raised exception: [WinError 10054] An existing connection was forcibly closed by the remote host.\n",
      "ERROR:root:task: connection_task raised exception: .\n"
     ]
    },
    {
     "name": "stdout",
     "output_type": "stream",
     "text": [
      "Saved: 2025-09-12 19:13:21,-1.1013327836990356,6.1770405769348145,9.926360130310059\n"
     ]
    },
    {
     "name": "stderr",
     "output_type": "stream",
     "text": [
      "ERROR:root:task: mqtt_task raised exception: [WinError 10054] An existing connection was forcibly closed by the remote host.\n",
      "ERROR:root:task: connection_task raised exception: .\n"
     ]
    },
    {
     "name": "stdout",
     "output_type": "stream",
     "text": [
      "Saved: 2025-09-12 19:13:24,-2.454056739807129,6.1770405769348145,9.926360130310059\n"
     ]
    },
    {
     "name": "stderr",
     "output_type": "stream",
     "text": [
      "ERROR:root:task: mqtt_task raised exception: [WinError 10054] An existing connection was forcibly closed by the remote host.\n",
      "ERROR:root:task: connection_task raised exception: .\n"
     ]
    },
    {
     "name": "stdout",
     "output_type": "stream",
     "text": [
      "Saved: 2025-09-12 19:13:28,-2.6240451335906982,6.1770405769348145,9.926360130310059\n"
     ]
    },
    {
     "name": "stderr",
     "output_type": "stream",
     "text": [
      "ERROR:root:task: mqtt_task raised exception: [WinError 10054] An existing connection was forcibly closed by the remote host.\n",
      "ERROR:root:task: connection_task raised exception: .\n"
     ]
    },
    {
     "name": "stdout",
     "output_type": "stream",
     "text": [
      "Saved: 2025-09-12 19:13:32,-1.8938134908676147,6.1770405769348145,9.926360130310059\n"
     ]
    },
    {
     "name": "stderr",
     "output_type": "stream",
     "text": [
      "ERROR:root:task: mqtt_task raised exception: [WinError 10054] An existing connection was forcibly closed by the remote host.\n",
      "ERROR:root:task: connection_task raised exception: .\n"
     ]
    },
    {
     "name": "stdout",
     "output_type": "stream",
     "text": [
      "Saved: 2025-09-12 19:13:36,-0.07182604819536209,6.1770405769348145,9.926360130310059\n"
     ]
    },
    {
     "name": "stderr",
     "output_type": "stream",
     "text": [
      "ERROR:root:task: mqtt_task raised exception: [WinError 10054] An existing connection was forcibly closed by the remote host.\n",
      "ERROR:root:task: connection_task raised exception: .\n",
      "ERROR:root:task: mqtt_task raised exception: [WinError 10054] An existing connection was forcibly closed by the remote host.\n",
      "ERROR:root:task: connection_task raised exception: .\n"
     ]
    },
    {
     "name": "stdout",
     "output_type": "stream",
     "text": [
      "Saved: 2025-09-12 19:13:42,-2.8658595085144043,6.1770405769348145,9.926360130310059\n",
      "Saved: 2025-09-12 19:13:43,-2.8658595085144043,0.7805097699165344,9.926360130310059\n"
     ]
    },
    {
     "name": "stderr",
     "output_type": "stream",
     "text": [
      "ERROR:root:task: mqtt_task raised exception: [WinError 10054] An existing connection was forcibly closed by the remote host.\n",
      "ERROR:root:task: connection_task raised exception: .\n"
     ]
    },
    {
     "name": "stdout",
     "output_type": "stream",
     "text": [
      "Saved: 2025-09-12 19:13:47,-3.0526070594787598,0.7805097699165344,9.926360130310059\n"
     ]
    },
    {
     "name": "stderr",
     "output_type": "stream",
     "text": [
      "ERROR:root:task: mqtt_task raised exception: [WinError 10054] An existing connection was forcibly closed by the remote host.\n",
      "ERROR:root:task: connection_task raised exception: .\n",
      "ERROR:root:task: mqtt_task raised exception: [WinError 10054] An existing connection was forcibly closed by the remote host.\n",
      "ERROR:root:task: connection_task raised exception: .\n"
     ]
    },
    {
     "name": "stdout",
     "output_type": "stream",
     "text": [
      "Saved: 2025-09-12 19:13:55,-3.1268274784088135,0.7805097699165344,9.926360130310059\n"
     ]
    },
    {
     "name": "stderr",
     "output_type": "stream",
     "text": [
      "ERROR:root:task: mqtt_task raised exception: [WinError 10054] An existing connection was forcibly closed by the remote host.\n",
      "ERROR:root:task: connection_task raised exception: .\n"
     ]
    },
    {
     "name": "stdout",
     "output_type": "stream",
     "text": [
      "Saved: 2025-09-12 19:13:59,-2.9161376953125,0.7805097699165344,9.926360130310059\n"
     ]
    },
    {
     "name": "stderr",
     "output_type": "stream",
     "text": [
      "ERROR:root:task: mqtt_task raised exception: [WinError 10054] An existing connection was forcibly closed by the remote host.\n",
      "ERROR:root:task: connection_task raised exception: .\n"
     ]
    },
    {
     "name": "stdout",
     "output_type": "stream",
     "text": [
      "Saved: 2025-09-12 19:14:02,-2.2625205516815186,0.7805097699165344,9.926360130310059\n"
     ]
    },
    {
     "name": "stderr",
     "output_type": "stream",
     "text": [
      "ERROR:root:task: mqtt_task raised exception: [WinError 10054] An existing connection was forcibly closed by the remote host.\n",
      "ERROR:root:task: connection_task raised exception: .\n"
     ]
    },
    {
     "name": "stdout",
     "output_type": "stream",
     "text": [
      "Saved: 2025-09-12 19:14:06,-1.6304513216018677,0.7805097699165344,9.926360130310059\n"
     ]
    },
    {
     "name": "stderr",
     "output_type": "stream",
     "text": [
      "ERROR:root:task: mqtt_task raised exception: [WinError 10054] An existing connection was forcibly closed by the remote host.\n",
      "ERROR:root:task: connection_task raised exception: .\n"
     ]
    },
    {
     "name": "stdout",
     "output_type": "stream",
     "text": [
      "Saved: 2025-09-12 19:14:10,-2.96162748336792,0.7805097699165344,9.926360130310059\n"
     ]
    },
    {
     "name": "stderr",
     "output_type": "stream",
     "text": [
      "ERROR:root:task: mqtt_task raised exception: [WinError 10054] An existing connection was forcibly closed by the remote host.\n",
      "ERROR:root:task: connection_task raised exception: .\n",
      "ERROR:root:task: mqtt_task raised exception: [WinError 10054] An existing connection was forcibly closed by the remote host.\n",
      "ERROR:root:task: connection_task raised exception: .\n",
      "ERROR:root:task: mqtt_task raised exception: [WinError 10054] An existing connection was forcibly closed by the remote host.\n",
      "ERROR:root:task: connection_task raised exception: .\n"
     ]
    },
    {
     "name": "stdout",
     "output_type": "stream",
     "text": [
      "Saved: 2025-09-12 19:14:20,-1.778891921043396,0.7805097699165344,9.926360130310059\n"
     ]
    },
    {
     "name": "stderr",
     "output_type": "stream",
     "text": [
      "ERROR:root:task: mqtt_task raised exception: [WinError 10054] An existing connection was forcibly closed by the remote host.\n",
      "ERROR:root:task: connection_task raised exception: .\n"
     ]
    },
    {
     "name": "stdout",
     "output_type": "stream",
     "text": [
      "Saved: 2025-09-12 19:14:23,-2.6575639247894287,0.7805097699165344,9.926360130310059\n"
     ]
    },
    {
     "name": "stderr",
     "output_type": "stream",
     "text": [
      "ERROR:root:task: mqtt_task raised exception: [WinError 10054] An existing connection was forcibly closed by the remote host.\n",
      "ERROR:root:task: connection_task raised exception: .\n",
      "ERROR:root:task: mqtt_task raised exception: [WinError 10054] An existing connection was forcibly closed by the remote host.\n",
      "ERROR:root:task: connection_task raised exception: .\n"
     ]
    },
    {
     "name": "stdout",
     "output_type": "stream",
     "text": [
      "Saved: 2025-09-12 19:14:30,0.22026655077934265,0.7805097699165344,9.926360130310059\n",
      "Saved: 2025-09-12 19:14:31,0.22026655077934265,0.0454898327589035,9.926360130310059\n"
     ]
    },
    {
     "name": "stderr",
     "output_type": "stream",
     "text": [
      "ERROR:root:task: mqtt_task raised exception: [WinError 10054] An existing connection was forcibly closed by the remote host.\n",
      "ERROR:root:task: connection_task raised exception: .\n"
     ]
    },
    {
     "name": "stdout",
     "output_type": "stream",
     "text": [
      "Saved: 2025-09-12 19:14:34,0.05746084079146385,0.0454898327589035,9.926360130310059\n"
     ]
    },
    {
     "name": "stderr",
     "output_type": "stream",
     "text": [
      "ERROR:root:task: mqtt_task raised exception: [WinError 10054] An existing connection was forcibly closed by the remote host.\n",
      "ERROR:root:task: connection_task raised exception: .\n",
      "ERROR:root:task: mqtt_task raised exception: [WinError 10054] An existing connection was forcibly closed by the remote host.\n",
      "ERROR:root:task: connection_task raised exception: .\n"
     ]
    },
    {
     "name": "stdout",
     "output_type": "stream",
     "text": [
      "Saved: 2025-09-12 19:14:40,0.05985504388809204,0.0454898327589035,9.926360130310059\n",
      "Saved: 2025-09-12 19:14:41,0.05985504388809204,0.11252748221158981,9.926360130310059\n"
     ]
    },
    {
     "name": "stderr",
     "output_type": "stream",
     "text": [
      "ERROR:root:task: mqtt_task raised exception: [WinError 10054] An existing connection was forcibly closed by the remote host.\n",
      "ERROR:root:task: connection_task raised exception: .\n"
     ]
    },
    {
     "name": "stdout",
     "output_type": "stream",
     "text": [
      "Saved: 2025-09-12 19:14:44,0.15801730751991272,0.11252748221158981,9.926360130310059\n"
     ]
    },
    {
     "name": "stderr",
     "output_type": "stream",
     "text": [
      "ERROR:root:task: mqtt_task raised exception: [WinError 10054] An existing connection was forcibly closed by the remote host.\n",
      "ERROR:root:task: connection_task raised exception: .\n"
     ]
    },
    {
     "name": "stdout",
     "output_type": "stream",
     "text": [
      "Saved: 2025-09-12 19:14:48,0.181959331035614,0.11252748221158981,9.926360130310059\n"
     ]
    },
    {
     "name": "stderr",
     "output_type": "stream",
     "text": [
      "ERROR:root:task: mqtt_task raised exception: [WinError 10054] An existing connection was forcibly closed by the remote host.\n",
      "ERROR:root:task: connection_task raised exception: .\n"
     ]
    },
    {
     "name": "stdout",
     "output_type": "stream",
     "text": [
      "Saved: 2025-09-12 19:14:52,0.181959331035614,0.06703764945268631,9.926360130310059\n"
     ]
    },
    {
     "name": "stderr",
     "output_type": "stream",
     "text": [
      "ERROR:root:task: mqtt_task raised exception: [WinError 10054] An existing connection was forcibly closed by the remote host.\n",
      "ERROR:root:task: connection_task raised exception: .\n"
     ]
    },
    {
     "name": "stdout",
     "output_type": "stream",
     "text": [
      "Saved: 2025-09-12 19:14:56,0.30885201692581177,0.06703764945268631,9.926360130310059\n"
     ]
    },
    {
     "name": "stderr",
     "output_type": "stream",
     "text": [
      "ERROR:root:task: mqtt_task raised exception: [WinError 10054] An existing connection was forcibly closed by the remote host.\n",
      "ERROR:root:task: connection_task raised exception: .\n"
     ]
    },
    {
     "name": "stdout",
     "output_type": "stream",
     "text": [
      "Saved: 2025-09-12 19:14:59,-1.8698714971542358,0.06703764945268631,9.926360130310059\n"
     ]
    },
    {
     "name": "stderr",
     "output_type": "stream",
     "text": [
      "ERROR:root:task: mqtt_task raised exception: [WinError 10054] An existing connection was forcibly closed by the remote host.\n",
      "ERROR:root:task: connection_task raised exception: .\n"
     ]
    },
    {
     "name": "stdout",
     "output_type": "stream",
     "text": [
      "Saved: 2025-09-12 19:15:03,-1.5466543436050415,0.06703764945268631,9.926360130310059\n"
     ]
    },
    {
     "name": "stderr",
     "output_type": "stream",
     "text": [
      "ERROR:root:task: mqtt_task raised exception: [WinError 10054] An existing connection was forcibly closed by the remote host.\n",
      "ERROR:root:task: connection_task raised exception: .\n"
     ]
    },
    {
     "name": "stdout",
     "output_type": "stream",
     "text": [
      "Saved: 2025-09-12 19:15:06,-2.4396915435791016,0.06703764945268631,9.926360130310059\n",
      "Saved: 2025-09-12 19:15:07,-2.4396915435791016,1.941697597503662,9.926360130310059\n"
     ]
    },
    {
     "name": "stderr",
     "output_type": "stream",
     "text": [
      "ERROR:root:task: mqtt_task raised exception: [WinError 10054] An existing connection was forcibly closed by the remote host.\n",
      "ERROR:root:task: connection_task raised exception: .\n"
     ]
    },
    {
     "name": "stdout",
     "output_type": "stream",
     "text": [
      "Saved: 2025-09-12 19:15:10,-2.6431987285614014,1.941697597503662,9.926360130310059\n"
     ]
    },
    {
     "name": "stderr",
     "output_type": "stream",
     "text": [
      "ERROR:root:task: mqtt_task raised exception: [WinError 10054] An existing connection was forcibly closed by the remote host.\n",
      "ERROR:root:task: connection_task raised exception: .\n"
     ]
    },
    {
     "name": "stdout",
     "output_type": "stream",
     "text": [
      "Saved: 2025-09-12 19:15:14,-2.609679937362671,1.941697597503662,9.926360130310059\n"
     ]
    },
    {
     "name": "stderr",
     "output_type": "stream",
     "text": [
      "ERROR:root:task: mqtt_task raised exception: [WinError 10054] An existing connection was forcibly closed by the remote host.\n",
      "ERROR:root:task: connection_task raised exception: .\n"
     ]
    },
    {
     "name": "stdout",
     "output_type": "stream",
     "text": [
      "Saved: 2025-09-12 19:15:18,-2.693476915359497,1.941697597503662,9.926360130310059\n"
     ]
    },
    {
     "name": "stderr",
     "output_type": "stream",
     "text": [
      "ERROR:root:task: mqtt_task raised exception: [WinError 10054] An existing connection was forcibly closed by the remote host.\n",
      "ERROR:root:task: connection_task raised exception: .\n"
     ]
    },
    {
     "name": "stdout",
     "output_type": "stream",
     "text": [
      "Saved: 2025-09-12 19:15:22,-2.564189910888672,1.941697597503662,9.926360130310059\n"
     ]
    },
    {
     "name": "stderr",
     "output_type": "stream",
     "text": [
      "ERROR:root:task: mqtt_task raised exception: [WinError 10054] An existing connection was forcibly closed by the remote host.\n",
      "ERROR:root:task: connection_task raised exception: .\n"
     ]
    },
    {
     "name": "stdout",
     "output_type": "stream",
     "text": [
      "Saved: 2025-09-12 19:15:26,-2.734178304672241,1.941697597503662,9.926360130310059\n"
     ]
    },
    {
     "name": "stderr",
     "output_type": "stream",
     "text": [
      "ERROR:root:task: mqtt_task raised exception: [WinError 10054] An existing connection was forcibly closed by the remote host.\n",
      "ERROR:root:task: connection_task raised exception: .\n"
     ]
    },
    {
     "name": "stdout",
     "output_type": "stream",
     "text": [
      "Saved: 2025-09-12 19:15:29,-2.8802247047424316,1.941697597503662,9.926360130310059\n"
     ]
    },
    {
     "name": "stderr",
     "output_type": "stream",
     "text": [
      "ERROR:root:task: mqtt_task raised exception: [WinError 10054] An existing connection was forcibly closed by the remote host.\n",
      "ERROR:root:task: connection_task raised exception: .\n",
      "ERROR:root:task: mqtt_task raised exception: [WinError 10054] An existing connection was forcibly closed by the remote host.\n",
      "ERROR:root:task: connection_task raised exception: .\n",
      "ERROR:root:task: mqtt_task raised exception: [WinError 10054] An existing connection was forcibly closed by the remote host.\n",
      "ERROR:root:task: connection_task raised exception: .\n",
      "ERROR:root:task: mqtt_task raised exception: [WinError 10054] An existing connection was forcibly closed by the remote host.\n",
      "ERROR:root:task: connection_task raised exception: .\n",
      "ERROR:root:task: mqtt_task raised exception: [WinError 10054] An existing connection was forcibly closed by the remote host.\n",
      "ERROR:root:task: connection_task raised exception: .\n"
     ]
    },
    {
     "name": "stdout",
     "output_type": "stream",
     "text": [
      "Saved: 2025-09-12 19:15:45,-3.19865345954895,1.941697597503662,9.926360130310059\n"
     ]
    },
    {
     "name": "stderr",
     "output_type": "stream",
     "text": [
      "ERROR:root:task: mqtt_task raised exception: [WinError 10054] An existing connection was forcibly closed by the remote host.\n",
      "ERROR:root:task: connection_task raised exception: .\n",
      "ERROR:root:task: mqtt_task raised exception: [WinError 10054] An existing connection was forcibly closed by the remote host.\n",
      "ERROR:root:task: connection_task raised exception: .\n",
      "ERROR:root:task: mqtt_task raised exception: [WinError 10054] An existing connection was forcibly closed by the remote host.\n",
      "ERROR:root:task: connection_task raised exception: .\n"
     ]
    },
    {
     "name": "stdout",
     "output_type": "stream",
     "text": [
      "Saved: 2025-09-12 19:15:54,-1.5658079385757446,1.941697597503662,9.926360130310059\n"
     ]
    },
    {
     "name": "stderr",
     "output_type": "stream",
     "text": [
      "ERROR:root:task: mqtt_task raised exception: [WinError 10054] An existing connection was forcibly closed by the remote host.\n",
      "ERROR:root:task: connection_task raised exception: .\n",
      "ERROR:root:task: mqtt_task raised exception: [WinError 10054] An existing connection was forcibly closed by the remote host.\n",
      "ERROR:root:task: connection_task raised exception: .\n"
     ]
    },
    {
     "name": "stdout",
     "output_type": "stream",
     "text": [
      "Saved: 2025-09-12 19:16:01,-3.8139634132385254,1.941697597503662,9.926360130310059\n"
     ]
    },
    {
     "name": "stderr",
     "output_type": "stream",
     "text": [
      "ERROR:root:task: mqtt_task raised exception: [WinError 10054] An existing connection was forcibly closed by the remote host.\n",
      "ERROR:root:task: connection_task raised exception: .\n"
     ]
    },
    {
     "name": "stdout",
     "output_type": "stream",
     "text": [
      "Saved: 2025-09-12 19:16:05,-4.278438568115234,1.941697597503662,9.926360130310059\n"
     ]
    },
    {
     "name": "stderr",
     "output_type": "stream",
     "text": [
      "ERROR:root:task: mqtt_task raised exception: [WinError 10054] An existing connection was forcibly closed by the remote host.\n",
      "ERROR:root:task: connection_task raised exception: .\n"
     ]
    },
    {
     "name": "stdout",
     "output_type": "stream",
     "text": [
      "Saved: 2025-09-12 19:16:09,-2.410961151123047,1.941697597503662,9.926360130310059\n"
     ]
    },
    {
     "name": "stderr",
     "output_type": "stream",
     "text": [
      "ERROR:root:task: mqtt_task raised exception: [WinError 10054] An existing connection was forcibly closed by the remote host.\n",
      "ERROR:root:task: connection_task raised exception: .\n"
     ]
    },
    {
     "name": "stdout",
     "output_type": "stream",
     "text": [
      "Saved: 2025-09-12 19:16:13,-4.299986362457275,1.941697597503662,9.926360130310059\n"
     ]
    },
    {
     "name": "stderr",
     "output_type": "stream",
     "text": [
      "ERROR:root:task: mqtt_task raised exception: [WinError 10054] An existing connection was forcibly closed by the remote host.\n",
      "ERROR:root:task: connection_task raised exception: .\n"
     ]
    },
    {
     "name": "stdout",
     "output_type": "stream",
     "text": [
      "Saved: 2025-09-12 19:16:17,-4.311957359313965,1.941697597503662,9.926360130310059\n"
     ]
    },
    {
     "name": "stderr",
     "output_type": "stream",
     "text": [
      "ERROR:root:task: mqtt_task raised exception: [WinError 10054] An existing connection was forcibly closed by the remote host.\n",
      "ERROR:root:task: connection_task raised exception: .\n",
      "ERROR:root:task: mqtt_task raised exception: [WinError 10054] An existing connection was forcibly closed by the remote host.\n",
      "ERROR:root:task: connection_task raised exception: .\n"
     ]
    },
    {
     "name": "stdout",
     "output_type": "stream",
     "text": [
      "Saved: 2025-09-12 19:16:23,-5.377377033233643,1.941697597503662,9.926360130310059\n",
      "Saved: 2025-09-12 19:16:24,-5.377377033233643,-1.4437036514282227,9.926360130310059\n"
     ]
    },
    {
     "name": "stderr",
     "output_type": "stream",
     "text": [
      "ERROR:root:task: mqtt_task raised exception: [WinError 10054] An existing connection was forcibly closed by the remote host.\n",
      "ERROR:root:task: connection_task raised exception: .\n"
     ]
    },
    {
     "name": "stdout",
     "output_type": "stream",
     "text": [
      "Saved: 2025-09-12 19:16:28,-6.433219909667969,-1.4437036514282227,9.926360130310059\n"
     ]
    },
    {
     "name": "stderr",
     "output_type": "stream",
     "text": [
      "ERROR:root:task: mqtt_task raised exception: [WinError 10054] An existing connection was forcibly closed by the remote host.\n",
      "ERROR:root:task: connection_task raised exception: .\n",
      "ERROR:root:task: mqtt_task raised exception: [WinError 10054] An existing connection was forcibly closed by the remote host.\n",
      "ERROR:root:task: connection_task raised exception: .\n"
     ]
    },
    {
     "name": "stdout",
     "output_type": "stream",
     "text": [
      "Saved: 2025-09-12 19:16:35,-0.014365210197865963,-1.4437036514282227,9.926360130310059\n"
     ]
    },
    {
     "name": "stderr",
     "output_type": "stream",
     "text": [
      "ERROR:root:task: mqtt_task raised exception: [WinError 10054] An existing connection was forcibly closed by the remote host.\n",
      "ERROR:root:task: connection_task raised exception: .\n",
      "ERROR:root:task: mqtt_task raised exception: [WinError 10054] An existing connection was forcibly closed by the remote host.\n",
      "ERROR:root:task: connection_task raised exception: .\n",
      "ERROR:root:task: mqtt_task raised exception: [WinError 10054] An existing connection was forcibly closed by the remote host.\n",
      "ERROR:root:task: connection_task raised exception: .\n",
      "ERROR:root:task: mqtt_task raised exception: [WinError 10054] An existing connection was forcibly closed by the remote host.\n",
      "ERROR:root:task: connection_task raised exception: .\n"
     ]
    },
    {
     "name": "stdout",
     "output_type": "stream",
     "text": [
      "Saved: 2025-09-12 19:16:48,-0.031124621629714966,-1.4437036514282227,9.926360130310059\n"
     ]
    },
    {
     "name": "stderr",
     "output_type": "stream",
     "text": [
      "ERROR:root:task: mqtt_task raised exception: [WinError 10054] An existing connection was forcibly closed by the remote host.\n",
      "ERROR:root:task: connection_task raised exception: .\n"
     ]
    },
    {
     "name": "stdout",
     "output_type": "stream",
     "text": [
      "Saved: 2025-09-12 19:16:51,1.403002142906189,-1.4437036514282227,9.926360130310059\n"
     ]
    },
    {
     "name": "stderr",
     "output_type": "stream",
     "text": [
      "ERROR:root:task: mqtt_task raised exception: [WinError 10054] An existing connection was forcibly closed by the remote host.\n",
      "ERROR:root:task: connection_task raised exception: .\n",
      "ERROR:root:task: mqtt_task raised exception: [WinError 10054] An existing connection was forcibly closed by the remote host.\n",
      "ERROR:root:task: connection_task raised exception: .\n"
     ]
    },
    {
     "name": "stdout",
     "output_type": "stream",
     "text": [
      "Saved: 2025-09-12 19:16:59,-5.2911858558654785,-1.4437036514282227,9.926360130310059\n"
     ]
    },
    {
     "name": "stderr",
     "output_type": "stream",
     "text": [
      "ERROR:root:task: mqtt_task raised exception: [WinError 10054] An existing connection was forcibly closed by the remote host.\n",
      "ERROR:root:task: connection_task raised exception: .\n"
     ]
    },
    {
     "name": "stdout",
     "output_type": "stream",
     "text": [
      "Saved: 2025-09-12 19:17:03,-5.243301868438721,-1.4437036514282227,9.926360130310059\n"
     ]
    },
    {
     "name": "stderr",
     "output_type": "stream",
     "text": [
      "ERROR:root:task: mqtt_task raised exception: [WinError 10054] An existing connection was forcibly closed by the remote host.\n",
      "ERROR:root:task: connection_task raised exception: .\n",
      "ERROR:root:task: mqtt_task raised exception: [WinError 10054] An existing connection was forcibly closed by the remote host.\n",
      "ERROR:root:task: connection_task raised exception: .\n",
      "ERROR:root:task: mqtt_task raised exception: [WinError 10054] An existing connection was forcibly closed by the remote host.\n",
      "ERROR:root:task: connection_task raised exception: .\n"
     ]
    },
    {
     "name": "stdout",
     "output_type": "stream",
     "text": [
      "Saved: 2025-09-12 19:17:13,-5.243301868438721,2.403778553009033,9.926360130310059\n"
     ]
    },
    {
     "name": "stderr",
     "output_type": "stream",
     "text": [
      "ERROR:root:task: mqtt_task raised exception: [WinError 10054] An existing connection was forcibly closed by the remote host.\n",
      "ERROR:root:task: connection_task raised exception: .\n"
     ]
    },
    {
     "name": "stdout",
     "output_type": "stream",
     "text": [
      "Saved: 2025-09-12 19:17:15,-0.019153613597154617,2.403778553009033,9.926360130310059\n",
      "Saved: 2025-09-12 19:17:16,-0.019153613597154617,9.320627212524414,9.926360130310059\n"
     ]
    },
    {
     "name": "stderr",
     "output_type": "stream",
     "text": [
      "ERROR:root:task: mqtt_task raised exception: [WinError 10054] An existing connection was forcibly closed by the remote host.\n",
      "ERROR:root:task: connection_task raised exception: .\n"
     ]
    },
    {
     "name": "stdout",
     "output_type": "stream",
     "text": [
      "Saved: 2025-09-12 19:17:20,-3.0813376903533936,9.320627212524414,9.926360130310059\n"
     ]
    },
    {
     "name": "stderr",
     "output_type": "stream",
     "text": [
      "ERROR:root:task: mqtt_task raised exception: [WinError 10054] An existing connection was forcibly closed by the remote host.\n",
      "ERROR:root:task: connection_task raised exception: .\n"
     ]
    },
    {
     "name": "stdout",
     "output_type": "stream",
     "text": [
      "Saved: 2025-09-12 19:17:24,-4.381389141082764,9.320627212524414,9.926360130310059\n"
     ]
    },
    {
     "name": "stderr",
     "output_type": "stream",
     "text": [
      "ERROR:root:task: mqtt_task raised exception: [WinError 10054] An existing connection was forcibly closed by the remote host.\n",
      "ERROR:root:task: connection_task raised exception: .\n"
     ]
    },
    {
     "name": "stdout",
     "output_type": "stream",
     "text": [
      "Saved: 2025-09-12 19:17:28,-4.4292731285095215,9.320627212524414,9.926360130310059\n"
     ]
    },
    {
     "name": "stderr",
     "output_type": "stream",
     "text": [
      "ERROR:root:task: mqtt_task raised exception: [WinError 10054] An existing connection was forcibly closed by the remote host.\n",
      "ERROR:root:task: connection_task raised exception: .\n",
      "ERROR:root:task: mqtt_task raised exception: [WinError 10054] An existing connection was forcibly closed by the remote host.\n",
      "ERROR:root:task: connection_task raised exception: .\n"
     ]
    },
    {
     "name": "stdout",
     "output_type": "stream",
     "text": [
      "Saved: 2025-09-12 19:17:35,-4.4939165115356445,9.320627212524414,9.926360130310059\n"
     ]
    },
    {
     "name": "stderr",
     "output_type": "stream",
     "text": [
      "ERROR:root:task: mqtt_task raised exception: [WinError 10054] An existing connection was forcibly closed by the remote host.\n",
      "ERROR:root:task: connection_task raised exception: .\n"
     ]
    },
    {
     "name": "stdout",
     "output_type": "stream",
     "text": [
      "Saved: 2025-09-12 19:17:39,-4.508281707763672,9.320627212524414,9.926360130310059\n"
     ]
    },
    {
     "name": "stderr",
     "output_type": "stream",
     "text": [
      "ERROR:root:task: mqtt_task raised exception: [WinError 10054] An existing connection was forcibly closed by the remote host.\n",
      "ERROR:root:task: connection_task raised exception: .\n",
      "ERROR:root:task: mqtt_task raised exception: [WinError 10054] An existing connection was forcibly closed by the remote host.\n",
      "ERROR:root:task: connection_task raised exception: .\n"
     ]
    },
    {
     "name": "stdout",
     "output_type": "stream",
     "text": [
      "Saved: 2025-09-12 19:17:47,-4.5394062995910645,9.320627212524414,9.926360130310059\n"
     ]
    },
    {
     "name": "stderr",
     "output_type": "stream",
     "text": [
      "ERROR:root:task: mqtt_task raised exception: [WinError 10054] An existing connection was forcibly closed by the remote host.\n",
      "ERROR:root:task: connection_task raised exception: .\n"
     ]
    },
    {
     "name": "stdout",
     "output_type": "stream",
     "text": [
      "Saved: 2025-09-12 19:17:50,-4.534617900848389,9.320627212524414,9.926360130310059\n"
     ]
    },
    {
     "name": "stderr",
     "output_type": "stream",
     "text": [
      "ERROR:root:task: mqtt_task raised exception: [WinError 10054] An existing connection was forcibly closed by the remote host.\n",
      "ERROR:root:task: connection_task raised exception: .\n",
      "ERROR:root:task: mqtt_task raised exception: [WinError 10054] An existing connection was forcibly closed by the remote host.\n",
      "ERROR:root:task: connection_task raised exception: .\n"
     ]
    },
    {
     "name": "stdout",
     "output_type": "stream",
     "text": [
      "Saved: 2025-09-12 19:17:58,-1.4293384552001953,9.320627212524414,9.926360130310059\n"
     ]
    },
    {
     "name": "stderr",
     "output_type": "stream",
     "text": [
      "ERROR:root:task: mqtt_task raised exception: [WinError 10054] An existing connection was forcibly closed by the remote host.\n",
      "ERROR:root:task: connection_task raised exception: .\n"
     ]
    },
    {
     "name": "stdout",
     "output_type": "stream",
     "text": [
      "Saved: 2025-09-12 19:18:02,-3.60566782951355,9.320627212524414,9.926360130310059\n",
      "Creating visualizations...\n",
      "Visualizations saved as 'accelerometer_analysis.png'\n",
      "Analyzing patterns...\n"
     ]
    },
    {
     "name": "stderr",
     "output_type": "stream",
     "text": [
      "ERROR:root:task: mqtt_task raised exception: [WinError 10054] An existing connection was forcibly closed by the remote host.\n"
     ]
    },
    {
     "name": "stdout",
     "output_type": "stream",
     "text": [
      "X-axis: 18 peaks, average interval: 5.47 samples\n",
      "Y-axis: 2 peaks, average interval: 43.00 samples\n",
      "Pattern analysis saved as 'pattern_analysis.txt'\n"
     ]
    },
    {
     "name": "stderr",
     "output_type": "stream",
     "text": [
      "ERROR:root:task: connection_task raised exception: .\n"
     ]
    },
    {
     "name": "stdout",
     "output_type": "stream",
     "text": [
      "Saved: 2025-09-12 19:18:07,-2.2577321529388428,9.320627212524414,9.926360130310059\n"
     ]
    },
    {
     "name": "stderr",
     "output_type": "stream",
     "text": [
      "ERROR:root:task: mqtt_task raised exception: [WinError 10054] An existing connection was forcibly closed by the remote host.\n",
      "ERROR:root:task: connection_task raised exception: .\n",
      "ERROR:root:task: mqtt_task raised exception: [WinError 10054] An existing connection was forcibly closed by the remote host.\n",
      "ERROR:root:task: connection_task raised exception: .\n"
     ]
    },
    {
     "name": "stdout",
     "output_type": "stream",
     "text": [
      "Saved: 2025-09-12 19:18:14,-3.845088005065918,9.320627212524414,9.926360130310059\n"
     ]
    },
    {
     "name": "stderr",
     "output_type": "stream",
     "text": [
      "ERROR:root:task: mqtt_task raised exception: [WinError 10054] An existing connection was forcibly closed by the remote host.\n",
      "ERROR:root:task: connection_task raised exception: .\n",
      "ERROR:root:task: mqtt_task raised exception: [WinError 10054] An existing connection was forcibly closed by the remote host.\n",
      "ERROR:root:task: connection_task raised exception: .\n",
      "ERROR:root:task: mqtt_task raised exception: [WinError 10054] An existing connection was forcibly closed by the remote host.\n",
      "ERROR:root:task: connection_task raised exception: .\n"
     ]
    },
    {
     "name": "stdout",
     "output_type": "stream",
     "text": [
      "Saved: 2025-09-12 19:18:24,-4.278438568115234,9.320627212524414,9.926360130310059\n",
      "Saved: 2025-09-12 19:18:25,-4.278438568115234,0.7445967197418213,9.926360130310059\n"
     ]
    },
    {
     "name": "stderr",
     "output_type": "stream",
     "text": [
      "ERROR:root:task: mqtt_task raised exception: [WinError 10054] An existing connection was forcibly closed by the remote host.\n",
      "ERROR:root:task: connection_task raised exception: .\n",
      "ERROR:root:task: mqtt_task raised exception: [WinError 10054] An existing connection was forcibly closed by the remote host.\n",
      "ERROR:root:task: connection_task raised exception: .\n",
      "ERROR:root:task: mqtt_task raised exception: [WinError 10054] An existing connection was forcibly closed by the remote host.\n",
      "ERROR:root:task: connection_task raised exception: .\n",
      "ERROR:root:task: mqtt_task raised exception: [WinError 10054] An existing connection was forcibly closed by the remote host.\n",
      "ERROR:root:task: connection_task raised exception: .\n",
      "ERROR:root:task: mqtt_task raised exception: [WinError 10054] An existing connection was forcibly closed by the remote host.\n",
      "ERROR:root:task: connection_task raised exception: .\n",
      "ERROR:root:task: mqtt_task raised exception: [WinError 10054] An existing connection was forcibly closed by the remote host.\n",
      "ERROR:root:task: connection_task raised exception: .\n",
      "ERROR:root:task: mqtt_task raised exception: [WinError 10054] An existing connection was forcibly closed by the remote host.\n",
      "ERROR:root:task: connection_task raised exception: .\n"
     ]
    },
    {
     "name": "stdout",
     "output_type": "stream",
     "text": [
      "Saved: 2025-09-12 19:18:46,0.19393034279346466,0.7445967197418213,9.926360130310059\n"
     ]
    },
    {
     "name": "stderr",
     "output_type": "stream",
     "text": [
      "ERROR:root:task: mqtt_task raised exception: [WinError 10054] An existing connection was forcibly closed by the remote host.\n",
      "ERROR:root:task: connection_task raised exception: .\n"
     ]
    },
    {
     "name": "stdout",
     "output_type": "stream",
     "text": [
      "Saved: 2025-09-12 19:18:50,0.19393034279346466,0.7445967197418213,9.926360130310059\n"
     ]
    },
    {
     "name": "stderr",
     "output_type": "stream",
     "text": [
      "ERROR:root:task: mqtt_task raised exception: [WinError 10054] An existing connection was forcibly closed by the remote host.\n",
      "ERROR:root:task: connection_task raised exception: .\n",
      "ERROR:root:task: mqtt_task raised exception: [WinError 10054] An existing connection was forcibly closed by the remote host.\n",
      "ERROR:root:task: connection_task raised exception: .\n"
     ]
    },
    {
     "name": "stdout",
     "output_type": "stream",
     "text": [
      "Saved: 2025-09-12 19:18:56,0.21547815203666687,0.7445967197418213,9.926360130310059\n"
     ]
    },
    {
     "name": "stderr",
     "output_type": "stream",
     "text": [
      "ERROR:root:task: mqtt_task raised exception: [WinError 10054] An existing connection was forcibly closed by the remote host.\n",
      "ERROR:root:task: connection_task raised exception: .\n",
      "ERROR:root:task: mqtt_task raised exception: [WinError 10054] An existing connection was forcibly closed by the remote host.\n",
      "ERROR:root:task: connection_task raised exception: .\n",
      "ERROR:root:task: mqtt_task raised exception: [WinError 10054] An existing connection was forcibly closed by the remote host.\n",
      "ERROR:root:task: connection_task raised exception: .\n"
     ]
    },
    {
     "name": "stdout",
     "output_type": "stream",
     "text": [
      "Saved: 2025-09-12 19:19:06,0.21787235140800476,0.7445967197418213,9.926360130310059\n"
     ]
    },
    {
     "name": "stderr",
     "output_type": "stream",
     "text": [
      "ERROR:root:task: mqtt_task raised exception: [WinError 10054] An existing connection was forcibly closed by the remote host.\n",
      "ERROR:root:task: connection_task raised exception: .\n"
     ]
    },
    {
     "name": "stdout",
     "output_type": "stream",
     "text": [
      "Saved: 2025-09-12 19:19:09,0.1843535304069519,0.7445967197418213,9.926360130310059\n"
     ]
    },
    {
     "name": "stderr",
     "output_type": "stream",
     "text": [
      "ERROR:root:task: mqtt_task raised exception: [WinError 10054] An existing connection was forcibly closed by the remote host.\n",
      "ERROR:root:task: connection_task raised exception: .\n"
     ]
    },
    {
     "name": "stdout",
     "output_type": "stream",
     "text": [
      "Saved: 2025-09-12 19:19:13,0.20350714027881622,0.7445967197418213,9.926360130310059\n"
     ]
    },
    {
     "name": "stderr",
     "output_type": "stream",
     "text": [
      "ERROR:root:task: mqtt_task raised exception: [WinError 10054] An existing connection was forcibly closed by the remote host.\n",
      "ERROR:root:task: connection_task raised exception: .\n",
      "ERROR:root:task: mqtt_task raised exception: [WinError 10054] An existing connection was forcibly closed by the remote host.\n",
      "ERROR:root:task: connection_task raised exception: .\n"
     ]
    },
    {
     "name": "stdout",
     "output_type": "stream",
     "text": [
      "Saved: 2025-09-12 19:19:21,0.19632454216480255,0.7445967197418213,9.926360130310059\n"
     ]
    },
    {
     "name": "stderr",
     "output_type": "stream",
     "text": [
      "ERROR:root:task: mqtt_task raised exception: [WinError 10054] An existing connection was forcibly closed by the remote host.\n",
      "ERROR:root:task: connection_task raised exception: .\n"
     ]
    },
    {
     "name": "stdout",
     "output_type": "stream",
     "text": [
      "Saved: 2025-09-12 19:19:25,0.1867477297782898,0.7445967197418213,9.926360130310059\n"
     ]
    },
    {
     "name": "stderr",
     "output_type": "stream",
     "text": [
      "ERROR:root:task: mqtt_task raised exception: [WinError 10054] An existing connection was forcibly closed by the remote host.\n",
      "ERROR:root:task: connection_task raised exception: .\n",
      "ERROR:root:task: mqtt_task raised exception: [WinError 10054] An existing connection was forcibly closed by the remote host.\n",
      "ERROR:root:task: connection_task raised exception: .\n"
     ]
    },
    {
     "name": "stdout",
     "output_type": "stream",
     "text": [
      "Saved: 2025-09-12 19:19:32,0.1867477297782898,0.7445967197418213,9.926360130310059\n"
     ]
    },
    {
     "name": "stderr",
     "output_type": "stream",
     "text": [
      "ERROR:root:task: mqtt_task raised exception: [WinError 10054] An existing connection was forcibly closed by the remote host.\n",
      "ERROR:root:task: connection_task raised exception: .\n",
      "ERROR:root:task: mqtt_task raised exception: [WinError 10054] An existing connection was forcibly closed by the remote host.\n",
      "ERROR:root:task: connection_task raised exception: .\n",
      "ERROR:root:task: mqtt_task raised exception: [WinError 10054] An existing connection was forcibly closed by the remote host.\n",
      "ERROR:root:task: connection_task raised exception: .\n",
      "ERROR:root:task: mqtt_task raised exception: [WinError 10054] An existing connection was forcibly closed by the remote host.\n",
      "ERROR:root:task: connection_task raised exception: .\n",
      "ERROR:root:task: mqtt_task raised exception: [WinError 10054] An existing connection was forcibly closed by the remote host.\n",
      "ERROR:root:task: connection_task raised exception: .\n",
      "ERROR:root:task: mqtt_task raised exception: [WinError 10054] An existing connection was forcibly closed by the remote host.\n",
      "ERROR:root:task: connection_task raised exception: .\n"
     ]
    },
    {
     "name": "stdout",
     "output_type": "stream",
     "text": [
      "Saved: 2025-09-12 19:19:50,0.19871874153614044,0.7445967197418213,9.926360130310059\n"
     ]
    },
    {
     "name": "stderr",
     "output_type": "stream",
     "text": [
      "ERROR:root:task: mqtt_task raised exception: [WinError 10054] An existing connection was forcibly closed by the remote host.\n",
      "ERROR:root:task: connection_task raised exception: .\n",
      "ERROR:root:task: mqtt_task raised exception: [WinError 10054] An existing connection was forcibly closed by the remote host.\n",
      "ERROR:root:task: connection_task raised exception: .\n",
      "ERROR:root:task: mqtt_task raised exception: [WinError 10054] An existing connection was forcibly closed by the remote host.\n",
      "ERROR:root:task: connection_task raised exception: .\n"
     ]
    },
    {
     "name": "stdout",
     "output_type": "stream",
     "text": [
      "Saved: 2025-09-12 19:19:58,0.19393034279346466,0.7445967197418213,9.926360130310059\n"
     ]
    },
    {
     "name": "stderr",
     "output_type": "stream",
     "text": [
      "ERROR:root:task: mqtt_task raised exception: [WinError 10054] An existing connection was forcibly closed by the remote host.\n",
      "ERROR:root:task: connection_task raised exception: .\n"
     ]
    },
    {
     "name": "stdout",
     "output_type": "stream",
     "text": [
      "Saved: 2025-09-12 19:20:02,0.19871874153614044,0.7445967197418213,9.926360130310059\n"
     ]
    },
    {
     "name": "stderr",
     "output_type": "stream",
     "text": [
      "ERROR:root:task: mqtt_task raised exception: [WinError 10054] An existing connection was forcibly closed by the remote host.\n",
      "ERROR:root:task: connection_task raised exception: .\n",
      "ERROR:root:task: mqtt_task raised exception: [WinError 10054] An existing connection was forcibly closed by the remote host.\n",
      "ERROR:root:task: connection_task raised exception: .\n"
     ]
    },
    {
     "name": "stdout",
     "output_type": "stream",
     "text": [
      "Saved: 2025-09-12 19:20:09,0.17956513166427612,0.7445967197418213,9.926360130310059\n"
     ]
    },
    {
     "name": "stderr",
     "output_type": "stream",
     "text": [
      "ERROR:root:task: mqtt_task raised exception: [WinError 10054] An existing connection was forcibly closed by the remote host.\n",
      "ERROR:root:task: connection_task raised exception: .\n"
     ]
    },
    {
     "name": "stdout",
     "output_type": "stream",
     "text": [
      "Saved: 2025-09-12 19:20:13,0.17956513166427612,0.033518824726343155,9.926360130310059\n"
     ]
    },
    {
     "name": "stderr",
     "output_type": "stream",
     "text": [
      "ERROR:root:task: mqtt_task raised exception: [WinError 10054] An existing connection was forcibly closed by the remote host.\n",
      "ERROR:root:task: connection_task raised exception: .\n"
     ]
    },
    {
     "name": "stdout",
     "output_type": "stream",
     "text": [
      "Saved: 2025-09-12 19:20:16,0.19153612852096558,0.033518824726343155,9.926360130310059\n"
     ]
    },
    {
     "name": "stderr",
     "output_type": "stream",
     "text": [
      "ERROR:root:task: mqtt_task raised exception: [WinError 10054] An existing connection was forcibly closed by the remote host.\n",
      "ERROR:root:task: connection_task raised exception: .\n"
     ]
    },
    {
     "name": "stdout",
     "output_type": "stream",
     "text": [
      "Saved: 2025-09-12 19:20:20,0.1843535304069519,0.033518824726343155,9.926360130310059\n"
     ]
    },
    {
     "name": "stderr",
     "output_type": "stream",
     "text": [
      "ERROR:root:task: mqtt_task raised exception: [WinError 10054] An existing connection was forcibly closed by the remote host.\n",
      "ERROR:root:task: connection_task raised exception: .\n"
     ]
    },
    {
     "name": "stdout",
     "output_type": "stream",
     "text": [
      "Saved: 2025-09-12 19:20:23,0.17717093229293823,0.033518824726343155,9.926360130310059\n",
      "Saved: 2025-09-12 19:20:24,0.17717093229293823,0.026336219161748886,9.926360130310059\n"
     ]
    },
    {
     "name": "stderr",
     "output_type": "stream",
     "text": [
      "ERROR:root:task: mqtt_task raised exception: [WinError 10054] An existing connection was forcibly closed by the remote host.\n",
      "ERROR:root:task: connection_task raised exception: .\n"
     ]
    },
    {
     "name": "stdout",
     "output_type": "stream",
     "text": [
      "Saved: 2025-09-12 19:20:28,0.21547815203666687,0.026336219161748886,9.926360130310059\n"
     ]
    },
    {
     "name": "stderr",
     "output_type": "stream",
     "text": [
      "ERROR:root:task: mqtt_task raised exception: [WinError 10054] An existing connection was forcibly closed by the remote host.\n",
      "ERROR:root:task: connection_task raised exception: .\n"
     ]
    },
    {
     "name": "stdout",
     "output_type": "stream",
     "text": [
      "Saved: 2025-09-12 19:20:32,0.19871874153614044,0.026336219161748886,9.926360130310059\n"
     ]
    },
    {
     "name": "stderr",
     "output_type": "stream",
     "text": [
      "ERROR:root:task: mqtt_task raised exception: [WinError 10054] An existing connection was forcibly closed by the remote host.\n",
      "ERROR:root:task: connection_task raised exception: .\n"
     ]
    },
    {
     "name": "stdout",
     "output_type": "stream",
     "text": [
      "Saved: 2025-09-12 19:20:35,0.1867477297782898,0.026336219161748886,9.926360130310059\n"
     ]
    },
    {
     "name": "stderr",
     "output_type": "stream",
     "text": [
      "ERROR:root:task: mqtt_task raised exception: [WinError 10054] An existing connection was forcibly closed by the remote host.\n",
      "ERROR:root:task: connection_task raised exception: .\n"
     ]
    },
    {
     "name": "stdout",
     "output_type": "stream",
     "text": [
      "Saved: 2025-09-12 19:20:38,0.16759411990642548,0.026336219161748886,9.926360130310059\n",
      "Saved: 2025-09-12 19:20:39,0.16759411990642548,-0.009576806798577309,9.926360130310059\n"
     ]
    },
    {
     "name": "stderr",
     "output_type": "stream",
     "text": [
      "ERROR:root:task: mqtt_task raised exception: [WinError 10054] An existing connection was forcibly closed by the remote host.\n",
      "ERROR:root:task: connection_task raised exception: .\n",
      "ERROR:root:task: mqtt_task raised exception: [WinError 10054] An existing connection was forcibly closed by the remote host.\n",
      "ERROR:root:task: connection_task raised exception: .\n",
      "ERROR:root:task: mqtt_task raised exception: [WinError 10054] An existing connection was forcibly closed by the remote host.\n",
      "ERROR:root:task: connection_task raised exception: .\n",
      "ERROR:root:task: mqtt_task raised exception: [WinError 10054] An existing connection was forcibly closed by the remote host.\n",
      "ERROR:root:task: connection_task raised exception: .\n",
      "ERROR:root:task: mqtt_task raised exception: [WinError 10054] An existing connection was forcibly closed by the remote host.\n",
      "ERROR:root:task: connection_task raised exception: .\n",
      "ERROR:root:task: mqtt_task raised exception: [WinError 10054] An existing connection was forcibly closed by the remote host.\n",
      "ERROR:root:task: connection_task raised exception: .\n",
      "ERROR:root:task: mqtt_task raised exception: [WinError 10054] An existing connection was forcibly closed by the remote host.\n",
      "ERROR:root:task: connection_task raised exception: .\n",
      "ERROR:root:task: mqtt_task raised exception: [WinError 10054] An existing connection was forcibly closed by the remote host.\n",
      "ERROR:root:task: connection_task raised exception: .\n",
      "ERROR:root:task: mqtt_task raised exception: [WinError 10054] An existing connection was forcibly closed by the remote host.\n",
      "ERROR:root:task: connection_task raised exception: .\n"
     ]
    },
    {
     "name": "stdout",
     "output_type": "stream",
     "text": [
      "Saved: 2025-09-12 19:21:04,0.17956513166427612,-0.009576806798577309,9.926360130310059\n",
      "Saved: 2025-09-12 19:21:05,0.17956513166427612,0.023942016065120697,9.926360130310059\n"
     ]
    },
    {
     "name": "stderr",
     "output_type": "stream",
     "text": [
      "ERROR:root:task: mqtt_task raised exception: [WinError 10054] An existing connection was forcibly closed by the remote host.\n",
      "ERROR:root:task: connection_task raised exception: .\n"
     ]
    },
    {
     "name": "stdout",
     "output_type": "stream",
     "text": [
      "Saved: 2025-09-12 19:21:09,0.19153612852096558,0.023942016065120697,9.926360130310059\n"
     ]
    },
    {
     "name": "stderr",
     "output_type": "stream",
     "text": [
      "ERROR:root:task: mqtt_task raised exception: [WinError 10054] An existing connection was forcibly closed by the remote host.\n",
      "ERROR:root:task: connection_task raised exception: .\n"
     ]
    },
    {
     "name": "stdout",
     "output_type": "stream",
     "text": [
      "Saved: 2025-09-12 19:21:13,0.19393034279346466,0.023942016065120697,9.926360130310059\n"
     ]
    },
    {
     "name": "stderr",
     "output_type": "stream",
     "text": [
      "ERROR:root:task: mqtt_task raised exception: [WinError 10054] An existing connection was forcibly closed by the remote host.\n",
      "ERROR:root:task: connection_task raised exception: .\n"
     ]
    },
    {
     "name": "stdout",
     "output_type": "stream",
     "text": [
      "Saved: 2025-09-12 19:21:17,0.181959331035614,0.023942016065120697,9.926360130310059\n"
     ]
    },
    {
     "name": "stderr",
     "output_type": "stream",
     "text": [
      "ERROR:root:task: mqtt_task raised exception: [WinError 10054] An existing connection was forcibly closed by the remote host.\n",
      "ERROR:root:task: connection_task raised exception: .\n"
     ]
    },
    {
     "name": "stdout",
     "output_type": "stream",
     "text": [
      "Saved: 2025-09-12 19:21:20,0.19632454216480255,0.023942016065120697,9.926360130310059\n"
     ]
    },
    {
     "name": "stderr",
     "output_type": "stream",
     "text": [
      "ERROR:root:task: mqtt_task raised exception: [WinError 10054] An existing connection was forcibly closed by the remote host.\n",
      "ERROR:root:task: connection_task raised exception: .\n"
     ]
    },
    {
     "name": "stdout",
     "output_type": "stream",
     "text": [
      "Saved: 2025-09-12 19:21:24,0.19632454216480255,0.023942016065120697,9.926360130310059\n"
     ]
    },
    {
     "name": "stderr",
     "output_type": "stream",
     "text": [
      "ERROR:root:task: mqtt_task raised exception: [WinError 10054] An existing connection was forcibly closed by the remote host.\n",
      "ERROR:root:task: connection_task raised exception: .\n"
     ]
    },
    {
     "name": "stdout",
     "output_type": "stream",
     "text": [
      "Saved: 2025-09-12 19:21:28,0.1843535304069519,0.023942016065120697,9.926360130310059\n"
     ]
    },
    {
     "name": "stderr",
     "output_type": "stream",
     "text": [
      "ERROR:root:task: mqtt_task raised exception: [WinError 10054] An existing connection was forcibly closed by the remote host.\n",
      "ERROR:root:task: connection_task raised exception: .\n"
     ]
    },
    {
     "name": "stdout",
     "output_type": "stream",
     "text": [
      "Saved: 2025-09-12 19:21:32,0.18914192914962769,0.023942016065120697,9.926360130310059\n"
     ]
    },
    {
     "name": "stderr",
     "output_type": "stream",
     "text": [
      "ERROR:root:task: mqtt_task raised exception: [WinError 10054] An existing connection was forcibly closed by the remote host.\n",
      "ERROR:root:task: connection_task raised exception: .\n",
      "ERROR:root:task: mqtt_task raised exception: [WinError 10054] An existing connection was forcibly closed by the remote host.\n",
      "ERROR:root:task: connection_task raised exception: .\n",
      "ERROR:root:task: mqtt_task raised exception: [WinError 10054] An existing connection was forcibly closed by the remote host.\n",
      "ERROR:root:task: connection_task raised exception: .\n",
      "ERROR:root:task: mqtt_task raised exception: [WinError 10054] An existing connection was forcibly closed by the remote host.\n",
      "ERROR:root:task: connection_task raised exception: .\n",
      "ERROR:root:task: mqtt_task raised exception: [WinError 10054] An existing connection was forcibly closed by the remote host.\n",
      "ERROR:root:task: connection_task raised exception: .\n",
      "ERROR:root:task: mqtt_task raised exception: [WinError 10054] An existing connection was forcibly closed by the remote host.\n",
      "ERROR:root:task: connection_task raised exception: .\n"
     ]
    },
    {
     "name": "stdout",
     "output_type": "stream",
     "text": [
      "Saved: 2025-09-12 19:21:49,0.2106897532939911,0.023942016065120697,9.926360130310059\n"
     ]
    },
    {
     "name": "stderr",
     "output_type": "stream",
     "text": [
      "ERROR:root:task: mqtt_task raised exception: [WinError 10054] An existing connection was forcibly closed by the remote host.\n",
      "ERROR:root:task: connection_task raised exception: .\n",
      "ERROR:root:task: mqtt_task raised exception: [WinError 10054] An existing connection was forcibly closed by the remote host.\n",
      "ERROR:root:task: connection_task raised exception: .\n"
     ]
    },
    {
     "name": "stdout",
     "output_type": "stream",
     "text": [
      "Saved: 2025-09-12 19:21:56,0.2106897532939911,0.023942016065120697,9.926360130310059\n"
     ]
    },
    {
     "name": "stderr",
     "output_type": "stream",
     "text": [
      "ERROR:root:task: mqtt_task raised exception: [WinError 10054] An existing connection was forcibly closed by the remote host.\n",
      "ERROR:root:task: connection_task raised exception: .\n",
      "ERROR:root:task: mqtt_task raised exception: [WinError 10054] An existing connection was forcibly closed by the remote host.\n",
      "ERROR:root:task: connection_task raised exception: .\n",
      "ERROR:root:task: mqtt_task raised exception: [WinError 10054] An existing connection was forcibly closed by the remote host.\n",
      "ERROR:root:task: connection_task raised exception: .\n",
      "ERROR:root:task: mqtt_task raised exception: [WinError 10054] An existing connection was forcibly closed by the remote host.\n",
      "ERROR:root:task: connection_task raised exception: .\n"
     ]
    },
    {
     "name": "stdout",
     "output_type": "stream",
     "text": [
      "Saved: 2025-09-12 19:22:09,0.21547815203666687,0.023942016065120697,9.926360130310059\n"
     ]
    },
    {
     "name": "stderr",
     "output_type": "stream",
     "text": [
      "ERROR:root:task: mqtt_task raised exception: [WinError 10054] An existing connection was forcibly closed by the remote host.\n",
      "ERROR:root:task: connection_task raised exception: .\n",
      "ERROR:root:task: mqtt_task raised exception: [WinError 10054] An existing connection was forcibly closed by the remote host.\n",
      "ERROR:root:task: connection_task raised exception: .\n"
     ]
    },
    {
     "name": "stdout",
     "output_type": "stream",
     "text": [
      "Saved: 2025-09-12 19:22:17,0.181959331035614,0.023942016065120697,9.926360130310059\n"
     ]
    },
    {
     "name": "stderr",
     "output_type": "stream",
     "text": [
      "ERROR:root:task: mqtt_task raised exception: [WinError 10054] An existing connection was forcibly closed by the remote host.\n",
      "ERROR:root:task: connection_task raised exception: .\n",
      "ERROR:root:task: mqtt_task raised exception: [WinError 10054] An existing connection was forcibly closed by the remote host.\n",
      "ERROR:root:task: connection_task raised exception: .\n",
      "ERROR:root:task: mqtt_task raised exception: [WinError 10054] An existing connection was forcibly closed by the remote host.\n",
      "ERROR:root:task: connection_task raised exception: .\n",
      "ERROR:root:task: mqtt_task raised exception: [WinError 10054] An existing connection was forcibly closed by the remote host.\n",
      "ERROR:root:task: connection_task raised exception: .\n",
      "ERROR:root:task: mqtt_task raised exception: [WinError 10054] An existing connection was forcibly closed by the remote host.\n",
      "ERROR:root:task: connection_task raised exception: .\n"
     ]
    },
    {
     "name": "stdout",
     "output_type": "stream",
     "text": [
      "Saved: 2025-09-12 19:22:32,0.19393034279346466,0.023942016065120697,9.926360130310059\n"
     ]
    },
    {
     "name": "stderr",
     "output_type": "stream",
     "text": [
      "ERROR:root:task: mqtt_task raised exception: [WinError 10054] An existing connection was forcibly closed by the remote host.\n",
      "ERROR:root:task: connection_task raised exception: .\n"
     ]
    },
    {
     "name": "stdout",
     "output_type": "stream",
     "text": [
      "Saved: 2025-09-12 19:22:36,0.17238251864910126,0.023942016065120697,9.926360130310059\n"
     ]
    },
    {
     "name": "stderr",
     "output_type": "stream",
     "text": [
      "ERROR:root:task: mqtt_task raised exception: [WinError 10054] An existing connection was forcibly closed by the remote host.\n",
      "ERROR:root:task: connection_task raised exception: .\n"
     ]
    },
    {
     "name": "stdout",
     "output_type": "stream",
     "text": [
      "Saved: 2025-09-12 19:22:39,0.19393034279346466,0.023942016065120697,9.926360130310059\n"
     ]
    },
    {
     "name": "stderr",
     "output_type": "stream",
     "text": [
      "ERROR:root:task: mqtt_task raised exception: [WinError 10054] An existing connection was forcibly closed by the remote host.\n",
      "ERROR:root:task: connection_task raised exception: .\n",
      "ERROR:root:task: mqtt_task raised exception: [WinError 10054] An existing connection was forcibly closed by the remote host.\n",
      "ERROR:root:task: connection_task raised exception: .\n"
     ]
    },
    {
     "name": "stdout",
     "output_type": "stream",
     "text": [
      "Saved: 2025-09-12 19:22:46,0.18914192914962769,0.023942016065120697,9.926360130310059\n"
     ]
    },
    {
     "name": "stderr",
     "output_type": "stream",
     "text": [
      "ERROR:root:task: mqtt_task raised exception: [WinError 10054] An existing connection was forcibly closed by the remote host.\n",
      "ERROR:root:task: connection_task raised exception: .\n"
     ]
    },
    {
     "name": "stdout",
     "output_type": "stream",
     "text": [
      "Saved: 2025-09-12 19:22:50,0.17477671802043915,0.023942016065120697,9.926360130310059\n"
     ]
    },
    {
     "name": "stderr",
     "output_type": "stream",
     "text": [
      "ERROR:root:task: mqtt_task raised exception: [WinError 10054] An existing connection was forcibly closed by the remote host.\n",
      "ERROR:root:task: connection_task raised exception: .\n"
     ]
    },
    {
     "name": "stdout",
     "output_type": "stream",
     "text": [
      "Saved: 2025-09-12 19:22:53,0.1843535304069519,0.023942016065120697,9.926360130310059\n"
     ]
    },
    {
     "name": "stderr",
     "output_type": "stream",
     "text": [
      "ERROR:root:task: mqtt_task raised exception: [WinError 10054] An existing connection was forcibly closed by the remote host.\n",
      "ERROR:root:task: connection_task raised exception: .\n"
     ]
    },
    {
     "name": "stdout",
     "output_type": "stream",
     "text": [
      "Saved: 2025-09-12 19:22:57,0.1843535304069519,0.028730420395731926,9.926360130310059\n"
     ]
    },
    {
     "name": "stderr",
     "output_type": "stream",
     "text": [
      "ERROR:root:task: mqtt_task raised exception: [WinError 10054] An existing connection was forcibly closed by the remote host.\n",
      "ERROR:root:task: connection_task raised exception: .\n",
      "ERROR:root:task: mqtt_task raised exception: [WinError 10054] An existing connection was forcibly closed by the remote host.\n",
      "ERROR:root:task: connection_task raised exception: .\n"
     ]
    },
    {
     "name": "stdout",
     "output_type": "stream",
     "text": [
      "Saved: 2025-09-12 19:23:04,0.17717093229293823,0.028730420395731926,9.926360130310059\n",
      "Saved: 2025-09-12 19:23:05,0.17717093229293823,0.035913024097681046,9.926360130310059\n"
     ]
    },
    {
     "name": "stderr",
     "output_type": "stream",
     "text": [
      "ERROR:root:task: mqtt_task raised exception: [WinError 10054] An existing connection was forcibly closed by the remote host.\n",
      "ERROR:root:task: connection_task raised exception: .\n"
     ]
    },
    {
     "name": "stdout",
     "output_type": "stream",
     "text": [
      "Saved: 2025-09-12 19:23:09,0.19393034279346466,0.035913024097681046,9.926360130310059\n"
     ]
    },
    {
     "name": "stderr",
     "output_type": "stream",
     "text": [
      "ERROR:root:task: mqtt_task raised exception: [WinError 10054] An existing connection was forcibly closed by the remote host.\n",
      "ERROR:root:task: connection_task raised exception: .\n",
      "ERROR:root:task: mqtt_task raised exception: [WinError 10054] An existing connection was forcibly closed by the remote host.\n",
      "ERROR:root:task: connection_task raised exception: .\n"
     ]
    },
    {
     "name": "stdout",
     "output_type": "stream",
     "text": [
      "Saved: 2025-09-12 19:23:16,0.1867477297782898,0.035913024097681046,9.926360130310059\n"
     ]
    },
    {
     "name": "stderr",
     "output_type": "stream",
     "text": [
      "ERROR:root:task: mqtt_task raised exception: [WinError 10054] An existing connection was forcibly closed by the remote host.\n",
      "ERROR:root:task: connection_task raised exception: .\n"
     ]
    },
    {
     "name": "stdout",
     "output_type": "stream",
     "text": [
      "Saved: 2025-09-12 19:23:19,0.17717093229293823,0.035913024097681046,9.926360130310059\n"
     ]
    },
    {
     "name": "stderr",
     "output_type": "stream",
     "text": [
      "ERROR:root:task: mqtt_task raised exception: [WinError 10054] An existing connection was forcibly closed by the remote host.\n",
      "ERROR:root:task: connection_task raised exception: .\n",
      "ERROR:root:task: mqtt_task raised exception: [WinError 10054] An existing connection was forcibly closed by the remote host.\n",
      "ERROR:root:task: connection_task raised exception: .\n",
      "ERROR:root:task: mqtt_task raised exception: [WinError 10054] An existing connection was forcibly closed by the remote host.\n",
      "ERROR:root:task: connection_task raised exception: .\n"
     ]
    },
    {
     "name": "stdout",
     "output_type": "stream",
     "text": [
      "Saved: 2025-09-12 19:23:27,0.17717093229293823,0.035913024097681046,9.926360130310059\n"
     ]
    },
    {
     "name": "stderr",
     "output_type": "stream",
     "text": [
      "ERROR:root:task: mqtt_task raised exception: [WinError 10054] An existing connection was forcibly closed by the remote host.\n",
      "ERROR:root:task: connection_task raised exception: .\n"
     ]
    },
    {
     "name": "stdout",
     "output_type": "stream",
     "text": [
      "Saved: 2025-09-12 19:23:31,0.17956513166427612,0.035913024097681046,9.926360130310059\n"
     ]
    },
    {
     "name": "stderr",
     "output_type": "stream",
     "text": [
      "ERROR:root:task: mqtt_task raised exception: [WinError 10054] An existing connection was forcibly closed by the remote host.\n",
      "ERROR:root:task: connection_task raised exception: .\n"
     ]
    },
    {
     "name": "stdout",
     "output_type": "stream",
     "text": [
      "Saved: 2025-09-12 19:23:34,0.17956513166427612,0.035913024097681046,9.926360130310059\n"
     ]
    },
    {
     "name": "stderr",
     "output_type": "stream",
     "text": [
      "ERROR:root:task: mqtt_task raised exception: [WinError 10054] An existing connection was forcibly closed by the remote host.\n",
      "ERROR:root:task: connection_task raised exception: .\n",
      "ERROR:root:task: mqtt_task raised exception: [WinError 10054] An existing connection was forcibly closed by the remote host.\n",
      "ERROR:root:task: connection_task raised exception: .\n"
     ]
    },
    {
     "name": "stdout",
     "output_type": "stream",
     "text": [
      "Saved: 2025-09-12 19:23:42,0.17956513166427612,0.019153613597154617,9.926360130310059\n"
     ]
    },
    {
     "name": "stderr",
     "output_type": "stream",
     "text": [
      "ERROR:root:task: mqtt_task raised exception: [WinError 10054] An existing connection was forcibly closed by the remote host.\n",
      "ERROR:root:task: connection_task raised exception: .\n"
     ]
    },
    {
     "name": "stdout",
     "output_type": "stream",
     "text": [
      "Saved: 2025-09-12 19:23:46,0.19393034279346466,0.019153613597154617,9.926360130310059\n"
     ]
    },
    {
     "name": "stderr",
     "output_type": "stream",
     "text": [
      "ERROR:root:task: mqtt_task raised exception: [WinError 10054] An existing connection was forcibly closed by the remote host.\n",
      "ERROR:root:task: connection_task raised exception: .\n",
      "ERROR:root:task: mqtt_task raised exception: [WinError 10054] An existing connection was forcibly closed by the remote host.\n",
      "ERROR:root:task: connection_task raised exception: .\n"
     ]
    },
    {
     "name": "stdout",
     "output_type": "stream",
     "text": [
      "Saved: 2025-09-12 19:23:53,0.19153612852096558,0.019153613597154617,9.926360130310059\n"
     ]
    },
    {
     "name": "stderr",
     "output_type": "stream",
     "text": [
      "ERROR:root:task: mqtt_task raised exception: [WinError 10054] An existing connection was forcibly closed by the remote host.\n",
      "ERROR:root:task: connection_task raised exception: .\n"
     ]
    },
    {
     "name": "stdout",
     "output_type": "stream",
     "text": [
      "Saved: 2025-09-12 19:23:57,0.15801730751991272,0.019153613597154617,9.926360130310059\n"
     ]
    },
    {
     "name": "stderr",
     "output_type": "stream",
     "text": [
      "ERROR:root:task: mqtt_task raised exception: [WinError 10054] An existing connection was forcibly closed by the remote host.\n",
      "ERROR:root:task: connection_task raised exception: .\n",
      "ERROR:root:task: mqtt_task raised exception: [WinError 10054] An existing connection was forcibly closed by the remote host.\n",
      "ERROR:root:task: connection_task raised exception: .\n"
     ]
    },
    {
     "name": "stdout",
     "output_type": "stream",
     "text": [
      "Saved: 2025-09-12 19:24:04,0.19153612852096558,0.019153613597154617,9.926360130310059\n"
     ]
    },
    {
     "name": "stderr",
     "output_type": "stream",
     "text": [
      "ERROR:root:task: mqtt_task raised exception: [WinError 10054] An existing connection was forcibly closed by the remote host.\n",
      "ERROR:root:task: connection_task raised exception: .\n"
     ]
    },
    {
     "name": "stdout",
     "output_type": "stream",
     "text": [
      "Saved: 2025-09-12 19:24:08,0.19153612852096558,0.019153613597154617,9.926360130310059\n"
     ]
    },
    {
     "name": "stderr",
     "output_type": "stream",
     "text": [
      "ERROR:root:task: mqtt_task raised exception: [WinError 10054] An existing connection was forcibly closed by the remote host.\n",
      "ERROR:root:task: connection_task raised exception: .\n",
      "ERROR:root:task: mqtt_task raised exception: [WinError 10054] An existing connection was forcibly closed by the remote host.\n",
      "ERROR:root:task: connection_task raised exception: .\n"
     ]
    },
    {
     "name": "stdout",
     "output_type": "stream",
     "text": [
      "Saved: 2025-09-12 19:24:14,0.21308395266532898,0.019153613597154617,9.926360130310059\n"
     ]
    },
    {
     "name": "stderr",
     "output_type": "stream",
     "text": [
      "ERROR:root:task: mqtt_task raised exception: [WinError 10054] An existing connection was forcibly closed by the remote host.\n",
      "ERROR:root:task: connection_task raised exception: .\n"
     ]
    },
    {
     "name": "stdout",
     "output_type": "stream",
     "text": [
      "Saved: 2025-09-12 19:24:17,0.19393034279346466,0.019153613597154617,9.926360130310059\n"
     ]
    },
    {
     "name": "stderr",
     "output_type": "stream",
     "text": [
      "ERROR:root:task: mqtt_task raised exception: [WinError 10054] An existing connection was forcibly closed by the remote host.\n",
      "ERROR:root:task: connection_task raised exception: .\n",
      "ERROR:root:task: mqtt_task raised exception: [WinError 10054] An existing connection was forcibly closed by the remote host.\n",
      "ERROR:root:task: connection_task raised exception: .\n",
      "ERROR:root:task: mqtt_task raised exception: [WinError 10054] An existing connection was forcibly closed by the remote host.\n",
      "ERROR:root:task: connection_task raised exception: .\n"
     ]
    },
    {
     "name": "stdout",
     "output_type": "stream",
     "text": [
      "Saved: 2025-09-12 19:24:27,0.18914192914962769,0.019153613597154617,9.926360130310059\n"
     ]
    },
    {
     "name": "stderr",
     "output_type": "stream",
     "text": [
      "ERROR:root:task: mqtt_task raised exception: [WinError 10054] An existing connection was forcibly closed by the remote host.\n",
      "ERROR:root:task: connection_task raised exception: .\n"
     ]
    },
    {
     "name": "stdout",
     "output_type": "stream",
     "text": [
      "Saved: 2025-09-12 19:24:31,0.1843535304069519,0.019153613597154617,9.926360130310059\n"
     ]
    },
    {
     "name": "stderr",
     "output_type": "stream",
     "text": [
      "ERROR:root:task: mqtt_task raised exception: [WinError 10054] An existing connection was forcibly closed by the remote host.\n",
      "ERROR:root:task: connection_task raised exception: .\n",
      "ERROR:root:task: mqtt_task raised exception: [WinError 10054] An existing connection was forcibly closed by the remote host.\n",
      "ERROR:root:task: connection_task raised exception: .\n"
     ]
    },
    {
     "name": "stdout",
     "output_type": "stream",
     "text": [
      "Saved: 2025-09-12 19:24:38,0.1867477297782898,0.019153613597154617,9.926360130310059\n"
     ]
    },
    {
     "name": "stderr",
     "output_type": "stream",
     "text": [
      "ERROR:root:task: mqtt_task raised exception: [WinError 10054] An existing connection was forcibly closed by the remote host.\n",
      "ERROR:root:task: connection_task raised exception: .\n"
     ]
    },
    {
     "name": "stdout",
     "output_type": "stream",
     "text": [
      "Saved: 2025-09-12 19:24:42,0.17956513166427612,0.019153613597154617,9.926360130310059\n"
     ]
    },
    {
     "name": "stderr",
     "output_type": "stream",
     "text": [
      "ERROR:root:task: mqtt_task raised exception: [WinError 10054] An existing connection was forcibly closed by the remote host.\n",
      "ERROR:root:task: connection_task raised exception: .\n",
      "ERROR:root:task: mqtt_task raised exception: [WinError 10054] An existing connection was forcibly closed by the remote host.\n",
      "ERROR:root:task: connection_task raised exception: .\n"
     ]
    },
    {
     "name": "stdout",
     "output_type": "stream",
     "text": [
      "Saved: 2025-09-12 19:24:49,0.19632454216480255,0.019153613597154617,9.926360130310059\n"
     ]
    },
    {
     "name": "stderr",
     "output_type": "stream",
     "text": [
      "ERROR:root:task: mqtt_task raised exception: [WinError 10054] An existing connection was forcibly closed by the remote host.\n",
      "ERROR:root:task: connection_task raised exception: .\n"
     ]
    },
    {
     "name": "stdout",
     "output_type": "stream",
     "text": [
      "Saved: 2025-09-12 19:24:53,0.19632454216480255,0.019153613597154617,9.926360130310059\n"
     ]
    },
    {
     "name": "stderr",
     "output_type": "stream",
     "text": [
      "ERROR:root:task: mqtt_task raised exception: [WinError 10054] An existing connection was forcibly closed by the remote host.\n",
      "ERROR:root:task: connection_task raised exception: .\n",
      "ERROR:root:task: mqtt_task raised exception: [WinError 10054] An existing connection was forcibly closed by the remote host.\n",
      "ERROR:root:task: connection_task raised exception: .\n"
     ]
    },
    {
     "name": "stdout",
     "output_type": "stream",
     "text": [
      "Saved: 2025-09-12 19:25:07,-2.006340980529785,0.019153613597154617,9.926360130310059\n",
      "Saved: 2025-09-12 19:25:08,-2.006340980529785,6.471527099609375,9.926360130310059\n",
      "Saved: 2025-09-12 19:25:09,-2.006340980529785,6.471527099609375,4.548983097076416\n",
      "Saved: 2025-09-12 19:25:11,0.7781155705451965,6.471527099609375,4.548983097076416\n"
     ]
    },
    {
     "name": "stderr",
     "output_type": "stream",
     "text": [
      "ERROR:root:task: mqtt_task raised exception: [WinError 10054] An existing connection was forcibly closed by the remote host.\n",
      "ERROR:root:task: connection_task raised exception: .\n"
     ]
    },
    {
     "name": "stdout",
     "output_type": "stream",
     "text": [
      "Saved: 2025-09-12 19:25:14,1.534683346748352,6.471527099609375,4.548983097076416\n"
     ]
    },
    {
     "name": "stderr",
     "output_type": "stream",
     "text": [
      "ERROR:root:task: mqtt_task raised exception: [WinError 10054] An existing connection was forcibly closed by the remote host.\n",
      "ERROR:root:task: connection_task raised exception: .\n",
      "ERROR:root:task: mqtt_task raised exception: [WinError 10054] An existing connection was forcibly closed by the remote host.\n",
      "ERROR:root:task: connection_task raised exception: .\n",
      "ERROR:root:task: mqtt_task raised exception: [WinError 10054] An existing connection was forcibly closed by the remote host.\n",
      "ERROR:root:task: connection_task raised exception: .\n"
     ]
    },
    {
     "name": "stdout",
     "output_type": "stream",
     "text": [
      "Saved: 2025-09-12 19:25:25,2.7940332889556885,6.471527099609375,4.548983097076416\n"
     ]
    },
    {
     "name": "stderr",
     "output_type": "stream",
     "text": [
      "ERROR:root:task: mqtt_task raised exception: [WinError 10054] An existing connection was forcibly closed by the remote host.\n",
      "ERROR:root:task: connection_task raised exception: .\n"
     ]
    },
    {
     "name": "stdout",
     "output_type": "stream",
     "text": [
      "Saved: 2025-09-12 19:25:28,1.5753847360610962,6.471527099609375,4.548983097076416\n"
     ]
    },
    {
     "name": "stderr",
     "output_type": "stream",
     "text": [
      "ERROR:root:task: mqtt_task raised exception: [WinError 10054] An existing connection was forcibly closed by the remote host.\n",
      "ERROR:root:task: connection_task raised exception: .\n"
     ]
    },
    {
     "name": "stdout",
     "output_type": "stream",
     "text": [
      "Saved: 2025-09-12 19:25:32,-0.47884035110473633,6.471527099609375,4.548983097076416\n"
     ]
    },
    {
     "name": "stderr",
     "output_type": "stream",
     "text": [
      "ERROR:root:task: mqtt_task raised exception: [WinError 10054] An existing connection was forcibly closed by the remote host.\n",
      "ERROR:root:task: connection_task raised exception: .\n",
      "ERROR:root:task: mqtt_task raised exception: [WinError 10054] An existing connection was forcibly closed by the remote host.\n",
      "ERROR:root:task: connection_task raised exception: .\n",
      "ERROR:root:task: mqtt_task raised exception: [WinError 10054] An existing connection was forcibly closed by the remote host.\n",
      "ERROR:root:task: connection_task raised exception: .\n"
     ]
    },
    {
     "name": "stdout",
     "output_type": "stream",
     "text": [
      "Saved: 2025-09-12 19:25:41,-0.8690952062606812,6.471527099609375,4.548983097076416\n"
     ]
    },
    {
     "name": "stderr",
     "output_type": "stream",
     "text": [
      "ERROR:root:task: mqtt_task raised exception: [WinError 10054] An existing connection was forcibly closed by the remote host.\n",
      "ERROR:root:task: connection_task raised exception: .\n",
      "ERROR:root:task: mqtt_task raised exception: [WinError 10054] An existing connection was forcibly closed by the remote host.\n",
      "ERROR:root:task: connection_task raised exception: .\n"
     ]
    },
    {
     "name": "stdout",
     "output_type": "stream",
     "text": [
      "Saved: 2025-09-12 19:25:49,-1.721431016921997,6.471527099609375,4.548983097076416\n"
     ]
    },
    {
     "name": "stderr",
     "output_type": "stream",
     "text": [
      "ERROR:root:task: mqtt_task raised exception: [WinError 10054] An existing connection was forcibly closed by the remote host.\n",
      "ERROR:root:task: connection_task raised exception: .\n"
     ]
    },
    {
     "name": "stdout",
     "output_type": "stream",
     "text": [
      "Saved: 2025-09-12 19:25:52,-1.0079588890075684,6.471527099609375,4.548983097076416\n"
     ]
    },
    {
     "name": "stderr",
     "output_type": "stream",
     "text": [
      "ERROR:root:task: mqtt_task raised exception: [WinError 10054] An existing connection was forcibly closed by the remote host.\n",
      "ERROR:root:task: connection_task raised exception: .\n"
     ]
    },
    {
     "name": "stdout",
     "output_type": "stream",
     "text": [
      "Saved: 2025-09-12 19:25:56,-0.13407529890537262,6.471527099609375,4.548983097076416\n"
     ]
    },
    {
     "name": "stderr",
     "output_type": "stream",
     "text": [
      "ERROR:root:task: mqtt_task raised exception: [WinError 10054] An existing connection was forcibly closed by the remote host.\n",
      "ERROR:root:task: connection_task raised exception: .\n"
     ]
    },
    {
     "name": "stdout",
     "output_type": "stream",
     "text": [
      "Saved: 2025-09-12 19:26:00,-0.7852981686592102,6.471527099609375,4.548983097076416\n"
     ]
    },
    {
     "name": "stderr",
     "output_type": "stream",
     "text": [
      "ERROR:root:task: mqtt_task raised exception: [WinError 10054] An existing connection was forcibly closed by the remote host.\n",
      "ERROR:root:task: connection_task raised exception: .\n"
     ]
    },
    {
     "name": "stdout",
     "output_type": "stream",
     "text": [
      "Saved: 2025-09-12 19:26:04,-0.6512228846549988,6.471527099609375,4.548983097076416\n"
     ]
    },
    {
     "name": "stderr",
     "output_type": "stream",
     "text": [
      "ERROR:root:task: mqtt_task raised exception: [WinError 10054] An existing connection was forcibly closed by the remote host.\n",
      "ERROR:root:task: connection_task raised exception: .\n",
      "ERROR:root:task: mqtt_task raised exception: [WinError 10054] An existing connection was forcibly closed by the remote host.\n",
      "ERROR:root:task: connection_task raised exception: .\n"
     ]
    },
    {
     "name": "stdout",
     "output_type": "stream",
     "text": [
      "Saved: 2025-09-12 19:26:11,-0.7733271718025208,6.471527099609375,4.548983097076416\n"
     ]
    },
    {
     "name": "stderr",
     "output_type": "stream",
     "text": [
      "ERROR:root:task: mqtt_task raised exception: [WinError 10054] An existing connection was forcibly closed by the remote host.\n",
      "ERROR:root:task: connection_task raised exception: .\n"
     ]
    },
    {
     "name": "stdout",
     "output_type": "stream",
     "text": [
      "Saved: 2025-09-12 19:26:15,-0.9385270476341248,6.471527099609375,4.548983097076416\n"
     ]
    },
    {
     "name": "stderr",
     "output_type": "stream",
     "text": [
      "ERROR:root:task: mqtt_task raised exception: [WinError 10054] An existing connection was forcibly closed by the remote host.\n",
      "ERROR:root:task: connection_task raised exception: .\n",
      "ERROR:root:task: mqtt_task raised exception: [WinError 10054] An existing connection was forcibly closed by the remote host.\n",
      "ERROR:root:task: connection_task raised exception: .\n"
     ]
    },
    {
     "name": "stdout",
     "output_type": "stream",
     "text": [
      "Saved: 2025-09-12 19:26:23,0.18914192914962769,6.471527099609375,4.548983097076416\n"
     ]
    },
    {
     "name": "stderr",
     "output_type": "stream",
     "text": [
      "ERROR:root:task: mqtt_task raised exception: [WinError 10054] An existing connection was forcibly closed by the remote host.\n",
      "ERROR:root:task: connection_task raised exception: .\n"
     ]
    },
    {
     "name": "stdout",
     "output_type": "stream",
     "text": [
      "Saved: 2025-09-12 19:26:26,0.18914192914962769,6.471527099609375,4.548983097076416\n"
     ]
    },
    {
     "name": "stderr",
     "output_type": "stream",
     "text": [
      "ERROR:root:task: mqtt_task raised exception: [WinError 10054] An existing connection was forcibly closed by the remote host.\n",
      "ERROR:root:task: connection_task raised exception: .\n"
     ]
    },
    {
     "name": "stdout",
     "output_type": "stream",
     "text": [
      "Saved: 2025-09-12 19:26:29,0.19393034279346466,6.471527099609375,4.548983097076416\n",
      "Saved: 2025-09-12 19:26:30,0.19393034279346466,0.038307227194309235,4.548983097076416\n"
     ]
    },
    {
     "name": "stderr",
     "output_type": "stream",
     "text": [
      "ERROR:root:task: mqtt_task raised exception: [WinError 10054] An existing connection was forcibly closed by the remote host.\n",
      "ERROR:root:task: connection_task raised exception: .\n"
     ]
    },
    {
     "name": "stdout",
     "output_type": "stream",
     "text": [
      "Saved: 2025-09-12 19:26:34,0.17238251864910126,0.038307227194309235,4.548983097076416\n"
     ]
    },
    {
     "name": "stderr",
     "output_type": "stream",
     "text": [
      "ERROR:root:task: mqtt_task raised exception: [WinError 10054] An existing connection was forcibly closed by the remote host.\n",
      "ERROR:root:task: connection_task raised exception: .\n"
     ]
    },
    {
     "name": "stdout",
     "output_type": "stream",
     "text": [
      "Saved: 2025-09-12 19:26:38,0.17717093229293823,0.038307227194309235,4.548983097076416\n"
     ]
    },
    {
     "name": "stderr",
     "output_type": "stream",
     "text": [
      "ERROR:root:task: mqtt_task raised exception: [WinError 10054] An existing connection was forcibly closed by the remote host.\n",
      "ERROR:root:task: connection_task raised exception: .\n",
      "ERROR:root:task: mqtt_task raised exception: [WinError 10054] An existing connection was forcibly closed by the remote host.\n",
      "ERROR:root:task: connection_task raised exception: .\n"
     ]
    },
    {
     "name": "stdout",
     "output_type": "stream",
     "text": [
      "Saved: 2025-09-12 19:26:45,0.1867477297782898,0.038307227194309235,4.548983097076416\n",
      "Saved: 2025-09-12 19:26:46,0.1867477297782898,0.040701430290937424,4.548983097076416\n"
     ]
    },
    {
     "name": "stderr",
     "output_type": "stream",
     "text": [
      "ERROR:root:task: mqtt_task raised exception: [WinError 10054] An existing connection was forcibly closed by the remote host.\n",
      "ERROR:root:task: connection_task raised exception: .\n"
     ]
    },
    {
     "name": "stdout",
     "output_type": "stream",
     "text": [
      "Saved: 2025-09-12 19:26:50,0.1867477297782898,0.040701430290937424,4.548983097076416\n"
     ]
    },
    {
     "name": "stderr",
     "output_type": "stream",
     "text": [
      "ERROR:root:task: mqtt_task raised exception: [WinError 10054] An existing connection was forcibly closed by the remote host.\n",
      "ERROR:root:task: connection_task raised exception: .\n",
      "ERROR:root:task: mqtt_task raised exception: [WinError 10054] An existing connection was forcibly closed by the remote host.\n",
      "ERROR:root:task: connection_task raised exception: .\n"
     ]
    },
    {
     "name": "stdout",
     "output_type": "stream",
     "text": [
      "Saved: 2025-09-12 19:26:57,2.894589900970459,0.040701430290937424,4.548983097076416\n"
     ]
    },
    {
     "name": "stderr",
     "output_type": "stream",
     "text": [
      "ERROR:root:task: mqtt_task raised exception: [WinError 10054] An existing connection was forcibly closed by the remote host.\n",
      "ERROR:root:task: connection_task raised exception: .\n"
     ]
    },
    {
     "name": "stdout",
     "output_type": "stream",
     "text": [
      "Saved: 2025-09-12 19:27:01,1.7118542194366455,0.040701430290937424,4.548983097076416\n"
     ]
    },
    {
     "name": "stderr",
     "output_type": "stream",
     "text": [
      "ERROR:root:task: mqtt_task raised exception: [WinError 10054] An existing connection was forcibly closed by the remote host.\n",
      "ERROR:root:task: connection_task raised exception: .\n",
      "ERROR:root:task: mqtt_task raised exception: [WinError 10054] An existing connection was forcibly closed by the remote host.\n",
      "ERROR:root:task: connection_task raised exception: .\n"
     ]
    },
    {
     "name": "stdout",
     "output_type": "stream",
     "text": [
      "Saved: 2025-09-12 19:27:08,6.8593878746032715,0.040701430290937424,4.548983097076416\n"
     ]
    },
    {
     "name": "stderr",
     "output_type": "stream",
     "text": [
      "ERROR:root:task: mqtt_task raised exception: [WinError 10054] An existing connection was forcibly closed by the remote host.\n",
      "ERROR:root:task: connection_task raised exception: .\n"
     ]
    },
    {
     "name": "stdout",
     "output_type": "stream",
     "text": [
      "Saved: 2025-09-12 19:27:12,6.933608055114746,0.040701430290937424,4.548983097076416\n"
     ]
    },
    {
     "name": "stderr",
     "output_type": "stream",
     "text": [
      "ERROR:root:task: mqtt_task raised exception: [WinError 10054] An existing connection was forcibly closed by the remote host.\n",
      "ERROR:root:task: connection_task raised exception: .\n",
      "ERROR:root:task: mqtt_task raised exception: [WinError 10054] An existing connection was forcibly closed by the remote host.\n",
      "ERROR:root:task: connection_task raised exception: .\n"
     ]
    },
    {
     "name": "stdout",
     "output_type": "stream",
     "text": [
      "Saved: 2025-09-12 19:27:20,1.7334020137786865,0.040701430290937424,4.548983097076416\n"
     ]
    },
    {
     "name": "stderr",
     "output_type": "stream",
     "text": [
      "ERROR:root:task: mqtt_task raised exception: [WinError 10054] An existing connection was forcibly closed by the remote host.\n",
      "ERROR:root:task: connection_task raised exception: .\n"
     ]
    },
    {
     "name": "stdout",
     "output_type": "stream",
     "text": [
      "Saved: 2025-09-12 19:27:23,0.6703764796257019,0.040701430290937424,4.548983097076416\n",
      "Creating visualizations...\n"
     ]
    },
    {
     "name": "stderr",
     "output_type": "stream",
     "text": [
      "ERROR:root:task: mqtt_task raised exception: [WinError 10054] An existing connection was forcibly closed by the remote host.\n"
     ]
    },
    {
     "name": "stdout",
     "output_type": "stream",
     "text": [
      "Visualizations saved as 'accelerometer_analysis.png'\n",
      "Analyzing patterns...\n",
      "X-axis: 24 peaks, average interval: 8.35 samples\n",
      "Y-axis: 4 peaks, average interval: 49.33 samples\n",
      "Pattern analysis saved as 'pattern_analysis.txt'\n"
     ]
    },
    {
     "name": "stderr",
     "output_type": "stream",
     "text": [
      "ERROR:root:task: connection_task raised exception: .\n",
      "ERROR:root:task: mqtt_task raised exception: [WinError 10054] An existing connection was forcibly closed by the remote host.\n",
      "ERROR:root:task: connection_task raised exception: .\n"
     ]
    },
    {
     "name": "stdout",
     "output_type": "stream",
     "text": [
      "Saved: 2025-09-12 19:27:31,-0.8619126081466675,0.040701430290937424,4.548983097076416\n"
     ]
    },
    {
     "name": "stderr",
     "output_type": "stream",
     "text": [
      "ERROR:root:task: mqtt_task raised exception: [WinError 10054] An existing connection was forcibly closed by the remote host.\n",
      "ERROR:root:task: connection_task raised exception: .\n"
     ]
    },
    {
     "name": "stdout",
     "output_type": "stream",
     "text": [
      "Saved: 2025-09-12 19:27:35,4.223371982574463,0.040701430290937424,4.548983097076416\n"
     ]
    },
    {
     "name": "stderr",
     "output_type": "stream",
     "text": [
      "ERROR:root:task: mqtt_task raised exception: [WinError 10054] An existing connection was forcibly closed by the remote host.\n",
      "ERROR:root:task: connection_task raised exception: .\n"
     ]
    },
    {
     "name": "stdout",
     "output_type": "stream",
     "text": [
      "Saved: 2025-09-12 19:27:39,1.2306196689605713,0.040701430290937424,4.548983097076416\n"
     ]
    },
    {
     "name": "stderr",
     "output_type": "stream",
     "text": [
      "ERROR:root:task: mqtt_task raised exception: [WinError 10054] An existing connection was forcibly closed by the remote host.\n",
      "ERROR:root:task: connection_task raised exception: .\n"
     ]
    },
    {
     "name": "stdout",
     "output_type": "stream",
     "text": [
      "Saved: 2025-09-12 19:27:42,-1.9081788063049316,0.040701430290937424,4.548983097076416\n"
     ]
    },
    {
     "name": "stderr",
     "output_type": "stream",
     "text": [
      "ERROR:root:task: mqtt_task raised exception: [WinError 10054] An existing connection was forcibly closed by the remote host.\n",
      "ERROR:root:task: connection_task raised exception: .\n"
     ]
    },
    {
     "name": "stdout",
     "output_type": "stream",
     "text": [
      "Saved: 2025-09-12 19:27:46,-0.40701428055763245,0.040701430290937424,4.548983097076416\n"
     ]
    },
    {
     "name": "stderr",
     "output_type": "stream",
     "text": [
      "ERROR:root:task: mqtt_task raised exception: [WinError 10054] An existing connection was forcibly closed by the remote host.\n",
      "ERROR:root:task: connection_task raised exception: .\n",
      "ERROR:root:task: mqtt_task raised exception: [WinError 10054] An existing connection was forcibly closed by the remote host.\n",
      "ERROR:root:task: connection_task raised exception: .\n"
     ]
    },
    {
     "name": "stdout",
     "output_type": "stream",
     "text": [
      "Saved: 2025-09-12 19:27:54,-0.06703764945268631,0.040701430290937424,4.548983097076416\n"
     ]
    },
    {
     "name": "stderr",
     "output_type": "stream",
     "text": [
      "ERROR:root:task: mqtt_task raised exception: [WinError 10054] An existing connection was forcibly closed by the remote host.\n",
      "ERROR:root:task: connection_task raised exception: .\n"
     ]
    },
    {
     "name": "stdout",
     "output_type": "stream",
     "text": [
      "Saved: 2025-09-12 19:27:57,-3.576937437057495,0.040701430290937424,4.548983097076416\n"
     ]
    },
    {
     "name": "stderr",
     "output_type": "stream",
     "text": [
      "ERROR:root:task: mqtt_task raised exception: [WinError 10054] An existing connection was forcibly closed by the remote host.\n",
      "ERROR:root:task: connection_task raised exception: .\n",
      "ERROR:root:task: mqtt_task raised exception: [WinError 10054] An existing connection was forcibly closed by the remote host.\n",
      "ERROR:root:task: connection_task raised exception: .\n"
     ]
    },
    {
     "name": "stdout",
     "output_type": "stream",
     "text": [
      "Saved: 2025-09-12 19:28:05,19.474435806274414,0.040701430290937424,4.548983097076416\n"
     ]
    },
    {
     "name": "stderr",
     "output_type": "stream",
     "text": [
      "ERROR:root:task: mqtt_task raised exception: [WinError 10054] An existing connection was forcibly closed by the remote host.\n",
      "ERROR:root:task: connection_task raised exception: .\n"
     ]
    },
    {
     "name": "stdout",
     "output_type": "stream",
     "text": [
      "Saved: 2025-09-12 19:28:09,16.745046615600586,0.040701430290937424,4.548983097076416\n"
     ]
    },
    {
     "name": "stderr",
     "output_type": "stream",
     "text": [
      "ERROR:root:task: mqtt_task raised exception: [WinError 10054] An existing connection was forcibly closed by the remote host.\n",
      "ERROR:root:task: connection_task raised exception: .\n",
      "ERROR:root:task: mqtt_task raised exception: [WinError 10054] An existing connection was forcibly closed by the remote host.\n",
      "ERROR:root:task: connection_task raised exception: .\n"
     ]
    },
    {
     "name": "stdout",
     "output_type": "stream",
     "text": [
      "Saved: 2025-09-12 19:28:17,-9.167398452758789,0.040701430290937424,4.548983097076416\n"
     ]
    },
    {
     "name": "stderr",
     "output_type": "stream",
     "text": [
      "ERROR:root:task: mqtt_task raised exception: [WinError 10054] An existing connection was forcibly closed by the remote host.\n",
      "ERROR:root:task: connection_task raised exception: .\n"
     ]
    },
    {
     "name": "stdout",
     "output_type": "stream",
     "text": [
      "Saved: 2025-09-12 19:28:21,0.16759411990642548,0.040701430290937424,4.548983097076416\n"
     ]
    },
    {
     "name": "stderr",
     "output_type": "stream",
     "text": [
      "ERROR:root:task: mqtt_task raised exception: [WinError 10054] An existing connection was forcibly closed by the remote host.\n",
      "ERROR:root:task: connection_task raised exception: .\n"
     ]
    },
    {
     "name": "stdout",
     "output_type": "stream",
     "text": [
      "Saved: 2025-09-12 19:28:24,0.17238251864910126,0.040701430290937424,4.548983097076416\n",
      "Saved: 2025-09-12 19:28:25,0.17238251864910126,0.011971008032560349,4.548983097076416\n"
     ]
    },
    {
     "name": "stderr",
     "output_type": "stream",
     "text": [
      "ERROR:root:task: mqtt_task raised exception: [WinError 10054] An existing connection was forcibly closed by the remote host.\n",
      "ERROR:root:task: connection_task raised exception: .\n"
     ]
    },
    {
     "name": "stdout",
     "output_type": "stream",
     "text": [
      "Saved: 2025-09-12 19:28:28,0.20111294090747833,0.011971008032560349,4.548983097076416\n"
     ]
    },
    {
     "name": "stderr",
     "output_type": "stream",
     "text": [
      "ERROR:root:task: mqtt_task raised exception: [WinError 10054] An existing connection was forcibly closed by the remote host.\n",
      "ERROR:root:task: connection_task raised exception: .\n"
     ]
    },
    {
     "name": "stdout",
     "output_type": "stream",
     "text": [
      "Saved: 2025-09-12 19:28:32,0.19153612852096558,0.011971008032560349,4.548983097076416\n"
     ]
    },
    {
     "name": "stderr",
     "output_type": "stream",
     "text": [
      "ERROR:root:task: mqtt_task raised exception: [WinError 10054] An existing connection was forcibly closed by the remote host.\n",
      "ERROR:root:task: connection_task raised exception: .\n",
      "ERROR:root:task: mqtt_task raised exception: [WinError 10054] An existing connection was forcibly closed by the remote host.\n",
      "ERROR:root:task: connection_task raised exception: .\n"
     ]
    },
    {
     "name": "stdout",
     "output_type": "stream",
     "text": [
      "Saved: 2025-09-12 19:28:40,0.19153612852096558,0.038307227194309235,4.548983097076416\n"
     ]
    },
    {
     "name": "stderr",
     "output_type": "stream",
     "text": [
      "ERROR:root:task: mqtt_task raised exception: [WinError 10054] An existing connection was forcibly closed by the remote host.\n",
      "ERROR:root:task: connection_task raised exception: .\n"
     ]
    },
    {
     "name": "stdout",
     "output_type": "stream",
     "text": [
      "Saved: 2025-09-12 19:28:44,0.16759411990642548,0.038307227194309235,4.548983097076416\n"
     ]
    },
    {
     "name": "stderr",
     "output_type": "stream",
     "text": [
      "ERROR:root:task: mqtt_task raised exception: [WinError 10054] An existing connection was forcibly closed by the remote host.\n",
      "ERROR:root:task: connection_task raised exception: .\n",
      "ERROR:root:task: mqtt_task raised exception: [WinError 10054] An existing connection was forcibly closed by the remote host.\n",
      "ERROR:root:task: connection_task raised exception: .\n",
      "ERROR:root:task: mqtt_task raised exception: [WinError 10054] An existing connection was forcibly closed by the remote host.\n",
      "ERROR:root:task: connection_task raised exception: .\n"
     ]
    },
    {
     "name": "stdout",
     "output_type": "stream",
     "text": [
      "Saved: 2025-09-12 19:28:54,-4.022258758544922,0.038307227194309235,4.548983097076416\n",
      "Saved: 2025-09-12 19:28:55,-4.022258758544922,1.216254472732544,4.548983097076416\n"
     ]
    },
    {
     "name": "stderr",
     "output_type": "stream",
     "text": [
      "ERROR:root:task: mqtt_task raised exception: [WinError 10054] An existing connection was forcibly closed by the remote host.\n",
      "ERROR:root:task: connection_task raised exception: .\n"
     ]
    },
    {
     "name": "stdout",
     "output_type": "stream",
     "text": [
      "Saved: 2025-09-12 19:28:58,4.790797710418701,1.216254472732544,4.548983097076416\n"
     ]
    },
    {
     "name": "stderr",
     "output_type": "stream",
     "text": [
      "ERROR:root:task: mqtt_task raised exception: [WinError 10054] An existing connection was forcibly closed by the remote host.\n",
      "ERROR:root:task: connection_task raised exception: .\n",
      "ERROR:root:task: mqtt_task raised exception: [WinError 10054] An existing connection was forcibly closed by the remote host.\n",
      "ERROR:root:task: connection_task raised exception: .\n",
      "ERROR:root:task: mqtt_task raised exception: [WinError 10054] An existing connection was forcibly closed by the remote host.\n",
      "ERROR:root:task: connection_task raised exception: .\n"
     ]
    },
    {
     "name": "stdout",
     "output_type": "stream",
     "text": [
      "Saved: 2025-09-12 19:29:08,-2.3080103397369385,1.216254472732544,4.548983097076416\n"
     ]
    },
    {
     "name": "stderr",
     "output_type": "stream",
     "text": [
      "ERROR:root:task: mqtt_task raised exception: [WinError 10054] An existing connection was forcibly closed by the remote host.\n",
      "ERROR:root:task: connection_task raised exception: .\n",
      "ERROR:root:task: mqtt_task raised exception: [WinError 10054] An existing connection was forcibly closed by the remote host.\n",
      "ERROR:root:task: connection_task raised exception: .\n"
     ]
    },
    {
     "name": "stdout",
     "output_type": "stream",
     "text": [
      "Saved: 2025-09-12 19:29:16,-2.5689783096313477,1.216254472732544,4.548983097076416\n"
     ]
    },
    {
     "name": "stderr",
     "output_type": "stream",
     "text": [
      "ERROR:root:task: mqtt_task raised exception: [WinError 10054] An existing connection was forcibly closed by the remote host.\n",
      "ERROR:root:task: connection_task raised exception: .\n",
      "ERROR:root:task: mqtt_task raised exception: [WinError 10054] An existing connection was forcibly closed by the remote host.\n",
      "ERROR:root:task: connection_task raised exception: .\n"
     ]
    },
    {
     "name": "stdout",
     "output_type": "stream",
     "text": [
      "Saved: 2025-09-12 19:29:22,0.19153612852096558,1.216254472732544,4.548983097076416\n"
     ]
    },
    {
     "name": "stderr",
     "output_type": "stream",
     "text": [
      "ERROR:root:task: mqtt_task raised exception: [WinError 10054] An existing connection was forcibly closed by the remote host.\n",
      "ERROR:root:task: connection_task raised exception: .\n"
     ]
    },
    {
     "name": "stdout",
     "output_type": "stream",
     "text": [
      "Saved: 2025-09-12 19:29:26,0.1604115068912506,1.216254472732544,4.548983097076416\n"
     ]
    },
    {
     "name": "stderr",
     "output_type": "stream",
     "text": [
      "ERROR:root:task: mqtt_task raised exception: [WinError 10054] An existing connection was forcibly closed by the remote host.\n",
      "ERROR:root:task: connection_task raised exception: .\n"
     ]
    },
    {
     "name": "stdout",
     "output_type": "stream",
     "text": [
      "Saved: 2025-09-12 19:29:30,0.17477671802043915,1.216254472732544,4.548983097076416\n"
     ]
    },
    {
     "name": "stderr",
     "output_type": "stream",
     "text": [
      "ERROR:root:task: mqtt_task raised exception: [WinError 10054] An existing connection was forcibly closed by the remote host.\n",
      "ERROR:root:task: connection_task raised exception: .\n",
      "ERROR:root:task: mqtt_task raised exception: [WinError 10054] An existing connection was forcibly closed by the remote host.\n",
      "ERROR:root:task: connection_task raised exception: .\n"
     ]
    },
    {
     "name": "stdout",
     "output_type": "stream",
     "text": [
      "Saved: 2025-09-12 19:29:38,0.181959331035614,1.216254472732544,4.548983097076416\n"
     ]
    },
    {
     "name": "stderr",
     "output_type": "stream",
     "text": [
      "ERROR:root:task: mqtt_task raised exception: [WinError 10054] An existing connection was forcibly closed by the remote host.\n",
      "ERROR:root:task: connection_task raised exception: .\n"
     ]
    },
    {
     "name": "stdout",
     "output_type": "stream",
     "text": [
      "Saved: 2025-09-12 19:29:42,-2.5282769203186035,1.216254472732544,4.548983097076416\n"
     ]
    },
    {
     "name": "stderr",
     "output_type": "stream",
     "text": [
      "ERROR:root:task: mqtt_task raised exception: [WinError 10054] An existing connection was forcibly closed by the remote host.\n",
      "ERROR:root:task: connection_task raised exception: .\n"
     ]
    },
    {
     "name": "stdout",
     "output_type": "stream",
     "text": [
      "Saved: 2025-09-12 19:29:45,-0.3687070608139038,1.216254472732544,4.548983097076416\n",
      "Saved: 2025-09-12 19:29:46,-0.3687070608139038,0.1364694982767105,4.548983097076416\n"
     ]
    },
    {
     "name": "stderr",
     "output_type": "stream",
     "text": [
      "ERROR:root:task: mqtt_task raised exception: [WinError 10054] An existing connection was forcibly closed by the remote host.\n",
      "ERROR:root:task: connection_task raised exception: .\n"
     ]
    },
    {
     "name": "stdout",
     "output_type": "stream",
     "text": [
      "Saved: 2025-09-12 19:29:49,0.19871874153614044,0.1364694982767105,4.548983097076416\n"
     ]
    },
    {
     "name": "stderr",
     "output_type": "stream",
     "text": [
      "ERROR:root:task: mqtt_task raised exception: [WinError 10054] An existing connection was forcibly closed by the remote host.\n",
      "ERROR:root:task: connection_task raised exception: .\n"
     ]
    },
    {
     "name": "stdout",
     "output_type": "stream",
     "text": [
      "Saved: 2025-09-12 19:29:53,0.22505496442317963,0.1364694982767105,4.548983097076416\n"
     ]
    },
    {
     "name": "stderr",
     "output_type": "stream",
     "text": [
      "ERROR:root:task: mqtt_task raised exception: [WinError 10054] An existing connection was forcibly closed by the remote host.\n",
      "ERROR:root:task: connection_task raised exception: .\n",
      "ERROR:root:task: mqtt_task raised exception: [WinError 10054] An existing connection was forcibly closed by the remote host.\n",
      "ERROR:root:task: connection_task raised exception: .\n"
     ]
    },
    {
     "name": "stdout",
     "output_type": "stream",
     "text": [
      "Saved: 2025-09-12 19:30:00,0.2082955539226532,0.1364694982767105,4.548983097076416\n"
     ]
    },
    {
     "name": "stderr",
     "output_type": "stream",
     "text": [
      "ERROR:root:task: mqtt_task raised exception: [WinError 10054] An existing connection was forcibly closed by the remote host.\n",
      "ERROR:root:task: connection_task raised exception: .\n",
      "ERROR:root:task: mqtt_task raised exception: [WinError 10054] An existing connection was forcibly closed by the remote host.\n",
      "ERROR:root:task: connection_task raised exception: .\n",
      "ERROR:root:task: mqtt_task raised exception: [WinError 10054] An existing connection was forcibly closed by the remote host.\n",
      "ERROR:root:task: connection_task raised exception: .\n",
      "ERROR:root:task: mqtt_task raised exception: [WinError 10054] An existing connection was forcibly closed by the remote host.\n",
      "ERROR:root:task: connection_task raised exception: .\n",
      "ERROR:root:task: mqtt_task raised exception: [WinError 10054] An existing connection was forcibly closed by the remote host.\n",
      "ERROR:root:task: connection_task raised exception: .\n"
     ]
    },
    {
     "name": "stdout",
     "output_type": "stream",
     "text": [
      "Saved: 2025-09-12 19:30:15,0.19153612852096558,0.1364694982767105,4.548983097076416\n"
     ]
    },
    {
     "name": "stderr",
     "output_type": "stream",
     "text": [
      "ERROR:root:task: mqtt_task raised exception: [WinError 10054] An existing connection was forcibly closed by the remote host.\n",
      "ERROR:root:task: connection_task raised exception: .\n",
      "ERROR:root:task: mqtt_task raised exception: [WinError 10054] An existing connection was forcibly closed by the remote host.\n",
      "ERROR:root:task: connection_task raised exception: .\n",
      "ERROR:root:task: mqtt_task raised exception: [WinError 10054] An existing connection was forcibly closed by the remote host.\n",
      "ERROR:root:task: connection_task raised exception: .\n"
     ]
    },
    {
     "name": "stdout",
     "output_type": "stream",
     "text": [
      "Saved: 2025-09-12 19:30:24,0.20350714027881622,0.1364694982767105,4.548983097076416\n"
     ]
    },
    {
     "name": "stderr",
     "output_type": "stream",
     "text": [
      "ERROR:root:task: mqtt_task raised exception: [WinError 10054] An existing connection was forcibly closed by the remote host.\n",
      "ERROR:root:task: connection_task raised exception: .\n"
     ]
    },
    {
     "name": "stdout",
     "output_type": "stream",
     "text": [
      "Saved: 2025-09-12 19:30:28,0.21547815203666687,0.1364694982767105,4.548983097076416\n"
     ]
    },
    {
     "name": "stderr",
     "output_type": "stream",
     "text": [
      "ERROR:root:task: mqtt_task raised exception: [WinError 10054] An existing connection was forcibly closed by the remote host.\n",
      "ERROR:root:task: connection_task raised exception: .\n",
      "ERROR:root:task: mqtt_task raised exception: [WinError 10054] An existing connection was forcibly closed by the remote host.\n",
      "ERROR:root:task: connection_task raised exception: .\n"
     ]
    },
    {
     "name": "stdout",
     "output_type": "stream",
     "text": [
      "Saved: 2025-09-12 19:30:35,0.2322375625371933,0.1364694982767105,4.548983097076416\n"
     ]
    },
    {
     "name": "stderr",
     "output_type": "stream",
     "text": [
      "ERROR:root:task: mqtt_task raised exception: [WinError 10054] An existing connection was forcibly closed by the remote host.\n",
      "ERROR:root:task: connection_task raised exception: .\n",
      "ERROR:root:task: mqtt_task raised exception: [WinError 10054] An existing connection was forcibly closed by the remote host.\n",
      "ERROR:root:task: connection_task raised exception: .\n",
      "ERROR:root:task: mqtt_task raised exception: [WinError 10054] An existing connection was forcibly closed by the remote host.\n",
      "ERROR:root:task: connection_task raised exception: .\n",
      "ERROR:root:task: mqtt_task raised exception: [WinError 10054] An existing connection was forcibly closed by the remote host.\n",
      "ERROR:root:task: connection_task raised exception: .\n",
      "ERROR:root:task: mqtt_task raised exception: [WinError 10054] An existing connection was forcibly closed by the remote host.\n",
      "ERROR:root:task: connection_task raised exception: .\n"
     ]
    },
    {
     "name": "stdout",
     "output_type": "stream",
     "text": [
      "Saved: 2025-09-12 19:30:50,0.20111294090747833,0.1364694982767105,4.548983097076416\n"
     ]
    },
    {
     "name": "stderr",
     "output_type": "stream",
     "text": [
      "ERROR:root:task: mqtt_task raised exception: [WinError 10054] An existing connection was forcibly closed by the remote host.\n",
      "ERROR:root:task: connection_task raised exception: .\n"
     ]
    },
    {
     "name": "stdout",
     "output_type": "stream",
     "text": [
      "Saved: 2025-09-12 19:30:54,0.21787235140800476,0.1364694982767105,4.548983097076416\n"
     ]
    },
    {
     "name": "stderr",
     "output_type": "stream",
     "text": [
      "ERROR:root:task: mqtt_task raised exception: [WinError 10054] An existing connection was forcibly closed by the remote host.\n",
      "ERROR:root:task: connection_task raised exception: .\n"
     ]
    },
    {
     "name": "stdout",
     "output_type": "stream",
     "text": [
      "Saved: 2025-09-12 19:30:58,0.20111294090747833,0.1364694982767105,4.548983097076416\n"
     ]
    },
    {
     "name": "stderr",
     "output_type": "stream",
     "text": [
      "ERROR:root:task: mqtt_task raised exception: [WinError 10054] An existing connection was forcibly closed by the remote host.\n",
      "ERROR:root:task: connection_task raised exception: .\n"
     ]
    },
    {
     "name": "stdout",
     "output_type": "stream",
     "text": [
      "Saved: 2025-09-12 19:31:02,0.20111294090747833,0.038307227194309235,4.548983097076416\n"
     ]
    },
    {
     "name": "stderr",
     "output_type": "stream",
     "text": [
      "ERROR:root:task: mqtt_task raised exception: [WinError 10054] An existing connection was forcibly closed by the remote host.\n",
      "ERROR:root:task: connection_task raised exception: .\n"
     ]
    },
    {
     "name": "stdout",
     "output_type": "stream",
     "text": [
      "Saved: 2025-09-12 19:31:05,0.1843535304069519,0.038307227194309235,4.548983097076416\n"
     ]
    },
    {
     "name": "stderr",
     "output_type": "stream",
     "text": [
      "ERROR:root:task: mqtt_task raised exception: [WinError 10054] An existing connection was forcibly closed by the remote host.\n",
      "ERROR:root:task: connection_task raised exception: .\n"
     ]
    },
    {
     "name": "stdout",
     "output_type": "stream",
     "text": [
      "Saved: 2025-09-12 19:31:09,0.2082955539226532,0.038307227194309235,4.548983097076416\n"
     ]
    },
    {
     "name": "stderr",
     "output_type": "stream",
     "text": [
      "ERROR:root:task: mqtt_task raised exception: [WinError 10054] An existing connection was forcibly closed by the remote host.\n",
      "ERROR:root:task: connection_task raised exception: .\n"
     ]
    },
    {
     "name": "stdout",
     "output_type": "stream",
     "text": [
      "Saved: 2025-09-12 19:31:13,0.20350714027881622,0.038307227194309235,4.548983097076416\n"
     ]
    },
    {
     "name": "stderr",
     "output_type": "stream",
     "text": [
      "ERROR:root:task: mqtt_task raised exception: [WinError 10054] An existing connection was forcibly closed by the remote host.\n",
      "ERROR:root:task: connection_task raised exception: .\n",
      "ERROR:root:task: mqtt_task raised exception: [WinError 10054] An existing connection was forcibly closed by the remote host.\n",
      "ERROR:root:task: connection_task raised exception: .\n",
      "ERROR:root:task: mqtt_task raised exception: [WinError 10054] An existing connection was forcibly closed by the remote host.\n",
      "ERROR:root:task: connection_task raised exception: .\n",
      "ERROR:root:task: mqtt_task raised exception: [WinError 10054] An existing connection was forcibly closed by the remote host.\n",
      "ERROR:root:task: connection_task raised exception: .\n",
      "ERROR:root:task: mqtt_task raised exception: [WinError 10054] An existing connection was forcibly closed by the remote host.\n",
      "ERROR:root:task: connection_task raised exception: .\n",
      "ERROR:root:task: mqtt_task raised exception: [WinError 10054] An existing connection was forcibly closed by the remote host.\n",
      "ERROR:root:task: connection_task raised exception: .\n",
      "ERROR:root:task: mqtt_task raised exception: [WinError 10054] An existing connection was forcibly closed by the remote host.\n",
      "ERROR:root:task: connection_task raised exception: .\n",
      "ERROR:root:task: mqtt_task raised exception: [WinError 10054] An existing connection was forcibly closed by the remote host.\n",
      "ERROR:root:task: connection_task raised exception: .\n"
     ]
    },
    {
     "name": "stdout",
     "output_type": "stream",
     "text": [
      "Saved: 2025-09-12 19:31:36,-1.3694833517074585,0.038307227194309235,4.548983097076416\n"
     ]
    },
    {
     "name": "stderr",
     "output_type": "stream",
     "text": [
      "ERROR:root:task: mqtt_task raised exception: [WinError 10054] An existing connection was forcibly closed by the remote host.\n",
      "ERROR:root:task: connection_task raised exception: .\n",
      "ERROR:root:task: mqtt_task raised exception: [WinError 10054] An existing connection was forcibly closed by the remote host.\n",
      "ERROR:root:task: connection_task raised exception: .\n",
      "ERROR:root:task: mqtt_task raised exception: [WinError 10054] An existing connection was forcibly closed by the remote host.\n",
      "ERROR:root:task: connection_task raised exception: .\n",
      "ERROR:root:task: mqtt_task raised exception: [WinError 10054] An existing connection was forcibly closed by the remote host.\n",
      "ERROR:root:task: connection_task raised exception: .\n",
      "ERROR:root:task: mqtt_task raised exception: [WinError 10054] An existing connection was forcibly closed by the remote host.\n",
      "ERROR:root:task: connection_task raised exception: .\n",
      "ERROR:root:task: mqtt_task raised exception: [WinError 10054] An existing connection was forcibly closed by the remote host.\n",
      "ERROR:root:task: connection_task raised exception: .\n"
     ]
    },
    {
     "name": "stdout",
     "output_type": "stream",
     "text": [
      "Saved: 2025-09-12 19:31:54,9.047688484191895,0.038307227194309235,4.548983097076416\n"
     ]
    },
    {
     "name": "stderr",
     "output_type": "stream",
     "text": [
      "ERROR:root:task: mqtt_task raised exception: [WinError 10054] An existing connection was forcibly closed by the remote host.\n",
      "ERROR:root:task: connection_task raised exception: .\n",
      "ERROR:root:task: mqtt_task raised exception: [WinError 10054] An existing connection was forcibly closed by the remote host.\n",
      "ERROR:root:task: connection_task raised exception: .\n",
      "ERROR:root:task: mqtt_task raised exception: [WinError 10054] An existing connection was forcibly closed by the remote host.\n",
      "ERROR:root:task: connection_task raised exception: .\n",
      "ERROR:root:task: mqtt_task raised exception: [WinError 10054] An existing connection was forcibly closed by the remote host.\n",
      "ERROR:root:task: connection_task raised exception: .\n"
     ]
    },
    {
     "name": "stdout",
     "output_type": "stream",
     "text": [
      "Saved: 2025-09-12 19:32:07,-5.940014362335205,0.038307227194309235,4.548983097076416\n"
     ]
    },
    {
     "name": "stderr",
     "output_type": "stream",
     "text": [
      "ERROR:root:task: mqtt_task raised exception: [WinError 10054] An existing connection was forcibly closed by the remote host.\n",
      "ERROR:root:task: connection_task raised exception: .\n",
      "ERROR:root:task: mqtt_task raised exception: [WinError 10054] An existing connection was forcibly closed by the remote host.\n",
      "ERROR:root:task: connection_task raised exception: .\n",
      "ERROR:root:task: mqtt_task raised exception: [WinError 10054] An existing connection was forcibly closed by the remote host.\n",
      "ERROR:root:task: connection_task raised exception: .\n",
      "ERROR:root:task: mqtt_task raised exception: [WinError 10054] An existing connection was forcibly closed by the remote host.\n",
      "ERROR:root:task: connection_task raised exception: .\n"
     ]
    },
    {
     "name": "stdout",
     "output_type": "stream",
     "text": [
      "Saved: 2025-09-12 19:32:19,-3.375824451446533,0.038307227194309235,4.548983097076416\n"
     ]
    },
    {
     "name": "stderr",
     "output_type": "stream",
     "text": [
      "ERROR:root:task: mqtt_task raised exception: [WinError 10054] An existing connection was forcibly closed by the remote host.\n",
      "ERROR:root:task: connection_task raised exception: .\n",
      "ERROR:root:task: mqtt_task raised exception: [WinError 10054] An existing connection was forcibly closed by the remote host.\n",
      "ERROR:root:task: connection_task raised exception: .\n",
      "ERROR:root:task: mqtt_task raised exception: [WinError 10054] An existing connection was forcibly closed by the remote host.\n",
      "ERROR:root:task: connection_task raised exception: .\n",
      "ERROR:root:task: mqtt_task raised exception: [WinError 10054] An existing connection was forcibly closed by the remote host.\n",
      "ERROR:root:task: connection_task raised exception: .\n",
      "ERROR:root:task: mqtt_task raised exception: [WinError 10054] An existing connection was forcibly closed by the remote host.\n",
      "ERROR:root:task: connection_task raised exception: .\n"
     ]
    },
    {
     "name": "stdout",
     "output_type": "stream",
     "text": [
      "Saved: 2025-09-12 19:32:34,0.1867477297782898,0.038307227194309235,4.548983097076416\n"
     ]
    },
    {
     "name": "stderr",
     "output_type": "stream",
     "text": [
      "ERROR:root:task: mqtt_task raised exception: [WinError 10054] An existing connection was forcibly closed by the remote host.\n",
      "ERROR:root:task: connection_task raised exception: .\n",
      "ERROR:root:task: mqtt_task raised exception: [WinError 10054] An existing connection was forcibly closed by the remote host.\n",
      "ERROR:root:task: connection_task raised exception: .\n"
     ]
    },
    {
     "name": "stdout",
     "output_type": "stream",
     "text": [
      "Saved: 2025-09-12 19:32:41,0.1843535304069519,0.038307227194309235,4.548983097076416\n",
      "Saved: 2025-09-12 19:32:42,0.1843535304069519,0.028730420395731926,4.548983097076416\n"
     ]
    },
    {
     "name": "stderr",
     "output_type": "stream",
     "text": [
      "ERROR:root:task: mqtt_task raised exception: [WinError 10054] An existing connection was forcibly closed by the remote host.\n",
      "ERROR:root:task: connection_task raised exception: .\n"
     ]
    },
    {
     "name": "stdout",
     "output_type": "stream",
     "text": [
      "Saved: 2025-09-12 19:32:45,0.1843535304069519,0.028730420395731926,4.548983097076416\n"
     ]
    },
    {
     "name": "stderr",
     "output_type": "stream",
     "text": [
      "ERROR:root:task: mqtt_task raised exception: [WinError 10054] An existing connection was forcibly closed by the remote host.\n",
      "ERROR:root:task: connection_task raised exception: .\n",
      "ERROR:root:task: mqtt_task raised exception: [WinError 10054] An existing connection was forcibly closed by the remote host.\n",
      "ERROR:root:task: connection_task raised exception: .\n"
     ]
    },
    {
     "name": "stdout",
     "output_type": "stream",
     "text": [
      "Saved: 2025-09-12 19:32:53,0.1867477297782898,0.028730420395731926,4.548983097076416\n"
     ]
    },
    {
     "name": "stderr",
     "output_type": "stream",
     "text": [
      "ERROR:root:task: mqtt_task raised exception: [WinError 10054] An existing connection was forcibly closed by the remote host.\n",
      "ERROR:root:task: connection_task raised exception: .\n"
     ]
    },
    {
     "name": "stdout",
     "output_type": "stream",
     "text": [
      "Saved: 2025-09-12 19:32:57,0.181959331035614,0.028730420395731926,4.548983097076416\n"
     ]
    },
    {
     "name": "stderr",
     "output_type": "stream",
     "text": [
      "ERROR:root:task: mqtt_task raised exception: [WinError 10054] An existing connection was forcibly closed by the remote host.\n",
      "ERROR:root:task: connection_task raised exception: .\n",
      "ERROR:root:task: mqtt_task raised exception: [WinError 10054] An existing connection was forcibly closed by the remote host.\n",
      "ERROR:root:task: connection_task raised exception: .\n"
     ]
    },
    {
     "name": "stdout",
     "output_type": "stream",
     "text": [
      "Saved: 2025-09-12 19:33:04,0.181959331035614,0.028730420395731926,4.548983097076416\n"
     ]
    },
    {
     "name": "stderr",
     "output_type": "stream",
     "text": [
      "ERROR:root:task: mqtt_task raised exception: [WinError 10054] An existing connection was forcibly closed by the remote host.\n",
      "ERROR:root:task: connection_task raised exception: .\n"
     ]
    },
    {
     "name": "stdout",
     "output_type": "stream",
     "text": [
      "Saved: 2025-09-12 19:33:08,0.1604115068912506,0.028730420395731926,4.548983097076416\n"
     ]
    },
    {
     "name": "stderr",
     "output_type": "stream",
     "text": [
      "ERROR:root:task: mqtt_task raised exception: [WinError 10054] An existing connection was forcibly closed by the remote host.\n",
      "ERROR:root:task: connection_task raised exception: .\n",
      "ERROR:root:task: mqtt_task raised exception: [WinError 10054] An existing connection was forcibly closed by the remote host.\n",
      "ERROR:root:task: connection_task raised exception: .\n"
     ]
    },
    {
     "name": "stdout",
     "output_type": "stream",
     "text": [
      "Saved: 2025-09-12 19:33:16,0.17717093229293823,0.028730420395731926,4.548983097076416\n"
     ]
    },
    {
     "name": "stderr",
     "output_type": "stream",
     "text": [
      "ERROR:root:task: mqtt_task raised exception: [WinError 10054] An existing connection was forcibly closed by the remote host.\n",
      "ERROR:root:task: connection_task raised exception: .\n"
     ]
    },
    {
     "name": "stdout",
     "output_type": "stream",
     "text": [
      "Saved: 2025-09-12 19:33:19,0.18914192914962769,0.028730420395731926,4.548983097076416\n"
     ]
    },
    {
     "name": "stderr",
     "output_type": "stream",
     "text": [
      "ERROR:root:task: mqtt_task raised exception: [WinError 10054] An existing connection was forcibly closed by the remote host.\n",
      "ERROR:root:task: connection_task raised exception: .\n",
      "ERROR:root:task: mqtt_task raised exception: [WinError 10054] An existing connection was forcibly closed by the remote host.\n",
      "ERROR:root:task: connection_task raised exception: .\n"
     ]
    },
    {
     "name": "stdout",
     "output_type": "stream",
     "text": [
      "Saved: 2025-09-12 19:33:27,0.1843535304069519,0.028730420395731926,4.548983097076416\n"
     ]
    },
    {
     "name": "stderr",
     "output_type": "stream",
     "text": [
      "ERROR:root:task: mqtt_task raised exception: [WinError 10054] An existing connection was forcibly closed by the remote host.\n",
      "ERROR:root:task: connection_task raised exception: .\n"
     ]
    },
    {
     "name": "stdout",
     "output_type": "stream",
     "text": [
      "Saved: 2025-09-12 19:33:31,0.1843535304069519,0.028730420395731926,4.548983097076416\n"
     ]
    },
    {
     "name": "stderr",
     "output_type": "stream",
     "text": [
      "ERROR:root:task: mqtt_task raised exception: [WinError 10054] An existing connection was forcibly closed by the remote host.\n",
      "ERROR:root:task: connection_task raised exception: .\n"
     ]
    },
    {
     "name": "stdout",
     "output_type": "stream",
     "text": [
      "Saved: 2025-09-12 19:33:33,0.19153612852096558,0.028730420395731926,4.548983097076416\n",
      "Saved: 2025-09-12 19:33:35,0.19153612852096558,0.043095629662275314,4.548983097076416\n"
     ]
    },
    {
     "name": "stderr",
     "output_type": "stream",
     "text": [
      "ERROR:root:task: mqtt_task raised exception: [WinError 10054] An existing connection was forcibly closed by the remote host.\n",
      "ERROR:root:task: connection_task raised exception: .\n"
     ]
    },
    {
     "name": "stdout",
     "output_type": "stream",
     "text": [
      "Saved: 2025-09-12 19:33:38,0.19393034279346466,0.043095629662275314,4.548983097076416\n"
     ]
    },
    {
     "name": "stderr",
     "output_type": "stream",
     "text": [
      "ERROR:root:task: mqtt_task raised exception: [WinError 10054] An existing connection was forcibly closed by the remote host.\n",
      "ERROR:root:task: connection_task raised exception: .\n"
     ]
    },
    {
     "name": "stdout",
     "output_type": "stream",
     "text": [
      "Saved: 2025-09-12 19:33:42,-0.5746083855628967,0.043095629662275314,4.548983097076416\n"
     ]
    },
    {
     "name": "stderr",
     "output_type": "stream",
     "text": [
      "ERROR:root:task: mqtt_task raised exception: [WinError 10054] An existing connection was forcibly closed by the remote host.\n",
      "ERROR:root:task: connection_task raised exception: .\n",
      "ERROR:root:task: mqtt_task raised exception: [WinError 10054] An existing connection was forcibly closed by the remote host.\n",
      "ERROR:root:task: connection_task raised exception: .\n"
     ]
    },
    {
     "name": "stdout",
     "output_type": "stream",
     "text": [
      "Saved: 2025-09-12 19:33:50,-3.3016040325164795,0.043095629662275314,4.548983097076416\n"
     ]
    },
    {
     "name": "stderr",
     "output_type": "stream",
     "text": [
      "ERROR:root:task: mqtt_task raised exception: [WinError 10054] An existing connection was forcibly closed by the remote host.\n",
      "ERROR:root:task: connection_task raised exception: .\n"
     ]
    },
    {
     "name": "stdout",
     "output_type": "stream",
     "text": [
      "Saved: 2025-09-12 19:33:54,4.795586109161377,0.043095629662275314,4.548983097076416\n"
     ]
    },
    {
     "name": "stderr",
     "output_type": "stream",
     "text": [
      "ERROR:root:task: mqtt_task raised exception: [WinError 10054] An existing connection was forcibly closed by the remote host.\n",
      "ERROR:root:task: connection_task raised exception: .\n",
      "ERROR:root:task: mqtt_task raised exception: [WinError 10054] An existing connection was forcibly closed by the remote host.\n",
      "ERROR:root:task: connection_task raised exception: .\n"
     ]
    },
    {
     "name": "stdout",
     "output_type": "stream",
     "text": [
      "Saved: 2025-09-12 19:34:01,5.770026206970215,0.043095629662275314,4.548983097076416\n"
     ]
    },
    {
     "name": "stderr",
     "output_type": "stream",
     "text": [
      "ERROR:root:task: mqtt_task raised exception: [WinError 10054] An existing connection was forcibly closed by the remote host.\n",
      "ERROR:root:task: connection_task raised exception: .\n"
     ]
    },
    {
     "name": "stdout",
     "output_type": "stream",
     "text": [
      "Saved: 2025-09-12 19:34:05,0.16519992053508759,0.043095629662275314,4.548983097076416\n"
     ]
    },
    {
     "name": "stderr",
     "output_type": "stream",
     "text": [
      "ERROR:root:task: mqtt_task raised exception: [WinError 10054] An existing connection was forcibly closed by the remote host.\n",
      "ERROR:root:task: connection_task raised exception: .\n",
      "ERROR:root:task: mqtt_task raised exception: [WinError 10054] An existing connection was forcibly closed by the remote host.\n",
      "ERROR:root:task: connection_task raised exception: .\n"
     ]
    },
    {
     "name": "stdout",
     "output_type": "stream",
     "text": [
      "Saved: 2025-09-12 19:34:13,0.1843535304069519,0.043095629662275314,4.548983097076416\n"
     ]
    },
    {
     "name": "stderr",
     "output_type": "stream",
     "text": [
      "ERROR:root:task: mqtt_task raised exception: [WinError 10054] An existing connection was forcibly closed by the remote host.\n",
      "ERROR:root:task: connection_task raised exception: .\n"
     ]
    },
    {
     "name": "stdout",
     "output_type": "stream",
     "text": [
      "Saved: 2025-09-12 19:34:17,0.181959331035614,0.043095629662275314,4.548983097076416\n"
     ]
    },
    {
     "name": "stderr",
     "output_type": "stream",
     "text": [
      "ERROR:root:task: mqtt_task raised exception: [WinError 10054] An existing connection was forcibly closed by the remote host.\n",
      "ERROR:root:task: connection_task raised exception: .\n",
      "ERROR:root:task: mqtt_task raised exception: [WinError 10054] An existing connection was forcibly closed by the remote host.\n",
      "ERROR:root:task: connection_task raised exception: .\n",
      "ERROR:root:task: mqtt_task raised exception: [WinError 10054] An existing connection was forcibly closed by the remote host.\n",
      "ERROR:root:task: connection_task raised exception: .\n"
     ]
    },
    {
     "name": "stdout",
     "output_type": "stream",
     "text": [
      "Saved: 2025-09-12 19:34:26,0.1843535304069519,0.043095629662275314,4.548983097076416\n"
     ]
    },
    {
     "name": "stderr",
     "output_type": "stream",
     "text": [
      "ERROR:root:task: mqtt_task raised exception: [WinError 10054] An existing connection was forcibly closed by the remote host.\n",
      "ERROR:root:task: connection_task raised exception: .\n"
     ]
    },
    {
     "name": "stdout",
     "output_type": "stream",
     "text": [
      "Saved: 2025-09-12 19:34:30,0.19393034279346466,0.043095629662275314,4.548983097076416\n"
     ]
    },
    {
     "name": "stderr",
     "output_type": "stream",
     "text": [
      "ERROR:root:task: mqtt_task raised exception: [WinError 10054] An existing connection was forcibly closed by the remote host.\n",
      "ERROR:root:task: connection_task raised exception: .\n"
     ]
    },
    {
     "name": "stdout",
     "output_type": "stream",
     "text": [
      "Saved: 2025-09-12 19:34:32,0.19393034279346466,0.043095629662275314,9.93593692779541\n"
     ]
    },
    {
     "name": "stderr",
     "output_type": "stream",
     "text": [
      "ERROR:root:task: mqtt_task raised exception: [WinError 10054] An existing connection was forcibly closed by the remote host.\n",
      "ERROR:root:task: connection_task raised exception: .\n"
     ]
    },
    {
     "name": "stdout",
     "output_type": "stream",
     "text": [
      "Saved: 2025-09-12 19:34:37,0.1867477297782898,0.043095629662275314,9.93593692779541\n"
     ]
    },
    {
     "name": "stderr",
     "output_type": "stream",
     "text": [
      "ERROR:root:task: mqtt_task raised exception: [WinError 10054] An existing connection was forcibly closed by the remote host.\n",
      "ERROR:root:task: connection_task raised exception: .\n"
     ]
    },
    {
     "name": "stdout",
     "output_type": "stream",
     "text": [
      "Saved: 2025-09-12 19:34:41,-2.719813108444214,0.043095629662275314,9.93593692779541\n"
     ]
    },
    {
     "name": "stderr",
     "output_type": "stream",
     "text": [
      "ERROR:root:task: mqtt_task raised exception: [WinError 10054] An existing connection was forcibly closed by the remote host.\n",
      "ERROR:root:task: connection_task raised exception: .\n",
      "ERROR:root:task: mqtt_task raised exception: [WinError 10054] An existing connection was forcibly closed by the remote host.\n",
      "ERROR:root:task: connection_task raised exception: .\n"
     ]
    },
    {
     "name": "stdout",
     "output_type": "stream",
     "text": [
      "Saved: 2025-09-12 19:34:48,4.228160381317139,0.043095629662275314,9.93593692779541\n"
     ]
    },
    {
     "name": "stderr",
     "output_type": "stream",
     "text": [
      "ERROR:root:task: mqtt_task raised exception: [WinError 10054] An existing connection was forcibly closed by the remote host.\n",
      "ERROR:root:task: connection_task raised exception: .\n"
     ]
    },
    {
     "name": "stdout",
     "output_type": "stream",
     "text": [
      "Saved: 2025-09-12 19:34:52,4.972756862640381,0.043095629662275314,9.93593692779541\n"
     ]
    },
    {
     "name": "stderr",
     "output_type": "stream",
     "text": [
      "ERROR:root:task: mqtt_task raised exception: [WinError 10054] An existing connection was forcibly closed by the remote host.\n",
      "ERROR:root:task: connection_task raised exception: .\n",
      "ERROR:root:task: mqtt_task raised exception: [WinError 10054] An existing connection was forcibly closed by the remote host.\n",
      "ERROR:root:task: connection_task raised exception: .\n"
     ]
    },
    {
     "name": "stdout",
     "output_type": "stream",
     "text": [
      "Saved: 2025-09-12 19:35:00,2.80361008644104,0.043095629662275314,9.93593692779541\n"
     ]
    },
    {
     "name": "stderr",
     "output_type": "stream",
     "text": [
      "ERROR:root:task: mqtt_task raised exception: [WinError 10054] An existing connection was forcibly closed by the remote host.\n",
      "ERROR:root:task: connection_task raised exception: .\n"
     ]
    },
    {
     "name": "stdout",
     "output_type": "stream",
     "text": [
      "Saved: 2025-09-12 19:35:04,-2.669534921646118,0.043095629662275314,9.93593692779541\n"
     ]
    },
    {
     "name": "stderr",
     "output_type": "stream",
     "text": [
      "ERROR:root:task: mqtt_task raised exception: [WinError 10054] An existing connection was forcibly closed by the remote host.\n",
      "ERROR:root:task: connection_task raised exception: .\n",
      "ERROR:root:task: mqtt_task raised exception: [WinError 10054] An existing connection was forcibly closed by the remote host.\n",
      "ERROR:root:task: connection_task raised exception: .\n"
     ]
    },
    {
     "name": "stdout",
     "output_type": "stream",
     "text": [
      "Saved: 2025-09-12 19:35:11,-2.808398485183716,0.043095629662275314,9.93593692779541\n"
     ]
    },
    {
     "name": "stderr",
     "output_type": "stream",
     "text": [
      "ERROR:root:task: mqtt_task raised exception: [WinError 10054] An existing connection was forcibly closed by the remote host.\n",
      "ERROR:root:task: connection_task raised exception: .\n"
     ]
    },
    {
     "name": "stdout",
     "output_type": "stream",
     "text": [
      "Saved: 2025-09-12 19:35:15,-2.889801502227783,0.043095629662275314,9.93593692779541\n"
     ]
    },
    {
     "name": "stderr",
     "output_type": "stream",
     "text": [
      "ERROR:root:task: mqtt_task raised exception: [WinError 10054] An existing connection was forcibly closed by the remote host.\n",
      "ERROR:root:task: connection_task raised exception: .\n",
      "ERROR:root:task: mqtt_task raised exception: [WinError 10054] An existing connection was forcibly closed by the remote host.\n",
      "ERROR:root:task: connection_task raised exception: .\n"
     ]
    },
    {
     "name": "stdout",
     "output_type": "stream",
     "text": [
      "Saved: 2025-09-12 19:35:23,-2.183511972427368,0.043095629662275314,9.93593692779541\n"
     ]
    },
    {
     "name": "stderr",
     "output_type": "stream",
     "text": [
      "ERROR:root:task: mqtt_task raised exception: [WinError 10054] An existing connection was forcibly closed by the remote host.\n",
      "ERROR:root:task: connection_task raised exception: .\n"
     ]
    },
    {
     "name": "stdout",
     "output_type": "stream",
     "text": [
      "Saved: 2025-09-12 19:35:26,-1.4700398445129395,0.043095629662275314,9.93593692779541\n"
     ]
    },
    {
     "name": "stderr",
     "output_type": "stream",
     "text": [
      "ERROR:root:task: mqtt_task raised exception: [WinError 10054] An existing connection was forcibly closed by the remote host.\n",
      "ERROR:root:task: connection_task raised exception: .\n",
      "ERROR:root:task: mqtt_task raised exception: [WinError 10054] An existing connection was forcibly closed by the remote host.\n",
      "ERROR:root:task: connection_task raised exception: .\n"
     ]
    },
    {
     "name": "stdout",
     "output_type": "stream",
     "text": [
      "Saved: 2025-09-12 19:35:34,-1.5107412338256836,0.043095629662275314,9.93593692779541\n"
     ]
    },
    {
     "name": "stderr",
     "output_type": "stream",
     "text": [
      "ERROR:root:task: mqtt_task raised exception: [WinError 10054] An existing connection was forcibly closed by the remote host.\n",
      "ERROR:root:task: connection_task raised exception: .\n"
     ]
    },
    {
     "name": "stdout",
     "output_type": "stream",
     "text": [
      "Saved: 2025-09-12 19:35:36,-1.6663644313812256,0.043095629662275314,9.93593692779541\n",
      "Saved: 2025-09-12 19:35:38,-1.6663644313812256,4.2975921630859375,9.93593692779541\n"
     ]
    },
    {
     "name": "stderr",
     "output_type": "stream",
     "text": [
      "ERROR:root:task: mqtt_task raised exception: [WinError 10054] An existing connection was forcibly closed by the remote host.\n",
      "ERROR:root:task: connection_task raised exception: .\n",
      "ERROR:root:task: mqtt_task raised exception: [WinError 10054] An existing connection was forcibly closed by the remote host.\n",
      "ERROR:root:task: connection_task raised exception: .\n"
     ]
    },
    {
     "name": "stdout",
     "output_type": "stream",
     "text": [
      "Saved: 2025-09-12 19:35:45,-1.824381709098816,4.2975921630859375,9.93593692779541\n"
     ]
    },
    {
     "name": "stderr",
     "output_type": "stream",
     "text": [
      "ERROR:root:task: mqtt_task raised exception: [WinError 10054] An existing connection was forcibly closed by the remote host.\n",
      "ERROR:root:task: connection_task raised exception: .\n"
     ]
    },
    {
     "name": "stdout",
     "output_type": "stream",
     "text": [
      "Saved: 2025-09-12 19:35:49,-1.7884687185287476,4.2975921630859375,9.93593692779541\n"
     ]
    },
    {
     "name": "stderr",
     "output_type": "stream",
     "text": [
      "ERROR:root:task: mqtt_task raised exception: [WinError 10054] An existing connection was forcibly closed by the remote host.\n",
      "ERROR:root:task: connection_task raised exception: .\n"
     ]
    },
    {
     "name": "stdout",
     "output_type": "stream",
     "text": [
      "Saved: 2025-09-12 19:35:52,-1.8267759084701538,4.2975921630859375,9.93593692779541\n"
     ]
    },
    {
     "name": "stderr",
     "output_type": "stream",
     "text": [
      "ERROR:root:task: mqtt_task raised exception: [WinError 10054] An existing connection was forcibly closed by the remote host.\n",
      "ERROR:root:task: connection_task raised exception: .\n"
     ]
    },
    {
     "name": "stdout",
     "output_type": "stream",
     "text": [
      "Saved: 2025-09-12 19:35:56,-1.8794482946395874,4.2975921630859375,9.93593692779541\n"
     ]
    },
    {
     "name": "stderr",
     "output_type": "stream",
     "text": [
      "ERROR:root:task: mqtt_task raised exception: [WinError 10054] An existing connection was forcibly closed by the remote host.\n",
      "ERROR:root:task: connection_task raised exception: .\n"
     ]
    },
    {
     "name": "stdout",
     "output_type": "stream",
     "text": [
      "Saved: 2025-09-12 19:36:00,-1.6184803247451782,4.2975921630859375,9.93593692779541\n"
     ]
    },
    {
     "name": "stderr",
     "output_type": "stream",
     "text": [
      "ERROR:root:task: mqtt_task raised exception: [WinError 10054] An existing connection was forcibly closed by the remote host.\n",
      "ERROR:root:task: connection_task raised exception: .\n",
      "ERROR:root:task: mqtt_task raised exception: [WinError 10054] An existing connection was forcibly closed by the remote host.\n",
      "ERROR:root:task: connection_task raised exception: .\n"
     ]
    },
    {
     "name": "stdout",
     "output_type": "stream",
     "text": [
      "Saved: 2025-09-12 19:36:08,-2.38462495803833,4.2975921630859375,9.93593692779541\n"
     ]
    },
    {
     "name": "stderr",
     "output_type": "stream",
     "text": [
      "ERROR:root:task: mqtt_task raised exception: [WinError 10054] An existing connection was forcibly closed by the remote host.\n",
      "ERROR:root:task: connection_task raised exception: .\n"
     ]
    },
    {
     "name": "stdout",
     "output_type": "stream",
     "text": [
      "Saved: 2025-09-12 19:36:12,-2.2218191623687744,4.2975921630859375,9.93593692779541\n"
     ]
    },
    {
     "name": "stderr",
     "output_type": "stream",
     "text": [
      "ERROR:root:task: mqtt_task raised exception: [WinError 10054] An existing connection was forcibly closed by the remote host.\n",
      "ERROR:root:task: connection_task raised exception: .\n"
     ]
    },
    {
     "name": "stdout",
     "output_type": "stream",
     "text": [
      "Saved: 2025-09-12 19:36:15,-2.212242364883423,4.2975921630859375,9.93593692779541\n"
     ]
    },
    {
     "name": "stderr",
     "output_type": "stream",
     "text": [
      "ERROR:root:task: mqtt_task raised exception: [WinError 10054] An existing connection was forcibly closed by the remote host.\n",
      "ERROR:root:task: connection_task raised exception: .\n",
      "ERROR:root:task: mqtt_task raised exception: [WinError 10054] An existing connection was forcibly closed by the remote host.\n",
      "ERROR:root:task: connection_task raised exception: .\n"
     ]
    },
    {
     "name": "stdout",
     "output_type": "stream",
     "text": [
      "Saved: 2025-09-12 19:36:22,-1.644816517829895,4.2975921630859375,9.93593692779541\n"
     ]
    },
    {
     "name": "stderr",
     "output_type": "stream",
     "text": [
      "ERROR:root:task: mqtt_task raised exception: [WinError 10054] An existing connection was forcibly closed by the remote host.\n",
      "ERROR:root:task: connection_task raised exception: .\n",
      "ERROR:root:task: mqtt_task raised exception: [WinError 10054] An existing connection was forcibly closed by the remote host.\n",
      "ERROR:root:task: connection_task raised exception: .\n"
     ]
    },
    {
     "name": "stdout",
     "output_type": "stream",
     "text": [
      "Saved: 2025-09-12 19:36:29,-3.160346269607544,4.2975921630859375,9.93593692779541\n"
     ]
    },
    {
     "name": "stderr",
     "output_type": "stream",
     "text": [
      "ERROR:root:task: mqtt_task raised exception: [WinError 10054] An existing connection was forcibly closed by the remote host.\n",
      "ERROR:root:task: connection_task raised exception: .\n"
     ]
    },
    {
     "name": "stdout",
     "output_type": "stream",
     "text": [
      "Saved: 2025-09-12 19:36:33,-3.2537200450897217,4.2975921630859375,9.93593692779541\n"
     ]
    },
    {
     "name": "stderr",
     "output_type": "stream",
     "text": [
      "ERROR:root:task: mqtt_task raised exception: [WinError 10054] An existing connection was forcibly closed by the remote host.\n",
      "ERROR:root:task: connection_task raised exception: .\n",
      "ERROR:root:task: mqtt_task raised exception: [WinError 10054] An existing connection was forcibly closed by the remote host.\n",
      "ERROR:root:task: connection_task raised exception: .\n"
     ]
    },
    {
     "name": "stdout",
     "output_type": "stream",
     "text": [
      "Saved: 2025-09-12 19:36:41,-2.5282769203186035,4.2975921630859375,9.93593692779541\n"
     ]
    },
    {
     "name": "stderr",
     "output_type": "stream",
     "text": [
      "ERROR:root:task: mqtt_task raised exception: [WinError 10054] An existing connection was forcibly closed by the remote host.\n",
      "ERROR:root:task: connection_task raised exception: .\n"
     ]
    },
    {
     "name": "stdout",
     "output_type": "stream",
     "text": [
      "Saved: 2025-09-12 19:36:44,-2.9328970909118652,4.2975921630859375,9.93593692779541\n"
     ]
    },
    {
     "name": "stderr",
     "output_type": "stream",
     "text": [
      "ERROR:root:task: mqtt_task raised exception: [WinError 10054] An existing connection was forcibly closed by the remote host.\n",
      "ERROR:root:task: connection_task raised exception: .\n",
      "ERROR:root:task: mqtt_task raised exception: [WinError 10054] An existing connection was forcibly closed by the remote host.\n",
      "ERROR:root:task: connection_task raised exception: .\n"
     ]
    },
    {
     "name": "stdout",
     "output_type": "stream",
     "text": [
      "Saved: 2025-09-12 19:36:51,-2.9089550971984863,4.2975921630859375,9.93593692779541\n"
     ]
    },
    {
     "name": "stderr",
     "output_type": "stream",
     "text": [
      "ERROR:root:task: mqtt_task raised exception: [WinError 10054] An existing connection was forcibly closed by the remote host.\n",
      "ERROR:root:task: connection_task raised exception: .\n"
     ]
    },
    {
     "name": "stdout",
     "output_type": "stream",
     "text": [
      "Saved: 2025-09-12 19:36:55,-2.920926094055176,4.2975921630859375,9.93593692779541\n",
      "Creating visualizations...\n"
     ]
    },
    {
     "name": "stderr",
     "output_type": "stream",
     "text": [
      "ERROR:root:task: mqtt_task raised exception: [WinError 10054] An existing connection was forcibly closed by the remote host.\n"
     ]
    },
    {
     "name": "stdout",
     "output_type": "stream",
     "text": [
      "Visualizations saved as 'accelerometer_analysis.png'\n",
      "Analyzing patterns...\n",
      "X-axis: 37 peaks, average interval: 8.00 samples\n",
      "Y-axis: 5 peaks, average interval: 48.00 samples\n",
      "Pattern analysis saved as 'pattern_analysis.txt'\n"
     ]
    },
    {
     "name": "stderr",
     "output_type": "stream",
     "text": [
      "ERROR:root:task: connection_task raised exception: .\n"
     ]
    },
    {
     "name": "stdout",
     "output_type": "stream",
     "text": [
      "Saved: 2025-09-12 19:36:59,-2.8179752826690674,4.2975921630859375,9.93593692779541\n"
     ]
    },
    {
     "name": "stderr",
     "output_type": "stream",
     "text": [
      "ERROR:root:task: mqtt_task raised exception: [WinError 10054] An existing connection was forcibly closed by the remote host.\n",
      "ERROR:root:task: connection_task raised exception: .\n"
     ]
    },
    {
     "name": "stdout",
     "output_type": "stream",
     "text": [
      "Saved: 2025-09-12 19:37:03,-2.604891538619995,4.2975921630859375,9.93593692779541\n"
     ]
    },
    {
     "name": "stderr",
     "output_type": "stream",
     "text": [
      "ERROR:root:task: mqtt_task raised exception: [WinError 10054] An existing connection was forcibly closed by the remote host.\n",
      "ERROR:root:task: connection_task raised exception: .\n"
     ]
    },
    {
     "name": "stdout",
     "output_type": "stream",
     "text": [
      "Saved: 2025-09-12 19:37:07,-2.3343467712402344,4.2975921630859375,9.93593692779541\n"
     ]
    },
    {
     "name": "stderr",
     "output_type": "stream",
     "text": [
      "ERROR:root:task: mqtt_task raised exception: [WinError 10054] An existing connection was forcibly closed by the remote host.\n",
      "ERROR:root:task: connection_task raised exception: .\n"
     ]
    },
    {
     "name": "stdout",
     "output_type": "stream",
     "text": [
      "Saved: 2025-09-12 19:37:10,-0.3878606855869293,4.2975921630859375,9.93593692779541\n"
     ]
    },
    {
     "name": "stderr",
     "output_type": "stream",
     "text": [
      "ERROR:root:task: mqtt_task raised exception: [WinError 10054] An existing connection was forcibly closed by the remote host.\n",
      "ERROR:root:task: connection_task raised exception: .\n"
     ]
    },
    {
     "name": "stdout",
     "output_type": "stream",
     "text": [
      "Saved: 2025-09-12 19:37:14,-5.173870086669922,4.2975921630859375,9.93593692779541\n"
     ]
    },
    {
     "name": "stderr",
     "output_type": "stream",
     "text": [
      "ERROR:root:task: mqtt_task raised exception: [WinError 10054] An existing connection was forcibly closed by the remote host.\n",
      "ERROR:root:task: connection_task raised exception: .\n"
     ]
    },
    {
     "name": "stdout",
     "output_type": "stream",
     "text": [
      "Saved: 2025-09-12 19:37:18,-6.066906929016113,4.2975921630859375,9.93593692779541\n"
     ]
    },
    {
     "name": "stderr",
     "output_type": "stream",
     "text": [
      "ERROR:root:task: mqtt_task raised exception: [WinError 10054] An existing connection was forcibly closed by the remote host.\n",
      "ERROR:root:task: connection_task raised exception: .\n",
      "ERROR:root:task: mqtt_task raised exception: [WinError 10054] An existing connection was forcibly closed by the remote host.\n",
      "ERROR:root:task: connection_task raised exception: .\n"
     ]
    },
    {
     "name": "stdout",
     "output_type": "stream",
     "text": [
      "Saved: 2025-09-12 19:37:24,-6.562506675720215,4.2975921630859375,9.93593692779541\n",
      "Saved: 2025-09-12 19:37:25,-6.562506675720215,1.824381709098816,9.93593692779541\n"
     ]
    },
    {
     "name": "stderr",
     "output_type": "stream",
     "text": [
      "ERROR:root:task: mqtt_task raised exception: [WinError 10054] An existing connection was forcibly closed by the remote host.\n",
      "ERROR:root:task: connection_task raised exception: .\n"
     ]
    },
    {
     "name": "stdout",
     "output_type": "stream",
     "text": [
      "Saved: 2025-09-12 19:37:29,-1.889025092124939,1.824381709098816,9.93593692779541\n"
     ]
    },
    {
     "name": "stderr",
     "output_type": "stream",
     "text": [
      "ERROR:root:task: mqtt_task raised exception: [WinError 10054] An existing connection was forcibly closed by the remote host.\n",
      "ERROR:root:task: connection_task raised exception: .\n",
      "ERROR:root:task: mqtt_task raised exception: [WinError 10054] An existing connection was forcibly closed by the remote host.\n",
      "ERROR:root:task: connection_task raised exception: .\n",
      "ERROR:root:task: mqtt_task raised exception: [WinError 10054] An existing connection was forcibly closed by the remote host.\n",
      "ERROR:root:task: connection_task raised exception: .\n"
     ]
    },
    {
     "name": "stdout",
     "output_type": "stream",
     "text": [
      "Saved: 2025-09-12 19:37:37,0.3208230137825012,1.824381709098816,9.93593692779541\n"
     ]
    },
    {
     "name": "stderr",
     "output_type": "stream",
     "text": [
      "ERROR:root:task: mqtt_task raised exception: [WinError 10054] An existing connection was forcibly closed by the remote host.\n",
      "ERROR:root:task: connection_task raised exception: .\n",
      "ERROR:root:task: mqtt_task raised exception: [WinError 10054] An existing connection was forcibly closed by the remote host.\n",
      "ERROR:root:task: connection_task raised exception: .\n",
      "ERROR:root:task: mqtt_task raised exception: [WinError 10054] An existing connection was forcibly closed by the remote host.\n",
      "ERROR:root:task: connection_task raised exception: .\n",
      "ERROR:root:task: mqtt_task raised exception: [WinError 10054] An existing connection was forcibly closed by the remote host.\n",
      "ERROR:root:task: connection_task raised exception: .\n",
      "ERROR:root:task: mqtt_task raised exception: [WinError 10054] An existing connection was forcibly closed by the remote host.\n",
      "ERROR:root:task: connection_task raised exception: .\n",
      "ERROR:root:task: mqtt_task raised exception: [WinError 10054] An existing connection was forcibly closed by the remote host.\n",
      "ERROR:root:task: connection_task raised exception: .\n",
      "ERROR:root:task: mqtt_task raised exception: [WinError 10054] An existing connection was forcibly closed by the remote host.\n",
      "ERROR:root:task: connection_task raised exception: .\n"
     ]
    },
    {
     "name": "stdout",
     "output_type": "stream",
     "text": [
      "Saved: 2025-09-12 19:37:58,0.14365209639072418,1.824381709098816,9.93593692779541\n"
     ]
    },
    {
     "name": "stderr",
     "output_type": "stream",
     "text": [
      "ERROR:root:task: mqtt_task raised exception: [WinError 10054] An existing connection was forcibly closed by the remote host.\n",
      "ERROR:root:task: connection_task raised exception: .\n"
     ]
    },
    {
     "name": "stdout",
     "output_type": "stream",
     "text": [
      "Saved: 2025-09-12 19:38:02,0.1604115068912506,1.824381709098816,9.93593692779541\n"
     ]
    },
    {
     "name": "stderr",
     "output_type": "stream",
     "text": [
      "ERROR:root:task: mqtt_task raised exception: [WinError 10054] An existing connection was forcibly closed by the remote host.\n",
      "ERROR:root:task: connection_task raised exception: .\n"
     ]
    },
    {
     "name": "stdout",
     "output_type": "stream",
     "text": [
      "Saved: 2025-09-12 19:38:07,0.2082955539226532,1.824381709098816,9.93593692779541\n",
      "Saved: 2025-09-12 19:38:08,0.2082955539226532,-0.004788403399288654,9.93593692779541\n",
      "Saved: 2025-09-12 19:38:09,-0.014365210197865963,-0.004788403399288654,9.93593692779541\n",
      "Saved: 2025-09-12 19:38:10,-0.014365210197865963,-0.0454898327589035,9.93593692779541\n",
      "Saved: 2025-09-12 19:38:11,-0.014365210197865963,-0.0454898327589035,9.90241813659668\n",
      "Saved: 2025-09-12 19:38:12,0.181959331035614,-0.0454898327589035,9.90241813659668\n",
      "Saved: 2025-09-12 19:38:13,0.181959331035614,0.016759412363171577,9.90241813659668\n",
      "Saved: 2025-09-12 19:38:14,0.181959331035614,0.016759412363171577,9.938331604003906\n",
      "Saved: 2025-09-12 19:38:15,0.16759411990642548,0.016759412363171577,9.938331604003906\n",
      "Saved: 2025-09-12 19:38:16,0.16759411990642548,0.038307227194309235,9.938331604003906\n"
     ]
    },
    {
     "name": "stderr",
     "output_type": "stream",
     "text": [
      "ERROR:root:task: mqtt_task raised exception: [WinError 10054] An existing connection was forcibly closed by the remote host.\n",
      "ERROR:root:task: connection_task raised exception: .\n"
     ]
    },
    {
     "name": "stdout",
     "output_type": "stream",
     "text": [
      "Saved: 2025-09-12 19:38:19,0.19871874153614044,0.038307227194309235,9.938331604003906\n"
     ]
    },
    {
     "name": "stderr",
     "output_type": "stream",
     "text": [
      "ERROR:root:task: mqtt_task raised exception: [WinError 10054] An existing connection was forcibly closed by the remote host.\n",
      "ERROR:root:task: connection_task raised exception: .\n"
     ]
    },
    {
     "name": "stdout",
     "output_type": "stream",
     "text": [
      "Saved: 2025-09-12 19:38:23,0.2346317619085312,0.038307227194309235,9.938331604003906\n"
     ]
    },
    {
     "name": "stderr",
     "output_type": "stream",
     "text": [
      "ERROR:root:task: mqtt_task raised exception: [WinError 10054] An existing connection was forcibly closed by the remote host.\n",
      "ERROR:root:task: connection_task raised exception: .\n"
     ]
    },
    {
     "name": "stdout",
     "output_type": "stream",
     "text": [
      "Saved: 2025-09-12 19:38:27,0.18914192914962769,0.038307227194309235,9.938331604003906\n"
     ]
    },
    {
     "name": "stderr",
     "output_type": "stream",
     "text": [
      "ERROR:root:task: mqtt_task raised exception: [WinError 10054] An existing connection was forcibly closed by the remote host.\n",
      "ERROR:root:task: connection_task raised exception: .\n"
     ]
    },
    {
     "name": "stdout",
     "output_type": "stream",
     "text": [
      "Saved: 2025-09-12 19:38:31,0.20111294090747833,0.038307227194309235,9.938331604003906\n"
     ]
    },
    {
     "name": "stderr",
     "output_type": "stream",
     "text": [
      "ERROR:root:task: mqtt_task raised exception: [WinError 10054] An existing connection was forcibly closed by the remote host.\n",
      "ERROR:root:task: connection_task raised exception: .\n"
     ]
    },
    {
     "name": "stdout",
     "output_type": "stream",
     "text": [
      "Saved: 2025-09-12 19:38:33,0.20111294090747833,0.038307227194309235,9.911994934082031\n",
      "Saved: 2025-09-12 19:38:34,0.1843535304069519,0.038307227194309235,9.911994934082031\n"
     ]
    },
    {
     "name": "stderr",
     "output_type": "stream",
     "text": [
      "ERROR:root:task: mqtt_task raised exception: [WinError 10054] An existing connection was forcibly closed by the remote host.\n",
      "ERROR:root:task: connection_task raised exception: .\n"
     ]
    },
    {
     "name": "stdout",
     "output_type": "stream",
     "text": [
      "Saved: 2025-09-12 19:38:38,0.16998831927776337,0.038307227194309235,9.911994934082031\n"
     ]
    },
    {
     "name": "stderr",
     "output_type": "stream",
     "text": [
      "ERROR:root:task: mqtt_task raised exception: [WinError 10054] An existing connection was forcibly closed by the remote host.\n",
      "ERROR:root:task: connection_task raised exception: .\n"
     ]
    },
    {
     "name": "stdout",
     "output_type": "stream",
     "text": [
      "Saved: 2025-09-12 19:38:42,0.2082955539226532,0.038307227194309235,9.911994934082031\n"
     ]
    },
    {
     "name": "stderr",
     "output_type": "stream",
     "text": [
      "ERROR:root:task: mqtt_task raised exception: [WinError 10054] An existing connection was forcibly closed by the remote host.\n",
      "ERROR:root:task: connection_task raised exception: .\n"
     ]
    },
    {
     "name": "stdout",
     "output_type": "stream",
     "text": [
      "Saved: 2025-09-12 19:38:46,0.17477671802043915,0.038307227194309235,9.911994934082031\n"
     ]
    },
    {
     "name": "stderr",
     "output_type": "stream",
     "text": [
      "ERROR:root:task: mqtt_task raised exception: [WinError 10054] An existing connection was forcibly closed by the remote host.\n",
      "ERROR:root:task: connection_task raised exception: .\n",
      "ERROR:root:task: mqtt_task raised exception: [WinError 10054] An existing connection was forcibly closed by the remote host.\n",
      "ERROR:root:task: connection_task raised exception: .\n"
     ]
    },
    {
     "name": "stdout",
     "output_type": "stream",
     "text": [
      "Saved: 2025-09-12 19:38:53,0.20111294090747833,0.038307227194309235,9.911994934082031\n"
     ]
    },
    {
     "name": "stderr",
     "output_type": "stream",
     "text": [
      "ERROR:root:task: mqtt_task raised exception: [WinError 10054] An existing connection was forcibly closed by the remote host.\n",
      "ERROR:root:task: connection_task raised exception: .\n"
     ]
    },
    {
     "name": "stdout",
     "output_type": "stream",
     "text": [
      "Saved: 2025-09-12 19:38:57,0.22026655077934265,0.038307227194309235,9.911994934082031\n"
     ]
    },
    {
     "name": "stderr",
     "output_type": "stream",
     "text": [
      "ERROR:root:task: mqtt_task raised exception: [WinError 10054] An existing connection was forcibly closed by the remote host.\n",
      "ERROR:root:task: connection_task raised exception: .\n",
      "ERROR:root:task: mqtt_task raised exception: [WinError 10054] An existing connection was forcibly closed by the remote host.\n",
      "ERROR:root:task: connection_task raised exception: .\n"
     ]
    },
    {
     "name": "stdout",
     "output_type": "stream",
     "text": [
      "Saved: 2025-09-12 19:39:05,0.19871874153614044,0.038307227194309235,9.911994934082031\n"
     ]
    },
    {
     "name": "stderr",
     "output_type": "stream",
     "text": [
      "ERROR:root:task: mqtt_task raised exception: [WinError 10054] An existing connection was forcibly closed by the remote host.\n",
      "ERROR:root:task: connection_task raised exception: .\n"
     ]
    },
    {
     "name": "stdout",
     "output_type": "stream",
     "text": [
      "Saved: 2025-09-12 19:39:07,0.2106897532939911,0.038307227194309235,9.911994934082031\n",
      "Saved: 2025-09-12 19:39:08,0.2106897532939911,0.047884032130241394,9.911994934082031\n",
      "Saved: 2025-09-12 19:39:09,0.2106897532939911,0.047884032130241394,9.926360130310059\n"
     ]
    },
    {
     "name": "stderr",
     "output_type": "stream",
     "text": [
      "ERROR:root:task: mqtt_task raised exception: [WinError 10054] An existing connection was forcibly closed by the remote host.\n",
      "ERROR:root:task: connection_task raised exception: .\n"
     ]
    },
    {
     "name": "stdout",
     "output_type": "stream",
     "text": [
      "Saved: 2025-09-12 19:39:13,0.16519992053508759,0.047884032130241394,9.926360130310059\n"
     ]
    },
    {
     "name": "stderr",
     "output_type": "stream",
     "text": [
      "ERROR:root:task: mqtt_task raised exception: [WinError 10054] An existing connection was forcibly closed by the remote host.\n",
      "ERROR:root:task: connection_task raised exception: .\n"
     ]
    },
    {
     "name": "stdout",
     "output_type": "stream",
     "text": [
      "Saved: 2025-09-12 19:39:17,0.17477671802043915,0.047884032130241394,9.926360130310059\n"
     ]
    },
    {
     "name": "stderr",
     "output_type": "stream",
     "text": [
      "ERROR:root:task: mqtt_task raised exception: [WinError 10054] An existing connection was forcibly closed by the remote host.\n",
      "ERROR:root:task: connection_task raised exception: .\n",
      "ERROR:root:task: mqtt_task raised exception: [WinError 10054] An existing connection was forcibly closed by the remote host.\n",
      "ERROR:root:task: connection_task raised exception: .\n",
      "ERROR:root:task: mqtt_task raised exception: [WinError 10054] An existing connection was forcibly closed by the remote host.\n",
      "ERROR:root:task: connection_task raised exception: .\n"
     ]
    },
    {
     "name": "stdout",
     "output_type": "stream",
     "text": [
      "Saved: 2025-09-12 19:39:26,0.21308395266532898,0.047884032130241394,9.926360130310059\n"
     ]
    },
    {
     "name": "stderr",
     "output_type": "stream",
     "text": [
      "ERROR:root:task: mqtt_task raised exception: [WinError 10054] An existing connection was forcibly closed by the remote host.\n",
      "ERROR:root:task: connection_task raised exception: .\n"
     ]
    },
    {
     "name": "stdout",
     "output_type": "stream",
     "text": [
      "Saved: 2025-09-12 19:39:30,0.20350714027881622,0.047884032130241394,9.926360130310059\n"
     ]
    },
    {
     "name": "stderr",
     "output_type": "stream",
     "text": [
      "ERROR:root:task: mqtt_task raised exception: [WinError 10054] An existing connection was forcibly closed by the remote host.\n",
      "ERROR:root:task: connection_task raised exception: .\n"
     ]
    },
    {
     "name": "stdout",
     "output_type": "stream",
     "text": [
      "Saved: 2025-09-12 19:39:34,0.1843535304069519,0.047884032130241394,9.926360130310059\n"
     ]
    },
    {
     "name": "stderr",
     "output_type": "stream",
     "text": [
      "ERROR:root:task: mqtt_task raised exception: [WinError 10054] An existing connection was forcibly closed by the remote host.\n",
      "ERROR:root:task: connection_task raised exception: .\n",
      "ERROR:root:task: mqtt_task raised exception: [WinError 10054] An existing connection was forcibly closed by the remote host.\n",
      "ERROR:root:task: connection_task raised exception: .\n"
     ]
    },
    {
     "name": "stdout",
     "output_type": "stream",
     "text": [
      "Saved: 2025-09-12 19:39:41,0.19153612852096558,0.047884032130241394,9.926360130310059\n"
     ]
    },
    {
     "name": "stderr",
     "output_type": "stream",
     "text": [
      "ERROR:root:task: mqtt_task raised exception: [WinError 10054] An existing connection was forcibly closed by the remote host.\n",
      "ERROR:root:task: connection_task raised exception: .\n",
      "ERROR:root:task: mqtt_task raised exception: [WinError 10054] An existing connection was forcibly closed by the remote host.\n",
      "ERROR:root:task: connection_task raised exception: .\n"
     ]
    },
    {
     "name": "stdout",
     "output_type": "stream",
     "text": [
      "Saved: 2025-09-12 19:39:47,0.16759411990642548,0.047884032130241394,9.926360130310059\n"
     ]
    },
    {
     "name": "stderr",
     "output_type": "stream",
     "text": [
      "ERROR:root:task: mqtt_task raised exception: [WinError 10054] An existing connection was forcibly closed by the remote host.\n",
      "ERROR:root:task: connection_task raised exception: .\n"
     ]
    },
    {
     "name": "stdout",
     "output_type": "stream",
     "text": [
      "Saved: 2025-09-12 19:39:51,0.19871874153614044,0.047884032130241394,9.926360130310059\n"
     ]
    },
    {
     "name": "stderr",
     "output_type": "stream",
     "text": [
      "ERROR:root:task: mqtt_task raised exception: [WinError 10054] An existing connection was forcibly closed by the remote host.\n",
      "ERROR:root:task: connection_task raised exception: .\n"
     ]
    },
    {
     "name": "stdout",
     "output_type": "stream",
     "text": [
      "Saved: 2025-09-12 19:39:55,0.19871874153614044,0.031124621629714966,9.926360130310059\n"
     ]
    },
    {
     "name": "stderr",
     "output_type": "stream",
     "text": [
      "ERROR:root:task: mqtt_task raised exception: [WinError 10054] An existing connection was forcibly closed by the remote host.\n",
      "ERROR:root:task: connection_task raised exception: .\n",
      "ERROR:root:task: mqtt_task raised exception: [WinError 10054] An existing connection was forcibly closed by the remote host.\n",
      "ERROR:root:task: connection_task raised exception: .\n",
      "ERROR:root:task: mqtt_task raised exception: [WinError 10054] An existing connection was forcibly closed by the remote host.\n",
      "ERROR:root:task: connection_task raised exception: .\n",
      "ERROR:root:task: mqtt_task raised exception: [WinError 10054] An existing connection was forcibly closed by the remote host.\n",
      "ERROR:root:task: connection_task raised exception: .\n",
      "ERROR:root:task: mqtt_task raised exception: [WinError 10054] An existing connection was forcibly closed by the remote host.\n",
      "ERROR:root:task: connection_task raised exception: .\n",
      "ERROR:root:task: mqtt_task raised exception: [WinError 10054] An existing connection was forcibly closed by the remote host.\n",
      "ERROR:root:task: connection_task raised exception: .\n"
     ]
    },
    {
     "name": "stdout",
     "output_type": "stream",
     "text": [
      "Saved: 2025-09-12 19:40:14,0.17956513166427612,0.031124621629714966,9.926360130310059\n"
     ]
    },
    {
     "name": "stderr",
     "output_type": "stream",
     "text": [
      "ERROR:root:task: mqtt_task raised exception: [WinError 10054] An existing connection was forcibly closed by the remote host.\n",
      "ERROR:root:task: connection_task raised exception: .\n"
     ]
    },
    {
     "name": "stdout",
     "output_type": "stream",
     "text": [
      "Saved: 2025-09-12 19:40:18,0.1843535304069519,0.031124621629714966,9.926360130310059\n"
     ]
    },
    {
     "name": "stderr",
     "output_type": "stream",
     "text": [
      "ERROR:root:task: mqtt_task raised exception: [WinError 10054] An existing connection was forcibly closed by the remote host.\n",
      "ERROR:root:task: connection_task raised exception: .\n",
      "ERROR:root:task: mqtt_task raised exception: [WinError 10054] An existing connection was forcibly closed by the remote host.\n",
      "ERROR:root:task: connection_task raised exception: .\n"
     ]
    },
    {
     "name": "stdout",
     "output_type": "stream",
     "text": [
      "Saved: 2025-09-12 19:40:26,0.17956513166427612,0.031124621629714966,9.926360130310059\n"
     ]
    },
    {
     "name": "stderr",
     "output_type": "stream",
     "text": [
      "ERROR:root:task: mqtt_task raised exception: [WinError 10054] An existing connection was forcibly closed by the remote host.\n",
      "ERROR:root:task: connection_task raised exception: .\n"
     ]
    },
    {
     "name": "stdout",
     "output_type": "stream",
     "text": [
      "Saved: 2025-09-12 19:40:29,0.1843535304069519,0.031124621629714966,9.926360130310059\n"
     ]
    },
    {
     "name": "stderr",
     "output_type": "stream",
     "text": [
      "ERROR:root:task: mqtt_task raised exception: [WinError 10054] An existing connection was forcibly closed by the remote host.\n",
      "ERROR:root:task: connection_task raised exception: .\n",
      "ERROR:root:task: mqtt_task raised exception: [WinError 10054] An existing connection was forcibly closed by the remote host.\n",
      "ERROR:root:task: connection_task raised exception: .\n"
     ]
    },
    {
     "name": "stdout",
     "output_type": "stream",
     "text": [
      "Saved: 2025-09-12 19:40:37,0.1604115068912506,0.031124621629714966,9.926360130310059\n"
     ]
    },
    {
     "name": "stderr",
     "output_type": "stream",
     "text": [
      "ERROR:root:task: mqtt_task raised exception: [WinError 10054] An existing connection was forcibly closed by the remote host.\n",
      "ERROR:root:task: connection_task raised exception: .\n"
     ]
    },
    {
     "name": "stdout",
     "output_type": "stream",
     "text": [
      "Saved: 2025-09-12 19:40:41,0.1867477297782898,0.031124621629714966,9.926360130310059\n"
     ]
    },
    {
     "name": "stderr",
     "output_type": "stream",
     "text": [
      "ERROR:root:task: mqtt_task raised exception: [WinError 10054] An existing connection was forcibly closed by the remote host.\n",
      "ERROR:root:task: connection_task raised exception: .\n"
     ]
    },
    {
     "name": "stdout",
     "output_type": "stream",
     "text": [
      "Saved: 2025-09-12 19:40:44,0.1843535304069519,0.031124621629714966,9.926360130310059\n"
     ]
    },
    {
     "name": "stderr",
     "output_type": "stream",
     "text": [
      "ERROR:root:task: mqtt_task raised exception: [WinError 10054] An existing connection was forcibly closed by the remote host.\n",
      "ERROR:root:task: connection_task raised exception: .\n",
      "ERROR:root:task: mqtt_task raised exception: [WinError 10054] An existing connection was forcibly closed by the remote host.\n",
      "ERROR:root:task: connection_task raised exception: .\n",
      "ERROR:root:task: mqtt_task raised exception: [WinError 10054] An existing connection was forcibly closed by the remote host.\n",
      "ERROR:root:task: connection_task raised exception: .\n"
     ]
    },
    {
     "name": "stdout",
     "output_type": "stream",
     "text": [
      "Saved: 2025-09-12 19:40:54,0.2082955539226532,0.031124621629714966,9.926360130310059\n"
     ]
    },
    {
     "name": "stderr",
     "output_type": "stream",
     "text": [
      "ERROR:root:task: mqtt_task raised exception: [WinError 10054] An existing connection was forcibly closed by the remote host.\n",
      "ERROR:root:task: connection_task raised exception: .\n"
     ]
    },
    {
     "name": "stdout",
     "output_type": "stream",
     "text": [
      "Saved: 2025-09-12 19:40:58,0.2082955539226532,0.031124621629714966,9.926360130310059\n"
     ]
    },
    {
     "name": "stderr",
     "output_type": "stream",
     "text": [
      "ERROR:root:task: mqtt_task raised exception: [WinError 10054] An existing connection was forcibly closed by the remote host.\n",
      "ERROR:root:task: connection_task raised exception: .\n",
      "ERROR:root:task: mqtt_task raised exception: [WinError 10054] An existing connection was forcibly closed by the remote host.\n",
      "ERROR:root:task: connection_task raised exception: .\n"
     ]
    },
    {
     "name": "stdout",
     "output_type": "stream",
     "text": [
      "Saved: 2025-09-12 19:41:04,0.181959331035614,0.031124621629714966,9.926360130310059\n"
     ]
    },
    {
     "name": "stderr",
     "output_type": "stream",
     "text": [
      "ERROR:root:task: mqtt_task raised exception: [WinError 10054] An existing connection was forcibly closed by the remote host.\n",
      "ERROR:root:task: connection_task raised exception: .\n",
      "ERROR:root:task: mqtt_task raised exception: [WinError 10054] An existing connection was forcibly closed by the remote host.\n",
      "ERROR:root:task: connection_task raised exception: .\n"
     ]
    },
    {
     "name": "stdout",
     "output_type": "stream",
     "text": [
      "Saved: 2025-09-12 19:41:12,0.16998831927776337,0.031124621629714966,9.926360130310059\n"
     ]
    },
    {
     "name": "stderr",
     "output_type": "stream",
     "text": [
      "ERROR:root:task: mqtt_task raised exception: [WinError 10054] An existing connection was forcibly closed by the remote host.\n",
      "ERROR:root:task: connection_task raised exception: .\n",
      "ERROR:root:task: mqtt_task raised exception: [WinError 10054] An existing connection was forcibly closed by the remote host.\n",
      "ERROR:root:task: connection_task raised exception: .\n"
     ]
    },
    {
     "name": "stdout",
     "output_type": "stream",
     "text": [
      "Saved: 2025-09-12 19:41:18,0.1867477297782898,0.031124621629714966,9.926360130310059\n"
     ]
    },
    {
     "name": "stderr",
     "output_type": "stream",
     "text": [
      "ERROR:root:task: mqtt_task raised exception: [WinError 10054] An existing connection was forcibly closed by the remote host.\n",
      "ERROR:root:task: connection_task raised exception: .\n"
     ]
    },
    {
     "name": "stdout",
     "output_type": "stream",
     "text": [
      "Saved: 2025-09-12 19:41:22,4.99669885635376,0.031124621629714966,9.926360130310059\n"
     ]
    },
    {
     "name": "stderr",
     "output_type": "stream",
     "text": [
      "ERROR:root:task: mqtt_task raised exception: [WinError 10054] An existing connection was forcibly closed by the remote host.\n",
      "ERROR:root:task: connection_task raised exception: .\n"
     ]
    },
    {
     "name": "stdout",
     "output_type": "stream",
     "text": [
      "Saved: 2025-09-12 19:41:26,-4.632780075073242,0.031124621629714966,9.926360130310059\n"
     ]
    },
    {
     "name": "stderr",
     "output_type": "stream",
     "text": [
      "ERROR:root:task: mqtt_task raised exception: [WinError 10054] An existing connection was forcibly closed by the remote host.\n",
      "ERROR:root:task: connection_task raised exception: .\n",
      "ERROR:root:task: mqtt_task raised exception: [WinError 10054] An existing connection was forcibly closed by the remote host.\n",
      "ERROR:root:task: connection_task raised exception: .\n"
     ]
    },
    {
     "name": "stdout",
     "output_type": "stream",
     "text": [
      "Saved: 2025-09-12 19:41:33,5.178658485412598,0.031124621629714966,9.926360130310059\n"
     ]
    },
    {
     "name": "stderr",
     "output_type": "stream",
     "text": [
      "ERROR:root:task: mqtt_task raised exception: [WinError 10054] An existing connection was forcibly closed by the remote host.\n",
      "ERROR:root:task: connection_task raised exception: .\n"
     ]
    },
    {
     "name": "stdout",
     "output_type": "stream",
     "text": [
      "Saved: 2025-09-12 19:41:37,-8.068459510803223,0.031124621629714966,9.926360130310059\n"
     ]
    },
    {
     "name": "stderr",
     "output_type": "stream",
     "text": [
      "ERROR:root:task: mqtt_task raised exception: [WinError 10054] An existing connection was forcibly closed by the remote host.\n",
      "ERROR:root:task: connection_task raised exception: .\n",
      "ERROR:root:task: mqtt_task raised exception: [WinError 10054] An existing connection was forcibly closed by the remote host.\n",
      "ERROR:root:task: connection_task raised exception: .\n"
     ]
    },
    {
     "name": "stdout",
     "output_type": "stream",
     "text": [
      "Saved: 2025-09-12 19:41:45,-8.56884765625,0.031124621629714966,9.926360130310059\n"
     ]
    },
    {
     "name": "stderr",
     "output_type": "stream",
     "text": [
      "ERROR:root:task: mqtt_task raised exception: [WinError 10054] An existing connection was forcibly closed by the remote host.\n",
      "ERROR:root:task: connection_task raised exception: .\n",
      "ERROR:root:task: mqtt_task raised exception: [WinError 10054] An existing connection was forcibly closed by the remote host.\n",
      "ERROR:root:task: connection_task raised exception: .\n",
      "ERROR:root:task: mqtt_task raised exception: [WinError 10054] An existing connection was forcibly closed by the remote host.\n",
      "ERROR:root:task: connection_task raised exception: .\n"
     ]
    },
    {
     "name": "stdout",
     "output_type": "stream",
     "text": [
      "Saved: 2025-09-12 19:41:54,-16.927005767822266,0.031124621629714966,9.926360130310059\n"
     ]
    },
    {
     "name": "stderr",
     "output_type": "stream",
     "text": [
      "ERROR:root:task: mqtt_task raised exception: [WinError 10054] An existing connection was forcibly closed by the remote host.\n",
      "ERROR:root:task: connection_task raised exception: .\n"
     ]
    },
    {
     "name": "stdout",
     "output_type": "stream",
     "text": [
      "Saved: 2025-09-12 19:41:58,-7.139509677886963,0.031124621629714966,9.926360130310059\n"
     ]
    },
    {
     "name": "stderr",
     "output_type": "stream",
     "text": [
      "ERROR:root:task: mqtt_task raised exception: [WinError 10054] An existing connection was forcibly closed by the remote host.\n",
      "ERROR:root:task: connection_task raised exception: .\n",
      "ERROR:root:task: mqtt_task raised exception: [WinError 10054] An existing connection was forcibly closed by the remote host.\n",
      "ERROR:root:task: connection_task raised exception: .\n",
      "ERROR:root:task: mqtt_task raised exception: [WinError 10054] An existing connection was forcibly closed by the remote host.\n",
      "ERROR:root:task: connection_task raised exception: .\n"
     ]
    },
    {
     "name": "stdout",
     "output_type": "stream",
     "text": [
      "Saved: 2025-09-12 19:42:07,-2.2385785579681396,0.031124621629714966,9.926360130310059\n",
      "Saved: 2025-09-12 19:42:08,-2.2385785579681396,2.7054479122161865,9.926360130310059\n"
     ]
    },
    {
     "name": "stderr",
     "output_type": "stream",
     "text": [
      "ERROR:root:task: mqtt_task raised exception: [WinError 10054] An existing connection was forcibly closed by the remote host.\n",
      "ERROR:root:task: connection_task raised exception: .\n"
     ]
    },
    {
     "name": "stdout",
     "output_type": "stream",
     "text": [
      "Saved: 2025-09-12 19:42:12,-5.813121795654297,2.7054479122161865,9.926360130310059\n"
     ]
    },
    {
     "name": "stderr",
     "output_type": "stream",
     "text": [
      "ERROR:root:task: mqtt_task raised exception: [WinError 10054] An existing connection was forcibly closed by the remote host.\n",
      "ERROR:root:task: connection_task raised exception: .\n",
      "ERROR:root:task: mqtt_task raised exception: [WinError 10054] An existing connection was forcibly closed by the remote host.\n",
      "ERROR:root:task: connection_task raised exception: .\n"
     ]
    },
    {
     "name": "stdout",
     "output_type": "stream",
     "text": [
      "Saved: 2025-09-12 19:42:20,-7.615955829620361,2.7054479122161865,9.926360130310059\n"
     ]
    },
    {
     "name": "stderr",
     "output_type": "stream",
     "text": [
      "ERROR:root:task: mqtt_task raised exception: [WinError 10054] An existing connection was forcibly closed by the remote host.\n",
      "ERROR:root:task: connection_task raised exception: .\n"
     ]
    },
    {
     "name": "stdout",
     "output_type": "stream",
     "text": [
      "Saved: 2025-09-12 19:42:23,-8.78193187713623,2.7054479122161865,9.926360130310059\n"
     ]
    },
    {
     "name": "stderr",
     "output_type": "stream",
     "text": [
      "ERROR:root:task: mqtt_task raised exception: [WinError 10054] An existing connection was forcibly closed by the remote host.\n",
      "ERROR:root:task: connection_task raised exception: .\n",
      "ERROR:root:task: mqtt_task raised exception: [WinError 10054] An existing connection was forcibly closed by the remote host.\n",
      "ERROR:root:task: connection_task raised exception: .\n"
     ]
    },
    {
     "name": "stdout",
     "output_type": "stream",
     "text": [
      "Saved: 2025-09-12 19:42:31,-8.245630264282227,2.7054479122161865,9.926360130310059\n"
     ]
    },
    {
     "name": "stderr",
     "output_type": "stream",
     "text": [
      "ERROR:root:task: mqtt_task raised exception: [WinError 10054] An existing connection was forcibly closed by the remote host.\n",
      "ERROR:root:task: connection_task raised exception: .\n"
     ]
    },
    {
     "name": "stdout",
     "output_type": "stream",
     "text": [
      "Saved: 2025-09-12 19:42:35,-7.026981830596924,2.7054479122161865,9.926360130310059\n"
     ]
    },
    {
     "name": "stderr",
     "output_type": "stream",
     "text": [
      "ERROR:root:task: mqtt_task raised exception: [WinError 10054] An existing connection was forcibly closed by the remote host.\n",
      "ERROR:root:task: connection_task raised exception: .\n",
      "ERROR:root:task: mqtt_task raised exception: [WinError 10054] An existing connection was forcibly closed by the remote host.\n",
      "ERROR:root:task: connection_task raised exception: .\n"
     ]
    },
    {
     "name": "stdout",
     "output_type": "stream",
     "text": [
      "Saved: 2025-09-12 19:42:42,-7.3023152351379395,2.7054479122161865,9.926360130310059\n"
     ]
    },
    {
     "name": "stderr",
     "output_type": "stream",
     "text": [
      "ERROR:root:task: mqtt_task raised exception: [WinError 10054] An existing connection was forcibly closed by the remote host.\n",
      "ERROR:root:task: connection_task raised exception: .\n"
     ]
    },
    {
     "name": "stdout",
     "output_type": "stream",
     "text": [
      "Saved: 2025-09-12 19:42:46,-7.359776020050049,2.7054479122161865,9.926360130310059\n"
     ]
    },
    {
     "name": "stderr",
     "output_type": "stream",
     "text": [
      "ERROR:root:task: mqtt_task raised exception: [WinError 10054] An existing connection was forcibly closed by the remote host.\n",
      "ERROR:root:task: connection_task raised exception: .\n",
      "ERROR:root:task: mqtt_task raised exception: [WinError 10054] An existing connection was forcibly closed by the remote host.\n",
      "ERROR:root:task: connection_task raised exception: .\n",
      "ERROR:root:task: mqtt_task raised exception: [WinError 10054] An existing connection was forcibly closed by the remote host.\n",
      "ERROR:root:task: connection_task raised exception: .\n"
     ]
    },
    {
     "name": "stdout",
     "output_type": "stream",
     "text": [
      "Saved: 2025-09-12 19:42:56,-6.536170482635498,2.7054479122161865,9.926360130310059\n"
     ]
    },
    {
     "name": "stderr",
     "output_type": "stream",
     "text": [
      "ERROR:root:task: mqtt_task raised exception: [WinError 10054] An existing connection was forcibly closed by the remote host.\n",
      "ERROR:root:task: connection_task raised exception: .\n"
     ]
    },
    {
     "name": "stdout",
     "output_type": "stream",
     "text": [
      "Saved: 2025-09-12 19:43:00,-6.540958881378174,2.7054479122161865,9.926360130310059\n"
     ]
    },
    {
     "name": "stderr",
     "output_type": "stream",
     "text": [
      "ERROR:root:task: mqtt_task raised exception: [WinError 10054] An existing connection was forcibly closed by the remote host.\n",
      "ERROR:root:task: connection_task raised exception: .\n",
      "ERROR:root:task: mqtt_task raised exception: [WinError 10054] An existing connection was forcibly closed by the remote host.\n",
      "ERROR:root:task: connection_task raised exception: .\n",
      "ERROR:root:task: mqtt_task raised exception: [WinError 10054] An existing connection was forcibly closed by the remote host.\n",
      "ERROR:root:task: connection_task raised exception: .\n",
      "ERROR:root:task: mqtt_task raised exception: [WinError 10054] An existing connection was forcibly closed by the remote host.\n",
      "ERROR:root:task: connection_task raised exception: .\n",
      "ERROR:root:task: mqtt_task raised exception: [WinError 10054] An existing connection was forcibly closed by the remote host.\n",
      "ERROR:root:task: connection_task raised exception: .\n",
      "ERROR:root:task: mqtt_task raised exception: [WinError 10054] An existing connection was forcibly closed by the remote host.\n",
      "ERROR:root:task: connection_task raised exception: .\n",
      "ERROR:root:task: mqtt_task raised exception: [WinError 10054] An existing connection was forcibly closed by the remote host.\n",
      "ERROR:root:task: connection_task raised exception: .\n",
      "ERROR:root:task: mqtt_task raised exception: [WinError 10054] An existing connection was forcibly closed by the remote host.\n",
      "ERROR:root:task: connection_task raised exception: .\n",
      "ERROR:root:task: mqtt_task raised exception: [WinError 10054] An existing connection was forcibly closed by the remote host.\n",
      "ERROR:root:task: connection_task raised exception: .\n",
      "ERROR:root:task: mqtt_task raised exception: [WinError 10054] An existing connection was forcibly closed by the remote host.\n",
      "ERROR:root:task: connection_task raised exception: .\n",
      "ERROR:root:task: mqtt_task raised exception: [WinError 10054] An existing connection was forcibly closed by the remote host.\n",
      "ERROR:root:task: connection_task raised exception: .\n",
      "ERROR:root:task: mqtt_task raised exception: [WinError 10054] An existing connection was forcibly closed by the remote host.\n",
      "ERROR:root:task: connection_task raised exception: .\n",
      "ERROR:root:task: mqtt_task raised exception: [WinError 10054] An existing connection was forcibly closed by the remote host.\n",
      "ERROR:root:task: connection_task raised exception: .\n",
      "ERROR:root:task: mqtt_task raised exception: [WinError 10054] An existing connection was forcibly closed by the remote host.\n",
      "ERROR:root:task: connection_task raised exception: .\n",
      "ERROR:root:task: mqtt_task raised exception: [WinError 10054] An existing connection was forcibly closed by the remote host.\n",
      "ERROR:root:task: connection_task raised exception: .\n",
      "ERROR:root:task: mqtt_task raised exception: [WinError 10054] An existing connection was forcibly closed by the remote host.\n",
      "ERROR:root:task: connection_task raised exception: .\n",
      "ERROR:root:task: mqtt_task raised exception: [WinError 10054] An existing connection was forcibly closed by the remote host.\n",
      "ERROR:root:task: connection_task raised exception: .\n",
      "ERROR:root:task: mqtt_task raised exception: [WinError 10054] An existing connection was forcibly closed by the remote host.\n",
      "ERROR:root:task: connection_task raised exception: .\n",
      "ERROR:root:task: mqtt_task raised exception: [WinError 10054] An existing connection was forcibly closed by the remote host.\n",
      "ERROR:root:task: connection_task raised exception: .\n",
      "ERROR:root:task: mqtt_task raised exception: [WinError 10054] An existing connection was forcibly closed by the remote host.\n",
      "ERROR:root:task: connection_task raised exception: .\n",
      "ERROR:root:task: mqtt_task raised exception: [WinError 10054] An existing connection was forcibly closed by the remote host.\n",
      "ERROR:root:task: connection_task raised exception: .\n",
      "ERROR:root:task: mqtt_task raised exception: [WinError 10054] An existing connection was forcibly closed by the remote host.\n",
      "ERROR:root:task: connection_task raised exception: .\n",
      "ERROR:root:task: mqtt_task raised exception: [WinError 10054] An existing connection was forcibly closed by the remote host.\n",
      "ERROR:root:task: connection_task raised exception: .\n",
      "ERROR:root:task: mqtt_task raised exception: [WinError 10054] An existing connection was forcibly closed by the remote host.\n",
      "ERROR:root:task: connection_task raised exception: .\n",
      "ERROR:root:task: mqtt_task raised exception: [WinError 10054] An existing connection was forcibly closed by the remote host.\n",
      "ERROR:root:task: connection_task raised exception: .\n",
      "ERROR:root:task: mqtt_task raised exception: [WinError 10054] An existing connection was forcibly closed by the remote host.\n",
      "ERROR:root:task: connection_task raised exception: .\n",
      "ERROR:root:task: mqtt_task raised exception: [WinError 10054] An existing connection was forcibly closed by the remote host.\n",
      "ERROR:root:task: connection_task raised exception: .\n",
      "ERROR:root:task: mqtt_task raised exception: [WinError 10054] An existing connection was forcibly closed by the remote host.\n",
      "ERROR:root:task: connection_task raised exception: .\n",
      "ERROR:root:task: mqtt_task raised exception: [WinError 10054] An existing connection was forcibly closed by the remote host.\n",
      "ERROR:root:task: connection_task raised exception: .\n",
      "ERROR:root:task: mqtt_task raised exception: [WinError 10054] An existing connection was forcibly closed by the remote host.\n",
      "ERROR:root:task: connection_task raised exception: .\n",
      "ERROR:root:task: mqtt_task raised exception: [WinError 10054] An existing connection was forcibly closed by the remote host.\n",
      "ERROR:root:task: connection_task raised exception: .\n",
      "ERROR:root:task: mqtt_task raised exception: [WinError 10054] An existing connection was forcibly closed by the remote host.\n",
      "ERROR:root:task: connection_task raised exception: .\n",
      "ERROR:root:task: mqtt_task raised exception: [WinError 10054] An existing connection was forcibly closed by the remote host.\n",
      "ERROR:root:task: connection_task raised exception: .\n",
      "ERROR:root:task: mqtt_task raised exception: [WinError 10054] An existing connection was forcibly closed by the remote host.\n",
      "ERROR:root:task: connection_task raised exception: .\n",
      "ERROR:root:task: mqtt_task raised exception: [WinError 10054] An existing connection was forcibly closed by the remote host.\n",
      "ERROR:root:task: connection_task raised exception: .\n",
      "ERROR:root:task: mqtt_task raised exception: [WinError 10054] An existing connection was forcibly closed by the remote host.\n",
      "ERROR:root:task: connection_task raised exception: .\n",
      "ERROR:root:task: mqtt_task raised exception: [WinError 10054] An existing connection was forcibly closed by the remote host.\n",
      "ERROR:root:task: connection_task raised exception: .\n",
      "ERROR:root:task: mqtt_task raised exception: [WinError 10054] An existing connection was forcibly closed by the remote host.\n",
      "ERROR:root:task: connection_task raised exception: .\n",
      "ERROR:root:task: mqtt_task raised exception: [WinError 10054] An existing connection was forcibly closed by the remote host.\n",
      "ERROR:root:task: connection_task raised exception: .\n",
      "ERROR:root:task: mqtt_task raised exception: [WinError 10054] An existing connection was forcibly closed by the remote host.\n",
      "ERROR:root:task: connection_task raised exception: .\n",
      "ERROR:root:task: mqtt_task raised exception: [WinError 10054] An existing connection was forcibly closed by the remote host.\n",
      "ERROR:root:task: connection_task raised exception: .\n",
      "ERROR:root:task: mqtt_task raised exception: [WinError 10054] An existing connection was forcibly closed by the remote host.\n",
      "ERROR:root:task: connection_task raised exception: .\n",
      "ERROR:root:task: mqtt_task raised exception: [WinError 10054] An existing connection was forcibly closed by the remote host.\n",
      "ERROR:root:task: connection_task raised exception: .\n",
      "ERROR:root:task: mqtt_task raised exception: [WinError 10054] An existing connection was forcibly closed by the remote host.\n",
      "ERROR:root:task: connection_task raised exception: .\n",
      "ERROR:root:task: mqtt_task raised exception: [WinError 10054] An existing connection was forcibly closed by the remote host.\n",
      "ERROR:root:task: connection_task raised exception: .\n",
      "ERROR:root:task: mqtt_task raised exception: [WinError 10054] An existing connection was forcibly closed by the remote host.\n",
      "ERROR:root:task: connection_task raised exception: .\n",
      "ERROR:root:task: mqtt_task raised exception: [WinError 10054] An existing connection was forcibly closed by the remote host.\n",
      "ERROR:root:task: connection_task raised exception: .\n",
      "ERROR:root:task: mqtt_task raised exception: [WinError 10054] An existing connection was forcibly closed by the remote host.\n",
      "ERROR:root:task: connection_task raised exception: .\n",
      "ERROR:root:task: mqtt_task raised exception: [WinError 10054] An existing connection was forcibly closed by the remote host.\n",
      "ERROR:root:task: connection_task raised exception: .\n",
      "ERROR:root:task: mqtt_task raised exception: [WinError 10054] An existing connection was forcibly closed by the remote host.\n",
      "ERROR:root:task: connection_task raised exception: .\n",
      "ERROR:root:task: mqtt_task raised exception: [WinError 10054] An existing connection was forcibly closed by the remote host.\n",
      "ERROR:root:task: connection_task raised exception: .\n",
      "ERROR:root:task: mqtt_task raised exception: [WinError 10054] An existing connection was forcibly closed by the remote host.\n",
      "ERROR:root:task: connection_task raised exception: .\n",
      "ERROR:root:task: mqtt_task raised exception: [WinError 10054] An existing connection was forcibly closed by the remote host.\n",
      "ERROR:root:task: connection_task raised exception: .\n",
      "ERROR:root:task: mqtt_task raised exception: [WinError 10054] An existing connection was forcibly closed by the remote host.\n",
      "ERROR:root:task: connection_task raised exception: .\n",
      "ERROR:root:task: mqtt_task raised exception: [WinError 10054] An existing connection was forcibly closed by the remote host.\n",
      "ERROR:root:task: connection_task raised exception: .\n",
      "ERROR:root:task: mqtt_task raised exception: [WinError 10054] An existing connection was forcibly closed by the remote host.\n",
      "ERROR:root:task: connection_task raised exception: .\n",
      "ERROR:root:task: mqtt_task raised exception: [WinError 10054] An existing connection was forcibly closed by the remote host.\n",
      "ERROR:root:task: connection_task raised exception: .\n",
      "ERROR:root:task: mqtt_task raised exception: [WinError 10054] An existing connection was forcibly closed by the remote host.\n",
      "ERROR:root:task: connection_task raised exception: .\n",
      "ERROR:root:task: mqtt_task raised exception: [WinError 10054] An existing connection was forcibly closed by the remote host.\n",
      "ERROR:root:task: connection_task raised exception: .\n",
      "ERROR:root:task: mqtt_task raised exception: [WinError 10054] An existing connection was forcibly closed by the remote host.\n",
      "ERROR:root:task: connection_task raised exception: .\n",
      "ERROR:root:task: mqtt_task raised exception: [WinError 10054] An existing connection was forcibly closed by the remote host.\n",
      "ERROR:root:task: connection_task raised exception: .\n",
      "ERROR:root:task: mqtt_task raised exception: [WinError 10054] An existing connection was forcibly closed by the remote host.\n",
      "ERROR:root:task: connection_task raised exception: .\n",
      "ERROR:root:task: mqtt_task raised exception: [WinError 10054] An existing connection was forcibly closed by the remote host.\n",
      "ERROR:root:task: connection_task raised exception: .\n",
      "ERROR:root:task: mqtt_task raised exception: [WinError 10054] An existing connection was forcibly closed by the remote host.\n",
      "ERROR:root:task: connection_task raised exception: .\n",
      "ERROR:root:task: mqtt_task raised exception: [WinError 10054] An existing connection was forcibly closed by the remote host.\n",
      "ERROR:root:task: connection_task raised exception: .\n",
      "ERROR:root:task: mqtt_task raised exception: [WinError 10054] An existing connection was forcibly closed by the remote host.\n",
      "ERROR:root:task: connection_task raised exception: .\n",
      "ERROR:root:task: mqtt_task raised exception: [WinError 10054] An existing connection was forcibly closed by the remote host.\n",
      "ERROR:root:task: connection_task raised exception: .\n",
      "ERROR:root:task: mqtt_task raised exception: [WinError 10054] An existing connection was forcibly closed by the remote host.\n",
      "ERROR:root:task: connection_task raised exception: .\n",
      "ERROR:root:task: mqtt_task raised exception: [WinError 10054] An existing connection was forcibly closed by the remote host.\n",
      "ERROR:root:task: connection_task raised exception: .\n",
      "ERROR:root:task: mqtt_task raised exception: [WinError 10054] An existing connection was forcibly closed by the remote host.\n",
      "ERROR:root:task: connection_task raised exception: .\n",
      "ERROR:root:task: mqtt_task raised exception: [WinError 10054] An existing connection was forcibly closed by the remote host.\n",
      "ERROR:root:task: connection_task raised exception: .\n",
      "ERROR:root:task: mqtt_task raised exception: [WinError 10054] An existing connection was forcibly closed by the remote host.\n",
      "ERROR:root:task: connection_task raised exception: .\n",
      "ERROR:root:task: mqtt_task raised exception: [WinError 10054] An existing connection was forcibly closed by the remote host.\n",
      "ERROR:root:task: connection_task raised exception: .\n",
      "ERROR:root:task: mqtt_task raised exception: [WinError 10054] An existing connection was forcibly closed by the remote host.\n",
      "ERROR:root:task: connection_task raised exception: .\n",
      "ERROR:root:task: mqtt_task raised exception: [WinError 10054] An existing connection was forcibly closed by the remote host.\n",
      "ERROR:root:task: connection_task raised exception: .\n",
      "ERROR:root:task: mqtt_task raised exception: [WinError 10054] An existing connection was forcibly closed by the remote host.\n",
      "ERROR:root:task: connection_task raised exception: .\n",
      "ERROR:root:task: mqtt_task raised exception: [WinError 10054] An existing connection was forcibly closed by the remote host.\n",
      "ERROR:root:task: connection_task raised exception: .\n",
      "ERROR:root:task: mqtt_task raised exception: [WinError 10054] An existing connection was forcibly closed by the remote host.\n",
      "ERROR:root:task: connection_task raised exception: .\n",
      "ERROR:root:task: mqtt_task raised exception: [WinError 10054] An existing connection was forcibly closed by the remote host.\n",
      "ERROR:root:task: connection_task raised exception: .\n",
      "ERROR:root:task: mqtt_task raised exception: [WinError 10054] An existing connection was forcibly closed by the remote host.\n",
      "ERROR:root:task: connection_task raised exception: .\n",
      "ERROR:root:task: mqtt_task raised exception: [WinError 10054] An existing connection was forcibly closed by the remote host.\n",
      "ERROR:root:task: connection_task raised exception: .\n",
      "ERROR:root:task: mqtt_task raised exception: [WinError 10054] An existing connection was forcibly closed by the remote host.\n",
      "ERROR:root:task: connection_task raised exception: .\n",
      "ERROR:root:task: mqtt_task raised exception: [WinError 10054] An existing connection was forcibly closed by the remote host.\n",
      "ERROR:root:task: connection_task raised exception: .\n",
      "ERROR:root:task: mqtt_task raised exception: [WinError 10054] An existing connection was forcibly closed by the remote host.\n",
      "ERROR:root:task: connection_task raised exception: .\n",
      "ERROR:root:task: mqtt_task raised exception: [WinError 10054] An existing connection was forcibly closed by the remote host.\n",
      "ERROR:root:task: connection_task raised exception: .\n",
      "ERROR:root:task: mqtt_task raised exception: [WinError 10054] An existing connection was forcibly closed by the remote host.\n",
      "ERROR:root:task: connection_task raised exception: .\n",
      "ERROR:root:task: mqtt_task raised exception: [WinError 10054] An existing connection was forcibly closed by the remote host.\n",
      "ERROR:root:task: connection_task raised exception: .\n",
      "ERROR:root:task: mqtt_task raised exception: [WinError 10054] An existing connection was forcibly closed by the remote host.\n",
      "ERROR:root:task: connection_task raised exception: .\n",
      "ERROR:root:task: connection_task raised exception: .\n",
      "ERROR:root:task: mqtt_task raised exception: [WinError 10054] An existing connection was forcibly closed by the remote host.\n",
      "ERROR:root:task: connection_task raised exception: .\n",
      "ERROR:root:task: mqtt_task raised exception: [WinError 10054] An existing connection was forcibly closed by the remote host.\n",
      "ERROR:root:task: connection_task raised exception: .\n",
      "ERROR:root:task: mqtt_task raised exception: [WinError 10054] An existing connection was forcibly closed by the remote host.\n",
      "ERROR:root:task: connection_task raised exception: .\n",
      "ERROR:root:task: mqtt_task raised exception: [WinError 10054] An existing connection was forcibly closed by the remote host.\n",
      "ERROR:root:task: connection_task raised exception: .\n",
      "ERROR:root:task: mqtt_task raised exception: [WinError 10054] An existing connection was forcibly closed by the remote host.\n",
      "ERROR:root:task: connection_task raised exception: .\n"
     ]
    },
    {
     "name": "stdout",
     "output_type": "stream",
     "text": [
      "Saved: 2025-09-12 19:52:06,-11.221623420715332,2.7054479122161865,9.926360130310059\n"
     ]
    },
    {
     "name": "stderr",
     "output_type": "stream",
     "text": [
      "ERROR:root:task: mqtt_task raised exception: [WinError 10054] An existing connection was forcibly closed by the remote host.\n",
      "ERROR:root:task: connection_task raised exception: .\n"
     ]
    },
    {
     "name": "stdout",
     "output_type": "stream",
     "text": [
      "Saved: 2025-09-12 19:52:09,-1.213860273361206,2.7054479122161865,9.926360130310059\n"
     ]
    },
    {
     "name": "stderr",
     "output_type": "stream",
     "text": [
      "ERROR:root:task: mqtt_task raised exception: [WinError 10054] An existing connection was forcibly closed by the remote host.\n",
      "ERROR:root:task: connection_task raised exception: .\n"
     ]
    },
    {
     "name": "stdout",
     "output_type": "stream",
     "text": [
      "Saved: 2025-09-12 19:52:13,0.42616790533065796,2.7054479122161865,9.926360130310059\n"
     ]
    },
    {
     "name": "stderr",
     "output_type": "stream",
     "text": [
      "ERROR:root:task: mqtt_task raised exception: [WinError 10054] An existing connection was forcibly closed by the remote host.\n",
      "ERROR:root:task: connection_task raised exception: .\n"
     ]
    },
    {
     "name": "stdout",
     "output_type": "stream",
     "text": [
      "Saved: 2025-09-12 19:52:17,-0.4405331015586853,2.7054479122161865,9.926360130310059\n"
     ]
    },
    {
     "name": "stderr",
     "output_type": "stream",
     "text": [
      "ERROR:root:task: mqtt_task raised exception: [WinError 10054] An existing connection was forcibly closed by the remote host.\n",
      "ERROR:root:task: connection_task raised exception: .\n"
     ]
    },
    {
     "name": "stdout",
     "output_type": "stream",
     "text": [
      "Saved: 2025-09-12 19:52:21,0.5410895943641663,2.7054479122161865,9.926360130310059\n"
     ]
    },
    {
     "name": "stderr",
     "output_type": "stream",
     "text": [
      "ERROR:root:task: mqtt_task raised exception: [WinError 10054] An existing connection was forcibly closed by the remote host.\n",
      "ERROR:root:task: connection_task raised exception: .\n"
     ]
    },
    {
     "name": "stdout",
     "output_type": "stream",
     "text": [
      "Saved: 2025-09-12 19:52:24,2.540247917175293,2.7054479122161865,9.926360130310059\n"
     ]
    },
    {
     "name": "stderr",
     "output_type": "stream",
     "text": [
      "ERROR:root:task: mqtt_task raised exception: [WinError 10054] An existing connection was forcibly closed by the remote host.\n",
      "ERROR:root:task: connection_task raised exception: .\n"
     ]
    },
    {
     "name": "stdout",
     "output_type": "stream",
     "text": [
      "Saved: 2025-09-12 19:52:28,1.0055646896362305,2.7054479122161865,9.926360130310059\n"
     ]
    },
    {
     "name": "stderr",
     "output_type": "stream",
     "text": [
      "ERROR:root:task: mqtt_task raised exception: [WinError 10054] An existing connection was forcibly closed by the remote host.\n",
      "ERROR:root:task: connection_task raised exception: .\n"
     ]
    },
    {
     "name": "stdout",
     "output_type": "stream",
     "text": [
      "Saved: 2025-09-12 19:52:31,1.0055646896362305,2.7054479122161865,9.624691009521484\n",
      "Saved: 2025-09-12 19:52:32,1.534683346748352,2.7054479122161865,9.624691009521484\n"
     ]
    },
    {
     "name": "stderr",
     "output_type": "stream",
     "text": [
      "ERROR:root:task: mqtt_task raised exception: [WinError 10054] An existing connection was forcibly closed by the remote host.\n",
      "ERROR:root:task: connection_task raised exception: .\n",
      "ERROR:root:task: mqtt_task raised exception: [WinError 10054] An existing connection was forcibly closed by the remote host.\n",
      "ERROR:root:task: connection_task raised exception: .\n"
     ]
    },
    {
     "name": "stdout",
     "output_type": "stream",
     "text": [
      "Saved: 2025-09-12 19:52:39,1.0606313943862915,2.7054479122161865,9.624691009521484\n"
     ]
    },
    {
     "name": "stderr",
     "output_type": "stream",
     "text": [
      "ERROR:root:task: mqtt_task raised exception: [WinError 10054] An existing connection was forcibly closed by the remote host.\n",
      "ERROR:root:task: connection_task raised exception: .\n"
     ]
    },
    {
     "name": "stdout",
     "output_type": "stream",
     "text": [
      "Saved: 2025-09-12 19:52:43,0.2322375625371933,2.7054479122161865,9.624691009521484\n"
     ]
    },
    {
     "name": "stderr",
     "output_type": "stream",
     "text": [
      "ERROR:root:task: mqtt_task raised exception: [WinError 10054] An existing connection was forcibly closed by the remote host.\n",
      "ERROR:root:task: connection_task raised exception: .\n"
     ]
    },
    {
     "name": "stdout",
     "output_type": "stream",
     "text": [
      "Saved: 2025-09-12 19:52:47,0.17717093229293823,2.7054479122161865,9.624691009521484\n"
     ]
    },
    {
     "name": "stderr",
     "output_type": "stream",
     "text": [
      "ERROR:root:task: mqtt_task raised exception: [WinError 10054] An existing connection was forcibly closed by the remote host.\n",
      "ERROR:root:task: connection_task raised exception: .\n",
      "ERROR:root:task: mqtt_task raised exception: [WinError 10054] An existing connection was forcibly closed by the remote host.\n",
      "ERROR:root:task: connection_task raised exception: .\n"
     ]
    },
    {
     "name": "stdout",
     "output_type": "stream",
     "text": [
      "Saved: 2025-09-12 19:52:54,0.2298433631658554,2.7054479122161865,9.624691009521484\n"
     ]
    },
    {
     "name": "stderr",
     "output_type": "stream",
     "text": [
      "ERROR:root:task: mqtt_task raised exception: [WinError 10054] An existing connection was forcibly closed by the remote host.\n",
      "ERROR:root:task: connection_task raised exception: .\n"
     ]
    },
    {
     "name": "stdout",
     "output_type": "stream",
     "text": [
      "Saved: 2025-09-12 19:52:57,0.23942017555236816,2.7054479122161865,9.624691009521484\n"
     ]
    },
    {
     "name": "stderr",
     "output_type": "stream",
     "text": [
      "ERROR:root:task: mqtt_task raised exception: [WinError 10054] An existing connection was forcibly closed by the remote host.\n",
      "ERROR:root:task: connection_task raised exception: .\n"
     ]
    },
    {
     "name": "stdout",
     "output_type": "stream",
     "text": [
      "Saved: 2025-09-12 19:53:01,0.2322375625371933,2.7054479122161865,9.624691009521484\n"
     ]
    },
    {
     "name": "stderr",
     "output_type": "stream",
     "text": [
      "ERROR:root:task: mqtt_task raised exception: [WinError 10054] An existing connection was forcibly closed by the remote host.\n",
      "ERROR:root:task: connection_task raised exception: .\n"
     ]
    },
    {
     "name": "stdout",
     "output_type": "stream",
     "text": [
      "Saved: 2025-09-12 19:53:05,0.22744916379451752,2.7054479122161865,9.624691009521484\n"
     ]
    },
    {
     "name": "stderr",
     "output_type": "stream",
     "text": [
      "ERROR:root:task: mqtt_task raised exception: [WinError 10054] An existing connection was forcibly closed by the remote host.\n",
      "ERROR:root:task: connection_task raised exception: .\n",
      "ERROR:root:task: mqtt_task raised exception: [WinError 10054] An existing connection was forcibly closed by the remote host.\n",
      "ERROR:root:task: connection_task raised exception: .\n"
     ]
    },
    {
     "name": "stdout",
     "output_type": "stream",
     "text": [
      "Saved: 2025-09-12 19:53:13,0.2298433631658554,2.7054479122161865,9.624691009521484\n"
     ]
    },
    {
     "name": "stderr",
     "output_type": "stream",
     "text": [
      "ERROR:root:task: mqtt_task raised exception: [WinError 10054] An existing connection was forcibly closed by the remote host.\n",
      "ERROR:root:task: connection_task raised exception: .\n"
     ]
    },
    {
     "name": "stdout",
     "output_type": "stream",
     "text": [
      "Saved: 2025-09-12 19:53:16,0.23702596127986908,2.7054479122161865,9.624691009521484\n"
     ]
    },
    {
     "name": "stderr",
     "output_type": "stream",
     "text": [
      "ERROR:root:task: mqtt_task raised exception: [WinError 10054] An existing connection was forcibly closed by the remote host.\n",
      "ERROR:root:task: connection_task raised exception: .\n",
      "ERROR:root:task: mqtt_task raised exception: [WinError 10054] An existing connection was forcibly closed by the remote host.\n",
      "ERROR:root:task: connection_task raised exception: .\n"
     ]
    },
    {
     "name": "stdout",
     "output_type": "stream",
     "text": [
      "Saved: 2025-09-12 19:53:24,0.23702596127986908,0.023942016065120697,9.624691009521484\n"
     ]
    },
    {
     "name": "stderr",
     "output_type": "stream",
     "text": [
      "ERROR:root:task: mqtt_task raised exception: [WinError 10054] An existing connection was forcibly closed by the remote host.\n",
      "ERROR:root:task: connection_task raised exception: .\n"
     ]
    },
    {
     "name": "stdout",
     "output_type": "stream",
     "text": [
      "Saved: 2025-09-12 19:53:28,0.2322375625371933,0.023942016065120697,9.624691009521484\n"
     ]
    },
    {
     "name": "stderr",
     "output_type": "stream",
     "text": [
      "ERROR:root:task: mqtt_task raised exception: [WinError 10054] An existing connection was forcibly closed by the remote host.\n",
      "ERROR:root:task: connection_task raised exception: .\n",
      "ERROR:root:task: mqtt_task raised exception: [WinError 10054] An existing connection was forcibly closed by the remote host.\n",
      "ERROR:root:task: connection_task raised exception: .\n"
     ]
    },
    {
     "name": "stdout",
     "output_type": "stream",
     "text": [
      "Saved: 2025-09-12 19:53:35,0.2322375625371933,0.023942016065120697,9.624691009521484\n"
     ]
    },
    {
     "name": "stderr",
     "output_type": "stream",
     "text": [
      "ERROR:root:task: mqtt_task raised exception: [WinError 10054] An existing connection was forcibly closed by the remote host.\n",
      "ERROR:root:task: connection_task raised exception: .\n"
     ]
    },
    {
     "name": "stdout",
     "output_type": "stream",
     "text": [
      "Saved: 2025-09-12 19:53:39,0.24660277366638184,0.023942016065120697,9.624691009521484\n"
     ]
    },
    {
     "name": "stderr",
     "output_type": "stream",
     "text": [
      "ERROR:root:task: mqtt_task raised exception: [WinError 10054] An existing connection was forcibly closed by the remote host.\n",
      "ERROR:root:task: connection_task raised exception: .\n",
      "ERROR:root:task: mqtt_task raised exception: [WinError 10054] An existing connection was forcibly closed by the remote host.\n",
      "ERROR:root:task: connection_task raised exception: .\n"
     ]
    },
    {
     "name": "stdout",
     "output_type": "stream",
     "text": [
      "Saved: 2025-09-12 19:53:47,0.2346317619085312,0.023942016065120697,9.624691009521484\n"
     ]
    },
    {
     "name": "stderr",
     "output_type": "stream",
     "text": [
      "ERROR:root:task: mqtt_task raised exception: [WinError 10054] An existing connection was forcibly closed by the remote host.\n",
      "ERROR:root:task: connection_task raised exception: .\n"
     ]
    },
    {
     "name": "stdout",
     "output_type": "stream",
     "text": [
      "Saved: 2025-09-12 19:53:49,0.2346317619085312,0.002394201699644327,9.624691009521484\n",
      "Creating visualizations...\n"
     ]
    },
    {
     "name": "stderr",
     "output_type": "stream",
     "text": [
      "ERROR:root:task: mqtt_task raised exception: [WinError 10054] An existing connection was forcibly closed by the remote host.\n"
     ]
    },
    {
     "name": "stdout",
     "output_type": "stream",
     "text": [
      "Visualizations saved as 'accelerometer_analysis.png'\n",
      "Analyzing patterns...\n",
      "X-axis: 45 peaks, average interval: 8.61 samples\n",
      "Y-axis: 7 peaks, average interval: 58.17 samples\n",
      "Pattern analysis saved as 'pattern_analysis.txt'\n"
     ]
    },
    {
     "name": "stderr",
     "output_type": "stream",
     "text": [
      "ERROR:root:task: connection_task raised exception: .\n"
     ]
    },
    {
     "name": "stdout",
     "output_type": "stream",
     "text": [
      "Saved: 2025-09-12 19:53:52,0.2346317619085312,0.002394201699644327,9.624691009521484\n",
      "Saved: 2025-09-12 19:53:53,0.2346317619085312,0.002394201699644327,9.931148529052734\n"
     ]
    },
    {
     "name": "stderr",
     "output_type": "stream",
     "text": [
      "ERROR:root:task: mqtt_task raised exception: [WinError 10054] An existing connection was forcibly closed by the remote host.\n",
      "ERROR:root:task: connection_task raised exception: .\n",
      "ERROR:root:task: mqtt_task raised exception: [WinError 10054] An existing connection was forcibly closed by the remote host.\n",
      "ERROR:root:task: connection_task raised exception: .\n",
      "ERROR:root:task: mqtt_task raised exception: [WinError 10054] An existing connection was forcibly closed by the remote host.\n",
      "ERROR:root:task: connection_task raised exception: .\n",
      "ERROR:root:task: mqtt_task raised exception: [WinError 10054] An existing connection was forcibly closed by the remote host.\n",
      "ERROR:root:task: connection_task raised exception: .\n",
      "ERROR:root:task: mqtt_task raised exception: [WinError 10054] An existing connection was forcibly closed by the remote host.\n",
      "ERROR:root:task: connection_task raised exception: .\n",
      "ERROR:root:task: mqtt_task raised exception: [WinError 10054] An existing connection was forcibly closed by the remote host.\n",
      "ERROR:root:task: connection_task raised exception: .\n"
     ]
    },
    {
     "name": "stdout",
     "output_type": "stream",
     "text": [
      "Saved: 2025-09-12 19:54:11,0.22026655077934265,0.002394201699644327,9.931148529052734\n",
      "Saved: 2025-09-12 19:54:12,0.22026655077934265,0.0,9.931148529052734\n",
      "Saved: 2025-09-12 19:54:13,0.22026655077934265,0.0,9.876082420349121\n",
      "Saved: 2025-09-12 19:54:14,0.23702596127986908,0.0,9.876082420349121\n",
      "Saved: 2025-09-12 19:54:15,0.23702596127986908,0.014365210197865963,9.876082420349121\n",
      "Saved: 2025-09-12 19:54:16,0.23702596127986908,0.014365210197865963,9.919178009033203\n",
      "Saved: 2025-09-12 19:54:17,0.2346317619085312,0.014365210197865963,9.919178009033203\n"
     ]
    },
    {
     "name": "stderr",
     "output_type": "stream",
     "text": [
      "ERROR:root:task: mqtt_task raised exception: [WinError 10054] An existing connection was forcibly closed by the remote host.\n",
      "ERROR:root:task: connection_task raised exception: .\n"
     ]
    },
    {
     "name": "stdout",
     "output_type": "stream",
     "text": [
      "Saved: 2025-09-12 19:54:21,0.22744916379451752,0.014365210197865963,9.919178009033203\n"
     ]
    },
    {
     "name": "stderr",
     "output_type": "stream",
     "text": [
      "ERROR:root:task: mqtt_task raised exception: [WinError 10054] An existing connection was forcibly closed by the remote host.\n",
      "ERROR:root:task: connection_task raised exception: .\n"
     ]
    },
    {
     "name": "stdout",
     "output_type": "stream",
     "text": [
      "Saved: 2025-09-12 19:54:25,0.22026655077934265,0.014365210197865963,9.919178009033203\n"
     ]
    },
    {
     "name": "stderr",
     "output_type": "stream",
     "text": [
      "ERROR:root:task: mqtt_task raised exception: [WinError 10054] An existing connection was forcibly closed by the remote host.\n",
      "ERROR:root:task: connection_task raised exception: .\n",
      "ERROR:root:task: mqtt_task raised exception: [WinError 10054] An existing connection was forcibly closed by the remote host.\n",
      "ERROR:root:task: connection_task raised exception: .\n"
     ]
    },
    {
     "name": "stdout",
     "output_type": "stream",
     "text": [
      "Saved: 2025-09-12 19:54:31,0.24181437492370605,0.014365210197865963,9.919178009033203\n"
     ]
    },
    {
     "name": "stderr",
     "output_type": "stream",
     "text": [
      "ERROR:root:task: mqtt_task raised exception: [WinError 10054] An existing connection was forcibly closed by the remote host.\n",
      "ERROR:root:task: connection_task raised exception: .\n"
     ]
    },
    {
     "name": "stdout",
     "output_type": "stream",
     "text": [
      "Saved: 2025-09-12 19:54:35,0.22505496442317963,0.014365210197865963,9.919178009033203\n"
     ]
    },
    {
     "name": "stderr",
     "output_type": "stream",
     "text": [
      "ERROR:root:task: mqtt_task raised exception: [WinError 10054] An existing connection was forcibly closed by the remote host.\n",
      "ERROR:root:task: connection_task raised exception: .\n",
      "ERROR:root:task: mqtt_task raised exception: [WinError 10054] An existing connection was forcibly closed by the remote host.\n",
      "ERROR:root:task: connection_task raised exception: .\n",
      "ERROR:root:task: mqtt_task raised exception: [WinError 10054] An existing connection was forcibly closed by the remote host.\n",
      "ERROR:root:task: connection_task raised exception: .\n"
     ]
    },
    {
     "name": "stdout",
     "output_type": "stream",
     "text": [
      "Saved: 2025-09-12 19:54:44,0.2322375625371933,0.014365210197865963,9.919178009033203\n"
     ]
    },
    {
     "name": "stderr",
     "output_type": "stream",
     "text": [
      "ERROR:root:task: mqtt_task raised exception: [WinError 10054] An existing connection was forcibly closed by the remote host.\n",
      "ERROR:root:task: connection_task raised exception: .\n"
     ]
    },
    {
     "name": "stdout",
     "output_type": "stream",
     "text": [
      "Saved: 2025-09-12 19:54:47,0.2346317619085312,0.014365210197865963,9.919178009033203\n",
      "Saved: 2025-09-12 19:54:48,0.2346317619085312,0.035913024097681046,9.919178009033203\n"
     ]
    },
    {
     "name": "stderr",
     "output_type": "stream",
     "text": [
      "ERROR:root:task: mqtt_task raised exception: [WinError 10054] An existing connection was forcibly closed by the remote host.\n",
      "ERROR:root:task: connection_task raised exception: .\n",
      "ERROR:root:task: mqtt_task raised exception: [WinError 10054] An existing connection was forcibly closed by the remote host.\n",
      "ERROR:root:task: connection_task raised exception: .\n"
     ]
    },
    {
     "name": "stdout",
     "output_type": "stream",
     "text": [
      "Saved: 2025-09-12 19:54:56,4.120420932769775,0.035913024097681046,9.919178009033203\n"
     ]
    },
    {
     "name": "stderr",
     "output_type": "stream",
     "text": [
      "ERROR:root:task: mqtt_task raised exception: [WinError 10054] An existing connection was forcibly closed by the remote host.\n",
      "ERROR:root:task: connection_task raised exception: .\n",
      "ERROR:root:task: mqtt_task raised exception: [WinError 10054] An existing connection was forcibly closed by the remote host.\n",
      "ERROR:root:task: connection_task raised exception: .\n",
      "ERROR:root:task: mqtt_task raised exception: [WinError 10054] An existing connection was forcibly closed by the remote host.\n",
      "ERROR:root:task: connection_task raised exception: .\n",
      "ERROR:root:task: mqtt_task raised exception: [WinError 10054] An existing connection was forcibly closed by the remote host.\n",
      "ERROR:root:task: connection_task raised exception: .\n"
     ]
    },
    {
     "name": "stdout",
     "output_type": "stream",
     "text": [
      "Saved: 2025-09-12 19:55:09,0.19871874153614044,0.035913024097681046,9.919178009033203\n"
     ]
    },
    {
     "name": "stderr",
     "output_type": "stream",
     "text": [
      "ERROR:root:task: mqtt_task raised exception: [WinError 10054] An existing connection was forcibly closed by the remote host.\n",
      "ERROR:root:task: connection_task raised exception: .\n"
     ]
    },
    {
     "name": "stdout",
     "output_type": "stream",
     "text": [
      "Saved: 2025-09-12 19:55:12,0.19393034279346466,0.035913024097681046,9.919178009033203\n"
     ]
    },
    {
     "name": "stderr",
     "output_type": "stream",
     "text": [
      "ERROR:root:task: mqtt_task raised exception: [WinError 10054] An existing connection was forcibly closed by the remote host.\n",
      "ERROR:root:task: connection_task raised exception: .\n",
      "ERROR:root:task: mqtt_task raised exception: [WinError 10054] An existing connection was forcibly closed by the remote host.\n",
      "ERROR:root:task: connection_task raised exception: .\n",
      "ERROR:root:task: mqtt_task raised exception: [WinError 10054] An existing connection was forcibly closed by the remote host.\n",
      "ERROR:root:task: connection_task raised exception: .\n"
     ]
    },
    {
     "name": "stdout",
     "output_type": "stream",
     "text": [
      "Saved: 2025-09-12 19:55:23,0.1867477297782898,0.035913024097681046,9.919178009033203\n"
     ]
    },
    {
     "name": "stderr",
     "output_type": "stream",
     "text": [
      "ERROR:root:task: mqtt_task raised exception: [WinError 10054] An existing connection was forcibly closed by the remote host.\n",
      "ERROR:root:task: connection_task raised exception: .\n"
     ]
    },
    {
     "name": "stdout",
     "output_type": "stream",
     "text": [
      "Saved: 2025-09-12 19:55:26,0.18914192914962769,0.035913024097681046,9.919178009033203\n"
     ]
    },
    {
     "name": "stderr",
     "output_type": "stream",
     "text": [
      "ERROR:root:task: mqtt_task raised exception: [WinError 10054] An existing connection was forcibly closed by the remote host.\n",
      "ERROR:root:task: connection_task raised exception: .\n",
      "ERROR:root:task: mqtt_task raised exception: [WinError 10054] An existing connection was forcibly closed by the remote host.\n",
      "ERROR:root:task: connection_task raised exception: .\n",
      "ERROR:root:task: mqtt_task raised exception: [WinError 10054] An existing connection was forcibly closed by the remote host.\n",
      "ERROR:root:task: connection_task raised exception: .\n"
     ]
    },
    {
     "name": "stdout",
     "output_type": "stream",
     "text": [
      "Saved: 2025-09-12 19:55:35,0.1843535304069519,0.035913024097681046,9.919178009033203\n"
     ]
    },
    {
     "name": "stderr",
     "output_type": "stream",
     "text": [
      "ERROR:root:task: mqtt_task raised exception: [WinError 10054] An existing connection was forcibly closed by the remote host.\n",
      "ERROR:root:task: connection_task raised exception: .\n"
     ]
    },
    {
     "name": "stdout",
     "output_type": "stream",
     "text": [
      "Saved: 2025-09-12 19:55:38,0.19632454216480255,0.035913024097681046,9.919178009033203\n"
     ]
    },
    {
     "name": "stderr",
     "output_type": "stream",
     "text": [
      "ERROR:root:task: mqtt_task raised exception: [WinError 10054] An existing connection was forcibly closed by the remote host.\n",
      "ERROR:root:task: connection_task raised exception: .\n"
     ]
    },
    {
     "name": "stdout",
     "output_type": "stream",
     "text": [
      "Saved: 2025-09-12 19:55:41,0.19632454216480255,0.031124621629714966,9.919178009033203\n"
     ]
    },
    {
     "name": "stderr",
     "output_type": "stream",
     "text": [
      "ERROR:root:task: mqtt_task raised exception: [WinError 10054] An existing connection was forcibly closed by the remote host.\n",
      "ERROR:root:task: connection_task raised exception: .\n"
     ]
    },
    {
     "name": "stdout",
     "output_type": "stream",
     "text": [
      "Saved: 2025-09-12 19:55:45,0.19871874153614044,0.031124621629714966,9.919178009033203\n"
     ]
    },
    {
     "name": "stderr",
     "output_type": "stream",
     "text": [
      "ERROR:root:task: mqtt_task raised exception: [WinError 10054] An existing connection was forcibly closed by the remote host.\n",
      "ERROR:root:task: connection_task raised exception: .\n"
     ]
    },
    {
     "name": "stdout",
     "output_type": "stream",
     "text": [
      "Saved: 2025-09-12 19:55:49,0.19871874153614044,0.031124621629714966,9.919178009033203\n"
     ]
    },
    {
     "name": "stderr",
     "output_type": "stream",
     "text": [
      "ERROR:root:task: mqtt_task raised exception: [WinError 10054] An existing connection was forcibly closed by the remote host.\n",
      "ERROR:root:task: connection_task raised exception: .\n"
     ]
    },
    {
     "name": "stdout",
     "output_type": "stream",
     "text": [
      "Saved: 2025-09-12 19:55:53,0.20111294090747833,0.031124621629714966,9.919178009033203\n"
     ]
    },
    {
     "name": "stderr",
     "output_type": "stream",
     "text": [
      "ERROR:root:task: mqtt_task raised exception: [WinError 10054] An existing connection was forcibly closed by the remote host.\n",
      "ERROR:root:task: connection_task raised exception: .\n"
     ]
    },
    {
     "name": "stdout",
     "output_type": "stream",
     "text": [
      "Saved: 2025-09-12 19:55:56,0.20111294090747833,0.031124621629714966,9.919178009033203\n"
     ]
    },
    {
     "name": "stderr",
     "output_type": "stream",
     "text": [
      "ERROR:root:task: mqtt_task raised exception: [WinError 10054] An existing connection was forcibly closed by the remote host.\n",
      "ERROR:root:task: connection_task raised exception: .\n"
     ]
    },
    {
     "name": "stdout",
     "output_type": "stream",
     "text": [
      "Saved: 2025-09-12 19:56:00,0.18914192914962769,0.031124621629714966,9.919178009033203\n"
     ]
    },
    {
     "name": "stderr",
     "output_type": "stream",
     "text": [
      "ERROR:root:task: mqtt_task raised exception: [WinError 10054] An existing connection was forcibly closed by the remote host.\n",
      "ERROR:root:task: connection_task raised exception: .\n",
      "ERROR:root:task: mqtt_task raised exception: [WinError 10054] An existing connection was forcibly closed by the remote host.\n",
      "ERROR:root:task: connection_task raised exception: .\n",
      "ERROR:root:task: mqtt_task raised exception: [WinError 10054] An existing connection was forcibly closed by the remote host.\n",
      "ERROR:root:task: connection_task raised exception: .\n",
      "ERROR:root:task: mqtt_task raised exception: [WinError 10054] An existing connection was forcibly closed by the remote host.\n",
      "ERROR:root:task: connection_task raised exception: .\n",
      "ERROR:root:task: mqtt_task raised exception: [WinError 10054] An existing connection was forcibly closed by the remote host.\n",
      "ERROR:root:task: connection_task raised exception: .\n"
     ]
    },
    {
     "name": "stdout",
     "output_type": "stream",
     "text": [
      "Saved: 2025-09-12 19:56:15,0.181959331035614,0.031124621629714966,9.919178009033203\n"
     ]
    },
    {
     "name": "stderr",
     "output_type": "stream",
     "text": [
      "ERROR:root:task: mqtt_task raised exception: [WinError 10054] An existing connection was forcibly closed by the remote host.\n",
      "ERROR:root:task: connection_task raised exception: .\n"
     ]
    },
    {
     "name": "stdout",
     "output_type": "stream",
     "text": [
      "Saved: 2025-09-12 19:56:19,0.19393034279346466,0.031124621629714966,9.919178009033203\n"
     ]
    },
    {
     "name": "stderr",
     "output_type": "stream",
     "text": [
      "ERROR:root:task: mqtt_task raised exception: [WinError 10054] An existing connection was forcibly closed by the remote host.\n",
      "ERROR:root:task: connection_task raised exception: .\n"
     ]
    },
    {
     "name": "stdout",
     "output_type": "stream",
     "text": [
      "Saved: 2025-09-12 19:56:23,0.19632454216480255,0.031124621629714966,9.919178009033203\n"
     ]
    },
    {
     "name": "stderr",
     "output_type": "stream",
     "text": [
      "ERROR:root:task: mqtt_task raised exception: [WinError 10054] An existing connection was forcibly closed by the remote host.\n",
      "ERROR:root:task: connection_task raised exception: .\n"
     ]
    },
    {
     "name": "stdout",
     "output_type": "stream",
     "text": [
      "Saved: 2025-09-12 19:56:26,0.19632454216480255,0.033518824726343155,9.919178009033203\n"
     ]
    },
    {
     "name": "stderr",
     "output_type": "stream",
     "text": [
      "ERROR:root:task: mqtt_task raised exception: [WinError 10054] An existing connection was forcibly closed by the remote host.\n",
      "ERROR:root:task: connection_task raised exception: .\n"
     ]
    },
    {
     "name": "stdout",
     "output_type": "stream",
     "text": [
      "Saved: 2025-09-12 19:56:30,0.1867477297782898,0.033518824726343155,9.919178009033203\n"
     ]
    },
    {
     "name": "stderr",
     "output_type": "stream",
     "text": [
      "ERROR:root:task: mqtt_task raised exception: [WinError 10054] An existing connection was forcibly closed by the remote host.\n",
      "ERROR:root:task: connection_task raised exception: .\n",
      "ERROR:root:task: mqtt_task raised exception: [WinError 10054] An existing connection was forcibly closed by the remote host.\n",
      "ERROR:root:task: connection_task raised exception: .\n",
      "ERROR:root:task: mqtt_task raised exception: [WinError 10054] An existing connection was forcibly closed by the remote host.\n",
      "ERROR:root:task: connection_task raised exception: .\n"
     ]
    },
    {
     "name": "stdout",
     "output_type": "stream",
     "text": [
      "Saved: 2025-09-12 19:56:41,0.17956513166427612,0.033518824726343155,9.919178009033203\n"
     ]
    },
    {
     "name": "stderr",
     "output_type": "stream",
     "text": [
      "ERROR:root:task: mqtt_task raised exception: [WinError 10054] An existing connection was forcibly closed by the remote host.\n",
      "ERROR:root:task: connection_task raised exception: .\n",
      "ERROR:root:task: mqtt_task raised exception: [WinError 10054] An existing connection was forcibly closed by the remote host.\n",
      "ERROR:root:task: connection_task raised exception: .\n",
      "ERROR:root:task: mqtt_task raised exception: [WinError 10054] An existing connection was forcibly closed by the remote host.\n",
      "ERROR:root:task: connection_task raised exception: .\n",
      "ERROR:root:task: mqtt_task raised exception: [WinError 10054] An existing connection was forcibly closed by the remote host.\n",
      "ERROR:root:task: connection_task raised exception: .\n",
      "ERROR:root:task: mqtt_task raised exception: [WinError 10054] An existing connection was forcibly closed by the remote host.\n",
      "ERROR:root:task: connection_task raised exception: .\n",
      "ERROR:root:task: mqtt_task raised exception: [WinError 10054] An existing connection was forcibly closed by the remote host.\n",
      "ERROR:root:task: connection_task raised exception: .\n",
      "ERROR:root:task: mqtt_task raised exception: [WinError 10054] An existing connection was forcibly closed by the remote host.\n",
      "ERROR:root:task: connection_task raised exception: .\n",
      "ERROR:root:task: mqtt_task raised exception: [WinError 10054] An existing connection was forcibly closed by the remote host.\n",
      "ERROR:root:task: connection_task raised exception: .\n",
      "ERROR:root:task: mqtt_task raised exception: [WinError 10054] An existing connection was forcibly closed by the remote host.\n",
      "ERROR:root:task: connection_task raised exception: .\n"
     ]
    },
    {
     "name": "stdout",
     "output_type": "stream",
     "text": [
      "Saved: 2025-09-12 19:57:08,0.19153612852096558,0.033518824726343155,9.919178009033203\n",
      "Saved: 2025-09-12 19:57:09,0.19153612852096558,0.031124621629714966,9.919178009033203\n"
     ]
    },
    {
     "name": "stderr",
     "output_type": "stream",
     "text": [
      "ERROR:root:task: mqtt_task raised exception: [WinError 10054] An existing connection was forcibly closed by the remote host.\n",
      "ERROR:root:task: connection_task raised exception: .\n"
     ]
    },
    {
     "name": "stdout",
     "output_type": "stream",
     "text": [
      "Saved: 2025-09-12 19:57:13,0.19153612852096558,0.0454898327589035,9.919178009033203\n"
     ]
    },
    {
     "name": "stderr",
     "output_type": "stream",
     "text": [
      "ERROR:root:task: mqtt_task raised exception: [WinError 10054] An existing connection was forcibly closed by the remote host.\n",
      "ERROR:root:task: connection_task raised exception: .\n",
      "ERROR:root:task: mqtt_task raised exception: [WinError 10054] An existing connection was forcibly closed by the remote host.\n",
      "ERROR:root:task: connection_task raised exception: .\n",
      "ERROR:root:task: mqtt_task raised exception: [WinError 10054] An existing connection was forcibly closed by the remote host.\n",
      "ERROR:root:task: connection_task raised exception: .\n",
      "ERROR:root:task: mqtt_task raised exception: [WinError 10054] An existing connection was forcibly closed by the remote host.\n",
      "ERROR:root:task: connection_task raised exception: .\n",
      "ERROR:root:task: mqtt_task raised exception: [WinError 10054] An existing connection was forcibly closed by the remote host.\n",
      "ERROR:root:task: connection_task raised exception: .\n",
      "ERROR:root:task: mqtt_task raised exception: [WinError 10054] An existing connection was forcibly closed by the remote host.\n",
      "ERROR:root:task: connection_task raised exception: .\n",
      "ERROR:root:task: mqtt_task raised exception: [WinError 10054] An existing connection was forcibly closed by the remote host.\n",
      "ERROR:root:task: connection_task raised exception: .\n"
     ]
    },
    {
     "name": "stdout",
     "output_type": "stream",
     "text": [
      "Saved: 2025-09-12 19:57:32,0.19153612852096558,0.0454898327589035,9.919178009033203\n"
     ]
    },
    {
     "name": "stderr",
     "output_type": "stream",
     "text": [
      "ERROR:root:task: mqtt_task raised exception: [WinError 10054] An existing connection was forcibly closed by the remote host.\n",
      "ERROR:root:task: connection_task raised exception: .\n",
      "ERROR:root:task: mqtt_task raised exception: [WinError 10054] An existing connection was forcibly closed by the remote host.\n",
      "ERROR:root:task: connection_task raised exception: .\n",
      "ERROR:root:task: mqtt_task raised exception: [WinError 10054] An existing connection was forcibly closed by the remote host.\n",
      "ERROR:root:task: connection_task raised exception: .\n"
     ]
    },
    {
     "name": "stdout",
     "output_type": "stream",
     "text": [
      "Saved: 2025-09-12 19:57:42,0.19632454216480255,0.0454898327589035,9.919178009033203\n"
     ]
    },
    {
     "name": "stderr",
     "output_type": "stream",
     "text": [
      "ERROR:root:task: mqtt_task raised exception: [WinError 10054] An existing connection was forcibly closed by the remote host.\n",
      "ERROR:root:task: connection_task raised exception: .\n"
     ]
    },
    {
     "name": "stdout",
     "output_type": "stream",
     "text": [
      "Saved: 2025-09-12 19:57:45,0.19393034279346466,0.0454898327589035,9.919178009033203\n",
      "Saved: 2025-09-12 19:57:46,0.19393034279346466,0.043095629662275314,9.919178009033203\n"
     ]
    },
    {
     "name": "stderr",
     "output_type": "stream",
     "text": [
      "ERROR:root:task: mqtt_task raised exception: [WinError 10054] An existing connection was forcibly closed by the remote host.\n",
      "ERROR:root:task: connection_task raised exception: .\n"
     ]
    },
    {
     "name": "stdout",
     "output_type": "stream",
     "text": [
      "Saved: 2025-09-12 19:57:50,0.19393034279346466,0.043095629662275314,9.919178009033203\n"
     ]
    },
    {
     "name": "stderr",
     "output_type": "stream",
     "text": [
      "ERROR:root:task: mqtt_task raised exception: [WinError 10054] An existing connection was forcibly closed by the remote host.\n",
      "ERROR:root:task: connection_task raised exception: .\n"
     ]
    },
    {
     "name": "stdout",
     "output_type": "stream",
     "text": [
      "Saved: 2025-09-12 19:57:54,0.19153612852096558,0.043095629662275314,9.919178009033203\n"
     ]
    },
    {
     "name": "stderr",
     "output_type": "stream",
     "text": [
      "ERROR:root:task: mqtt_task raised exception: [WinError 10054] An existing connection was forcibly closed by the remote host.\n",
      "ERROR:root:task: connection_task raised exception: .\n",
      "ERROR:root:task: mqtt_task raised exception: [WinError 10054] An existing connection was forcibly closed by the remote host.\n",
      "ERROR:root:task: connection_task raised exception: .\n",
      "ERROR:root:task: mqtt_task raised exception: [WinError 10054] An existing connection was forcibly closed by the remote host.\n",
      "ERROR:root:task: connection_task raised exception: .\n"
     ]
    },
    {
     "name": "stdout",
     "output_type": "stream",
     "text": [
      "Saved: 2025-09-12 19:58:04,0.17238251864910126,0.043095629662275314,9.919178009033203\n"
     ]
    },
    {
     "name": "stderr",
     "output_type": "stream",
     "text": [
      "ERROR:root:task: mqtt_task raised exception: [WinError 10054] An existing connection was forcibly closed by the remote host.\n",
      "ERROR:root:task: connection_task raised exception: .\n",
      "ERROR:root:task: mqtt_task raised exception: [WinError 10054] An existing connection was forcibly closed by the remote host.\n",
      "ERROR:root:task: connection_task raised exception: .\n",
      "ERROR:root:task: mqtt_task raised exception: [WinError 10054] An existing connection was forcibly closed by the remote host.\n",
      "ERROR:root:task: connection_task raised exception: .\n"
     ]
    },
    {
     "name": "stdout",
     "output_type": "stream",
     "text": [
      "Saved: 2025-09-12 19:58:13,0.2059013396501541,0.043095629662275314,9.919178009033203\n"
     ]
    },
    {
     "name": "stderr",
     "output_type": "stream",
     "text": [
      "ERROR:root:task: mqtt_task raised exception: [WinError 10054] An existing connection was forcibly closed by the remote host.\n",
      "ERROR:root:task: connection_task raised exception: .\n"
     ]
    },
    {
     "name": "stdout",
     "output_type": "stream",
     "text": [
      "Saved: 2025-09-12 19:58:17,0.20111294090747833,0.043095629662275314,9.919178009033203\n"
     ]
    },
    {
     "name": "stderr",
     "output_type": "stream",
     "text": [
      "ERROR:root:task: mqtt_task raised exception: [WinError 10054] An existing connection was forcibly closed by the remote host.\n",
      "ERROR:root:task: connection_task raised exception: .\n",
      "ERROR:root:task: mqtt_task raised exception: [WinError 10054] An existing connection was forcibly closed by the remote host.\n",
      "ERROR:root:task: connection_task raised exception: .\n"
     ]
    },
    {
     "name": "stdout",
     "output_type": "stream",
     "text": [
      "Saved: 2025-09-12 19:58:24,0.1843535304069519,0.043095629662275314,9.919178009033203\n"
     ]
    },
    {
     "name": "stderr",
     "output_type": "stream",
     "text": [
      "ERROR:root:task: mqtt_task raised exception: [WinError 10054] An existing connection was forcibly closed by the remote host.\n",
      "ERROR:root:task: connection_task raised exception: .\n"
     ]
    },
    {
     "name": "stdout",
     "output_type": "stream",
     "text": [
      "Saved: 2025-09-12 19:58:28,0.17477671802043915,0.043095629662275314,9.919178009033203\n"
     ]
    },
    {
     "name": "stderr",
     "output_type": "stream",
     "text": [
      "ERROR:root:task: mqtt_task raised exception: [WinError 10054] An existing connection was forcibly closed by the remote host.\n",
      "ERROR:root:task: connection_task raised exception: .\n",
      "ERROR:root:task: mqtt_task raised exception: [WinError 10054] An existing connection was forcibly closed by the remote host.\n",
      "ERROR:root:task: connection_task raised exception: .\n"
     ]
    },
    {
     "name": "stdout",
     "output_type": "stream",
     "text": [
      "Saved: 2025-09-12 19:58:36,0.1843535304069519,0.043095629662275314,9.919178009033203\n"
     ]
    },
    {
     "name": "stderr",
     "output_type": "stream",
     "text": [
      "ERROR:root:task: mqtt_task raised exception: [WinError 10054] An existing connection was forcibly closed by the remote host.\n",
      "ERROR:root:task: connection_task raised exception: .\n"
     ]
    },
    {
     "name": "stdout",
     "output_type": "stream",
     "text": [
      "Saved: 2025-09-12 19:58:39,0.17717093229293823,0.043095629662275314,9.919178009033203\n"
     ]
    },
    {
     "name": "stderr",
     "output_type": "stream",
     "text": [
      "ERROR:root:task: mqtt_task raised exception: [WinError 10054] An existing connection was forcibly closed by the remote host.\n",
      "ERROR:root:task: connection_task raised exception: .\n"
     ]
    },
    {
     "name": "stdout",
     "output_type": "stream",
     "text": [
      "Saved: 2025-09-12 19:58:43,0.19393034279346466,0.043095629662275314,9.919178009033203\n"
     ]
    },
    {
     "name": "stderr",
     "output_type": "stream",
     "text": [
      "ERROR:root:task: mqtt_task raised exception: [WinError 10054] An existing connection was forcibly closed by the remote host.\n",
      "ERROR:root:task: connection_task raised exception: .\n"
     ]
    },
    {
     "name": "stdout",
     "output_type": "stream",
     "text": [
      "Saved: 2025-09-12 19:58:47,0.19153612852096558,0.043095629662275314,9.919178009033203\n"
     ]
    },
    {
     "name": "stderr",
     "output_type": "stream",
     "text": [
      "ERROR:root:task: mqtt_task raised exception: [WinError 10054] An existing connection was forcibly closed by the remote host.\n",
      "ERROR:root:task: connection_task raised exception: .\n"
     ]
    },
    {
     "name": "stdout",
     "output_type": "stream",
     "text": [
      "Saved: 2025-09-12 19:58:51,0.18914192914962769,0.043095629662275314,9.919178009033203\n"
     ]
    },
    {
     "name": "stderr",
     "output_type": "stream",
     "text": [
      "ERROR:root:task: mqtt_task raised exception: [WinError 10054] An existing connection was forcibly closed by the remote host.\n",
      "ERROR:root:task: connection_task raised exception: .\n",
      "ERROR:root:task: mqtt_task raised exception: [WinError 10054] An existing connection was forcibly closed by the remote host.\n",
      "ERROR:root:task: connection_task raised exception: .\n"
     ]
    },
    {
     "name": "stdout",
     "output_type": "stream",
     "text": [
      "Saved: 2025-09-12 19:58:57,0.181959331035614,0.043095629662275314,9.919178009033203\n",
      "Saved: 2025-09-12 19:58:58,0.181959331035614,0.016759412363171577,9.919178009033203\n"
     ]
    },
    {
     "name": "stderr",
     "output_type": "stream",
     "text": [
      "ERROR:root:task: mqtt_task raised exception: [WinError 10054] An existing connection was forcibly closed by the remote host.\n",
      "ERROR:root:task: connection_task raised exception: .\n"
     ]
    },
    {
     "name": "stdout",
     "output_type": "stream",
     "text": [
      "Saved: 2025-09-12 19:59:02,0.20111294090747833,0.016759412363171577,9.919178009033203\n"
     ]
    },
    {
     "name": "stderr",
     "output_type": "stream",
     "text": [
      "ERROR:root:task: mqtt_task raised exception: [WinError 10054] An existing connection was forcibly closed by the remote host.\n",
      "ERROR:root:task: connection_task raised exception: .\n",
      "ERROR:root:task: mqtt_task raised exception: [WinError 10054] An existing connection was forcibly closed by the remote host.\n",
      "ERROR:root:task: connection_task raised exception: .\n"
     ]
    },
    {
     "name": "stdout",
     "output_type": "stream",
     "text": [
      "Saved: 2025-09-12 19:59:10,0.19393034279346466,0.016759412363171577,9.919178009033203\n"
     ]
    },
    {
     "name": "stderr",
     "output_type": "stream",
     "text": [
      "ERROR:root:task: mqtt_task raised exception: [WinError 10054] An existing connection was forcibly closed by the remote host.\n",
      "ERROR:root:task: connection_task raised exception: .\n"
     ]
    },
    {
     "name": "stdout",
     "output_type": "stream",
     "text": [
      "Saved: 2025-09-12 19:59:13,0.19393034279346466,0.016759412363171577,9.919178009033203\n"
     ]
    },
    {
     "name": "stderr",
     "output_type": "stream",
     "text": [
      "ERROR:root:task: mqtt_task raised exception: [WinError 10054] An existing connection was forcibly closed by the remote host.\n",
      "ERROR:root:task: connection_task raised exception: .\n",
      "ERROR:root:task: mqtt_task raised exception: [WinError 10054] An existing connection was forcibly closed by the remote host.\n",
      "ERROR:root:task: connection_task raised exception: .\n"
     ]
    },
    {
     "name": "stdout",
     "output_type": "stream",
     "text": [
      "Saved: 2025-09-12 19:59:21,0.19153612852096558,0.016759412363171577,9.919178009033203\n"
     ]
    },
    {
     "name": "stderr",
     "output_type": "stream",
     "text": [
      "ERROR:root:task: mqtt_task raised exception: [WinError 10054] An existing connection was forcibly closed by the remote host.\n",
      "ERROR:root:task: connection_task raised exception: .\n"
     ]
    },
    {
     "name": "stdout",
     "output_type": "stream",
     "text": [
      "Saved: 2025-09-12 19:59:24,0.2106897532939911,0.016759412363171577,9.919178009033203\n",
      "Saved: 2025-09-12 19:59:25,0.2106897532939911,0.043095629662275314,9.919178009033203\n"
     ]
    },
    {
     "name": "stderr",
     "output_type": "stream",
     "text": [
      "ERROR:root:task: mqtt_task raised exception: [WinError 10054] An existing connection was forcibly closed by the remote host.\n",
      "ERROR:root:task: connection_task raised exception: .\n",
      "ERROR:root:task: mqtt_task raised exception: [WinError 10054] An existing connection was forcibly closed by the remote host.\n",
      "ERROR:root:task: connection_task raised exception: .\n"
     ]
    },
    {
     "name": "stdout",
     "output_type": "stream",
     "text": [
      "Saved: 2025-09-12 19:59:32,0.19393034279346466,0.043095629662275314,9.919178009033203\n"
     ]
    },
    {
     "name": "stderr",
     "output_type": "stream",
     "text": [
      "ERROR:root:task: mqtt_task raised exception: [WinError 10054] An existing connection was forcibly closed by the remote host.\n",
      "ERROR:root:task: connection_task raised exception: .\n",
      "ERROR:root:task: mqtt_task raised exception: [WinError 10054] An existing connection was forcibly closed by the remote host.\n",
      "ERROR:root:task: connection_task raised exception: .\n"
     ]
    },
    {
     "name": "stdout",
     "output_type": "stream",
     "text": [
      "Saved: 2025-09-12 19:59:38,0.20111294090747833,0.043095629662275314,9.919178009033203\n",
      "Saved: 2025-09-12 19:59:39,0.20111294090747833,0.05746084079146385,9.919178009033203\n"
     ]
    },
    {
     "name": "stderr",
     "output_type": "stream",
     "text": [
      "ERROR:root:task: mqtt_task raised exception: [WinError 10054] An existing connection was forcibly closed by the remote host.\n",
      "ERROR:root:task: connection_task raised exception: .\n",
      "ERROR:root:task: mqtt_task raised exception: [WinError 10054] An existing connection was forcibly closed by the remote host.\n",
      "ERROR:root:task: connection_task raised exception: .\n",
      "ERROR:root:task: mqtt_task raised exception: [WinError 10054] An existing connection was forcibly closed by the remote host.\n",
      "ERROR:root:task: connection_task raised exception: .\n",
      "ERROR:root:task: mqtt_task raised exception: [WinError 10054] An existing connection was forcibly closed by the remote host.\n",
      "ERROR:root:task: connection_task raised exception: .\n",
      "ERROR:root:task: mqtt_task raised exception: [WinError 10054] An existing connection was forcibly closed by the remote host.\n",
      "ERROR:root:task: connection_task raised exception: .\n",
      "ERROR:root:task: mqtt_task raised exception: [WinError 10054] An existing connection was forcibly closed by the remote host.\n",
      "ERROR:root:task: connection_task raised exception: .\n",
      "ERROR:root:task: mqtt_task raised exception: [WinError 10054] An existing connection was forcibly closed by the remote host.\n",
      "ERROR:root:task: connection_task raised exception: .\n",
      "ERROR:root:task: mqtt_task raised exception: [WinError 10054] An existing connection was forcibly closed by the remote host.\n",
      "ERROR:root:task: connection_task raised exception: .\n",
      "ERROR:root:task: mqtt_task raised exception: [WinError 10054] An existing connection was forcibly closed by the remote host.\n",
      "ERROR:root:task: connection_task raised exception: .\n",
      "ERROR:root:task: mqtt_task raised exception: [WinError 10054] An existing connection was forcibly closed by the remote host.\n",
      "ERROR:root:task: connection_task raised exception: .\n",
      "ERROR:root:task: mqtt_task raised exception: [WinError 10054] An existing connection was forcibly closed by the remote host.\n",
      "ERROR:root:task: connection_task raised exception: .\n"
     ]
    },
    {
     "name": "stdout",
     "output_type": "stream",
     "text": [
      "Saved: 2025-09-12 20:00:10,0.10534487664699554,0.05746084079146385,9.919178009033203\n"
     ]
    },
    {
     "name": "stderr",
     "output_type": "stream",
     "text": [
      "ERROR:root:task: mqtt_task raised exception: [WinError 10054] An existing connection was forcibly closed by the remote host.\n",
      "ERROR:root:task: connection_task raised exception: .\n",
      "ERROR:root:task: mqtt_task raised exception: [WinError 10054] An existing connection was forcibly closed by the remote host.\n",
      "ERROR:root:task: connection_task raised exception: .\n"
     ]
    },
    {
     "name": "stdout",
     "output_type": "stream",
     "text": [
      "Saved: 2025-09-12 20:00:17,0.19393034279346466,0.05746084079146385,9.919178009033203\n"
     ]
    },
    {
     "name": "stderr",
     "output_type": "stream",
     "text": [
      "ERROR:root:task: mqtt_task raised exception: [WinError 10054] An existing connection was forcibly closed by the remote host.\n",
      "ERROR:root:task: connection_task raised exception: .\n"
     ]
    },
    {
     "name": "stdout",
     "output_type": "stream",
     "text": [
      "Saved: 2025-09-12 20:00:21,0.1867477297782898,0.05746084079146385,9.919178009033203\n"
     ]
    },
    {
     "name": "stderr",
     "output_type": "stream",
     "text": [
      "ERROR:root:task: mqtt_task raised exception: [WinError 10054] An existing connection was forcibly closed by the remote host.\n",
      "ERROR:root:task: connection_task raised exception: .\n"
     ]
    },
    {
     "name": "stdout",
     "output_type": "stream",
     "text": [
      "Saved: 2025-09-12 20:00:25,0.18914192914962769,0.05746084079146385,9.919178009033203\n"
     ]
    },
    {
     "name": "stderr",
     "output_type": "stream",
     "text": [
      "ERROR:root:task: mqtt_task raised exception: [WinError 10054] An existing connection was forcibly closed by the remote host.\n",
      "ERROR:root:task: connection_task raised exception: .\n"
     ]
    },
    {
     "name": "stdout",
     "output_type": "stream",
     "text": [
      "Saved: 2025-09-12 20:00:28,0.1867477297782898,0.05746084079146385,9.919178009033203\n"
     ]
    },
    {
     "name": "stderr",
     "output_type": "stream",
     "text": [
      "ERROR:root:task: mqtt_task raised exception: [WinError 10054] An existing connection was forcibly closed by the remote host.\n",
      "ERROR:root:task: connection_task raised exception: .\n"
     ]
    },
    {
     "name": "stdout",
     "output_type": "stream",
     "text": [
      "Saved: 2025-09-12 20:00:32,0.1867477297782898,0.05746084079146385,9.919178009033203\n"
     ]
    },
    {
     "name": "stderr",
     "output_type": "stream",
     "text": [
      "ERROR:root:task: mqtt_task raised exception: [WinError 10054] An existing connection was forcibly closed by the remote host.\n",
      "ERROR:root:task: connection_task raised exception: .\n",
      "ERROR:root:task: mqtt_task raised exception: [WinError 10054] An existing connection was forcibly closed by the remote host.\n",
      "ERROR:root:task: connection_task raised exception: .\n"
     ]
    },
    {
     "name": "stdout",
     "output_type": "stream",
     "text": [
      "Saved: 2025-09-12 20:00:40,0.1867477297782898,0.05746084079146385,9.919178009033203\n"
     ]
    },
    {
     "name": "stderr",
     "output_type": "stream",
     "text": [
      "ERROR:root:task: mqtt_task raised exception: [WinError 10054] An existing connection was forcibly closed by the remote host.\n",
      "ERROR:root:task: connection_task raised exception: .\n"
     ]
    },
    {
     "name": "stdout",
     "output_type": "stream",
     "text": [
      "Saved: 2025-09-12 20:00:43,0.20111294090747833,0.05746084079146385,9.919178009033203\n"
     ]
    },
    {
     "name": "stderr",
     "output_type": "stream",
     "text": [
      "ERROR:root:task: mqtt_task raised exception: [WinError 10054] An existing connection was forcibly closed by the remote host.\n",
      "ERROR:root:task: connection_task raised exception: .\n",
      "ERROR:root:task: mqtt_task raised exception: [WinError 10054] An existing connection was forcibly closed by the remote host.\n",
      "ERROR:root:task: connection_task raised exception: .\n"
     ]
    },
    {
     "name": "stdout",
     "output_type": "stream",
     "text": [
      "Saved: 2025-09-12 20:00:51,0.18914192914962769,0.05746084079146385,9.919178009033203\n"
     ]
    },
    {
     "name": "stderr",
     "output_type": "stream",
     "text": [
      "ERROR:root:task: mqtt_task raised exception: [WinError 10054] An existing connection was forcibly closed by the remote host.\n",
      "ERROR:root:task: connection_task raised exception: .\n"
     ]
    },
    {
     "name": "stdout",
     "output_type": "stream",
     "text": [
      "Saved: 2025-09-12 20:00:55,0.19393034279346466,0.05746084079146385,9.919178009033203\n"
     ]
    },
    {
     "name": "stderr",
     "output_type": "stream",
     "text": [
      "ERROR:root:task: mqtt_task raised exception: [WinError 10054] An existing connection was forcibly closed by the remote host.\n",
      "ERROR:root:task: connection_task raised exception: .\n",
      "ERROR:root:task: mqtt_task raised exception: [WinError 10054] An existing connection was forcibly closed by the remote host.\n",
      "ERROR:root:task: connection_task raised exception: .\n"
     ]
    },
    {
     "name": "stdout",
     "output_type": "stream",
     "text": [
      "Saved: 2025-09-12 20:01:02,0.19632454216480255,0.05746084079146385,9.919178009033203\n"
     ]
    },
    {
     "name": "stderr",
     "output_type": "stream",
     "text": [
      "ERROR:root:task: mqtt_task raised exception: [WinError 10054] An existing connection was forcibly closed by the remote host.\n",
      "ERROR:root:task: connection_task raised exception: .\n"
     ]
    },
    {
     "name": "stdout",
     "output_type": "stream",
     "text": [
      "Saved: 2025-09-12 20:01:06,0.20111294090747833,0.05746084079146385,9.919178009033203\n"
     ]
    },
    {
     "name": "stderr",
     "output_type": "stream",
     "text": [
      "ERROR:root:task: mqtt_task raised exception: [WinError 10054] An existing connection was forcibly closed by the remote host.\n",
      "ERROR:root:task: connection_task raised exception: .\n"
     ]
    },
    {
     "name": "stdout",
     "output_type": "stream",
     "text": [
      "Saved: 2025-09-12 20:01:10,0.19871874153614044,0.05746084079146385,9.919178009033203\n"
     ]
    },
    {
     "name": "stderr",
     "output_type": "stream",
     "text": [
      "ERROR:root:task: mqtt_task raised exception: [WinError 10054] An existing connection was forcibly closed by the remote host.\n",
      "ERROR:root:task: connection_task raised exception: .\n"
     ]
    },
    {
     "name": "stdout",
     "output_type": "stream",
     "text": [
      "Saved: 2025-09-12 20:01:14,0.19153612852096558,0.05746084079146385,9.919178009033203\n"
     ]
    },
    {
     "name": "stderr",
     "output_type": "stream",
     "text": [
      "ERROR:root:task: mqtt_task raised exception: [WinError 10054] An existing connection was forcibly closed by the remote host.\n",
      "ERROR:root:task: connection_task raised exception: .\n",
      "ERROR:root:task: mqtt_task raised exception: [WinError 10054] An existing connection was forcibly closed by the remote host.\n",
      "ERROR:root:task: connection_task raised exception: .\n",
      "ERROR:root:task: mqtt_task raised exception: [WinError 10054] An existing connection was forcibly closed by the remote host.\n",
      "ERROR:root:task: connection_task raised exception: .\n",
      "ERROR:root:task: mqtt_task raised exception: [WinError 10054] An existing connection was forcibly closed by the remote host.\n",
      "ERROR:root:task: connection_task raised exception: .\n",
      "ERROR:root:task: mqtt_task raised exception: [WinError 10054] An existing connection was forcibly closed by the remote host.\n",
      "ERROR:root:task: connection_task raised exception: .\n",
      "ERROR:root:task: mqtt_task raised exception: [WinError 10054] An existing connection was forcibly closed by the remote host.\n",
      "ERROR:root:task: connection_task raised exception: .\n"
     ]
    },
    {
     "name": "stdout",
     "output_type": "stream",
     "text": [
      "Saved: 2025-09-12 20:01:31,0.20111294090747833,0.05746084079146385,9.919178009033203\n"
     ]
    },
    {
     "name": "stderr",
     "output_type": "stream",
     "text": [
      "ERROR:root:task: mqtt_task raised exception: [WinError 10054] An existing connection was forcibly closed by the remote host.\n",
      "ERROR:root:task: connection_task raised exception: .\n",
      "ERROR:root:task: mqtt_task raised exception: [WinError 10054] An existing connection was forcibly closed by the remote host.\n",
      "ERROR:root:task: connection_task raised exception: .\n"
     ]
    },
    {
     "name": "stdout",
     "output_type": "stream",
     "text": [
      "Saved: 2025-09-12 20:01:38,0.1867477297782898,0.05746084079146385,9.919178009033203\n",
      "Saved: 2025-09-12 20:01:39,0.1867477297782898,0.033518824726343155,9.919178009033203\n"
     ]
    },
    {
     "name": "stderr",
     "output_type": "stream",
     "text": [
      "ERROR:root:task: mqtt_task raised exception: [WinError 10054] An existing connection was forcibly closed by the remote host.\n",
      "ERROR:root:task: connection_task raised exception: .\n"
     ]
    },
    {
     "name": "stdout",
     "output_type": "stream",
     "text": [
      "Saved: 2025-09-12 20:01:43,0.1843535304069519,0.033518824726343155,9.919178009033203\n"
     ]
    },
    {
     "name": "stderr",
     "output_type": "stream",
     "text": [
      "ERROR:root:task: mqtt_task raised exception: [WinError 10054] An existing connection was forcibly closed by the remote host.\n",
      "ERROR:root:task: connection_task raised exception: .\n",
      "ERROR:root:task: mqtt_task raised exception: [WinError 10054] An existing connection was forcibly closed by the remote host.\n",
      "ERROR:root:task: connection_task raised exception: .\n"
     ]
    },
    {
     "name": "stdout",
     "output_type": "stream",
     "text": [
      "Saved: 2025-09-12 20:01:51,0.19153612852096558,0.033518824726343155,9.919178009033203\n"
     ]
    },
    {
     "name": "stderr",
     "output_type": "stream",
     "text": [
      "ERROR:root:task: mqtt_task raised exception: [WinError 10054] An existing connection was forcibly closed by the remote host.\n",
      "ERROR:root:task: connection_task raised exception: .\n"
     ]
    },
    {
     "name": "stdout",
     "output_type": "stream",
     "text": [
      "Saved: 2025-09-12 20:01:54,0.18914192914962769,0.033518824726343155,9.919178009033203\n"
     ]
    },
    {
     "name": "stderr",
     "output_type": "stream",
     "text": [
      "ERROR:root:task: mqtt_task raised exception: [WinError 10054] An existing connection was forcibly closed by the remote host.\n",
      "ERROR:root:task: connection_task raised exception: .\n"
     ]
    },
    {
     "name": "stdout",
     "output_type": "stream",
     "text": [
      "Saved: 2025-09-12 20:01:58,0.1867477297782898,0.033518824726343155,9.919178009033203\n"
     ]
    },
    {
     "name": "stderr",
     "output_type": "stream",
     "text": [
      "ERROR:root:task: mqtt_task raised exception: [WinError 10054] An existing connection was forcibly closed by the remote host.\n",
      "ERROR:root:task: connection_task raised exception: .\n"
     ]
    },
    {
     "name": "stdout",
     "output_type": "stream",
     "text": [
      "Saved: 2025-09-12 20:02:02,0.2106897532939911,0.033518824726343155,9.919178009033203\n"
     ]
    },
    {
     "name": "stderr",
     "output_type": "stream",
     "text": [
      "ERROR:root:task: mqtt_task raised exception: [WinError 10054] An existing connection was forcibly closed by the remote host.\n",
      "ERROR:root:task: connection_task raised exception: .\n"
     ]
    },
    {
     "name": "stdout",
     "output_type": "stream",
     "text": [
      "Saved: 2025-09-12 20:02:06,0.19871874153614044,0.033518824726343155,9.919178009033203\n"
     ]
    },
    {
     "name": "stderr",
     "output_type": "stream",
     "text": [
      "ERROR:root:task: mqtt_task raised exception: [WinError 10054] An existing connection was forcibly closed by the remote host.\n",
      "ERROR:root:task: connection_task raised exception: .\n",
      "ERROR:root:task: mqtt_task raised exception: [WinError 10054] An existing connection was forcibly closed by the remote host.\n",
      "ERROR:root:task: connection_task raised exception: .\n"
     ]
    },
    {
     "name": "stdout",
     "output_type": "stream",
     "text": [
      "Saved: 2025-09-12 20:02:12,0.21308395266532898,0.033518824726343155,9.919178009033203\n",
      "Saved: 2025-09-12 20:02:13,0.21308395266532898,0.031124621629714966,9.919178009033203\n"
     ]
    },
    {
     "name": "stderr",
     "output_type": "stream",
     "text": [
      "ERROR:root:task: mqtt_task raised exception: [WinError 10054] An existing connection was forcibly closed by the remote host.\n",
      "ERROR:root:task: connection_task raised exception: .\n",
      "ERROR:root:task: mqtt_task raised exception: [WinError 10054] An existing connection was forcibly closed by the remote host.\n",
      "ERROR:root:task: connection_task raised exception: .\n",
      "ERROR:root:task: mqtt_task raised exception: [WinError 10054] An existing connection was forcibly closed by the remote host.\n",
      "ERROR:root:task: connection_task raised exception: .\n",
      "ERROR:root:task: mqtt_task raised exception: [WinError 10054] An existing connection was forcibly closed by the remote host.\n",
      "ERROR:root:task: connection_task raised exception: .\n",
      "ERROR:root:task: mqtt_task raised exception: [WinError 10054] An existing connection was forcibly closed by the remote host.\n",
      "ERROR:root:task: connection_task raised exception: .\n"
     ]
    },
    {
     "name": "stdout",
     "output_type": "stream",
     "text": [
      "Saved: 2025-09-12 20:02:27,0.17956513166427612,0.031124621629714966,9.919178009033203\n",
      "Saved: 2025-09-12 20:02:28,0.17956513166427612,0.023942016065120697,9.919178009033203\n"
     ]
    },
    {
     "name": "stderr",
     "output_type": "stream",
     "text": [
      "ERROR:root:task: mqtt_task raised exception: [WinError 10054] An existing connection was forcibly closed by the remote host.\n",
      "ERROR:root:task: connection_task raised exception: .\n"
     ]
    },
    {
     "name": "stdout",
     "output_type": "stream",
     "text": [
      "Saved: 2025-09-12 20:02:32,0.18914192914962769,0.023942016065120697,9.919178009033203\n"
     ]
    },
    {
     "name": "stderr",
     "output_type": "stream",
     "text": [
      "ERROR:root:task: mqtt_task raised exception: [WinError 10054] An existing connection was forcibly closed by the remote host.\n",
      "ERROR:root:task: connection_task raised exception: .\n"
     ]
    },
    {
     "name": "stdout",
     "output_type": "stream",
     "text": [
      "Saved: 2025-09-12 20:02:36,0.2082955539226532,0.023942016065120697,9.919178009033203\n"
     ]
    },
    {
     "name": "stderr",
     "output_type": "stream",
     "text": [
      "ERROR:root:task: mqtt_task raised exception: [WinError 10054] An existing connection was forcibly closed by the remote host.\n",
      "ERROR:root:task: connection_task raised exception: .\n"
     ]
    },
    {
     "name": "stdout",
     "output_type": "stream",
     "text": [
      "Saved: 2025-09-12 20:02:40,0.19632454216480255,0.023942016065120697,9.919178009033203\n"
     ]
    },
    {
     "name": "stderr",
     "output_type": "stream",
     "text": [
      "ERROR:root:task: mqtt_task raised exception: [WinError 10054] An existing connection was forcibly closed by the remote host.\n",
      "ERROR:root:task: connection_task raised exception: .\n"
     ]
    },
    {
     "name": "stdout",
     "output_type": "stream",
     "text": [
      "Saved: 2025-09-12 20:02:43,0.1843535304069519,0.023942016065120697,9.919178009033203\n"
     ]
    },
    {
     "name": "stderr",
     "output_type": "stream",
     "text": [
      "ERROR:root:task: mqtt_task raised exception: [WinError 10054] An existing connection was forcibly closed by the remote host.\n",
      "ERROR:root:task: connection_task raised exception: .\n",
      "ERROR:root:task: mqtt_task raised exception: [WinError 10054] An existing connection was forcibly closed by the remote host.\n",
      "ERROR:root:task: connection_task raised exception: .\n",
      "ERROR:root:task: mqtt_task raised exception: [WinError 10054] An existing connection was forcibly closed by the remote host.\n",
      "ERROR:root:task: connection_task raised exception: .\n",
      "ERROR:root:task: mqtt_task raised exception: [WinError 10054] An existing connection was forcibly closed by the remote host.\n",
      "ERROR:root:task: connection_task raised exception: .\n",
      "ERROR:root:task: mqtt_task raised exception: [WinError 10054] An existing connection was forcibly closed by the remote host.\n",
      "ERROR:root:task: connection_task raised exception: .\n",
      "ERROR:root:task: mqtt_task raised exception: [WinError 10054] An existing connection was forcibly closed by the remote host.\n",
      "ERROR:root:task: connection_task raised exception: .\n"
     ]
    },
    {
     "name": "stdout",
     "output_type": "stream",
     "text": [
      "Saved: 2025-09-12 20:03:01,0.19153612852096558,0.023942016065120697,9.919178009033203\n"
     ]
    },
    {
     "name": "stderr",
     "output_type": "stream",
     "text": [
      "ERROR:root:task: mqtt_task raised exception: [WinError 10054] An existing connection was forcibly closed by the remote host.\n",
      "ERROR:root:task: connection_task raised exception: .\n"
     ]
    },
    {
     "name": "stdout",
     "output_type": "stream",
     "text": [
      "Saved: 2025-09-12 20:03:05,0.18914192914962769,0.023942016065120697,9.919178009033203\n"
     ]
    },
    {
     "name": "stderr",
     "output_type": "stream",
     "text": [
      "ERROR:root:task: mqtt_task raised exception: [WinError 10054] An existing connection was forcibly closed by the remote host.\n",
      "ERROR:root:task: connection_task raised exception: .\n"
     ]
    },
    {
     "name": "stdout",
     "output_type": "stream",
     "text": [
      "Saved: 2025-09-12 20:03:09,0.1867477297782898,0.023942016065120697,9.919178009033203\n"
     ]
    },
    {
     "name": "stderr",
     "output_type": "stream",
     "text": [
      "ERROR:root:task: mqtt_task raised exception: [WinError 10054] An existing connection was forcibly closed by the remote host.\n",
      "ERROR:root:task: connection_task raised exception: .\n"
     ]
    },
    {
     "name": "stdout",
     "output_type": "stream",
     "text": [
      "Saved: 2025-09-12 20:03:11,0.2059013396501541,0.023942016065120697,9.919178009033203\n",
      "Creating visualizations...\n"
     ]
    },
    {
     "name": "stderr",
     "output_type": "stream",
     "text": [
      "ERROR:root:task: mqtt_task raised exception: [WinError 10054] An existing connection was forcibly closed by the remote host.\n"
     ]
    },
    {
     "name": "stdout",
     "output_type": "stream",
     "text": [
      "Visualizations saved as 'accelerometer_analysis.png'\n",
      "Analyzing patterns...\n",
      "X-axis: 46 peaks, average interval: 9.13 samples\n",
      "Y-axis: 7 peaks, average interval: 58.17 samples\n",
      "Pattern analysis saved as 'pattern_analysis.txt'\n"
     ]
    },
    {
     "name": "stderr",
     "output_type": "stream",
     "text": [
      "ERROR:root:task: connection_task raised exception: .\n"
     ]
    },
    {
     "name": "stdout",
     "output_type": "stream",
     "text": [
      "Saved: 2025-09-12 20:03:16,0.18914192914962769,0.023942016065120697,9.919178009033203\n"
     ]
    },
    {
     "name": "stderr",
     "output_type": "stream",
     "text": [
      "ERROR:root:task: mqtt_task raised exception: [WinError 10054] An existing connection was forcibly closed by the remote host.\n",
      "ERROR:root:task: connection_task raised exception: .\n"
     ]
    },
    {
     "name": "stdout",
     "output_type": "stream",
     "text": [
      "Saved: 2025-09-12 20:03:20,0.1843535304069519,0.023942016065120697,9.919178009033203\n"
     ]
    },
    {
     "name": "stderr",
     "output_type": "stream",
     "text": [
      "ERROR:root:task: mqtt_task raised exception: [WinError 10054] An existing connection was forcibly closed by the remote host.\n",
      "ERROR:root:task: connection_task raised exception: .\n"
     ]
    },
    {
     "name": "stdout",
     "output_type": "stream",
     "text": [
      "Saved: 2025-09-12 20:03:23,0.18914192914962769,0.023942016065120697,9.919178009033203\n"
     ]
    },
    {
     "name": "stderr",
     "output_type": "stream",
     "text": [
      "ERROR:root:task: mqtt_task raised exception: [WinError 10054] An existing connection was forcibly closed by the remote host.\n",
      "ERROR:root:task: connection_task raised exception: .\n"
     ]
    },
    {
     "name": "stdout",
     "output_type": "stream",
     "text": [
      "Saved: 2025-09-12 20:03:27,0.20111294090747833,0.023942016065120697,9.919178009033203\n"
     ]
    },
    {
     "name": "stderr",
     "output_type": "stream",
     "text": [
      "ERROR:root:task: mqtt_task raised exception: [WinError 10054] An existing connection was forcibly closed by the remote host.\n",
      "ERROR:root:task: connection_task raised exception: .\n"
     ]
    },
    {
     "name": "stdout",
     "output_type": "stream",
     "text": [
      "Saved: 2025-09-12 20:03:31,0.18914192914962769,0.023942016065120697,9.919178009033203\n"
     ]
    },
    {
     "name": "stderr",
     "output_type": "stream",
     "text": [
      "ERROR:root:task: mqtt_task raised exception: [WinError 10054] An existing connection was forcibly closed by the remote host.\n",
      "ERROR:root:task: connection_task raised exception: .\n"
     ]
    },
    {
     "name": "stdout",
     "output_type": "stream",
     "text": [
      "Saved: 2025-09-12 20:03:35,0.1843535304069519,0.023942016065120697,9.919178009033203\n"
     ]
    },
    {
     "name": "stderr",
     "output_type": "stream",
     "text": [
      "ERROR:root:task: mqtt_task raised exception: [WinError 10054] An existing connection was forcibly closed by the remote host.\n",
      "ERROR:root:task: connection_task raised exception: .\n"
     ]
    },
    {
     "name": "stdout",
     "output_type": "stream",
     "text": [
      "Saved: 2025-09-12 20:03:38,0.19393034279346466,0.023942016065120697,9.919178009033203\n"
     ]
    },
    {
     "name": "stderr",
     "output_type": "stream",
     "text": [
      "ERROR:root:task: mqtt_task raised exception: [WinError 10054] An existing connection was forcibly closed by the remote host.\n",
      "ERROR:root:task: connection_task raised exception: .\n"
     ]
    },
    {
     "name": "stdout",
     "output_type": "stream",
     "text": [
      "Saved: 2025-09-12 20:03:42,0.1867477297782898,0.023942016065120697,9.919178009033203\n"
     ]
    },
    {
     "name": "stderr",
     "output_type": "stream",
     "text": [
      "ERROR:root:task: mqtt_task raised exception: [WinError 10054] An existing connection was forcibly closed by the remote host.\n",
      "ERROR:root:task: connection_task raised exception: .\n"
     ]
    },
    {
     "name": "stdout",
     "output_type": "stream",
     "text": [
      "Saved: 2025-09-12 20:03:46,0.21308395266532898,0.023942016065120697,9.919178009033203\n"
     ]
    },
    {
     "name": "stderr",
     "output_type": "stream",
     "text": [
      "ERROR:root:task: mqtt_task raised exception: [WinError 10054] An existing connection was forcibly closed by the remote host.\n",
      "ERROR:root:task: connection_task raised exception: .\n",
      "ERROR:root:task: mqtt_task raised exception: [WinError 10054] An existing connection was forcibly closed by the remote host.\n",
      "ERROR:root:task: connection_task raised exception: .\n",
      "ERROR:root:task: mqtt_task raised exception: [WinError 10054] An existing connection was forcibly closed by the remote host.\n",
      "ERROR:root:task: connection_task raised exception: .\n"
     ]
    },
    {
     "name": "stdout",
     "output_type": "stream",
     "text": [
      "Saved: 2025-09-12 20:03:56,0.19153612852096558,0.023942016065120697,9.919178009033203\n"
     ]
    },
    {
     "name": "stderr",
     "output_type": "stream",
     "text": [
      "ERROR:root:task: mqtt_task raised exception: [WinError 10054] An existing connection was forcibly closed by the remote host.\n",
      "ERROR:root:task: connection_task raised exception: .\n"
     ]
    },
    {
     "name": "stdout",
     "output_type": "stream",
     "text": [
      "Saved: 2025-09-12 20:04:00,0.19393034279346466,0.023942016065120697,9.919178009033203\n"
     ]
    },
    {
     "name": "stderr",
     "output_type": "stream",
     "text": [
      "ERROR:root:task: mqtt_task raised exception: [WinError 10054] An existing connection was forcibly closed by the remote host.\n",
      "ERROR:root:task: connection_task raised exception: .\n"
     ]
    },
    {
     "name": "stdout",
     "output_type": "stream",
     "text": [
      "Saved: 2025-09-12 20:04:04,0.20111294090747833,0.023942016065120697,9.919178009033203\n"
     ]
    },
    {
     "name": "stderr",
     "output_type": "stream",
     "text": [
      "ERROR:root:task: mqtt_task raised exception: [WinError 10054] An existing connection was forcibly closed by the remote host.\n",
      "ERROR:root:task: connection_task raised exception: .\n"
     ]
    },
    {
     "name": "stdout",
     "output_type": "stream",
     "text": [
      "Saved: 2025-09-12 20:04:07,0.1843535304069519,0.023942016065120697,9.919178009033203\n",
      "Saved: 2025-09-12 20:04:08,0.1843535304069519,0.028730420395731926,9.919178009033203\n"
     ]
    },
    {
     "name": "stderr",
     "output_type": "stream",
     "text": [
      "ERROR:root:task: mqtt_task raised exception: [WinError 10054] An existing connection was forcibly closed by the remote host.\n",
      "ERROR:root:task: connection_task raised exception: .\n"
     ]
    },
    {
     "name": "stdout",
     "output_type": "stream",
     "text": [
      "Saved: 2025-09-12 20:04:11,0.1867477297782898,0.028730420395731926,9.919178009033203\n"
     ]
    },
    {
     "name": "stderr",
     "output_type": "stream",
     "text": [
      "ERROR:root:task: mqtt_task raised exception: [WinError 10054] An existing connection was forcibly closed by the remote host.\n",
      "ERROR:root:task: connection_task raised exception: .\n"
     ]
    },
    {
     "name": "stdout",
     "output_type": "stream",
     "text": [
      "Saved: 2025-09-12 20:04:15,0.1843535304069519,0.028730420395731926,9.919178009033203\n"
     ]
    },
    {
     "name": "stderr",
     "output_type": "stream",
     "text": [
      "ERROR:root:task: mqtt_task raised exception: [WinError 10054] An existing connection was forcibly closed by the remote host.\n",
      "ERROR:root:task: connection_task raised exception: .\n"
     ]
    },
    {
     "name": "stdout",
     "output_type": "stream",
     "text": [
      "Saved: 2025-09-12 20:04:19,0.2082955539226532,0.028730420395731926,9.919178009033203\n"
     ]
    },
    {
     "name": "stderr",
     "output_type": "stream",
     "text": [
      "ERROR:root:task: mqtt_task raised exception: [WinError 10054] An existing connection was forcibly closed by the remote host.\n",
      "ERROR:root:task: connection_task raised exception: .\n"
     ]
    },
    {
     "name": "stdout",
     "output_type": "stream",
     "text": [
      "Saved: 2025-09-12 20:04:22,0.2059013396501541,0.028730420395731926,9.919178009033203\n"
     ]
    },
    {
     "name": "stderr",
     "output_type": "stream",
     "text": [
      "ERROR:root:task: mqtt_task raised exception: [WinError 10054] An existing connection was forcibly closed by the remote host.\n",
      "ERROR:root:task: connection_task raised exception: .\n",
      "ERROR:root:task: mqtt_task raised exception: [WinError 10054] An existing connection was forcibly closed by the remote host.\n",
      "ERROR:root:task: connection_task raised exception: .\n"
     ]
    },
    {
     "name": "stdout",
     "output_type": "stream",
     "text": [
      "Saved: 2025-09-12 20:04:29,0.17956513166427612,0.028730420395731926,9.919178009033203\n"
     ]
    },
    {
     "name": "stderr",
     "output_type": "stream",
     "text": [
      "ERROR:root:task: mqtt_task raised exception: [WinError 10054] An existing connection was forcibly closed by the remote host.\n",
      "ERROR:root:task: connection_task raised exception: .\n"
     ]
    },
    {
     "name": "stdout",
     "output_type": "stream",
     "text": [
      "Saved: 2025-09-12 20:04:32,0.1604115068912506,0.028730420395731926,9.919178009033203\n",
      "Saved: 2025-09-12 20:04:33,0.1604115068912506,0.038307227194309235,9.919178009033203\n"
     ]
    },
    {
     "name": "stderr",
     "output_type": "stream",
     "text": [
      "ERROR:root:task: mqtt_task raised exception: [WinError 10054] An existing connection was forcibly closed by the remote host.\n",
      "ERROR:root:task: connection_task raised exception: .\n"
     ]
    },
    {
     "name": "stdout",
     "output_type": "stream",
     "text": [
      "Saved: 2025-09-12 20:04:36,0.181959331035614,0.038307227194309235,9.919178009033203\n"
     ]
    },
    {
     "name": "stderr",
     "output_type": "stream",
     "text": [
      "ERROR:root:task: mqtt_task raised exception: [WinError 10054] An existing connection was forcibly closed by the remote host.\n",
      "ERROR:root:task: connection_task raised exception: .\n",
      "ERROR:root:task: mqtt_task raised exception: [WinError 10054] An existing connection was forcibly closed by the remote host.\n",
      "ERROR:root:task: connection_task raised exception: .\n",
      "ERROR:root:task: mqtt_task raised exception: [WinError 10054] An existing connection was forcibly closed by the remote host.\n",
      "ERROR:root:task: connection_task raised exception: .\n"
     ]
    },
    {
     "name": "stdout",
     "output_type": "stream",
     "text": [
      "Saved: 2025-09-12 20:04:46,0.20350714027881622,0.038307227194309235,9.919178009033203\n"
     ]
    },
    {
     "name": "stderr",
     "output_type": "stream",
     "text": [
      "ERROR:root:task: mqtt_task raised exception: [WinError 10054] An existing connection was forcibly closed by the remote host.\n",
      "ERROR:root:task: connection_task raised exception: .\n"
     ]
    },
    {
     "name": "stdout",
     "output_type": "stream",
     "text": [
      "Saved: 2025-09-12 20:04:49,0.1867477297782898,0.038307227194309235,9.919178009033203\n"
     ]
    },
    {
     "name": "stderr",
     "output_type": "stream",
     "text": [
      "ERROR:root:task: mqtt_task raised exception: [WinError 10054] An existing connection was forcibly closed by the remote host.\n",
      "ERROR:root:task: connection_task raised exception: .\n"
     ]
    },
    {
     "name": "stdout",
     "output_type": "stream",
     "text": [
      "Saved: 2025-09-12 20:04:53,0.19153612852096558,0.038307227194309235,9.919178009033203\n"
     ]
    },
    {
     "name": "stderr",
     "output_type": "stream",
     "text": [
      "ERROR:root:task: mqtt_task raised exception: [WinError 10054] An existing connection was forcibly closed by the remote host.\n",
      "ERROR:root:task: connection_task raised exception: .\n"
     ]
    },
    {
     "name": "stdout",
     "output_type": "stream",
     "text": [
      "Saved: 2025-09-12 20:04:57,0.19632454216480255,0.038307227194309235,9.919178009033203\n"
     ]
    },
    {
     "name": "stderr",
     "output_type": "stream",
     "text": [
      "ERROR:root:task: mqtt_task raised exception: [WinError 10054] An existing connection was forcibly closed by the remote host.\n",
      "ERROR:root:task: connection_task raised exception: .\n"
     ]
    },
    {
     "name": "stdout",
     "output_type": "stream",
     "text": [
      "Saved: 2025-09-12 20:05:01,0.17238251864910126,0.038307227194309235,9.919178009033203\n"
     ]
    },
    {
     "name": "stderr",
     "output_type": "stream",
     "text": [
      "ERROR:root:task: mqtt_task raised exception: [WinError 10054] An existing connection was forcibly closed by the remote host.\n",
      "ERROR:root:task: connection_task raised exception: .\n"
     ]
    },
    {
     "name": "stdout",
     "output_type": "stream",
     "text": [
      "Saved: 2025-09-12 20:05:04,0.17477671802043915,0.038307227194309235,9.919178009033203\n"
     ]
    },
    {
     "name": "stderr",
     "output_type": "stream",
     "text": [
      "ERROR:root:task: mqtt_task raised exception: [WinError 10054] An existing connection was forcibly closed by the remote host.\n",
      "ERROR:root:task: connection_task raised exception: .\n",
      "ERROR:root:task: mqtt_task raised exception: [WinError 10054] An existing connection was forcibly closed by the remote host.\n",
      "ERROR:root:task: connection_task raised exception: .\n"
     ]
    },
    {
     "name": "stdout",
     "output_type": "stream",
     "text": [
      "Saved: 2025-09-12 20:05:11,0.15322890877723694,0.038307227194309235,9.919178009033203\n"
     ]
    },
    {
     "name": "stderr",
     "output_type": "stream",
     "text": [
      "ERROR:root:task: mqtt_task raised exception: [WinError 10054] An existing connection was forcibly closed by the remote host.\n",
      "ERROR:root:task: connection_task raised exception: .\n"
     ]
    },
    {
     "name": "stdout",
     "output_type": "stream",
     "text": [
      "Saved: 2025-09-12 20:05:15,0.2082955539226532,0.038307227194309235,9.919178009033203\n"
     ]
    },
    {
     "name": "stderr",
     "output_type": "stream",
     "text": [
      "ERROR:root:task: mqtt_task raised exception: [WinError 10054] An existing connection was forcibly closed by the remote host.\n",
      "ERROR:root:task: connection_task raised exception: .\n"
     ]
    },
    {
     "name": "stdout",
     "output_type": "stream",
     "text": [
      "Saved: 2025-09-12 20:05:18,0.17717093229293823,0.038307227194309235,9.919178009033203\n"
     ]
    },
    {
     "name": "stderr",
     "output_type": "stream",
     "text": [
      "ERROR:root:task: mqtt_task raised exception: [WinError 10054] An existing connection was forcibly closed by the remote host.\n",
      "ERROR:root:task: connection_task raised exception: .\n",
      "ERROR:root:task: mqtt_task raised exception: [WinError 10054] An existing connection was forcibly closed by the remote host.\n",
      "ERROR:root:task: connection_task raised exception: .\n",
      "ERROR:root:task: mqtt_task raised exception: [WinError 10054] An existing connection was forcibly closed by the remote host.\n",
      "ERROR:root:task: connection_task raised exception: .\n",
      "ERROR:root:task: mqtt_task raised exception: [WinError 10054] An existing connection was forcibly closed by the remote host.\n",
      "ERROR:root:task: connection_task raised exception: .\n",
      "ERROR:root:task: mqtt_task raised exception: [WinError 10054] An existing connection was forcibly closed by the remote host.\n",
      "ERROR:root:task: connection_task raised exception: .\n",
      "ERROR:root:task: mqtt_task raised exception: [WinError 10054] An existing connection was forcibly closed by the remote host.\n",
      "ERROR:root:task: connection_task raised exception: .\n"
     ]
    },
    {
     "name": "stdout",
     "output_type": "stream",
     "text": [
      "Saved: 2025-09-12 20:05:37,0.1867477297782898,0.038307227194309235,9.919178009033203\n"
     ]
    },
    {
     "name": "stderr",
     "output_type": "stream",
     "text": [
      "ERROR:root:task: mqtt_task raised exception: [WinError 10054] An existing connection was forcibly closed by the remote host.\n",
      "ERROR:root:task: connection_task raised exception: .\n",
      "ERROR:root:task: mqtt_task raised exception: [WinError 10054] An existing connection was forcibly closed by the remote host.\n",
      "ERROR:root:task: connection_task raised exception: .\n"
     ]
    },
    {
     "name": "stdout",
     "output_type": "stream",
     "text": [
      "Saved: 2025-09-12 20:05:44,0.17956513166427612,0.038307227194309235,9.919178009033203\n"
     ]
    },
    {
     "name": "stderr",
     "output_type": "stream",
     "text": [
      "ERROR:root:task: mqtt_task raised exception: [WinError 10054] An existing connection was forcibly closed by the remote host.\n",
      "ERROR:root:task: connection_task raised exception: .\n"
     ]
    },
    {
     "name": "stdout",
     "output_type": "stream",
     "text": [
      "Saved: 2025-09-12 20:05:48,0.17956513166427612,0.038307227194309235,9.919178009033203\n"
     ]
    },
    {
     "name": "stderr",
     "output_type": "stream",
     "text": [
      "ERROR:root:task: mqtt_task raised exception: [WinError 10054] An existing connection was forcibly closed by the remote host.\n",
      "ERROR:root:task: connection_task raised exception: .\n",
      "ERROR:root:task: mqtt_task raised exception: [WinError 10054] An existing connection was forcibly closed by the remote host.\n",
      "ERROR:root:task: connection_task raised exception: .\n"
     ]
    },
    {
     "name": "stdout",
     "output_type": "stream",
     "text": [
      "Saved: 2025-09-12 20:05:55,0.17956513166427612,0.038307227194309235,9.904812812805176\n"
     ]
    },
    {
     "name": "stderr",
     "output_type": "stream",
     "text": [
      "ERROR:root:task: mqtt_task raised exception: [WinError 10054] An existing connection was forcibly closed by the remote host.\n",
      "ERROR:root:task: connection_task raised exception: .\n",
      "ERROR:root:task: mqtt_task raised exception: [WinError 10054] An existing connection was forcibly closed by the remote host.\n",
      "ERROR:root:task: connection_task raised exception: .\n"
     ]
    },
    {
     "name": "stdout",
     "output_type": "stream",
     "text": [
      "Saved: 2025-09-12 20:06:01,0.1843535304069519,0.038307227194309235,9.904812812805176\n"
     ]
    },
    {
     "name": "stderr",
     "output_type": "stream",
     "text": [
      "ERROR:root:task: mqtt_task raised exception: [WinError 10054] An existing connection was forcibly closed by the remote host.\n",
      "ERROR:root:task: connection_task raised exception: .\n",
      "ERROR:root:task: mqtt_task raised exception: [WinError 10054] An existing connection was forcibly closed by the remote host.\n",
      "ERROR:root:task: connection_task raised exception: .\n",
      "ERROR:root:task: mqtt_task raised exception: [WinError 10054] An existing connection was forcibly closed by the remote host.\n",
      "ERROR:root:task: connection_task raised exception: .\n",
      "ERROR:root:task: mqtt_task raised exception: [WinError 10054] An existing connection was forcibly closed by the remote host.\n",
      "ERROR:root:task: connection_task raised exception: .\n",
      "ERROR:root:task: mqtt_task raised exception: [WinError 10054] An existing connection was forcibly closed by the remote host.\n",
      "ERROR:root:task: connection_task raised exception: .\n",
      "ERROR:root:task: mqtt_task raised exception: [WinError 10054] An existing connection was forcibly closed by the remote host.\n",
      "ERROR:root:task: connection_task raised exception: .\n",
      "ERROR:root:task: mqtt_task raised exception: [WinError 10054] An existing connection was forcibly closed by the remote host.\n",
      "ERROR:root:task: connection_task raised exception: .\n",
      "ERROR:root:task: mqtt_task raised exception: [WinError 10054] An existing connection was forcibly closed by the remote host.\n",
      "ERROR:root:task: connection_task raised exception: .\n",
      "ERROR:root:task: mqtt_task raised exception: [WinError 10054] An existing connection was forcibly closed by the remote host.\n",
      "ERROR:root:task: connection_task raised exception: .\n"
     ]
    },
    {
     "name": "stdout",
     "output_type": "stream",
     "text": [
      "Saved: 2025-09-12 20:06:27,0.18914192914962769,0.038307227194309235,9.904812812805176\n",
      "Saved: 2025-09-12 20:06:28,0.18914192914962769,0.043095629662275314,9.904812812805176\n"
     ]
    },
    {
     "name": "stderr",
     "output_type": "stream",
     "text": [
      "ERROR:root:task: mqtt_task raised exception: [WinError 10054] An existing connection was forcibly closed by the remote host.\n",
      "ERROR:root:task: connection_task raised exception: .\n",
      "ERROR:root:task: mqtt_task raised exception: [WinError 10054] An existing connection was forcibly closed by the remote host.\n",
      "ERROR:root:task: connection_task raised exception: .\n"
     ]
    },
    {
     "name": "stdout",
     "output_type": "stream",
     "text": [
      "Saved: 2025-09-12 20:06:46,0.22744916379451752,0.043095629662275314,9.904812812805176\n"
     ]
    },
    {
     "name": "stderr",
     "output_type": "stream",
     "text": [
      "ERROR:root:task: mqtt_task raised exception: [WinError 10054] An existing connection was forcibly closed by the remote host.\n",
      "ERROR:root:task: connection_task raised exception: .\n"
     ]
    },
    {
     "name": "stdout",
     "output_type": "stream",
     "text": [
      "Saved: 2025-09-12 20:06:50,0.18914192914962769,0.043095629662275314,9.904812812805176\n"
     ]
    },
    {
     "name": "stderr",
     "output_type": "stream",
     "text": [
      "ERROR:root:task: mqtt_task raised exception: [WinError 10054] An existing connection was forcibly closed by the remote host.\n",
      "ERROR:root:task: connection_task raised exception: .\n"
     ]
    },
    {
     "name": "stdout",
     "output_type": "stream",
     "text": [
      "Saved: 2025-09-12 20:06:53,0.19393034279346466,0.043095629662275314,9.904812812805176\n"
     ]
    },
    {
     "name": "stderr",
     "output_type": "stream",
     "text": [
      "ERROR:root:task: mqtt_task raised exception: [WinError 10054] An existing connection was forcibly closed by the remote host.\n",
      "ERROR:root:task: connection_task raised exception: .\n"
     ]
    },
    {
     "name": "stdout",
     "output_type": "stream",
     "text": [
      "Saved: 2025-09-12 20:06:57,0.18914192914962769,0.043095629662275314,9.904812812805176\n"
     ]
    },
    {
     "name": "stderr",
     "output_type": "stream",
     "text": [
      "ERROR:root:task: mqtt_task raised exception: [WinError 10054] An existing connection was forcibly closed by the remote host.\n",
      "ERROR:root:task: connection_task raised exception: .\n"
     ]
    },
    {
     "name": "stdout",
     "output_type": "stream",
     "text": [
      "Saved: 2025-09-12 20:07:01,0.19153612852096558,0.043095629662275314,9.904812812805176\n"
     ]
    },
    {
     "name": "stderr",
     "output_type": "stream",
     "text": [
      "ERROR:root:task: mqtt_task raised exception: [WinError 10054] An existing connection was forcibly closed by the remote host.\n",
      "ERROR:root:task: connection_task raised exception: .\n"
     ]
    },
    {
     "name": "stdout",
     "output_type": "stream",
     "text": [
      "Saved: 2025-09-12 20:07:03,0.2298433631658554,0.043095629662275314,9.904812812805176\n",
      "Saved: 2025-09-12 20:07:04,0.2298433631658554,0.028730420395731926,9.904812812805176\n"
     ]
    },
    {
     "name": "stderr",
     "output_type": "stream",
     "text": [
      "ERROR:root:task: mqtt_task raised exception: [WinError 10054] An existing connection was forcibly closed by the remote host.\n",
      "ERROR:root:task: connection_task raised exception: .\n"
     ]
    },
    {
     "name": "stdout",
     "output_type": "stream",
     "text": [
      "Saved: 2025-09-12 20:07:08,0.19153612852096558,0.028730420395731926,9.904812812805176\n"
     ]
    },
    {
     "name": "stderr",
     "output_type": "stream",
     "text": [
      "ERROR:root:task: mqtt_task raised exception: [WinError 10054] An existing connection was forcibly closed by the remote host.\n",
      "ERROR:root:task: connection_task raised exception: .\n"
     ]
    },
    {
     "name": "stdout",
     "output_type": "stream",
     "text": [
      "Saved: 2025-09-12 20:07:12,0.18914192914962769,0.028730420395731926,9.904812812805176\n"
     ]
    },
    {
     "name": "stderr",
     "output_type": "stream",
     "text": [
      "ERROR:root:task: mqtt_task raised exception: [WinError 10054] An existing connection was forcibly closed by the remote host.\n",
      "ERROR:root:task: connection_task raised exception: .\n",
      "ERROR:root:task: mqtt_task raised exception: [WinError 10054] An existing connection was forcibly closed by the remote host.\n",
      "ERROR:root:task: connection_task raised exception: .\n"
     ]
    },
    {
     "name": "stdout",
     "output_type": "stream",
     "text": [
      "Saved: 2025-09-12 20:07:18,0.181959331035614,0.028730420395731926,9.904812812805176\n",
      "Saved: 2025-09-12 20:07:19,0.181959331035614,0.040701430290937424,9.904812812805176\n"
     ]
    },
    {
     "name": "stderr",
     "output_type": "stream",
     "text": [
      "ERROR:root:task: mqtt_task raised exception: [WinError 10054] An existing connection was forcibly closed by the remote host.\n",
      "ERROR:root:task: connection_task raised exception: .\n"
     ]
    },
    {
     "name": "stdout",
     "output_type": "stream",
     "text": [
      "Saved: 2025-09-12 20:07:23,0.19871874153614044,0.040701430290937424,9.904812812805176\n"
     ]
    },
    {
     "name": "stderr",
     "output_type": "stream",
     "text": [
      "ERROR:root:task: mqtt_task raised exception: [WinError 10054] An existing connection was forcibly closed by the remote host.\n",
      "ERROR:root:task: connection_task raised exception: .\n"
     ]
    },
    {
     "name": "stdout",
     "output_type": "stream",
     "text": [
      "Saved: 2025-09-12 20:07:26,0.19871874153614044,0.040701430290937424,9.904812812805176\n",
      "Saved: 2025-09-12 20:07:27,0.19871874153614044,0.043095629662275314,9.904812812805176\n"
     ]
    },
    {
     "name": "stderr",
     "output_type": "stream",
     "text": [
      "ERROR:root:task: mqtt_task raised exception: [WinError 10054] An existing connection was forcibly closed by the remote host.\n",
      "ERROR:root:task: connection_task raised exception: .\n"
     ]
    },
    {
     "name": "stdout",
     "output_type": "stream",
     "text": [
      "Saved: 2025-09-12 20:07:31,0.2082955539226532,0.043095629662275314,9.904812812805176\n"
     ]
    },
    {
     "name": "stderr",
     "output_type": "stream",
     "text": [
      "ERROR:root:task: mqtt_task raised exception: [WinError 10054] An existing connection was forcibly closed by the remote host.\n",
      "ERROR:root:task: connection_task raised exception: .\n"
     ]
    },
    {
     "name": "stdout",
     "output_type": "stream",
     "text": [
      "Saved: 2025-09-12 20:07:35,0.19871874153614044,0.043095629662275314,9.904812812805176\n"
     ]
    },
    {
     "name": "stderr",
     "output_type": "stream",
     "text": [
      "ERROR:root:task: mqtt_task raised exception: [WinError 10054] An existing connection was forcibly closed by the remote host.\n",
      "ERROR:root:task: connection_task raised exception: .\n",
      "ERROR:root:task: mqtt_task raised exception: [WinError 10054] An existing connection was forcibly closed by the remote host.\n",
      "ERROR:root:task: connection_task raised exception: .\n"
     ]
    },
    {
     "name": "stdout",
     "output_type": "stream",
     "text": [
      "Saved: 2025-09-12 20:07:42,0.181959331035614,0.043095629662275314,9.904812812805176\n"
     ]
    },
    {
     "name": "stderr",
     "output_type": "stream",
     "text": [
      "ERROR:root:task: mqtt_task raised exception: [WinError 10054] An existing connection was forcibly closed by the remote host.\n",
      "ERROR:root:task: connection_task raised exception: .\n"
     ]
    },
    {
     "name": "stdout",
     "output_type": "stream",
     "text": [
      "Saved: 2025-09-12 20:07:46,0.20111294090747833,0.043095629662275314,9.904812812805176\n"
     ]
    },
    {
     "name": "stderr",
     "output_type": "stream",
     "text": [
      "ERROR:root:task: mqtt_task raised exception: [WinError 10054] An existing connection was forcibly closed by the remote host.\n",
      "ERROR:root:task: connection_task raised exception: .\n",
      "ERROR:root:task: mqtt_task raised exception: [WinError 10054] An existing connection was forcibly closed by the remote host.\n",
      "ERROR:root:task: connection_task raised exception: .\n"
     ]
    },
    {
     "name": "stdout",
     "output_type": "stream",
     "text": [
      "Saved: 2025-09-12 20:07:54,0.181959331035614,0.043095629662275314,9.904812812805176\n"
     ]
    },
    {
     "name": "stderr",
     "output_type": "stream",
     "text": [
      "ERROR:root:task: mqtt_task raised exception: [WinError 10054] An existing connection was forcibly closed by the remote host.\n",
      "ERROR:root:task: connection_task raised exception: .\n"
     ]
    },
    {
     "name": "stdout",
     "output_type": "stream",
     "text": [
      "Saved: 2025-09-12 20:07:57,0.181959331035614,0.043095629662275314,9.923966407775879\n"
     ]
    },
    {
     "name": "stderr",
     "output_type": "stream",
     "text": [
      "ERROR:root:task: mqtt_task raised exception: [WinError 10054] An existing connection was forcibly closed by the remote host.\n",
      "ERROR:root:task: connection_task raised exception: .\n",
      "ERROR:root:task: mqtt_task raised exception: [WinError 10054] An existing connection was forcibly closed by the remote host.\n",
      "ERROR:root:task: connection_task raised exception: .\n"
     ]
    },
    {
     "name": "stdout",
     "output_type": "stream",
     "text": [
      "Saved: 2025-09-12 20:08:05,0.2082955539226532,0.043095629662275314,9.923966407775879\n"
     ]
    },
    {
     "name": "stderr",
     "output_type": "stream",
     "text": [
      "ERROR:root:task: mqtt_task raised exception: [WinError 10054] An existing connection was forcibly closed by the remote host.\n",
      "ERROR:root:task: connection_task raised exception: .\n"
     ]
    },
    {
     "name": "stdout",
     "output_type": "stream",
     "text": [
      "Saved: 2025-09-12 20:08:09,0.19632454216480255,0.043095629662275314,9.923966407775879\n"
     ]
    },
    {
     "name": "stderr",
     "output_type": "stream",
     "text": [
      "ERROR:root:task: mqtt_task raised exception: [WinError 10054] An existing connection was forcibly closed by the remote host.\n",
      "ERROR:root:task: connection_task raised exception: .\n"
     ]
    },
    {
     "name": "stdout",
     "output_type": "stream",
     "text": [
      "Saved: 2025-09-12 20:08:13,0.18914192914962769,0.043095629662275314,9.923966407775879\n"
     ]
    },
    {
     "name": "stderr",
     "output_type": "stream",
     "text": [
      "ERROR:root:task: mqtt_task raised exception: [WinError 10054] An existing connection was forcibly closed by the remote host.\n",
      "ERROR:root:task: connection_task raised exception: .\n"
     ]
    },
    {
     "name": "stdout",
     "output_type": "stream",
     "text": [
      "Saved: 2025-09-12 20:08:16,0.17477671802043915,0.043095629662275314,9.923966407775879\n"
     ]
    },
    {
     "name": "stderr",
     "output_type": "stream",
     "text": [
      "ERROR:root:task: mqtt_task raised exception: [WinError 10054] An existing connection was forcibly closed by the remote host.\n",
      "ERROR:root:task: connection_task raised exception: .\n",
      "ERROR:root:task: mqtt_task raised exception: [WinError 10054] An existing connection was forcibly closed by the remote host.\n",
      "ERROR:root:task: connection_task raised exception: .\n"
     ]
    },
    {
     "name": "stdout",
     "output_type": "stream",
     "text": [
      "Saved: 2025-09-12 20:08:23,0.18914192914962769,0.043095629662275314,9.923966407775879\n"
     ]
    },
    {
     "name": "stderr",
     "output_type": "stream",
     "text": [
      "ERROR:root:task: mqtt_task raised exception: [WinError 10054] An existing connection was forcibly closed by the remote host.\n",
      "ERROR:root:task: connection_task raised exception: .\n"
     ]
    },
    {
     "name": "stdout",
     "output_type": "stream",
     "text": [
      "Saved: 2025-09-12 20:08:27,0.17956513166427612,0.043095629662275314,9.923966407775879\n"
     ]
    },
    {
     "name": "stderr",
     "output_type": "stream",
     "text": [
      "ERROR:root:task: mqtt_task raised exception: [WinError 10054] An existing connection was forcibly closed by the remote host.\n",
      "ERROR:root:task: connection_task raised exception: .\n"
     ]
    },
    {
     "name": "stdout",
     "output_type": "stream",
     "text": [
      "Saved: 2025-09-12 20:08:30,0.19393034279346466,0.043095629662275314,9.923966407775879\n"
     ]
    },
    {
     "name": "stderr",
     "output_type": "stream",
     "text": [
      "ERROR:root:task: mqtt_task raised exception: [WinError 10054] An existing connection was forcibly closed by the remote host.\n",
      "ERROR:root:task: connection_task raised exception: .\n"
     ]
    },
    {
     "name": "stdout",
     "output_type": "stream",
     "text": [
      "Saved: 2025-09-12 20:08:34,0.20111294090747833,0.043095629662275314,9.923966407775879\n"
     ]
    },
    {
     "name": "stderr",
     "output_type": "stream",
     "text": [
      "ERROR:root:task: mqtt_task raised exception: [WinError 10054] An existing connection was forcibly closed by the remote host.\n",
      "ERROR:root:task: connection_task raised exception: .\n",
      "ERROR:root:task: mqtt_task raised exception: [WinError 10054] An existing connection was forcibly closed by the remote host.\n",
      "ERROR:root:task: connection_task raised exception: .\n",
      "ERROR:root:task: mqtt_task raised exception: [WinError 10054] An existing connection was forcibly closed by the remote host.\n",
      "ERROR:root:task: connection_task raised exception: .\n"
     ]
    },
    {
     "name": "stdout",
     "output_type": "stream",
     "text": [
      "Saved: 2025-09-12 20:08:43,0.19632454216480255,0.043095629662275314,9.923966407775879\n"
     ]
    },
    {
     "name": "stderr",
     "output_type": "stream",
     "text": [
      "ERROR:root:task: mqtt_task raised exception: [WinError 10054] An existing connection was forcibly closed by the remote host.\n",
      "ERROR:root:task: connection_task raised exception: .\n",
      "ERROR:root:task: mqtt_task raised exception: [WinError 10054] An existing connection was forcibly closed by the remote host.\n",
      "ERROR:root:task: connection_task raised exception: .\n"
     ]
    },
    {
     "name": "stdout",
     "output_type": "stream",
     "text": [
      "Saved: 2025-09-12 20:08:51,0.19393034279346466,0.043095629662275314,9.923966407775879\n"
     ]
    },
    {
     "name": "stderr",
     "output_type": "stream",
     "text": [
      "ERROR:root:task: mqtt_task raised exception: [WinError 10054] An existing connection was forcibly closed by the remote host.\n",
      "ERROR:root:task: connection_task raised exception: .\n",
      "ERROR:root:task: mqtt_task raised exception: [WinError 10054] An existing connection was forcibly closed by the remote host.\n",
      "ERROR:root:task: connection_task raised exception: .\n",
      "ERROR:root:task: mqtt_task raised exception: [WinError 10054] An existing connection was forcibly closed by the remote host.\n",
      "ERROR:root:task: connection_task raised exception: .\n",
      "ERROR:root:task: mqtt_task raised exception: [WinError 10054] An existing connection was forcibly closed by the remote host.\n",
      "ERROR:root:task: connection_task raised exception: .\n",
      "ERROR:root:task: mqtt_task raised exception: [WinError 10054] An existing connection was forcibly closed by the remote host.\n",
      "ERROR:root:task: connection_task raised exception: .\n"
     ]
    },
    {
     "name": "stdout",
     "output_type": "stream",
     "text": [
      "Saved: 2025-09-12 20:09:06,0.19632454216480255,0.043095629662275314,9.923966407775879\n"
     ]
    },
    {
     "name": "stderr",
     "output_type": "stream",
     "text": [
      "ERROR:root:task: mqtt_task raised exception: [WinError 10054] An existing connection was forcibly closed by the remote host.\n",
      "ERROR:root:task: connection_task raised exception: .\n",
      "ERROR:root:task: mqtt_task raised exception: [WinError 10054] An existing connection was forcibly closed by the remote host.\n",
      "ERROR:root:task: connection_task raised exception: .\n"
     ]
    },
    {
     "name": "stdout",
     "output_type": "stream",
     "text": [
      "Saved: 2025-09-12 20:09:13,0.16998831927776337,0.043095629662275314,9.923966407775879\n"
     ]
    },
    {
     "name": "stderr",
     "output_type": "stream",
     "text": [
      "ERROR:root:task: mqtt_task raised exception: [WinError 10054] An existing connection was forcibly closed by the remote host.\n",
      "ERROR:root:task: connection_task raised exception: .\n"
     ]
    },
    {
     "name": "stdout",
     "output_type": "stream",
     "text": [
      "Saved: 2025-09-12 20:09:16,0.19393034279346466,0.043095629662275314,9.923966407775879\n"
     ]
    },
    {
     "name": "stderr",
     "output_type": "stream",
     "text": [
      "ERROR:root:task: mqtt_task raised exception: [WinError 10054] An existing connection was forcibly closed by the remote host.\n",
      "ERROR:root:task: connection_task raised exception: .\n"
     ]
    },
    {
     "name": "stdout",
     "output_type": "stream",
     "text": [
      "Saved: 2025-09-12 20:09:20,0.19393034279346466,0.031124621629714966,9.923966407775879\n"
     ]
    },
    {
     "name": "stderr",
     "output_type": "stream",
     "text": [
      "ERROR:root:task: mqtt_task raised exception: [WinError 10054] An existing connection was forcibly closed by the remote host.\n",
      "ERROR:root:task: connection_task raised exception: .\n"
     ]
    },
    {
     "name": "stdout",
     "output_type": "stream",
     "text": [
      "Saved: 2025-09-12 20:09:23,0.18914192914962769,0.031124621629714966,9.923966407775879\n",
      "Saved: 2025-09-12 20:09:24,0.18914192914962769,0.021547814831137657,9.923966407775879\n"
     ]
    },
    {
     "name": "stderr",
     "output_type": "stream",
     "text": [
      "ERROR:root:task: mqtt_task raised exception: [WinError 10054] An existing connection was forcibly closed by the remote host.\n",
      "ERROR:root:task: connection_task raised exception: .\n"
     ]
    },
    {
     "name": "stdout",
     "output_type": "stream",
     "text": [
      "Saved: 2025-09-12 20:09:28,0.1867477297782898,0.021547814831137657,9.923966407775879\n"
     ]
    },
    {
     "name": "stderr",
     "output_type": "stream",
     "text": [
      "ERROR:root:task: mqtt_task raised exception: [WinError 10054] An existing connection was forcibly closed by the remote host.\n",
      "ERROR:root:task: connection_task raised exception: .\n",
      "ERROR:root:task: mqtt_task raised exception: [WinError 10054] An existing connection was forcibly closed by the remote host.\n",
      "ERROR:root:task: connection_task raised exception: .\n",
      "ERROR:root:task: mqtt_task raised exception: [WinError 10054] An existing connection was forcibly closed by the remote host.\n",
      "ERROR:root:task: connection_task raised exception: .\n",
      "ERROR:root:task: mqtt_task raised exception: [WinError 10054] An existing connection was forcibly closed by the remote host.\n",
      "ERROR:root:task: connection_task raised exception: .\n",
      "ERROR:root:task: mqtt_task raised exception: [WinError 10054] An existing connection was forcibly closed by the remote host.\n",
      "ERROR:root:task: connection_task raised exception: .\n",
      "ERROR:root:task: mqtt_task raised exception: [WinError 10054] An existing connection was forcibly closed by the remote host.\n",
      "ERROR:root:task: connection_task raised exception: .\n",
      "ERROR:root:task: mqtt_task raised exception: [WinError 10054] An existing connection was forcibly closed by the remote host.\n",
      "ERROR:root:task: connection_task raised exception: .\n"
     ]
    },
    {
     "name": "stdout",
     "output_type": "stream",
     "text": [
      "Saved: 2025-09-12 20:09:47,0.1867477297782898,0.1843535304069519,9.923966407775879\n"
     ]
    },
    {
     "name": "stderr",
     "output_type": "stream",
     "text": [
      "ERROR:root:task: mqtt_task raised exception: [WinError 10054] An existing connection was forcibly closed by the remote host.\n",
      "ERROR:root:task: connection_task raised exception: .\n"
     ]
    },
    {
     "name": "stdout",
     "output_type": "stream",
     "text": [
      "Saved: 2025-09-12 20:09:51,-0.20350714027881622,0.1843535304069519,9.923966407775879\n"
     ]
    },
    {
     "name": "stderr",
     "output_type": "stream",
     "text": [
      "ERROR:root:task: mqtt_task raised exception: [WinError 10054] An existing connection was forcibly closed by the remote host.\n",
      "ERROR:root:task: connection_task raised exception: .\n",
      "ERROR:root:task: mqtt_task raised exception: [WinError 10054] An existing connection was forcibly closed by the remote host.\n",
      "ERROR:root:task: connection_task raised exception: .\n",
      "ERROR:root:task: mqtt_task raised exception: [WinError 10054] An existing connection was forcibly closed by the remote host.\n",
      "ERROR:root:task: connection_task raised exception: .\n"
     ]
    },
    {
     "name": "stdout",
     "output_type": "stream",
     "text": [
      "Saved: 2025-09-12 20:10:01,-0.1867477297782898,0.1843535304069519,9.923966407775879\n"
     ]
    },
    {
     "name": "stderr",
     "output_type": "stream",
     "text": [
      "ERROR:root:task: mqtt_task raised exception: [WinError 10054] An existing connection was forcibly closed by the remote host.\n",
      "ERROR:root:task: connection_task raised exception: .\n"
     ]
    },
    {
     "name": "stdout",
     "output_type": "stream",
     "text": [
      "Saved: 2025-09-12 20:10:05,-0.16519992053508759,0.1843535304069519,9.923966407775879\n"
     ]
    },
    {
     "name": "stderr",
     "output_type": "stream",
     "text": [
      "ERROR:root:task: mqtt_task raised exception: [WinError 10054] An existing connection was forcibly closed by the remote host.\n",
      "ERROR:root:task: connection_task raised exception: .\n",
      "ERROR:root:task: mqtt_task raised exception: [WinError 10054] An existing connection was forcibly closed by the remote host.\n",
      "ERROR:root:task: connection_task raised exception: .\n"
     ]
    },
    {
     "name": "stdout",
     "output_type": "stream",
     "text": [
      "Saved: 2025-09-12 20:10:13,-0.20111294090747833,0.1843535304069519,9.923966407775879\n"
     ]
    },
    {
     "name": "stderr",
     "output_type": "stream",
     "text": [
      "ERROR:root:task: mqtt_task raised exception: [WinError 10054] An existing connection was forcibly closed by the remote host.\n",
      "ERROR:root:task: connection_task raised exception: .\n"
     ]
    },
    {
     "name": "stdout",
     "output_type": "stream",
     "text": [
      "Saved: 2025-09-12 20:10:16,-0.20350714027881622,0.1843535304069519,9.923966407775879\n"
     ]
    },
    {
     "name": "stderr",
     "output_type": "stream",
     "text": [
      "ERROR:root:task: mqtt_task raised exception: [WinError 10054] An existing connection was forcibly closed by the remote host.\n",
      "ERROR:root:task: connection_task raised exception: .\n"
     ]
    },
    {
     "name": "stdout",
     "output_type": "stream",
     "text": [
      "Saved: 2025-09-12 20:10:19,-0.19153612852096558,0.1843535304069519,9.923966407775879\n",
      "Saved: 2025-09-12 20:10:20,-0.19153612852096558,0.17956513166427612,9.923966407775879\n"
     ]
    },
    {
     "name": "stderr",
     "output_type": "stream",
     "text": [
      "ERROR:root:task: mqtt_task raised exception: [WinError 10054] An existing connection was forcibly closed by the remote host.\n",
      "ERROR:root:task: connection_task raised exception: .\n",
      "ERROR:root:task: mqtt_task raised exception: [WinError 10054] An existing connection was forcibly closed by the remote host.\n",
      "ERROR:root:task: connection_task raised exception: .\n",
      "ERROR:root:task: mqtt_task raised exception: [WinError 10054] An existing connection was forcibly closed by the remote host.\n",
      "ERROR:root:task: connection_task raised exception: .\n",
      "ERROR:root:task: mqtt_task raised exception: [WinError 10054] An existing connection was forcibly closed by the remote host.\n",
      "ERROR:root:task: connection_task raised exception: .\n"
     ]
    },
    {
     "name": "stdout",
     "output_type": "stream",
     "text": [
      "Saved: 2025-09-12 20:10:31,-0.18914192914962769,0.17956513166427612,9.923966407775879\n",
      "Saved: 2025-09-12 20:10:32,-0.18914192914962769,0.1604115068912506,9.923966407775879\n"
     ]
    },
    {
     "name": "stderr",
     "output_type": "stream",
     "text": [
      "ERROR:root:task: mqtt_task raised exception: [WinError 10054] An existing connection was forcibly closed by the remote host.\n",
      "ERROR:root:task: connection_task raised exception: .\n"
     ]
    },
    {
     "name": "stdout",
     "output_type": "stream",
     "text": [
      "Saved: 2025-09-12 20:10:36,-0.19632454216480255,0.1604115068912506,9.923966407775879\n"
     ]
    },
    {
     "name": "stderr",
     "output_type": "stream",
     "text": [
      "ERROR:root:task: mqtt_task raised exception: [WinError 10054] An existing connection was forcibly closed by the remote host.\n",
      "ERROR:root:task: connection_task raised exception: .\n"
     ]
    },
    {
     "name": "stdout",
     "output_type": "stream",
     "text": [
      "Saved: 2025-09-12 20:10:40,-0.18914192914962769,0.1604115068912506,9.923966407775879\n"
     ]
    },
    {
     "name": "stderr",
     "output_type": "stream",
     "text": [
      "ERROR:root:task: mqtt_task raised exception: [WinError 10054] An existing connection was forcibly closed by the remote host.\n",
      "ERROR:root:task: connection_task raised exception: .\n",
      "ERROR:root:task: mqtt_task raised exception: [WinError 10054] An existing connection was forcibly closed by the remote host.\n",
      "ERROR:root:task: connection_task raised exception: .\n"
     ]
    },
    {
     "name": "stdout",
     "output_type": "stream",
     "text": [
      "Saved: 2025-09-12 20:10:47,-0.19871874153614044,0.1604115068912506,9.923966407775879\n"
     ]
    },
    {
     "name": "stderr",
     "output_type": "stream",
     "text": [
      "ERROR:root:task: mqtt_task raised exception: [WinError 10054] An existing connection was forcibly closed by the remote host.\n",
      "ERROR:root:task: connection_task raised exception: .\n"
     ]
    },
    {
     "name": "stdout",
     "output_type": "stream",
     "text": [
      "Saved: 2025-09-12 20:10:51,-0.17238251864910126,0.1604115068912506,9.923966407775879\n"
     ]
    },
    {
     "name": "stderr",
     "output_type": "stream",
     "text": [
      "ERROR:root:task: mqtt_task raised exception: [WinError 10054] An existing connection was forcibly closed by the remote host.\n",
      "ERROR:root:task: connection_task raised exception: .\n",
      "ERROR:root:task: mqtt_task raised exception: [WinError 10054] An existing connection was forcibly closed by the remote host.\n",
      "ERROR:root:task: connection_task raised exception: .\n"
     ]
    },
    {
     "name": "stdout",
     "output_type": "stream",
     "text": [
      "Saved: 2025-09-12 20:10:59,-0.18914192914962769,0.1604115068912506,9.923966407775879\n"
     ]
    },
    {
     "name": "stderr",
     "output_type": "stream",
     "text": [
      "ERROR:root:task: mqtt_task raised exception: [WinError 10054] An existing connection was forcibly closed by the remote host.\n",
      "ERROR:root:task: connection_task raised exception: .\n"
     ]
    },
    {
     "name": "stdout",
     "output_type": "stream",
     "text": [
      "Saved: 2025-09-12 20:11:01,-0.20350714027881622,0.1604115068912506,9.923966407775879\n",
      "Saved: 2025-09-12 20:11:02,-0.20350714027881622,0.1604115068912506,9.909601211547852\n"
     ]
    },
    {
     "name": "stderr",
     "output_type": "stream",
     "text": [
      "ERROR:root:task: mqtt_task raised exception: [WinError 10054] An existing connection was forcibly closed by the remote host.\n",
      "ERROR:root:task: connection_task raised exception: .\n",
      "ERROR:root:task: mqtt_task raised exception: [WinError 10054] An existing connection was forcibly closed by the remote host.\n",
      "ERROR:root:task: connection_task raised exception: .\n"
     ]
    },
    {
     "name": "stdout",
     "output_type": "stream",
     "text": [
      "Saved: 2025-09-12 20:11:10,-0.2059013396501541,0.1604115068912506,9.909601211547852\n"
     ]
    },
    {
     "name": "stderr",
     "output_type": "stream",
     "text": [
      "ERROR:root:task: mqtt_task raised exception: [WinError 10054] An existing connection was forcibly closed by the remote host.\n",
      "ERROR:root:task: connection_task raised exception: .\n"
     ]
    },
    {
     "name": "stdout",
     "output_type": "stream",
     "text": [
      "Saved: 2025-09-12 20:11:14,-0.20111294090747833,0.1604115068912506,9.909601211547852\n"
     ]
    },
    {
     "name": "stderr",
     "output_type": "stream",
     "text": [
      "ERROR:root:task: mqtt_task raised exception: [WinError 10054] An existing connection was forcibly closed by the remote host.\n",
      "ERROR:root:task: connection_task raised exception: .\n"
     ]
    },
    {
     "name": "stdout",
     "output_type": "stream",
     "text": [
      "Saved: 2025-09-12 20:11:16,-0.4884171485900879,0.1604115068912506,9.909601211547852\n",
      "Saved: 2025-09-12 20:11:17,-0.4884171485900879,0.19871874153614044,9.909601211547852\n"
     ]
    },
    {
     "name": "stderr",
     "output_type": "stream",
     "text": [
      "ERROR:root:task: mqtt_task raised exception: [WinError 10054] An existing connection was forcibly closed by the remote host.\n",
      "ERROR:root:task: connection_task raised exception: .\n"
     ]
    },
    {
     "name": "stdout",
     "output_type": "stream",
     "text": [
      "Saved: 2025-09-12 20:11:21,-0.1628057211637497,0.19871874153614044,9.909601211547852\n"
     ]
    },
    {
     "name": "stderr",
     "output_type": "stream",
     "text": [
      "ERROR:root:task: mqtt_task raised exception: [WinError 10054] An existing connection was forcibly closed by the remote host.\n",
      "ERROR:root:task: connection_task raised exception: .\n"
     ]
    },
    {
     "name": "stdout",
     "output_type": "stream",
     "text": [
      "Saved: 2025-09-12 20:11:25,-0.1628057211637497,0.19871874153614044,9.909601211547852\n"
     ]
    },
    {
     "name": "stderr",
     "output_type": "stream",
     "text": [
      "ERROR:root:task: mqtt_task raised exception: [WinError 10054] An existing connection was forcibly closed by the remote host.\n",
      "ERROR:root:task: connection_task raised exception: .\n",
      "ERROR:root:task: mqtt_task raised exception: [WinError 10054] An existing connection was forcibly closed by the remote host.\n",
      "ERROR:root:task: connection_task raised exception: .\n"
     ]
    },
    {
     "name": "stdout",
     "output_type": "stream",
     "text": [
      "Saved: 2025-09-12 20:11:33,-0.19632454216480255,0.19871874153614044,9.909601211547852\n",
      "Saved: 2025-09-12 20:11:34,-0.19632454216480255,0.16998831927776337,9.909601211547852\n",
      "Creating visualizations...\n"
     ]
    },
    {
     "name": "stderr",
     "output_type": "stream",
     "text": [
      "ERROR:root:task: mqtt_task raised exception: [WinError 10054] An existing connection was forcibly closed by the remote host.\n"
     ]
    },
    {
     "name": "stdout",
     "output_type": "stream",
     "text": [
      "Visualizations saved as 'accelerometer_analysis.png'\n",
      "Analyzing patterns...\n",
      "X-axis: 46 peaks, average interval: 9.13 samples\n",
      "Y-axis: 7 peaks, average interval: 58.17 samples\n",
      "Pattern analysis saved as 'pattern_analysis.txt'\n"
     ]
    },
    {
     "name": "stderr",
     "output_type": "stream",
     "text": [
      "ERROR:root:task: connection_task raised exception: .\n"
     ]
    },
    {
     "name": "stdout",
     "output_type": "stream",
     "text": [
      "Saved: 2025-09-12 20:11:38,-0.19393034279346466,0.16998831927776337,9.909601211547852\n"
     ]
    },
    {
     "name": "stderr",
     "output_type": "stream",
     "text": [
      "ERROR:root:task: mqtt_task raised exception: [WinError 10054] An existing connection was forcibly closed by the remote host.\n",
      "ERROR:root:task: connection_task raised exception: .\n"
     ]
    },
    {
     "name": "stdout",
     "output_type": "stream",
     "text": [
      "Saved: 2025-09-12 20:11:42,-0.19393034279346466,0.16998831927776337,9.909601211547852\n"
     ]
    },
    {
     "name": "stderr",
     "output_type": "stream",
     "text": [
      "ERROR:root:task: mqtt_task raised exception: [WinError 10054] An existing connection was forcibly closed by the remote host.\n",
      "ERROR:root:task: connection_task raised exception: .\n"
     ]
    },
    {
     "name": "stdout",
     "output_type": "stream",
     "text": [
      "Saved: 2025-09-12 20:11:45,-0.18914192914962769,0.16998831927776337,9.909601211547852\n"
     ]
    },
    {
     "name": "stderr",
     "output_type": "stream",
     "text": [
      "ERROR:root:task: mqtt_task raised exception: [WinError 10054] An existing connection was forcibly closed by the remote host.\n",
      "ERROR:root:task: connection_task raised exception: .\n"
     ]
    },
    {
     "name": "stdout",
     "output_type": "stream",
     "text": [
      "Saved: 2025-09-12 20:11:49,-0.1843535304069519,0.16998831927776337,9.909601211547852\n"
     ]
    },
    {
     "name": "stderr",
     "output_type": "stream",
     "text": [
      "ERROR:root:task: mqtt_task raised exception: [WinError 10054] An existing connection was forcibly closed by the remote host.\n",
      "ERROR:root:task: connection_task raised exception: .\n",
      "ERROR:root:task: mqtt_task raised exception: [WinError 10054] An existing connection was forcibly closed by the remote host.\n",
      "ERROR:root:task: connection_task raised exception: .\n",
      "ERROR:root:task: mqtt_task raised exception: [WinError 10054] An existing connection was forcibly closed by the remote host.\n",
      "ERROR:root:task: connection_task raised exception: .\n",
      "ERROR:root:task: mqtt_task raised exception: [WinError 10054] An existing connection was forcibly closed by the remote host.\n",
      "ERROR:root:task: connection_task raised exception: .\n",
      "ERROR:root:task: mqtt_task raised exception: [WinError 10054] An existing connection was forcibly closed by the remote host.\n",
      "ERROR:root:task: connection_task raised exception: .\n",
      "ERROR:root:task: mqtt_task raised exception: [WinError 10054] An existing connection was forcibly closed by the remote host.\n",
      "ERROR:root:task: connection_task raised exception: .\n",
      "ERROR:root:task: mqtt_task raised exception: [WinError 10054] An existing connection was forcibly closed by the remote host.\n",
      "ERROR:root:task: connection_task raised exception: .\n",
      "ERROR:root:task: mqtt_task raised exception: [WinError 10054] An existing connection was forcibly closed by the remote host.\n",
      "ERROR:root:task: connection_task raised exception: .\n",
      "ERROR:root:task: mqtt_task raised exception: [WinError 10054] An existing connection was forcibly closed by the remote host.\n",
      "ERROR:root:task: connection_task raised exception: .\n",
      "ERROR:root:task: mqtt_task raised exception: [WinError 10054] An existing connection was forcibly closed by the remote host.\n",
      "ERROR:root:task: connection_task raised exception: .\n"
     ]
    },
    {
     "name": "stdout",
     "output_type": "stream",
     "text": [
      "Saved: 2025-09-12 20:12:19,-0.18914192914962769,0.16998831927776337,9.909601211547852\n"
     ]
    },
    {
     "name": "stderr",
     "output_type": "stream",
     "text": [
      "ERROR:root:task: mqtt_task raised exception: [WinError 10054] An existing connection was forcibly closed by the remote host.\n",
      "ERROR:root:task: connection_task raised exception: .\n"
     ]
    },
    {
     "name": "stdout",
     "output_type": "stream",
     "text": [
      "Saved: 2025-09-12 20:12:23,-0.1867477297782898,0.16998831927776337,9.909601211547852\n"
     ]
    },
    {
     "name": "stderr",
     "output_type": "stream",
     "text": [
      "ERROR:root:task: mqtt_task raised exception: [WinError 10054] An existing connection was forcibly closed by the remote host.\n",
      "ERROR:root:task: connection_task raised exception: .\n"
     ]
    },
    {
     "name": "stdout",
     "output_type": "stream",
     "text": [
      "Saved: 2025-09-12 20:12:26,-0.181959331035614,0.16998831927776337,9.909601211547852\n"
     ]
    },
    {
     "name": "stderr",
     "output_type": "stream",
     "text": [
      "ERROR:root:task: mqtt_task raised exception: [WinError 10054] An existing connection was forcibly closed by the remote host.\n",
      "ERROR:root:task: connection_task raised exception: .\n"
     ]
    },
    {
     "name": "stdout",
     "output_type": "stream",
     "text": [
      "Saved: 2025-09-12 20:12:30,-0.17956513166427612,0.16998831927776337,9.909601211547852\n"
     ]
    },
    {
     "name": "stderr",
     "output_type": "stream",
     "text": [
      "ERROR:root:task: mqtt_task raised exception: [WinError 10054] An existing connection was forcibly closed by the remote host.\n",
      "ERROR:root:task: connection_task raised exception: .\n"
     ]
    },
    {
     "name": "stdout",
     "output_type": "stream",
     "text": [
      "Saved: 2025-09-12 20:12:33,-0.17477671802043915,0.16998831927776337,9.909601211547852\n",
      "Saved: 2025-09-12 20:12:34,-0.17477671802043915,0.16998831927776337,9.885659217834473\n"
     ]
    },
    {
     "name": "stderr",
     "output_type": "stream",
     "text": [
      "ERROR:root:task: mqtt_task raised exception: [WinError 10054] An existing connection was forcibly closed by the remote host.\n",
      "ERROR:root:task: connection_task raised exception: .\n"
     ]
    },
    {
     "name": "stdout",
     "output_type": "stream",
     "text": [
      "Saved: 2025-09-12 20:12:38,-0.18914192914962769,0.16998831927776337,9.885659217834473\n"
     ]
    },
    {
     "name": "stderr",
     "output_type": "stream",
     "text": [
      "ERROR:root:task: mqtt_task raised exception: [WinError 10054] An existing connection was forcibly closed by the remote host.\n",
      "ERROR:root:task: connection_task raised exception: .\n"
     ]
    },
    {
     "name": "stdout",
     "output_type": "stream",
     "text": [
      "Saved: 2025-09-12 20:12:41,-0.18914192914962769,0.16998831927776337,9.885659217834473\n"
     ]
    },
    {
     "name": "stderr",
     "output_type": "stream",
     "text": [
      "ERROR:root:task: mqtt_task raised exception: [WinError 10054] An existing connection was forcibly closed by the remote host.\n",
      "ERROR:root:task: connection_task raised exception: .\n"
     ]
    },
    {
     "name": "stdout",
     "output_type": "stream",
     "text": [
      "Saved: 2025-09-12 20:12:45,-0.19393034279346466,0.16998831927776337,9.885659217834473\n"
     ]
    },
    {
     "name": "stderr",
     "output_type": "stream",
     "text": [
      "ERROR:root:task: mqtt_task raised exception: [WinError 10054] An existing connection was forcibly closed by the remote host.\n",
      "ERROR:root:task: connection_task raised exception: .\n"
     ]
    },
    {
     "name": "stdout",
     "output_type": "stream",
     "text": [
      "Saved: 2025-09-12 20:12:49,-0.19153612852096558,0.16998831927776337,9.885659217834473\n"
     ]
    },
    {
     "name": "stderr",
     "output_type": "stream",
     "text": [
      "ERROR:root:task: mqtt_task raised exception: [WinError 10054] An existing connection was forcibly closed by the remote host.\n",
      "ERROR:root:task: connection_task raised exception: .\n"
     ]
    },
    {
     "name": "stdout",
     "output_type": "stream",
     "text": [
      "Saved: 2025-09-12 20:12:52,-0.19632454216480255,0.16998831927776337,9.885659217834473\n"
     ]
    },
    {
     "name": "stderr",
     "output_type": "stream",
     "text": [
      "ERROR:root:task: mqtt_task raised exception: [WinError 10054] An existing connection was forcibly closed by the remote host.\n",
      "ERROR:root:task: connection_task raised exception: .\n"
     ]
    },
    {
     "name": "stdout",
     "output_type": "stream",
     "text": [
      "Saved: 2025-09-12 20:12:56,0.4908113479614258,0.16998831927776337,9.885659217834473\n"
     ]
    },
    {
     "name": "stderr",
     "output_type": "stream",
     "text": [
      "ERROR:root:task: mqtt_task raised exception: [WinError 10054] An existing connection was forcibly closed by the remote host.\n",
      "ERROR:root:task: connection_task raised exception: .\n",
      "ERROR:root:task: mqtt_task raised exception: [WinError 10054] An existing connection was forcibly closed by the remote host.\n",
      "ERROR:root:task: connection_task raised exception: .\n"
     ]
    },
    {
     "name": "stdout",
     "output_type": "stream",
     "text": [
      "Saved: 2025-09-12 20:13:04,-0.2322375625371933,0.16998831927776337,9.885659217834473\n"
     ]
    },
    {
     "name": "stderr",
     "output_type": "stream",
     "text": [
      "ERROR:root:task: mqtt_task raised exception: [WinError 10054] An existing connection was forcibly closed by the remote host.\n",
      "ERROR:root:task: connection_task raised exception: .\n"
     ]
    },
    {
     "name": "stdout",
     "output_type": "stream",
     "text": [
      "Saved: 2025-09-12 20:13:07,-0.19871874153614044,0.16998831927776337,9.885659217834473\n"
     ]
    },
    {
     "name": "stderr",
     "output_type": "stream",
     "text": [
      "ERROR:root:task: mqtt_task raised exception: [WinError 10054] An existing connection was forcibly closed by the remote host.\n",
      "ERROR:root:task: connection_task raised exception: .\n",
      "ERROR:root:task: mqtt_task raised exception: [WinError 10054] An existing connection was forcibly closed by the remote host.\n",
      "ERROR:root:task: connection_task raised exception: .\n"
     ]
    },
    {
     "name": "stdout",
     "output_type": "stream",
     "text": [
      "Saved: 2025-09-12 20:13:15,-0.19632454216480255,0.16998831927776337,9.885659217834473\n"
     ]
    },
    {
     "name": "stderr",
     "output_type": "stream",
     "text": [
      "ERROR:root:task: mqtt_task raised exception: [WinError 10054] An existing connection was forcibly closed by the remote host.\n",
      "ERROR:root:task: connection_task raised exception: .\n"
     ]
    },
    {
     "name": "stdout",
     "output_type": "stream",
     "text": [
      "Saved: 2025-09-12 20:13:19,-0.18914192914962769,0.16998831927776337,9.885659217834473\n"
     ]
    },
    {
     "name": "stderr",
     "output_type": "stream",
     "text": [
      "ERROR:root:task: mqtt_task raised exception: [WinError 10054] An existing connection was forcibly closed by the remote host.\n",
      "ERROR:root:task: connection_task raised exception: .\n",
      "ERROR:root:task: mqtt_task raised exception: [WinError 10054] An existing connection was forcibly closed by the remote host.\n",
      "ERROR:root:task: connection_task raised exception: .\n"
     ]
    },
    {
     "name": "stdout",
     "output_type": "stream",
     "text": [
      "Saved: 2025-09-12 20:13:26,-0.1867477297782898,0.16998831927776337,9.885659217834473\n"
     ]
    },
    {
     "name": "stderr",
     "output_type": "stream",
     "text": [
      "ERROR:root:task: mqtt_task raised exception: [WinError 10054] An existing connection was forcibly closed by the remote host.\n",
      "ERROR:root:task: connection_task raised exception: .\n"
     ]
    },
    {
     "name": "stdout",
     "output_type": "stream",
     "text": [
      "Saved: 2025-09-12 20:13:29,-0.19153612852096558,0.16998831927776337,9.885659217834473\n",
      "Saved: 2025-09-12 20:13:30,-0.19153612852096558,0.18914192914962769,9.885659217834473\n"
     ]
    },
    {
     "name": "stderr",
     "output_type": "stream",
     "text": [
      "ERROR:root:task: mqtt_task raised exception: [WinError 10054] An existing connection was forcibly closed by the remote host.\n",
      "ERROR:root:task: connection_task raised exception: .\n"
     ]
    },
    {
     "name": "stdout",
     "output_type": "stream",
     "text": [
      "Saved: 2025-09-12 20:13:34,-0.19871874153614044,0.18914192914962769,9.885659217834473\n"
     ]
    },
    {
     "name": "stderr",
     "output_type": "stream",
     "text": [
      "ERROR:root:task: mqtt_task raised exception: [WinError 10054] An existing connection was forcibly closed by the remote host.\n",
      "ERROR:root:task: connection_task raised exception: .\n",
      "ERROR:root:task: mqtt_task raised exception: [WinError 10054] An existing connection was forcibly closed by the remote host.\n",
      "ERROR:root:task: connection_task raised exception: .\n",
      "ERROR:root:task: mqtt_task raised exception: [WinError 10054] An existing connection was forcibly closed by the remote host.\n",
      "ERROR:root:task: connection_task raised exception: .\n"
     ]
    },
    {
     "name": "stdout",
     "output_type": "stream",
     "text": [
      "Saved: 2025-09-12 20:13:43,-0.17717093229293823,0.18914192914962769,9.885659217834473\n"
     ]
    },
    {
     "name": "stderr",
     "output_type": "stream",
     "text": [
      "ERROR:root:task: mqtt_task raised exception: [WinError 10054] An existing connection was forcibly closed by the remote host.\n",
      "ERROR:root:task: connection_task raised exception: .\n"
     ]
    },
    {
     "name": "stdout",
     "output_type": "stream",
     "text": [
      "Saved: 2025-09-12 20:13:46,-0.17717093229293823,0.2059013396501541,9.885659217834473\n"
     ]
    },
    {
     "name": "stderr",
     "output_type": "stream",
     "text": [
      "ERROR:root:task: mqtt_task raised exception: [WinError 10054] An existing connection was forcibly closed by the remote host.\n",
      "ERROR:root:task: connection_task raised exception: .\n",
      "ERROR:root:task: mqtt_task raised exception: [WinError 10054] An existing connection was forcibly closed by the remote host.\n",
      "ERROR:root:task: connection_task raised exception: .\n",
      "ERROR:root:task: mqtt_task raised exception: [WinError 10054] An existing connection was forcibly closed by the remote host.\n",
      "ERROR:root:task: connection_task raised exception: .\n",
      "ERROR:root:task: mqtt_task raised exception: [WinError 10054] An existing connection was forcibly closed by the remote host.\n",
      "ERROR:root:task: connection_task raised exception: .\n",
      "ERROR:root:task: mqtt_task raised exception: [WinError 10054] An existing connection was forcibly closed by the remote host.\n",
      "ERROR:root:task: connection_task raised exception: .\n"
     ]
    },
    {
     "name": "stdout",
     "output_type": "stream",
     "text": [
      "Saved: 2025-09-12 20:14:02,-0.1843535304069519,0.2059013396501541,9.885659217834473\n"
     ]
    },
    {
     "name": "stderr",
     "output_type": "stream",
     "text": [
      "ERROR:root:task: mqtt_task raised exception: [WinError 10054] An existing connection was forcibly closed by the remote host.\n",
      "ERROR:root:task: connection_task raised exception: .\n"
     ]
    },
    {
     "name": "stdout",
     "output_type": "stream",
     "text": [
      "Saved: 2025-09-12 20:14:06,-0.19393034279346466,0.2059013396501541,9.885659217834473\n"
     ]
    },
    {
     "name": "stderr",
     "output_type": "stream",
     "text": [
      "ERROR:root:task: mqtt_task raised exception: [WinError 10054] An existing connection was forcibly closed by the remote host.\n",
      "ERROR:root:task: connection_task raised exception: .\n",
      "ERROR:root:task: mqtt_task raised exception: [WinError 10054] An existing connection was forcibly closed by the remote host.\n",
      "ERROR:root:task: connection_task raised exception: .\n"
     ]
    },
    {
     "name": "stdout",
     "output_type": "stream",
     "text": [
      "Saved: 2025-09-12 20:14:12,-0.2082955539226532,0.2059013396501541,9.885659217834473\n"
     ]
    },
    {
     "name": "stderr",
     "output_type": "stream",
     "text": [
      "ERROR:root:task: mqtt_task raised exception: [WinError 10054] An existing connection was forcibly closed by the remote host.\n",
      "ERROR:root:task: connection_task raised exception: .\n"
     ]
    },
    {
     "name": "stdout",
     "output_type": "stream",
     "text": [
      "Saved: 2025-09-12 20:14:16,-0.2082955539226532,0.19153612852096558,9.885659217834473\n"
     ]
    },
    {
     "name": "stderr",
     "output_type": "stream",
     "text": [
      "ERROR:root:task: mqtt_task raised exception: [WinError 10054] An existing connection was forcibly closed by the remote host.\n",
      "ERROR:root:task: connection_task raised exception: .\n",
      "ERROR:root:task: mqtt_task raised exception: [WinError 10054] An existing connection was forcibly closed by the remote host.\n",
      "ERROR:root:task: connection_task raised exception: .\n"
     ]
    },
    {
     "name": "stdout",
     "output_type": "stream",
     "text": [
      "Saved: 2025-09-12 20:14:24,-0.18914192914962769,0.19153612852096558,9.885659217834473\n"
     ]
    },
    {
     "name": "stderr",
     "output_type": "stream",
     "text": [
      "ERROR:root:task: mqtt_task raised exception: [WinError 10054] An existing connection was forcibly closed by the remote host.\n",
      "ERROR:root:task: connection_task raised exception: .\n"
     ]
    },
    {
     "name": "stdout",
     "output_type": "stream",
     "text": [
      "Saved: 2025-09-12 20:14:26,-0.18914192914962769,0.19632454216480255,9.885659217834473\n",
      "Saved: 2025-09-12 20:14:27,-0.18914192914962769,0.19632454216480255,9.911994934082031\n"
     ]
    },
    {
     "name": "stderr",
     "output_type": "stream",
     "text": [
      "ERROR:root:task: mqtt_task raised exception: [WinError 10054] An existing connection was forcibly closed by the remote host.\n",
      "ERROR:root:task: connection_task raised exception: .\n",
      "ERROR:root:task: mqtt_task raised exception: [WinError 10054] An existing connection was forcibly closed by the remote host.\n",
      "ERROR:root:task: connection_task raised exception: .\n",
      "ERROR:root:task: mqtt_task raised exception: [WinError 10054] An existing connection was forcibly closed by the remote host.\n",
      "ERROR:root:task: connection_task raised exception: .\n",
      "ERROR:root:task: mqtt_task raised exception: [WinError 10054] An existing connection was forcibly closed by the remote host.\n",
      "ERROR:root:task: connection_task raised exception: .\n",
      "ERROR:root:task: mqtt_task raised exception: [WinError 10054] An existing connection was forcibly closed by the remote host.\n",
      "ERROR:root:task: connection_task raised exception: .\n",
      "ERROR:root:task: mqtt_task raised exception: [WinError 10054] An existing connection was forcibly closed by the remote host.\n",
      "ERROR:root:task: connection_task raised exception: .\n",
      "ERROR:root:task: mqtt_task raised exception: [WinError 10054] An existing connection was forcibly closed by the remote host.\n",
      "ERROR:root:task: connection_task raised exception: .\n"
     ]
    },
    {
     "name": "stdout",
     "output_type": "stream",
     "text": [
      "Saved: 2025-09-12 20:14:48,-0.18914192914962769,0.19632454216480255,9.911994934082031\n"
     ]
    },
    {
     "name": "stderr",
     "output_type": "stream",
     "text": [
      "ERROR:root:task: mqtt_task raised exception: [WinError 10054] An existing connection was forcibly closed by the remote host.\n",
      "ERROR:root:task: connection_task raised exception: .\n"
     ]
    },
    {
     "name": "stdout",
     "output_type": "stream",
     "text": [
      "Saved: 2025-09-12 20:14:51,-0.20350714027881622,0.19632454216480255,9.911994934082031\n"
     ]
    },
    {
     "name": "stderr",
     "output_type": "stream",
     "text": [
      "ERROR:root:task: mqtt_task raised exception: [WinError 10054] An existing connection was forcibly closed by the remote host.\n",
      "ERROR:root:task: connection_task raised exception: .\n",
      "ERROR:root:task: mqtt_task raised exception: [WinError 10054] An existing connection was forcibly closed by the remote host.\n",
      "ERROR:root:task: connection_task raised exception: .\n"
     ]
    },
    {
     "name": "stdout",
     "output_type": "stream",
     "text": [
      "Saved: 2025-09-12 20:14:58,-0.20350714027881622,0.19153612852096558,9.911994934082031\n"
     ]
    },
    {
     "name": "stderr",
     "output_type": "stream",
     "text": [
      "ERROR:root:task: mqtt_task raised exception: [WinError 10054] An existing connection was forcibly closed by the remote host.\n",
      "ERROR:root:task: connection_task raised exception: .\n"
     ]
    },
    {
     "name": "stdout",
     "output_type": "stream",
     "text": [
      "Saved: 2025-09-12 20:15:02,-0.181959331035614,0.19153612852096558,9.911994934082031\n"
     ]
    },
    {
     "name": "stderr",
     "output_type": "stream",
     "text": [
      "ERROR:root:task: mqtt_task raised exception: [WinError 10054] An existing connection was forcibly closed by the remote host.\n",
      "ERROR:root:task: connection_task raised exception: .\n",
      "ERROR:root:task: mqtt_task raised exception: [WinError 10054] An existing connection was forcibly closed by the remote host.\n",
      "ERROR:root:task: connection_task raised exception: .\n"
     ]
    },
    {
     "name": "stdout",
     "output_type": "stream",
     "text": [
      "Saved: 2025-09-12 20:15:09,-0.19632454216480255,0.19153612852096558,9.911994934082031\n"
     ]
    },
    {
     "name": "stderr",
     "output_type": "stream",
     "text": [
      "ERROR:root:task: mqtt_task raised exception: [WinError 10054] An existing connection was forcibly closed by the remote host.\n",
      "ERROR:root:task: connection_task raised exception: .\n"
     ]
    },
    {
     "name": "stdout",
     "output_type": "stream",
     "text": [
      "Saved: 2025-09-12 20:15:13,-0.19632454216480255,0.181959331035614,9.911994934082031\n"
     ]
    },
    {
     "name": "stderr",
     "output_type": "stream",
     "text": [
      "ERROR:root:task: mqtt_task raised exception: [WinError 10054] An existing connection was forcibly closed by the remote host.\n",
      "ERROR:root:task: connection_task raised exception: .\n",
      "ERROR:root:task: mqtt_task raised exception: [WinError 10054] An existing connection was forcibly closed by the remote host.\n",
      "ERROR:root:task: connection_task raised exception: .\n"
     ]
    },
    {
     "name": "stdout",
     "output_type": "stream",
     "text": [
      "Saved: 2025-09-12 20:15:21,-0.19393034279346466,0.181959331035614,9.911994934082031\n"
     ]
    },
    {
     "name": "stderr",
     "output_type": "stream",
     "text": [
      "ERROR:root:task: mqtt_task raised exception: [WinError 10054] An existing connection was forcibly closed by the remote host.\n",
      "ERROR:root:task: connection_task raised exception: .\n"
     ]
    },
    {
     "name": "stdout",
     "output_type": "stream",
     "text": [
      "Saved: 2025-09-12 20:15:23,-0.1843535304069519,0.181959331035614,9.911994934082031\n",
      "Saved: 2025-09-12 20:15:24,-0.1843535304069519,0.19393034279346466,9.911994934082031\n"
     ]
    },
    {
     "name": "stderr",
     "output_type": "stream",
     "text": [
      "ERROR:root:task: mqtt_task raised exception: [WinError 10054] An existing connection was forcibly closed by the remote host.\n",
      "ERROR:root:task: connection_task raised exception: .\n",
      "ERROR:root:task: mqtt_task raised exception: [WinError 10054] An existing connection was forcibly closed by the remote host.\n",
      "ERROR:root:task: connection_task raised exception: .\n"
     ]
    },
    {
     "name": "stdout",
     "output_type": "stream",
     "text": [
      "Saved: 2025-09-12 20:15:32,-0.19871874153614044,0.19393034279346466,9.911994934082031\n"
     ]
    },
    {
     "name": "stderr",
     "output_type": "stream",
     "text": [
      "ERROR:root:task: mqtt_task raised exception: [WinError 10054] An existing connection was forcibly closed by the remote host.\n",
      "ERROR:root:task: connection_task raised exception: .\n"
     ]
    },
    {
     "name": "stdout",
     "output_type": "stream",
     "text": [
      "Saved: 2025-09-12 20:15:36,-0.19153612852096558,0.19393034279346466,9.911994934082031\n"
     ]
    },
    {
     "name": "stderr",
     "output_type": "stream",
     "text": [
      "ERROR:root:task: mqtt_task raised exception: [WinError 10054] An existing connection was forcibly closed by the remote host.\n",
      "ERROR:root:task: connection_task raised exception: .\n",
      "ERROR:root:task: mqtt_task raised exception: [WinError 10054] An existing connection was forcibly closed by the remote host.\n",
      "ERROR:root:task: connection_task raised exception: .\n"
     ]
    },
    {
     "name": "stdout",
     "output_type": "stream",
     "text": [
      "Saved: 2025-09-12 20:15:43,-0.20350714027881622,0.19393034279346466,9.911994934082031\n"
     ]
    },
    {
     "name": "stderr",
     "output_type": "stream",
     "text": [
      "ERROR:root:task: mqtt_task raised exception: [WinError 10054] An existing connection was forcibly closed by the remote host.\n",
      "ERROR:root:task: connection_task raised exception: .\n"
     ]
    },
    {
     "name": "stdout",
     "output_type": "stream",
     "text": [
      "Saved: 2025-09-12 20:15:47,-0.19871874153614044,0.19393034279346466,9.911994934082031\n"
     ]
    },
    {
     "name": "stderr",
     "output_type": "stream",
     "text": [
      "ERROR:root:task: mqtt_task raised exception: [WinError 10054] An existing connection was forcibly closed by the remote host.\n",
      "ERROR:root:task: connection_task raised exception: .\n",
      "ERROR:root:task: mqtt_task raised exception: [WinError 10054] An existing connection was forcibly closed by the remote host.\n",
      "ERROR:root:task: connection_task raised exception: .\n"
     ]
    },
    {
     "name": "stdout",
     "output_type": "stream",
     "text": [
      "Saved: 2025-09-12 20:15:55,-0.17477671802043915,0.19393034279346466,9.911994934082031\n"
     ]
    },
    {
     "name": "stderr",
     "output_type": "stream",
     "text": [
      "ERROR:root:task: mqtt_task raised exception: [WinError 10054] An existing connection was forcibly closed by the remote host.\n",
      "ERROR:root:task: connection_task raised exception: .\n"
     ]
    },
    {
     "name": "stdout",
     "output_type": "stream",
     "text": [
      "Saved: 2025-09-12 20:15:59,-0.17956513166427612,0.19393034279346466,9.911994934082031\n"
     ]
    },
    {
     "name": "stderr",
     "output_type": "stream",
     "text": [
      "ERROR:root:task: mqtt_task raised exception: [WinError 10054] An existing connection was forcibly closed by the remote host.\n",
      "ERROR:root:task: connection_task raised exception: .\n"
     ]
    },
    {
     "name": "stdout",
     "output_type": "stream",
     "text": [
      "Saved: 2025-09-12 20:16:02,0.7350199222564697,0.19393034279346466,9.911994934082031\n"
     ]
    },
    {
     "name": "stderr",
     "output_type": "stream",
     "text": [
      "ERROR:root:task: mqtt_task raised exception: [WinError 10054] An existing connection was forcibly closed by the remote host.\n",
      "ERROR:root:task: connection_task raised exception: .\n"
     ]
    },
    {
     "name": "stdout",
     "output_type": "stream",
     "text": [
      "Saved: 2025-09-12 20:16:06,2.4157495498657227,0.19393034279346466,9.911994934082031\n"
     ]
    },
    {
     "name": "stderr",
     "output_type": "stream",
     "text": [
      "ERROR:root:task: mqtt_task raised exception: [WinError 10054] An existing connection was forcibly closed by the remote host.\n",
      "ERROR:root:task: connection_task raised exception: .\n"
     ]
    },
    {
     "name": "stdout",
     "output_type": "stream",
     "text": [
      "Saved: 2025-09-12 20:16:10,-0.47644615173339844,0.19393034279346466,9.911994934082031\n"
     ]
    },
    {
     "name": "stderr",
     "output_type": "stream",
     "text": [
      "ERROR:root:task: mqtt_task raised exception: [WinError 10054] An existing connection was forcibly closed by the remote host.\n",
      "ERROR:root:task: connection_task raised exception: .\n",
      "ERROR:root:task: mqtt_task raised exception: [WinError 10054] An existing connection was forcibly closed by the remote host.\n",
      "ERROR:root:task: connection_task raised exception: .\n"
     ]
    },
    {
     "name": "stdout",
     "output_type": "stream",
     "text": [
      "Saved: 2025-09-12 20:16:17,1.742978811264038,0.19393034279346466,9.911994934082031\n"
     ]
    },
    {
     "name": "stderr",
     "output_type": "stream",
     "text": [
      "ERROR:root:task: mqtt_task raised exception: [WinError 10054] An existing connection was forcibly closed by the remote host.\n",
      "ERROR:root:task: connection_task raised exception: .\n"
     ]
    },
    {
     "name": "stdout",
     "output_type": "stream",
     "text": [
      "Saved: 2025-09-12 20:16:21,-1.9608511924743652,0.19393034279346466,9.911994934082031\n"
     ]
    },
    {
     "name": "stderr",
     "output_type": "stream",
     "text": [
      "ERROR:root:task: mqtt_task raised exception: [WinError 10054] An existing connection was forcibly closed by the remote host.\n",
      "ERROR:root:task: connection_task raised exception: .\n",
      "ERROR:root:task: mqtt_task raised exception: [WinError 10054] An existing connection was forcibly closed by the remote host.\n",
      "ERROR:root:task: connection_task raised exception: .\n"
     ]
    },
    {
     "name": "stdout",
     "output_type": "stream",
     "text": [
      "Saved: 2025-09-12 20:16:29,10.733205795288086,0.19393034279346466,9.911994934082031\n"
     ]
    },
    {
     "name": "stderr",
     "output_type": "stream",
     "text": [
      "ERROR:root:task: mqtt_task raised exception: [WinError 10054] An existing connection was forcibly closed by the remote host.\n",
      "ERROR:root:task: connection_task raised exception: .\n"
     ]
    },
    {
     "name": "stdout",
     "output_type": "stream",
     "text": [
      "Saved: 2025-09-12 20:16:32,-1.5179238319396973,0.19393034279346466,9.911994934082031\n"
     ]
    },
    {
     "name": "stderr",
     "output_type": "stream",
     "text": [
      "ERROR:root:task: mqtt_task raised exception: [WinError 10054] An existing connection was forcibly closed by the remote host.\n",
      "ERROR:root:task: connection_task raised exception: .\n",
      "ERROR:root:task: mqtt_task raised exception: [WinError 10054] An existing connection was forcibly closed by the remote host.\n",
      "ERROR:root:task: connection_task raised exception: .\n"
     ]
    },
    {
     "name": "stdout",
     "output_type": "stream",
     "text": [
      "Saved: 2025-09-12 20:16:40,-1.2425906658172607,0.19393034279346466,9.911994934082031\n"
     ]
    },
    {
     "name": "stderr",
     "output_type": "stream",
     "text": [
      "ERROR:root:task: mqtt_task raised exception: [WinError 10054] An existing connection was forcibly closed by the remote host.\n",
      "ERROR:root:task: connection_task raised exception: .\n"
     ]
    },
    {
     "name": "stdout",
     "output_type": "stream",
     "text": [
      "Saved: 2025-09-12 20:16:43,-1.7190368175506592,0.19393034279346466,9.911994934082031\n",
      "Saved: 2025-09-12 20:16:44,-1.7190368175506592,4.8937482833862305,9.911994934082031\n"
     ]
    },
    {
     "name": "stderr",
     "output_type": "stream",
     "text": [
      "ERROR:root:task: mqtt_task raised exception: [WinError 10054] An existing connection was forcibly closed by the remote host.\n",
      "ERROR:root:task: connection_task raised exception: .\n",
      "ERROR:root:task: mqtt_task raised exception: [WinError 10054] An existing connection was forcibly closed by the remote host.\n",
      "ERROR:root:task: connection_task raised exception: .\n"
     ]
    },
    {
     "name": "stdout",
     "output_type": "stream",
     "text": [
      "Saved: 2025-09-12 20:16:51,-1.8914192914962769,4.8937482833862305,9.911994934082031\n"
     ]
    },
    {
     "name": "stderr",
     "output_type": "stream",
     "text": [
      "ERROR:root:task: mqtt_task raised exception: [WinError 10054] An existing connection was forcibly closed by the remote host.\n",
      "ERROR:root:task: connection_task raised exception: .\n"
     ]
    },
    {
     "name": "stdout",
     "output_type": "stream",
     "text": [
      "Saved: 2025-09-12 20:16:55,-1.7764976024627686,4.8937482833862305,9.911994934082031\n"
     ]
    },
    {
     "name": "stderr",
     "output_type": "stream",
     "text": [
      "ERROR:root:task: mqtt_task raised exception: [WinError 10054] An existing connection was forcibly closed by the remote host.\n",
      "ERROR:root:task: connection_task raised exception: .\n"
     ]
    },
    {
     "name": "stdout",
     "output_type": "stream",
     "text": [
      "Saved: 2025-09-12 20:16:59,-1.7334020137786865,4.8937482833862305,9.911994934082031\n"
     ]
    },
    {
     "name": "stderr",
     "output_type": "stream",
     "text": [
      "ERROR:root:task: mqtt_task raised exception: [WinError 10054] An existing connection was forcibly closed by the remote host.\n",
      "ERROR:root:task: connection_task raised exception: .\n"
     ]
    },
    {
     "name": "stdout",
     "output_type": "stream",
     "text": [
      "Saved: 2025-09-12 20:17:02,-1.7956513166427612,4.8937482833862305,9.911994934082031\n"
     ]
    },
    {
     "name": "stderr",
     "output_type": "stream",
     "text": [
      "ERROR:root:task: mqtt_task raised exception: [WinError 10054] An existing connection was forcibly closed by the remote host.\n",
      "ERROR:root:task: connection_task raised exception: .\n",
      "ERROR:root:task: mqtt_task raised exception: [WinError 10054] An existing connection was forcibly closed by the remote host.\n",
      "ERROR:root:task: connection_task raised exception: .\n",
      "ERROR:root:task: mqtt_task raised exception: [WinError 10054] An existing connection was forcibly closed by the remote host.\n",
      "ERROR:root:task: connection_task raised exception: .\n"
     ]
    },
    {
     "name": "stdout",
     "output_type": "stream",
     "text": [
      "Saved: 2025-09-12 20:17:11,-1.5322890281677246,4.8937482833862305,9.911994934082031\n",
      "Saved: 2025-09-12 20:17:12,-1.5322890281677246,3.6750996112823486,9.911994934082031\n"
     ]
    },
    {
     "name": "stderr",
     "output_type": "stream",
     "text": [
      "ERROR:root:task: mqtt_task raised exception: [WinError 10054] An existing connection was forcibly closed by the remote host.\n",
      "ERROR:root:task: connection_task raised exception: .\n"
     ]
    },
    {
     "name": "stdout",
     "output_type": "stream",
     "text": [
      "Saved: 2025-09-12 20:17:16,0.5602431893348694,3.6750996112823486,9.911994934082031\n"
     ]
    },
    {
     "name": "stderr",
     "output_type": "stream",
     "text": [
      "ERROR:root:task: mqtt_task raised exception: [WinError 10054] An existing connection was forcibly closed by the remote host.\n",
      "ERROR:root:task: connection_task raised exception: .\n"
     ]
    },
    {
     "name": "stdout",
     "output_type": "stream",
     "text": [
      "Saved: 2025-09-12 20:17:20,0.10295066982507706,3.6750996112823486,9.911994934082031\n"
     ]
    },
    {
     "name": "stderr",
     "output_type": "stream",
     "text": [
      "ERROR:root:task: mqtt_task raised exception: [WinError 10054] An existing connection was forcibly closed by the remote host.\n",
      "ERROR:root:task: connection_task raised exception: .\n",
      "ERROR:root:task: mqtt_task raised exception: [WinError 10054] An existing connection was forcibly closed by the remote host.\n",
      "ERROR:root:task: connection_task raised exception: .\n"
     ]
    },
    {
     "name": "stdout",
     "output_type": "stream",
     "text": [
      "Saved: 2025-09-12 20:17:27,0.08619125932455063,3.6750996112823486,9.911994934082031\n"
     ]
    },
    {
     "name": "stderr",
     "output_type": "stream",
     "text": [
      "ERROR:root:task: mqtt_task raised exception: [WinError 10054] An existing connection was forcibly closed by the remote host.\n",
      "ERROR:root:task: connection_task raised exception: .\n"
     ]
    },
    {
     "name": "stdout",
     "output_type": "stream",
     "text": [
      "Saved: 2025-09-12 20:17:31,0.07661445438861847,3.6750996112823486,9.911994934082031\n"
     ]
    },
    {
     "name": "stderr",
     "output_type": "stream",
     "text": [
      "ERROR:root:task: mqtt_task raised exception: [WinError 10054] An existing connection was forcibly closed by the remote host.\n",
      "ERROR:root:task: connection_task raised exception: .\n",
      "ERROR:root:task: mqtt_task raised exception: [WinError 10054] An existing connection was forcibly closed by the remote host.\n",
      "ERROR:root:task: connection_task raised exception: .\n"
     ]
    },
    {
     "name": "stdout",
     "output_type": "stream",
     "text": [
      "Saved: 2025-09-12 20:17:39,0.0933738648891449,3.6750996112823486,9.911994934082031\n"
     ]
    },
    {
     "name": "stderr",
     "output_type": "stream",
     "text": [
      "ERROR:root:task: mqtt_task raised exception: [WinError 10054] An existing connection was forcibly closed by the remote host.\n",
      "ERROR:root:task: connection_task raised exception: .\n",
      "ERROR:root:task: mqtt_task raised exception: [WinError 10054] An existing connection was forcibly closed by the remote host.\n",
      "ERROR:root:task: connection_task raised exception: .\n",
      "ERROR:root:task: mqtt_task raised exception: [WinError 10054] An existing connection was forcibly closed by the remote host.\n",
      "ERROR:root:task: connection_task raised exception: .\n",
      "ERROR:root:task: mqtt_task raised exception: [WinError 10054] An existing connection was forcibly closed by the remote host.\n",
      "ERROR:root:task: connection_task raised exception: .\n",
      "ERROR:root:task: mqtt_task raised exception: [WinError 10054] An existing connection was forcibly closed by the remote host.\n",
      "ERROR:root:task: connection_task raised exception: .\n",
      "ERROR:root:task: mqtt_task raised exception: [WinError 10054] An existing connection was forcibly closed by the remote host.\n",
      "ERROR:root:task: connection_task raised exception: .\n"
     ]
    },
    {
     "name": "stdout",
     "output_type": "stream",
     "text": [
      "Saved: 2025-09-12 20:17:56,4.390965938568115,3.6750996112823486,9.911994934082031\n"
     ]
    },
    {
     "name": "stderr",
     "output_type": "stream",
     "text": [
      "ERROR:root:task: mqtt_task raised exception: [WinError 10054] An existing connection was forcibly closed by the remote host.\n",
      "ERROR:root:task: connection_task raised exception: .\n"
     ]
    },
    {
     "name": "stdout",
     "output_type": "stream",
     "text": [
      "Saved: 2025-09-12 20:17:59,-0.19871874153614044,3.6750996112823486,9.911994934082031\n",
      "Saved: 2025-09-12 20:18:00,-0.19871874153614044,-0.2298433631658554,9.911994934082031\n"
     ]
    },
    {
     "name": "stderr",
     "output_type": "stream",
     "text": [
      "ERROR:root:task: mqtt_task raised exception: [WinError 10054] An existing connection was forcibly closed by the remote host.\n",
      "ERROR:root:task: connection_task raised exception: .\n"
     ]
    },
    {
     "name": "stdout",
     "output_type": "stream",
     "text": [
      "Saved: 2025-09-12 20:18:04,-0.2322375625371933,-0.2298433631658554,9.911994934082031\n"
     ]
    },
    {
     "name": "stderr",
     "output_type": "stream",
     "text": [
      "ERROR:root:task: mqtt_task raised exception: [WinError 10054] An existing connection was forcibly closed by the remote host.\n",
      "ERROR:root:task: connection_task raised exception: .\n"
     ]
    },
    {
     "name": "stdout",
     "output_type": "stream",
     "text": [
      "Saved: 2025-09-12 20:18:08,-0.2346317619085312,-0.2298433631658554,9.911994934082031\n"
     ]
    },
    {
     "name": "stderr",
     "output_type": "stream",
     "text": [
      "ERROR:root:task: mqtt_task raised exception: [WinError 10054] An existing connection was forcibly closed by the remote host.\n",
      "ERROR:root:task: connection_task raised exception: .\n"
     ]
    },
    {
     "name": "stdout",
     "output_type": "stream",
     "text": [
      "Saved: 2025-09-12 20:18:12,-0.2346317619085312,-0.22744916379451752,9.911994934082031\n"
     ]
    },
    {
     "name": "stderr",
     "output_type": "stream",
     "text": [
      "ERROR:root:task: mqtt_task raised exception: [WinError 10054] An existing connection was forcibly closed by the remote host.\n",
      "ERROR:root:task: connection_task raised exception: .\n"
     ]
    },
    {
     "name": "stdout",
     "output_type": "stream",
     "text": [
      "Saved: 2025-09-12 20:18:15,-0.2346317619085312,-0.22266076505184174,9.911994934082031\n",
      "Saved: 2025-09-12 20:18:16,-0.2346317619085312,-0.22266076505184174,-9.66539192199707\n"
     ]
    },
    {
     "name": "stderr",
     "output_type": "stream",
     "text": [
      "ERROR:root:task: mqtt_task raised exception: [WinError 10054] An existing connection was forcibly closed by the remote host.\n",
      "ERROR:root:task: connection_task raised exception: .\n"
     ]
    },
    {
     "name": "stdout",
     "output_type": "stream",
     "text": [
      "Saved: 2025-09-12 20:18:20,-0.2561795711517334,-0.22266076505184174,-9.66539192199707\n"
     ]
    },
    {
     "name": "stderr",
     "output_type": "stream",
     "text": [
      "ERROR:root:task: mqtt_task raised exception: [WinError 10054] An existing connection was forcibly closed by the remote host.\n",
      "ERROR:root:task: connection_task raised exception: .\n",
      "ERROR:root:task: mqtt_task raised exception: [WinError 10054] An existing connection was forcibly closed by the remote host.\n",
      "ERROR:root:task: connection_task raised exception: .\n"
     ]
    },
    {
     "name": "stdout",
     "output_type": "stream",
     "text": [
      "Saved: 2025-09-12 20:18:27,-0.2561795711517334,-0.22266076505184174,-9.651026725769043\n"
     ]
    },
    {
     "name": "stderr",
     "output_type": "stream",
     "text": [
      "ERROR:root:task: mqtt_task raised exception: [WinError 10054] An existing connection was forcibly closed by the remote host.\n",
      "ERROR:root:task: connection_task raised exception: .\n"
     ]
    },
    {
     "name": "stdout",
     "output_type": "stream",
     "text": [
      "Saved: 2025-09-12 20:18:31,-0.2561795711517334,-0.2082955539226532,-9.651026725769043\n"
     ]
    },
    {
     "name": "stderr",
     "output_type": "stream",
     "text": [
      "ERROR:root:task: mqtt_task raised exception: [WinError 10054] An existing connection was forcibly closed by the remote host.\n",
      "ERROR:root:task: connection_task raised exception: .\n",
      "ERROR:root:task: mqtt_task raised exception: [WinError 10054] An existing connection was forcibly closed by the remote host.\n",
      "ERROR:root:task: connection_task raised exception: .\n"
     ]
    },
    {
     "name": "stdout",
     "output_type": "stream",
     "text": [
      "Saved: 2025-09-12 20:18:39,-0.2561795711517334,-0.22026655077934265,-9.651026725769043\n"
     ]
    },
    {
     "name": "stderr",
     "output_type": "stream",
     "text": [
      "ERROR:root:task: mqtt_task raised exception: [WinError 10054] An existing connection was forcibly closed by the remote host.\n",
      "ERROR:root:task: connection_task raised exception: .\n"
     ]
    },
    {
     "name": "stdout",
     "output_type": "stream",
     "text": [
      "Saved: 2025-09-12 20:18:42,-0.23942017555236816,-0.22026655077934265,-9.651026725769043\n"
     ]
    },
    {
     "name": "stderr",
     "output_type": "stream",
     "text": [
      "ERROR:root:task: mqtt_task raised exception: [WinError 10054] An existing connection was forcibly closed by the remote host.\n",
      "ERROR:root:task: connection_task raised exception: .\n"
     ]
    },
    {
     "name": "stdout",
     "output_type": "stream",
     "text": [
      "Saved: 2025-09-12 20:18:45,-0.23942017555236816,-0.22266076505184174,-9.651026725769043\n"
     ]
    },
    {
     "name": "stderr",
     "output_type": "stream",
     "text": [
      "ERROR:root:task: mqtt_task raised exception: [WinError 10054] An existing connection was forcibly closed by the remote host.\n",
      "ERROR:root:task: connection_task raised exception: .\n",
      "ERROR:root:task: mqtt_task raised exception: [WinError 10054] An existing connection was forcibly closed by the remote host.\n",
      "ERROR:root:task: connection_task raised exception: .\n",
      "ERROR:root:task: mqtt_task raised exception: [WinError 10054] An existing connection was forcibly closed by the remote host.\n",
      "ERROR:root:task: connection_task raised exception: .\n"
     ]
    },
    {
     "name": "stdout",
     "output_type": "stream",
     "text": [
      "Saved: 2025-09-12 20:18:56,-0.23942017555236816,-0.22266076505184174,-9.651026725769043\n"
     ]
    },
    {
     "name": "stderr",
     "output_type": "stream",
     "text": [
      "ERROR:root:task: mqtt_task raised exception: [WinError 10054] An existing connection was forcibly closed by the remote host.\n",
      "ERROR:root:task: connection_task raised exception: .\n"
     ]
    },
    {
     "name": "stdout",
     "output_type": "stream",
     "text": [
      "Saved: 2025-09-12 20:19:00,-0.2298433631658554,-0.22266076505184174,-9.651026725769043\n"
     ]
    },
    {
     "name": "stderr",
     "output_type": "stream",
     "text": [
      "ERROR:root:task: mqtt_task raised exception: [WinError 10054] An existing connection was forcibly closed by the remote host.\n",
      "ERROR:root:task: connection_task raised exception: .\n"
     ]
    },
    {
     "name": "stdout",
     "output_type": "stream",
     "text": [
      "Saved: 2025-09-12 20:19:04,-0.23702596127986908,-0.22266076505184174,-9.651026725769043\n"
     ]
    },
    {
     "name": "stderr",
     "output_type": "stream",
     "text": [
      "ERROR:root:task: mqtt_task raised exception: [WinError 10054] An existing connection was forcibly closed by the remote host.\n",
      "ERROR:root:task: connection_task raised exception: .\n"
     ]
    },
    {
     "name": "stdout",
     "output_type": "stream",
     "text": [
      "Saved: 2025-09-12 20:19:07,-0.2322375625371933,-0.22266076505184174,-9.651026725769043\n"
     ]
    },
    {
     "name": "stderr",
     "output_type": "stream",
     "text": [
      "ERROR:root:task: mqtt_task raised exception: [WinError 10054] An existing connection was forcibly closed by the remote host.\n",
      "ERROR:root:task: connection_task raised exception: .\n"
     ]
    },
    {
     "name": "stdout",
     "output_type": "stream",
     "text": [
      "Saved: 2025-09-12 20:19:11,-0.2298433631658554,-0.22266076505184174,-9.651026725769043\n"
     ]
    },
    {
     "name": "stderr",
     "output_type": "stream",
     "text": [
      "ERROR:root:task: mqtt_task raised exception: [WinError 10054] An existing connection was forcibly closed by the remote host.\n",
      "ERROR:root:task: connection_task raised exception: .\n"
     ]
    },
    {
     "name": "stdout",
     "output_type": "stream",
     "text": [
      "Saved: 2025-09-12 20:19:15,-0.2346317619085312,-0.22266076505184174,-9.651026725769043\n"
     ]
    },
    {
     "name": "stderr",
     "output_type": "stream",
     "text": [
      "ERROR:root:task: mqtt_task raised exception: [WinError 10054] An existing connection was forcibly closed by the remote host.\n",
      "ERROR:root:task: connection_task raised exception: .\n",
      "ERROR:root:task: mqtt_task raised exception: [WinError 10054] An existing connection was forcibly closed by the remote host.\n",
      "ERROR:root:task: connection_task raised exception: .\n"
     ]
    },
    {
     "name": "stdout",
     "output_type": "stream",
     "text": [
      "Saved: 2025-09-12 20:19:22,-0.24420857429504395,-0.22266076505184174,-9.651026725769043\n"
     ]
    },
    {
     "name": "stderr",
     "output_type": "stream",
     "text": [
      "ERROR:root:task: mqtt_task raised exception: [WinError 10054] An existing connection was forcibly closed by the remote host.\n",
      "ERROR:root:task: connection_task raised exception: .\n"
     ]
    },
    {
     "name": "stdout",
     "output_type": "stream",
     "text": [
      "Saved: 2025-09-12 20:19:26,-0.24660277366638184,-0.22266076505184174,-9.651026725769043\n"
     ]
    },
    {
     "name": "stderr",
     "output_type": "stream",
     "text": [
      "ERROR:root:task: mqtt_task raised exception: [WinError 10054] An existing connection was forcibly closed by the remote host.\n",
      "ERROR:root:task: connection_task raised exception: .\n",
      "ERROR:root:task: mqtt_task raised exception: [WinError 10054] An existing connection was forcibly closed by the remote host.\n",
      "ERROR:root:task: connection_task raised exception: .\n"
     ]
    },
    {
     "name": "stdout",
     "output_type": "stream",
     "text": [
      "Saved: 2025-09-12 20:19:34,-0.22744916379451752,-0.22266076505184174,-9.651026725769043\n"
     ]
    },
    {
     "name": "stderr",
     "output_type": "stream",
     "text": [
      "ERROR:root:task: mqtt_task raised exception: [WinError 10054] An existing connection was forcibly closed by the remote host.\n",
      "ERROR:root:task: connection_task raised exception: .\n"
     ]
    },
    {
     "name": "stdout",
     "output_type": "stream",
     "text": [
      "Saved: 2025-09-12 20:19:38,-0.23702596127986908,-0.22266076505184174,-9.651026725769043\n"
     ]
    },
    {
     "name": "stderr",
     "output_type": "stream",
     "text": [
      "ERROR:root:task: mqtt_task raised exception: [WinError 10054] An existing connection was forcibly closed by the remote host.\n",
      "ERROR:root:task: connection_task raised exception: .\n"
     ]
    },
    {
     "name": "stdout",
     "output_type": "stream",
     "text": [
      "Saved: 2025-09-12 20:19:41,-0.24420857429504395,-0.22266076505184174,-9.651026725769043\n"
     ]
    },
    {
     "name": "stderr",
     "output_type": "stream",
     "text": [
      "ERROR:root:task: mqtt_task raised exception: [WinError 10054] An existing connection was forcibly closed by the remote host.\n",
      "ERROR:root:task: connection_task raised exception: .\n"
     ]
    },
    {
     "name": "stdout",
     "output_type": "stream",
     "text": [
      "Saved: 2025-09-12 20:19:45,-0.2322375625371933,-0.22266076505184174,-9.651026725769043\n"
     ]
    },
    {
     "name": "stderr",
     "output_type": "stream",
     "text": [
      "ERROR:root:task: mqtt_task raised exception: [WinError 10054] An existing connection was forcibly closed by the remote host.\n",
      "ERROR:root:task: connection_task raised exception: .\n"
     ]
    },
    {
     "name": "stdout",
     "output_type": "stream",
     "text": [
      "Saved: 2025-09-12 20:19:49,-0.2346317619085312,-0.22266076505184174,-9.651026725769043\n"
     ]
    },
    {
     "name": "stderr",
     "output_type": "stream",
     "text": [
      "ERROR:root:task: mqtt_task raised exception: [WinError 10054] An existing connection was forcibly closed by the remote host.\n",
      "ERROR:root:task: connection_task raised exception: .\n",
      "ERROR:root:task: mqtt_task raised exception: [WinError 10054] An existing connection was forcibly closed by the remote host.\n",
      "ERROR:root:task: connection_task raised exception: .\n"
     ]
    },
    {
     "name": "stdout",
     "output_type": "stream",
     "text": [
      "Saved: 2025-09-12 20:19:56,-0.2346317619085312,-0.22266076505184174,-9.651026725769043\n"
     ]
    },
    {
     "name": "stderr",
     "output_type": "stream",
     "text": [
      "ERROR:root:task: mqtt_task raised exception: [WinError 10054] An existing connection was forcibly closed by the remote host.\n",
      "ERROR:root:task: connection_task raised exception: .\n"
     ]
    },
    {
     "name": "stdout",
     "output_type": "stream",
     "text": [
      "Saved: 2025-09-12 20:20:00,-0.2322375625371933,-0.22266076505184174,-9.651026725769043\n"
     ]
    },
    {
     "name": "stderr",
     "output_type": "stream",
     "text": [
      "ERROR:root:task: mqtt_task raised exception: [WinError 10054] An existing connection was forcibly closed by the remote host.\n",
      "ERROR:root:task: connection_task raised exception: .\n",
      "ERROR:root:task: mqtt_task raised exception: [WinError 10054] An existing connection was forcibly closed by the remote host.\n",
      "ERROR:root:task: connection_task raised exception: .\n"
     ]
    },
    {
     "name": "stdout",
     "output_type": "stream",
     "text": [
      "Saved: 2025-09-12 20:20:07,-0.22505496442317963,-0.22266076505184174,-9.651026725769043\n",
      "Saved: 2025-09-12 20:20:08,-0.22505496442317963,-0.031124621629714966,-9.651026725769043\n",
      "Creating visualizations...\n"
     ]
    },
    {
     "name": "stderr",
     "output_type": "stream",
     "text": [
      "ERROR:root:task: mqtt_task raised exception: [WinError 10054] An existing connection was forcibly closed by the remote host.\n"
     ]
    },
    {
     "name": "stdout",
     "output_type": "stream",
     "text": [
      "Visualizations saved as 'accelerometer_analysis.png'\n",
      "Analyzing patterns...\n",
      "X-axis: 51 peaks, average interval: 13.28 samples\n",
      "Y-axis: 8 peaks, average interval: 89.86 samples\n",
      "Pattern analysis saved as 'pattern_analysis.txt'\n"
     ]
    },
    {
     "name": "stderr",
     "output_type": "stream",
     "text": [
      "ERROR:root:task: connection_task raised exception: .\n"
     ]
    },
    {
     "name": "stdout",
     "output_type": "stream",
     "text": [
      "Saved: 2025-09-12 20:20:12,-0.23702596127986908,-0.031124621629714966,-9.651026725769043\n"
     ]
    },
    {
     "name": "stderr",
     "output_type": "stream",
     "text": [
      "ERROR:root:task: mqtt_task raised exception: [WinError 10054] An existing connection was forcibly closed by the remote host.\n",
      "ERROR:root:task: connection_task raised exception: .\n"
     ]
    },
    {
     "name": "stdout",
     "output_type": "stream",
     "text": [
      "Saved: 2025-09-12 20:20:15,-0.2753331959247589,-0.031124621629714966,-9.651026725769043\n"
     ]
    },
    {
     "name": "stderr",
     "output_type": "stream",
     "text": [
      "ERROR:root:task: mqtt_task raised exception: [WinError 10054] An existing connection was forcibly closed by the remote host.\n",
      "ERROR:root:task: connection_task raised exception: .\n"
     ]
    },
    {
     "name": "stdout",
     "output_type": "stream",
     "text": [
      "Saved: 2025-09-12 20:20:19,-0.23702596127986908,-0.031124621629714966,-9.651026725769043\n"
     ]
    },
    {
     "name": "stderr",
     "output_type": "stream",
     "text": [
      "ERROR:root:task: mqtt_task raised exception: [WinError 10054] An existing connection was forcibly closed by the remote host.\n",
      "ERROR:root:task: connection_task raised exception: .\n"
     ]
    },
    {
     "name": "stdout",
     "output_type": "stream",
     "text": [
      "Saved: 2025-09-12 20:20:23,-0.30885201692581177,-0.031124621629714966,-9.651026725769043\n"
     ]
    },
    {
     "name": "stderr",
     "output_type": "stream",
     "text": [
      "ERROR:root:task: mqtt_task raised exception: [WinError 10054] An existing connection was forcibly closed by the remote host.\n",
      "ERROR:root:task: connection_task raised exception: .\n"
     ]
    },
    {
     "name": "stdout",
     "output_type": "stream",
     "text": [
      "Saved: 2025-09-12 20:20:27,-0.24181437492370605,-0.031124621629714966,-9.651026725769043\n"
     ]
    },
    {
     "name": "stderr",
     "output_type": "stream",
     "text": [
      "ERROR:root:task: mqtt_task raised exception: [WinError 10054] An existing connection was forcibly closed by the remote host.\n",
      "ERROR:root:task: connection_task raised exception: .\n"
     ]
    },
    {
     "name": "stdout",
     "output_type": "stream",
     "text": [
      "Saved: 2025-09-12 20:20:30,-0.2537853717803955,-0.031124621629714966,-9.651026725769043\n"
     ]
    },
    {
     "name": "stderr",
     "output_type": "stream",
     "text": [
      "ERROR:root:task: mqtt_task raised exception: [WinError 10054] An existing connection was forcibly closed by the remote host.\n",
      "ERROR:root:task: connection_task raised exception: .\n"
     ]
    },
    {
     "name": "stdout",
     "output_type": "stream",
     "text": [
      "Saved: 2025-09-12 20:20:34,-0.24181437492370605,-0.031124621629714966,-9.651026725769043\n"
     ]
    },
    {
     "name": "stderr",
     "output_type": "stream",
     "text": [
      "ERROR:root:task: mqtt_task raised exception: [WinError 10054] An existing connection was forcibly closed by the remote host.\n",
      "ERROR:root:task: connection_task raised exception: .\n",
      "ERROR:root:task: mqtt_task raised exception: [WinError 10054] An existing connection was forcibly closed by the remote host.\n",
      "ERROR:root:task: connection_task raised exception: .\n",
      "ERROR:root:task: mqtt_task raised exception: [WinError 10054] An existing connection was forcibly closed by the remote host.\n",
      "ERROR:root:task: connection_task raised exception: .\n",
      "ERROR:root:task: mqtt_task raised exception: [WinError 10054] An existing connection was forcibly closed by the remote host.\n",
      "ERROR:root:task: connection_task raised exception: .\n",
      "ERROR:root:task: mqtt_task raised exception: [WinError 10054] An existing connection was forcibly closed by the remote host.\n",
      "ERROR:root:task: connection_task raised exception: .\n",
      "ERROR:root:task: mqtt_task raised exception: [WinError 10054] An existing connection was forcibly closed by the remote host.\n",
      "ERROR:root:task: connection_task raised exception: .\n",
      "ERROR:root:task: mqtt_task raised exception: [WinError 10054] An existing connection was forcibly closed by the remote host.\n",
      "ERROR:root:task: connection_task raised exception: .\n"
     ]
    },
    {
     "name": "stdout",
     "output_type": "stream",
     "text": [
      "Saved: 2025-09-12 20:20:55,-0.272938996553421,-0.031124621629714966,-9.651026725769043\n",
      "Saved: 2025-09-12 20:20:56,-0.272938996553421,-0.05267243832349777,-9.651026725769043\n"
     ]
    },
    {
     "name": "stderr",
     "output_type": "stream",
     "text": [
      "ERROR:root:task: mqtt_task raised exception: [WinError 10054] An existing connection was forcibly closed by the remote host.\n",
      "ERROR:root:task: connection_task raised exception: .\n",
      "ERROR:root:task: mqtt_task raised exception: [WinError 10054] An existing connection was forcibly closed by the remote host.\n",
      "ERROR:root:task: connection_task raised exception: .\n",
      "ERROR:root:task: mqtt_task raised exception: [WinError 10054] An existing connection was forcibly closed by the remote host.\n",
      "ERROR:root:task: connection_task raised exception: .\n"
     ]
    },
    {
     "name": "stdout",
     "output_type": "stream",
     "text": [
      "Saved: 2025-09-12 20:21:05,-0.2585737705230713,-0.05267243832349777,-9.651026725769043\n"
     ]
    },
    {
     "name": "stderr",
     "output_type": "stream",
     "text": [
      "ERROR:root:task: mqtt_task raised exception: [WinError 10054] An existing connection was forcibly closed by the remote host.\n",
      "ERROR:root:task: connection_task raised exception: .\n",
      "ERROR:root:task: mqtt_task raised exception: [WinError 10054] An existing connection was forcibly closed by the remote host.\n",
      "ERROR:root:task: connection_task raised exception: .\n"
     ]
    },
    {
     "name": "stdout",
     "output_type": "stream",
     "text": [
      "Saved: 2025-09-12 20:21:12,-0.24181437492370605,-0.05267243832349777,-9.651026725769043\n"
     ]
    },
    {
     "name": "stderr",
     "output_type": "stream",
     "text": [
      "ERROR:root:task: mqtt_task raised exception: [WinError 10054] An existing connection was forcibly closed by the remote host.\n",
      "ERROR:root:task: connection_task raised exception: .\n",
      "ERROR:root:task: mqtt_task raised exception: [WinError 10054] An existing connection was forcibly closed by the remote host.\n",
      "ERROR:root:task: connection_task raised exception: .\n"
     ]
    },
    {
     "name": "stdout",
     "output_type": "stream",
     "text": [
      "Saved: 2025-09-12 20:21:18,-0.24420857429504395,-0.05267243832349777,-9.651026725769043\n"
     ]
    },
    {
     "name": "stderr",
     "output_type": "stream",
     "text": [
      "ERROR:root:task: mqtt_task raised exception: [WinError 10054] An existing connection was forcibly closed by the remote host.\n",
      "ERROR:root:task: connection_task raised exception: .\n"
     ]
    },
    {
     "name": "stdout",
     "output_type": "stream",
     "text": [
      "Saved: 2025-09-12 20:21:22,-0.2537853717803955,-0.05267243832349777,-9.651026725769043\n"
     ]
    },
    {
     "name": "stderr",
     "output_type": "stream",
     "text": [
      "ERROR:root:task: mqtt_task raised exception: [WinError 10054] An existing connection was forcibly closed by the remote host.\n",
      "ERROR:root:task: connection_task raised exception: .\n",
      "ERROR:root:task: mqtt_task raised exception: [WinError 10054] An existing connection was forcibly closed by the remote host.\n",
      "ERROR:root:task: connection_task raised exception: .\n"
     ]
    },
    {
     "name": "stdout",
     "output_type": "stream",
     "text": [
      "Saved: 2025-09-12 20:21:29,-0.2322375625371933,-0.05267243832349777,-9.651026725769043\n"
     ]
    },
    {
     "name": "stderr",
     "output_type": "stream",
     "text": [
      "ERROR:root:task: mqtt_task raised exception: [WinError 10054] An existing connection was forcibly closed by the remote host.\n",
      "ERROR:root:task: connection_task raised exception: .\n"
     ]
    },
    {
     "name": "stdout",
     "output_type": "stream",
     "text": [
      "Saved: 2025-09-12 20:21:33,-0.2513911724090576,-0.05267243832349777,-9.651026725769043\n"
     ]
    },
    {
     "name": "stderr",
     "output_type": "stream",
     "text": [
      "ERROR:root:task: mqtt_task raised exception: [WinError 10054] An existing connection was forcibly closed by the remote host.\n",
      "ERROR:root:task: connection_task raised exception: .\n"
     ]
    },
    {
     "name": "stdout",
     "output_type": "stream",
     "text": [
      "Saved: 2025-09-12 20:21:37,-0.24181437492370605,-0.05267243832349777,-9.651026725769043\n"
     ]
    },
    {
     "name": "stderr",
     "output_type": "stream",
     "text": [
      "ERROR:root:task: mqtt_task raised exception: [WinError 10054] An existing connection was forcibly closed by the remote host.\n",
      "ERROR:root:task: connection_task raised exception: .\n",
      "ERROR:root:task: mqtt_task raised exception: [WinError 10054] An existing connection was forcibly closed by the remote host.\n",
      "ERROR:root:task: connection_task raised exception: .\n",
      "ERROR:root:task: mqtt_task raised exception: [WinError 10054] An existing connection was forcibly closed by the remote host.\n",
      "ERROR:root:task: connection_task raised exception: .\n",
      "ERROR:root:task: mqtt_task raised exception: [WinError 10054] An existing connection was forcibly closed by the remote host.\n",
      "ERROR:root:task: connection_task raised exception: .\n",
      "ERROR:root:task: mqtt_task raised exception: [WinError 10054] An existing connection was forcibly closed by the remote host.\n",
      "ERROR:root:task: connection_task raised exception: .\n",
      "ERROR:root:task: mqtt_task raised exception: [WinError 10054] An existing connection was forcibly closed by the remote host.\n",
      "ERROR:root:task: connection_task raised exception: .\n"
     ]
    },
    {
     "name": "stdout",
     "output_type": "stream",
     "text": [
      "Saved: 2025-09-12 20:21:54,-0.2298433631658554,-0.05267243832349777,-9.651026725769043\n"
     ]
    },
    {
     "name": "stderr",
     "output_type": "stream",
     "text": [
      "ERROR:root:task: mqtt_task raised exception: [WinError 10054] An existing connection was forcibly closed by the remote host.\n",
      "ERROR:root:task: connection_task raised exception: .\n"
     ]
    },
    {
     "name": "stdout",
     "output_type": "stream",
     "text": [
      "Saved: 2025-09-12 20:21:58,-0.24181437492370605,-0.05267243832349777,-9.651026725769043\n"
     ]
    },
    {
     "name": "stderr",
     "output_type": "stream",
     "text": [
      "ERROR:root:task: mqtt_task raised exception: [WinError 10054] An existing connection was forcibly closed by the remote host.\n",
      "ERROR:root:task: connection_task raised exception: .\n"
     ]
    },
    {
     "name": "stdout",
     "output_type": "stream",
     "text": [
      "Saved: 2025-09-12 20:22:02,-0.24181437492370605,-0.05267243832349777,-9.651026725769043\n"
     ]
    },
    {
     "name": "stderr",
     "output_type": "stream",
     "text": [
      "ERROR:root:task: mqtt_task raised exception: [WinError 10054] An existing connection was forcibly closed by the remote host.\n",
      "ERROR:root:task: connection_task raised exception: .\n"
     ]
    },
    {
     "name": "stdout",
     "output_type": "stream",
     "text": [
      "Saved: 2025-09-12 20:22:06,-0.2513911724090576,-0.05267243832349777,-9.651026725769043\n"
     ]
    },
    {
     "name": "stderr",
     "output_type": "stream",
     "text": [
      "ERROR:root:task: mqtt_task raised exception: [WinError 10054] An existing connection was forcibly closed by the remote host.\n",
      "ERROR:root:task: connection_task raised exception: .\n",
      "ERROR:root:task: mqtt_task raised exception: [WinError 10054] An existing connection was forcibly closed by the remote host.\n",
      "ERROR:root:task: connection_task raised exception: .\n"
     ]
    },
    {
     "name": "stdout",
     "output_type": "stream",
     "text": [
      "Saved: 2025-09-12 20:22:23,-0.22266076505184174,-0.05267243832349777,-9.651026725769043\n"
     ]
    },
    {
     "name": "stderr",
     "output_type": "stream",
     "text": [
      "ERROR:root:task: mqtt_task raised exception: [WinError 10054] An existing connection was forcibly closed by the remote host.\n",
      "ERROR:root:task: connection_task raised exception: .\n"
     ]
    },
    {
     "name": "stdout",
     "output_type": "stream",
     "text": [
      "Saved: 2025-09-12 20:22:27,-0.23942017555236816,-0.05267243832349777,-9.651026725769043\n"
     ]
    },
    {
     "name": "stderr",
     "output_type": "stream",
     "text": [
      "ERROR:root:task: mqtt_task raised exception: [WinError 10054] An existing connection was forcibly closed by the remote host.\n",
      "ERROR:root:task: connection_task raised exception: .\n",
      "ERROR:root:task: mqtt_task raised exception: [WinError 10054] An existing connection was forcibly closed by the remote host.\n",
      "ERROR:root:task: connection_task raised exception: .\n"
     ]
    },
    {
     "name": "stdout",
     "output_type": "stream",
     "text": [
      "Saved: 2025-09-12 20:22:34,-0.22744916379451752,-0.05267243832349777,-9.651026725769043\n",
      "Saved: 2025-09-12 20:22:35,-0.22744916379451752,-0.026336219161748886,-9.651026725769043\n"
     ]
    },
    {
     "name": "stderr",
     "output_type": "stream",
     "text": [
      "ERROR:root:task: mqtt_task raised exception: [WinError 10054] An existing connection was forcibly closed by the remote host.\n",
      "ERROR:root:task: connection_task raised exception: .\n"
     ]
    },
    {
     "name": "stdout",
     "output_type": "stream",
     "text": [
      "Saved: 2025-09-12 20:22:39,-0.2537853717803955,-0.026336219161748886,-9.651026725769043\n"
     ]
    },
    {
     "name": "stderr",
     "output_type": "stream",
     "text": [
      "ERROR:root:task: mqtt_task raised exception: [WinError 10054] An existing connection was forcibly closed by the remote host.\n",
      "ERROR:root:task: connection_task raised exception: .\n",
      "ERROR:root:task: mqtt_task raised exception: [WinError 10054] An existing connection was forcibly closed by the remote host.\n",
      "ERROR:root:task: connection_task raised exception: .\n"
     ]
    },
    {
     "name": "stdout",
     "output_type": "stream",
     "text": [
      "Saved: 2025-09-12 20:22:47,-0.23702596127986908,-0.026336219161748886,-9.651026725769043\n"
     ]
    },
    {
     "name": "stderr",
     "output_type": "stream",
     "text": [
      "ERROR:root:task: mqtt_task raised exception: [WinError 10054] An existing connection was forcibly closed by the remote host.\n",
      "ERROR:root:task: connection_task raised exception: .\n"
     ]
    },
    {
     "name": "stdout",
     "output_type": "stream",
     "text": [
      "Saved: 2025-09-12 20:22:50,-0.2322375625371933,-0.026336219161748886,-9.651026725769043\n"
     ]
    },
    {
     "name": "stderr",
     "output_type": "stream",
     "text": [
      "ERROR:root:task: mqtt_task raised exception: [WinError 10054] An existing connection was forcibly closed by the remote host.\n",
      "ERROR:root:task: connection_task raised exception: .\n"
     ]
    },
    {
     "name": "stdout",
     "output_type": "stream",
     "text": [
      "Saved: 2025-09-12 20:22:54,-0.24660277366638184,-0.026336219161748886,-9.651026725769043\n"
     ]
    },
    {
     "name": "stderr",
     "output_type": "stream",
     "text": [
      "ERROR:root:task: mqtt_task raised exception: [WinError 10054] An existing connection was forcibly closed by the remote host.\n",
      "ERROR:root:task: connection_task raised exception: .\n"
     ]
    },
    {
     "name": "stdout",
     "output_type": "stream",
     "text": [
      "Saved: 2025-09-12 20:22:58,-0.24181437492370605,-0.026336219161748886,-9.651026725769043\n"
     ]
    },
    {
     "name": "stderr",
     "output_type": "stream",
     "text": [
      "ERROR:root:task: mqtt_task raised exception: [WinError 10054] An existing connection was forcibly closed by the remote host.\n",
      "ERROR:root:task: connection_task raised exception: .\n"
     ]
    },
    {
     "name": "stdout",
     "output_type": "stream",
     "text": [
      "Saved: 2025-09-12 20:23:02,-0.2561795711517334,-0.026336219161748886,-9.651026725769043\n"
     ]
    },
    {
     "name": "stderr",
     "output_type": "stream",
     "text": [
      "ERROR:root:task: mqtt_task raised exception: [WinError 10054] An existing connection was forcibly closed by the remote host.\n",
      "ERROR:root:task: connection_task raised exception: .\n",
      "ERROR:root:task: mqtt_task raised exception: [WinError 10054] An existing connection was forcibly closed by the remote host.\n",
      "ERROR:root:task: connection_task raised exception: .\n"
     ]
    },
    {
     "name": "stdout",
     "output_type": "stream",
     "text": [
      "Saved: 2025-09-12 20:23:10,-0.24660277366638184,-0.026336219161748886,-9.651026725769043\n"
     ]
    },
    {
     "name": "stderr",
     "output_type": "stream",
     "text": [
      "ERROR:root:task: mqtt_task raised exception: [WinError 10054] An existing connection was forcibly closed by the remote host.\n",
      "ERROR:root:task: connection_task raised exception: .\n"
     ]
    },
    {
     "name": "stdout",
     "output_type": "stream",
     "text": [
      "Saved: 2025-09-12 20:23:13,-0.2537853717803955,-0.026336219161748886,-9.651026725769043\n"
     ]
    },
    {
     "name": "stderr",
     "output_type": "stream",
     "text": [
      "ERROR:root:task: mqtt_task raised exception: [WinError 10054] An existing connection was forcibly closed by the remote host.\n",
      "ERROR:root:task: connection_task raised exception: .\n"
     ]
    },
    {
     "name": "stdout",
     "output_type": "stream",
     "text": [
      "Saved: 2025-09-12 20:23:17,-0.2346317619085312,-0.026336219161748886,-9.651026725769043\n"
     ]
    },
    {
     "name": "stderr",
     "output_type": "stream",
     "text": [
      "ERROR:root:task: mqtt_task raised exception: [WinError 10054] An existing connection was forcibly closed by the remote host.\n",
      "ERROR:root:task: connection_task raised exception: .\n"
     ]
    },
    {
     "name": "stdout",
     "output_type": "stream",
     "text": [
      "Saved: 2025-09-12 20:23:21,-0.24420857429504395,-0.026336219161748886,-9.651026725769043\n"
     ]
    },
    {
     "name": "stderr",
     "output_type": "stream",
     "text": [
      "ERROR:root:task: mqtt_task raised exception: [WinError 10054] An existing connection was forcibly closed by the remote host.\n",
      "ERROR:root:task: connection_task raised exception: .\n"
     ]
    },
    {
     "name": "stdout",
     "output_type": "stream",
     "text": [
      "Saved: 2025-09-12 20:23:25,-0.2561795711517334,-0.026336219161748886,-9.651026725769043\n"
     ]
    },
    {
     "name": "stderr",
     "output_type": "stream",
     "text": [
      "ERROR:root:task: mqtt_task raised exception: [WinError 10054] An existing connection was forcibly closed by the remote host.\n",
      "ERROR:root:task: connection_task raised exception: .\n",
      "ERROR:root:task: mqtt_task raised exception: [WinError 10054] An existing connection was forcibly closed by the remote host.\n",
      "ERROR:root:task: connection_task raised exception: .\n",
      "ERROR:root:task: mqtt_task raised exception: [WinError 10054] An existing connection was forcibly closed by the remote host.\n",
      "ERROR:root:task: connection_task raised exception: .\n"
     ]
    },
    {
     "name": "stdout",
     "output_type": "stream",
     "text": [
      "Saved: 2025-09-12 20:23:35,-0.2082955539226532,-0.026336219161748886,-9.651026725769043\n"
     ]
    },
    {
     "name": "stderr",
     "output_type": "stream",
     "text": [
      "ERROR:root:task: mqtt_task raised exception: [WinError 10054] An existing connection was forcibly closed by the remote host.\n",
      "ERROR:root:task: connection_task raised exception: .\n",
      "ERROR:root:task: mqtt_task raised exception: [WinError 10054] An existing connection was forcibly closed by the remote host.\n",
      "ERROR:root:task: connection_task raised exception: .\n"
     ]
    },
    {
     "name": "stdout",
     "output_type": "stream",
     "text": [
      "Saved: 2025-09-12 20:23:43,-0.24420857429504395,-0.026336219161748886,-9.651026725769043\n"
     ]
    },
    {
     "name": "stderr",
     "output_type": "stream",
     "text": [
      "ERROR:root:task: mqtt_task raised exception: [WinError 10054] An existing connection was forcibly closed by the remote host.\n",
      "ERROR:root:task: connection_task raised exception: .\n"
     ]
    },
    {
     "name": "stdout",
     "output_type": "stream",
     "text": [
      "Saved: 2025-09-12 20:23:47,-0.2322375625371933,-0.026336219161748886,-9.651026725769043\n"
     ]
    },
    {
     "name": "stderr",
     "output_type": "stream",
     "text": [
      "ERROR:root:task: mqtt_task raised exception: [WinError 10054] An existing connection was forcibly closed by the remote host.\n",
      "ERROR:root:task: connection_task raised exception: .\n"
     ]
    },
    {
     "name": "stdout",
     "output_type": "stream",
     "text": [
      "Saved: 2025-09-12 20:23:50,-0.23942017555236816,-0.026336219161748886,-9.651026725769043\n"
     ]
    },
    {
     "name": "stderr",
     "output_type": "stream",
     "text": [
      "ERROR:root:task: mqtt_task raised exception: [WinError 10054] An existing connection was forcibly closed by the remote host.\n",
      "ERROR:root:task: connection_task raised exception: .\n"
     ]
    },
    {
     "name": "stdout",
     "output_type": "stream",
     "text": [
      "Saved: 2025-09-12 20:23:54,-0.2537853717803955,-0.026336219161748886,-9.651026725769043\n"
     ]
    },
    {
     "name": "stderr",
     "output_type": "stream",
     "text": [
      "ERROR:root:task: mqtt_task raised exception: [WinError 10054] An existing connection was forcibly closed by the remote host.\n",
      "ERROR:root:task: connection_task raised exception: .\n"
     ]
    },
    {
     "name": "stdout",
     "output_type": "stream",
     "text": [
      "Saved: 2025-09-12 20:23:58,-0.2585737705230713,-0.026336219161748886,-9.651026725769043\n"
     ]
    },
    {
     "name": "stderr",
     "output_type": "stream",
     "text": [
      "ERROR:root:task: mqtt_task raised exception: [WinError 10054] An existing connection was forcibly closed by the remote host.\n",
      "ERROR:root:task: connection_task raised exception: .\n",
      "ERROR:root:task: mqtt_task raised exception: [WinError 10054] An existing connection was forcibly closed by the remote host.\n",
      "ERROR:root:task: connection_task raised exception: .\n"
     ]
    },
    {
     "name": "stdout",
     "output_type": "stream",
     "text": [
      "Saved: 2025-09-12 20:24:05,-0.22026655077934265,-0.026336219161748886,-9.651026725769043\n"
     ]
    },
    {
     "name": "stderr",
     "output_type": "stream",
     "text": [
      "ERROR:root:task: mqtt_task raised exception: [WinError 10054] An existing connection was forcibly closed by the remote host.\n",
      "ERROR:root:task: connection_task raised exception: .\n"
     ]
    },
    {
     "name": "stdout",
     "output_type": "stream",
     "text": [
      "Saved: 2025-09-12 20:24:09,-0.21308395266532898,-0.026336219161748886,-9.651026725769043\n"
     ]
    },
    {
     "name": "stderr",
     "output_type": "stream",
     "text": [
      "ERROR:root:task: mqtt_task raised exception: [WinError 10054] An existing connection was forcibly closed by the remote host.\n",
      "ERROR:root:task: connection_task raised exception: .\n",
      "ERROR:root:task: mqtt_task raised exception: [WinError 10054] An existing connection was forcibly closed by the remote host.\n",
      "ERROR:root:task: connection_task raised exception: .\n"
     ]
    },
    {
     "name": "stdout",
     "output_type": "stream",
     "text": [
      "Saved: 2025-09-12 20:24:17,-0.21787235140800476,-0.026336219161748886,-9.651026725769043\n"
     ]
    },
    {
     "name": "stderr",
     "output_type": "stream",
     "text": [
      "ERROR:root:task: mqtt_task raised exception: [WinError 10054] An existing connection was forcibly closed by the remote host.\n",
      "ERROR:root:task: connection_task raised exception: .\n"
     ]
    },
    {
     "name": "stdout",
     "output_type": "stream",
     "text": [
      "Saved: 2025-09-12 20:24:21,-0.21308395266532898,-0.026336219161748886,-9.651026725769043\n"
     ]
    },
    {
     "name": "stderr",
     "output_type": "stream",
     "text": [
      "ERROR:root:task: mqtt_task raised exception: [WinError 10054] An existing connection was forcibly closed by the remote host.\n",
      "ERROR:root:task: connection_task raised exception: .\n",
      "ERROR:root:task: mqtt_task raised exception: [WinError 10054] An existing connection was forcibly closed by the remote host.\n",
      "ERROR:root:task: connection_task raised exception: .\n"
     ]
    },
    {
     "name": "stdout",
     "output_type": "stream",
     "text": [
      "Saved: 2025-09-12 20:24:28,1.400607943534851,-0.026336219161748886,-9.651026725769043\n"
     ]
    },
    {
     "name": "stderr",
     "output_type": "stream",
     "text": [
      "ERROR:root:task: mqtt_task raised exception: [WinError 10054] An existing connection was forcibly closed by the remote host.\n",
      "ERROR:root:task: connection_task raised exception: .\n"
     ]
    },
    {
     "name": "stdout",
     "output_type": "stream",
     "text": [
      "Saved: 2025-09-12 20:24:31,7.759607791900635,-0.026336219161748886,-9.651026725769043\n"
     ]
    },
    {
     "name": "stderr",
     "output_type": "stream",
     "text": [
      "ERROR:root:task: mqtt_task raised exception: [WinError 10054] An existing connection was forcibly closed by the remote host.\n",
      "ERROR:root:task: connection_task raised exception: .\n",
      "ERROR:root:task: mqtt_task raised exception: [WinError 10054] An existing connection was forcibly closed by the remote host.\n",
      "ERROR:root:task: connection_task raised exception: .\n"
     ]
    },
    {
     "name": "stdout",
     "output_type": "stream",
     "text": [
      "Saved: 2025-09-12 20:24:39,0.1867477297782898,-0.026336219161748886,-9.651026725769043\n"
     ]
    },
    {
     "name": "stderr",
     "output_type": "stream",
     "text": [
      "ERROR:root:task: mqtt_task raised exception: [WinError 10054] An existing connection was forcibly closed by the remote host.\n",
      "ERROR:root:task: connection_task raised exception: .\n"
     ]
    },
    {
     "name": "stdout",
     "output_type": "stream",
     "text": [
      "Saved: 2025-09-12 20:24:43,0.1843535304069519,-0.026336219161748886,-9.651026725769043\n"
     ]
    },
    {
     "name": "stderr",
     "output_type": "stream",
     "text": [
      "ERROR:root:task: mqtt_task raised exception: [WinError 10054] An existing connection was forcibly closed by the remote host.\n",
      "ERROR:root:task: connection_task raised exception: .\n",
      "ERROR:root:task: mqtt_task raised exception: [WinError 10054] An existing connection was forcibly closed by the remote host.\n",
      "ERROR:root:task: connection_task raised exception: .\n"
     ]
    },
    {
     "name": "stdout",
     "output_type": "stream",
     "text": [
      "Saved: 2025-09-12 20:24:50,0.19153612852096558,-0.026336219161748886,-9.651026725769043\n"
     ]
    },
    {
     "name": "stderr",
     "output_type": "stream",
     "text": [
      "ERROR:root:task: mqtt_task raised exception: [WinError 10054] An existing connection was forcibly closed by the remote host.\n",
      "ERROR:root:task: connection_task raised exception: .\n"
     ]
    },
    {
     "name": "stdout",
     "output_type": "stream",
     "text": [
      "Saved: 2025-09-12 20:24:54,0.19871874153614044,-0.026336219161748886,-9.651026725769043\n"
     ]
    },
    {
     "name": "stderr",
     "output_type": "stream",
     "text": [
      "ERROR:root:task: mqtt_task raised exception: [WinError 10054] An existing connection was forcibly closed by the remote host.\n",
      "ERROR:root:task: connection_task raised exception: .\n",
      "ERROR:root:task: mqtt_task raised exception: [WinError 10054] An existing connection was forcibly closed by the remote host.\n",
      "ERROR:root:task: connection_task raised exception: .\n"
     ]
    },
    {
     "name": "stdout",
     "output_type": "stream",
     "text": [
      "Saved: 2025-09-12 20:25:02,0.1843535304069519,-0.026336219161748886,-9.651026725769043\n"
     ]
    },
    {
     "name": "stderr",
     "output_type": "stream",
     "text": [
      "ERROR:root:task: mqtt_task raised exception: [WinError 10054] An existing connection was forcibly closed by the remote host.\n",
      "ERROR:root:task: connection_task raised exception: .\n"
     ]
    },
    {
     "name": "stdout",
     "output_type": "stream",
     "text": [
      "Saved: 2025-09-12 20:25:06,0.1843535304069519,0.016759412363171577,-9.651026725769043\n"
     ]
    },
    {
     "name": "stderr",
     "output_type": "stream",
     "text": [
      "ERROR:root:task: mqtt_task raised exception: [WinError 10054] An existing connection was forcibly closed by the remote host.\n",
      "ERROR:root:task: connection_task raised exception: .\n",
      "ERROR:root:task: mqtt_task raised exception: [WinError 10054] An existing connection was forcibly closed by the remote host.\n",
      "ERROR:root:task: connection_task raised exception: .\n",
      "ERROR:root:task: mqtt_task raised exception: [WinError 10054] An existing connection was forcibly closed by the remote host.\n",
      "ERROR:root:task: connection_task raised exception: .\n",
      "ERROR:root:task: mqtt_task raised exception: [WinError 10054] An existing connection was forcibly closed by the remote host.\n",
      "ERROR:root:task: connection_task raised exception: .\n",
      "ERROR:root:task: mqtt_task raised exception: [WinError 10054] An existing connection was forcibly closed by the remote host.\n",
      "ERROR:root:task: connection_task raised exception: .\n"
     ]
    },
    {
     "name": "stdout",
     "output_type": "stream",
     "text": [
      "Saved: 2025-09-12 20:25:22,0.21547815203666687,0.016759412363171577,-9.651026725769043\n"
     ]
    },
    {
     "name": "stderr",
     "output_type": "stream",
     "text": [
      "ERROR:root:task: mqtt_task raised exception: [WinError 10054] An existing connection was forcibly closed by the remote host.\n",
      "ERROR:root:task: connection_task raised exception: .\n",
      "ERROR:root:task: mqtt_task raised exception: [WinError 10054] An existing connection was forcibly closed by the remote host.\n",
      "ERROR:root:task: connection_task raised exception: .\n",
      "ERROR:root:task: mqtt_task raised exception: [WinError 10054] An existing connection was forcibly closed by the remote host.\n",
      "ERROR:root:task: connection_task raised exception: .\n"
     ]
    },
    {
     "name": "stdout",
     "output_type": "stream",
     "text": [
      "Saved: 2025-09-12 20:25:31,0.2082955539226532,0.016759412363171577,-9.651026725769043\n"
     ]
    },
    {
     "name": "stderr",
     "output_type": "stream",
     "text": [
      "ERROR:root:task: mqtt_task raised exception: [WinError 10054] An existing connection was forcibly closed by the remote host.\n",
      "ERROR:root:task: connection_task raised exception: .\n"
     ]
    },
    {
     "name": "stdout",
     "output_type": "stream",
     "text": [
      "Saved: 2025-09-12 20:25:35,0.22026655077934265,0.016759412363171577,-9.651026725769043\n"
     ]
    },
    {
     "name": "stderr",
     "output_type": "stream",
     "text": [
      "ERROR:root:task: mqtt_task raised exception: [WinError 10054] An existing connection was forcibly closed by the remote host.\n",
      "ERROR:root:task: connection_task raised exception: .\n"
     ]
    },
    {
     "name": "stdout",
     "output_type": "stream",
     "text": [
      "Saved: 2025-09-12 20:25:39,0.19632454216480255,0.016759412363171577,-9.651026725769043\n"
     ]
    },
    {
     "name": "stderr",
     "output_type": "stream",
     "text": [
      "ERROR:root:task: mqtt_task raised exception: [WinError 10054] An existing connection was forcibly closed by the remote host.\n",
      "ERROR:root:task: connection_task raised exception: .\n"
     ]
    },
    {
     "name": "stdout",
     "output_type": "stream",
     "text": [
      "Saved: 2025-09-12 20:25:42,0.1867477297782898,0.016759412363171577,-9.651026725769043\n"
     ]
    },
    {
     "name": "stderr",
     "output_type": "stream",
     "text": [
      "ERROR:root:task: mqtt_task raised exception: [WinError 10054] An existing connection was forcibly closed by the remote host.\n",
      "ERROR:root:task: connection_task raised exception: .\n",
      "ERROR:root:task: mqtt_task raised exception: [WinError 10054] An existing connection was forcibly closed by the remote host.\n",
      "ERROR:root:task: connection_task raised exception: .\n"
     ]
    },
    {
     "name": "stdout",
     "output_type": "stream",
     "text": [
      "Saved: 2025-09-12 20:25:49,0.2082955539226532,0.016759412363171577,-9.651026725769043\n",
      "Saved: 2025-09-12 20:25:50,0.2082955539226532,0.011971008032560349,-9.651026725769043\n"
     ]
    },
    {
     "name": "stderr",
     "output_type": "stream",
     "text": [
      "ERROR:root:task: mqtt_task raised exception: [WinError 10054] An existing connection was forcibly closed by the remote host.\n",
      "ERROR:root:task: connection_task raised exception: .\n"
     ]
    },
    {
     "name": "stdout",
     "output_type": "stream",
     "text": [
      "Saved: 2025-09-12 20:25:54,0.1843535304069519,0.011971008032560349,-9.651026725769043\n"
     ]
    },
    {
     "name": "stderr",
     "output_type": "stream",
     "text": [
      "ERROR:root:task: mqtt_task raised exception: [WinError 10054] An existing connection was forcibly closed by the remote host.\n",
      "ERROR:root:task: connection_task raised exception: .\n",
      "ERROR:root:task: mqtt_task raised exception: [WinError 10054] An existing connection was forcibly closed by the remote host.\n",
      "ERROR:root:task: connection_task raised exception: .\n"
     ]
    },
    {
     "name": "stdout",
     "output_type": "stream",
     "text": [
      "Saved: 2025-09-12 20:26:01,0.19153612852096558,0.011971008032560349,-9.651026725769043\n"
     ]
    },
    {
     "name": "stderr",
     "output_type": "stream",
     "text": [
      "ERROR:root:task: mqtt_task raised exception: [WinError 10054] An existing connection was forcibly closed by the remote host.\n",
      "ERROR:root:task: connection_task raised exception: .\n"
     ]
    },
    {
     "name": "stdout",
     "output_type": "stream",
     "text": [
      "Saved: 2025-09-12 20:26:05,0.2082955539226532,0.011971008032560349,-9.651026725769043\n"
     ]
    },
    {
     "name": "stderr",
     "output_type": "stream",
     "text": [
      "ERROR:root:task: mqtt_task raised exception: [WinError 10054] An existing connection was forcibly closed by the remote host.\n",
      "ERROR:root:task: connection_task raised exception: .\n",
      "ERROR:root:task: mqtt_task raised exception: [WinError 10054] An existing connection was forcibly closed by the remote host.\n",
      "ERROR:root:task: connection_task raised exception: .\n"
     ]
    },
    {
     "name": "stdout",
     "output_type": "stream",
     "text": [
      "Saved: 2025-09-12 20:26:13,0.20350714027881622,0.011971008032560349,-9.651026725769043\n"
     ]
    },
    {
     "name": "stderr",
     "output_type": "stream",
     "text": [
      "ERROR:root:task: mqtt_task raised exception: [WinError 10054] An existing connection was forcibly closed by the remote host.\n",
      "ERROR:root:task: connection_task raised exception: .\n"
     ]
    },
    {
     "name": "stdout",
     "output_type": "stream",
     "text": [
      "Saved: 2025-09-12 20:26:16,0.2082955539226532,0.011971008032560349,-9.651026725769043\n"
     ]
    },
    {
     "name": "stderr",
     "output_type": "stream",
     "text": [
      "ERROR:root:task: mqtt_task raised exception: [WinError 10054] An existing connection was forcibly closed by the remote host.\n",
      "ERROR:root:task: connection_task raised exception: .\n"
     ]
    },
    {
     "name": "stdout",
     "output_type": "stream",
     "text": [
      "Saved: 2025-09-12 20:26:20,0.2059013396501541,0.011971008032560349,-9.651026725769043\n"
     ]
    },
    {
     "name": "stderr",
     "output_type": "stream",
     "text": [
      "ERROR:root:task: mqtt_task raised exception: [WinError 10054] An existing connection was forcibly closed by the remote host.\n",
      "ERROR:root:task: connection_task raised exception: .\n"
     ]
    },
    {
     "name": "stdout",
     "output_type": "stream",
     "text": [
      "Saved: 2025-09-12 20:26:24,0.21787235140800476,0.011971008032560349,-9.651026725769043\n"
     ]
    },
    {
     "name": "stderr",
     "output_type": "stream",
     "text": [
      "ERROR:root:task: mqtt_task raised exception: [WinError 10054] An existing connection was forcibly closed by the remote host.\n",
      "ERROR:root:task: connection_task raised exception: .\n"
     ]
    },
    {
     "name": "stdout",
     "output_type": "stream",
     "text": [
      "Saved: 2025-09-12 20:26:27,0.18914192914962769,0.011971008032560349,-9.651026725769043\n"
     ]
    },
    {
     "name": "stderr",
     "output_type": "stream",
     "text": [
      "ERROR:root:task: mqtt_task raised exception: [WinError 10054] An existing connection was forcibly closed by the remote host.\n",
      "ERROR:root:task: connection_task raised exception: .\n",
      "ERROR:root:task: mqtt_task raised exception: [WinError 10054] An existing connection was forcibly closed by the remote host.\n",
      "ERROR:root:task: connection_task raised exception: .\n"
     ]
    },
    {
     "name": "stdout",
     "output_type": "stream",
     "text": [
      "Saved: 2025-09-12 20:26:35,0.20111294090747833,0.011971008032560349,-9.651026725769043\n"
     ]
    },
    {
     "name": "stderr",
     "output_type": "stream",
     "text": [
      "ERROR:root:task: mqtt_task raised exception: [WinError 10054] An existing connection was forcibly closed by the remote host.\n",
      "ERROR:root:task: connection_task raised exception: .\n"
     ]
    },
    {
     "name": "stdout",
     "output_type": "stream",
     "text": [
      "Saved: 2025-09-12 20:26:39,0.20350714027881622,0.011971008032560349,-9.651026725769043\n"
     ]
    },
    {
     "name": "stderr",
     "output_type": "stream",
     "text": [
      "ERROR:root:task: mqtt_task raised exception: [WinError 10054] An existing connection was forcibly closed by the remote host.\n",
      "ERROR:root:task: connection_task raised exception: .\n",
      "ERROR:root:task: mqtt_task raised exception: [WinError 10054] An existing connection was forcibly closed by the remote host.\n",
      "ERROR:root:task: connection_task raised exception: .\n"
     ]
    },
    {
     "name": "stdout",
     "output_type": "stream",
     "text": [
      "Saved: 2025-09-12 20:26:46,0.2082955539226532,0.011971008032560349,-9.651026725769043\n"
     ]
    },
    {
     "name": "stderr",
     "output_type": "stream",
     "text": [
      "ERROR:root:task: mqtt_task raised exception: [WinError 10054] An existing connection was forcibly closed by the remote host.\n",
      "ERROR:root:task: connection_task raised exception: .\n"
     ]
    },
    {
     "name": "stdout",
     "output_type": "stream",
     "text": [
      "Saved: 2025-09-12 20:26:49,0.21308395266532898,0.011971008032560349,-9.651026725769043\n",
      "Saved: 2025-09-12 20:26:50,0.21308395266532898,0.040701430290937424,-9.651026725769043\n"
     ]
    },
    {
     "name": "stderr",
     "output_type": "stream",
     "text": [
      "ERROR:root:task: mqtt_task raised exception: [WinError 10054] An existing connection was forcibly closed by the remote host.\n",
      "ERROR:root:task: connection_task raised exception: .\n",
      "ERROR:root:task: mqtt_task raised exception: [WinError 10054] An existing connection was forcibly closed by the remote host.\n",
      "ERROR:root:task: connection_task raised exception: .\n"
     ]
    },
    {
     "name": "stdout",
     "output_type": "stream",
     "text": [
      "Saved: 2025-09-12 20:26:58,0.2059013396501541,0.040701430290937424,-9.651026725769043\n"
     ]
    },
    {
     "name": "stderr",
     "output_type": "stream",
     "text": [
      "ERROR:root:task: mqtt_task raised exception: [WinError 10054] An existing connection was forcibly closed by the remote host.\n",
      "ERROR:root:task: connection_task raised exception: .\n"
     ]
    },
    {
     "name": "stdout",
     "output_type": "stream",
     "text": [
      "Saved: 2025-09-12 20:27:02,0.2059013396501541,0.040701430290937424,-9.651026725769043\n"
     ]
    },
    {
     "name": "stderr",
     "output_type": "stream",
     "text": [
      "ERROR:root:task: mqtt_task raised exception: [WinError 10054] An existing connection was forcibly closed by the remote host.\n",
      "ERROR:root:task: connection_task raised exception: .\n",
      "ERROR:root:task: mqtt_task raised exception: [WinError 10054] An existing connection was forcibly closed by the remote host.\n",
      "ERROR:root:task: connection_task raised exception: .\n"
     ]
    },
    {
     "name": "stdout",
     "output_type": "stream",
     "text": [
      "Saved: 2025-09-12 20:27:09,0.19632454216480255,0.040701430290937424,-9.651026725769043\n"
     ]
    },
    {
     "name": "stderr",
     "output_type": "stream",
     "text": [
      "ERROR:root:task: mqtt_task raised exception: [WinError 10054] An existing connection was forcibly closed by the remote host.\n",
      "ERROR:root:task: connection_task raised exception: .\n"
     ]
    },
    {
     "name": "stdout",
     "output_type": "stream",
     "text": [
      "Saved: 2025-09-12 20:27:13,0.20350714027881622,0.040701430290937424,-9.651026725769043\n"
     ]
    },
    {
     "name": "stderr",
     "output_type": "stream",
     "text": [
      "ERROR:root:task: mqtt_task raised exception: [WinError 10054] An existing connection was forcibly closed by the remote host.\n",
      "ERROR:root:task: connection_task raised exception: .\n",
      "ERROR:root:task: mqtt_task raised exception: [WinError 10054] An existing connection was forcibly closed by the remote host.\n",
      "ERROR:root:task: connection_task raised exception: .\n",
      "ERROR:root:task: mqtt_task raised exception: [WinError 10054] An existing connection was forcibly closed by the remote host.\n",
      "ERROR:root:task: connection_task raised exception: .\n",
      "ERROR:root:task: mqtt_task raised exception: [WinError 10054] An existing connection was forcibly closed by the remote host.\n",
      "ERROR:root:task: connection_task raised exception: .\n",
      "ERROR:root:task: mqtt_task raised exception: [WinError 10054] An existing connection was forcibly closed by the remote host.\n",
      "ERROR:root:task: connection_task raised exception: .\n",
      "ERROR:root:task: mqtt_task raised exception: [WinError 10054] An existing connection was forcibly closed by the remote host.\n",
      "ERROR:root:task: connection_task raised exception: .\n"
     ]
    },
    {
     "name": "stdout",
     "output_type": "stream",
     "text": [
      "Saved: 2025-09-12 20:27:31,0.20111294090747833,0.040701430290937424,-9.651026725769043\n"
     ]
    },
    {
     "name": "stderr",
     "output_type": "stream",
     "text": [
      "ERROR:root:task: mqtt_task raised exception: [WinError 10054] An existing connection was forcibly closed by the remote host.\n",
      "ERROR:root:task: connection_task raised exception: .\n"
     ]
    },
    {
     "name": "stdout",
     "output_type": "stream",
     "text": [
      "Saved: 2025-09-12 20:27:33,0.21308395266532898,0.040701430290937424,-9.651026725769043\n"
     ]
    },
    {
     "name": "stderr",
     "output_type": "stream",
     "text": [
      "ERROR:root:task: mqtt_task raised exception: [WinError 10054] An existing connection was forcibly closed by the remote host.\n",
      "ERROR:root:task: connection_task raised exception: .\n",
      "ERROR:root:task: mqtt_task raised exception: [WinError 10054] An existing connection was forcibly closed by the remote host.\n",
      "ERROR:root:task: connection_task raised exception: .\n",
      "ERROR:root:task: mqtt_task raised exception: [WinError 10054] An existing connection was forcibly closed by the remote host.\n",
      "ERROR:root:task: connection_task raised exception: .\n"
     ]
    },
    {
     "name": "stdout",
     "output_type": "stream",
     "text": [
      "Saved: 2025-09-12 20:27:43,0.20350714027881622,0.040701430290937424,-9.651026725769043\n"
     ]
    },
    {
     "name": "stderr",
     "output_type": "stream",
     "text": [
      "ERROR:root:task: mqtt_task raised exception: [WinError 10054] An existing connection was forcibly closed by the remote host.\n",
      "ERROR:root:task: connection_task raised exception: .\n"
     ]
    },
    {
     "name": "stdout",
     "output_type": "stream",
     "text": [
      "Saved: 2025-09-12 20:27:47,0.1867477297782898,0.040701430290937424,-9.651026725769043\n"
     ]
    },
    {
     "name": "stderr",
     "output_type": "stream",
     "text": [
      "ERROR:root:task: mqtt_task raised exception: [WinError 10054] An existing connection was forcibly closed by the remote host.\n",
      "ERROR:root:task: connection_task raised exception: .\n",
      "ERROR:root:task: mqtt_task raised exception: [WinError 10054] An existing connection was forcibly closed by the remote host.\n",
      "ERROR:root:task: connection_task raised exception: .\n",
      "ERROR:root:task: mqtt_task raised exception: [WinError 10054] An existing connection was forcibly closed by the remote host.\n",
      "ERROR:root:task: connection_task raised exception: .\n",
      "ERROR:root:task: mqtt_task raised exception: [WinError 10054] An existing connection was forcibly closed by the remote host.\n",
      "ERROR:root:task: connection_task raised exception: .\n",
      "ERROR:root:task: mqtt_task raised exception: [WinError 10054] An existing connection was forcibly closed by the remote host.\n",
      "ERROR:root:task: connection_task raised exception: .\n"
     ]
    },
    {
     "name": "stdout",
     "output_type": "stream",
     "text": [
      "Saved: 2025-09-12 20:28:05,0.20350714027881622,0.040701430290937424,-9.651026725769043\n"
     ]
    },
    {
     "name": "stderr",
     "output_type": "stream",
     "text": [
      "ERROR:root:task: mqtt_task raised exception: [WinError 10054] An existing connection was forcibly closed by the remote host.\n",
      "ERROR:root:task: connection_task raised exception: .\n"
     ]
    },
    {
     "name": "stdout",
     "output_type": "stream",
     "text": [
      "Saved: 2025-09-12 20:28:09,0.19871874153614044,0.040701430290937424,-9.651026725769043\n"
     ]
    },
    {
     "name": "stderr",
     "output_type": "stream",
     "text": [
      "ERROR:root:task: mqtt_task raised exception: [WinError 10054] An existing connection was forcibly closed by the remote host.\n",
      "ERROR:root:task: connection_task raised exception: .\n",
      "ERROR:root:task: mqtt_task raised exception: [WinError 10054] An existing connection was forcibly closed by the remote host.\n",
      "ERROR:root:task: connection_task raised exception: .\n",
      "ERROR:root:task: mqtt_task raised exception: [WinError 10054] An existing connection was forcibly closed by the remote host.\n",
      "ERROR:root:task: connection_task raised exception: .\n"
     ]
    },
    {
     "name": "stdout",
     "output_type": "stream",
     "text": [
      "Saved: 2025-09-12 20:28:18,0.19153612852096558,0.040701430290937424,-9.651026725769043\n"
     ]
    },
    {
     "name": "stderr",
     "output_type": "stream",
     "text": [
      "ERROR:root:task: mqtt_task raised exception: [WinError 10054] An existing connection was forcibly closed by the remote host.\n",
      "ERROR:root:task: connection_task raised exception: .\n"
     ]
    },
    {
     "name": "stdout",
     "output_type": "stream",
     "text": [
      "Saved: 2025-09-12 20:28:22,0.21308395266532898,0.040701430290937424,-9.651026725769043\n"
     ]
    },
    {
     "name": "stderr",
     "output_type": "stream",
     "text": [
      "ERROR:root:task: mqtt_task raised exception: [WinError 10054] An existing connection was forcibly closed by the remote host.\n",
      "ERROR:root:task: connection_task raised exception: .\n"
     ]
    },
    {
     "name": "stdout",
     "output_type": "stream",
     "text": [
      "Saved: 2025-09-12 20:28:26,0.2106897532939911,0.040701430290937424,-9.651026725769043\n"
     ]
    },
    {
     "name": "stderr",
     "output_type": "stream",
     "text": [
      "ERROR:root:task: mqtt_task raised exception: [WinError 10054] An existing connection was forcibly closed by the remote host.\n",
      "ERROR:root:task: connection_task raised exception: .\n",
      "ERROR:root:task: mqtt_task raised exception: [WinError 10054] An existing connection was forcibly closed by the remote host.\n",
      "ERROR:root:task: connection_task raised exception: .\n"
     ]
    },
    {
     "name": "stdout",
     "output_type": "stream",
     "text": [
      "Saved: 2025-09-12 20:28:32,0.20350714027881622,0.040701430290937424,-9.651026725769043\n"
     ]
    },
    {
     "name": "stderr",
     "output_type": "stream",
     "text": [
      "ERROR:root:task: mqtt_task raised exception: [WinError 10054] An existing connection was forcibly closed by the remote host.\n",
      "ERROR:root:task: connection_task raised exception: .\n",
      "ERROR:root:task: mqtt_task raised exception: [WinError 10054] An existing connection was forcibly closed by the remote host.\n",
      "ERROR:root:task: connection_task raised exception: .\n",
      "ERROR:root:task: mqtt_task raised exception: [WinError 10054] An existing connection was forcibly closed by the remote host.\n",
      "ERROR:root:task: connection_task raised exception: .\n"
     ]
    },
    {
     "name": "stdout",
     "output_type": "stream",
     "text": [
      "Saved: 2025-09-12 20:28:41,0.19871874153614044,0.040701430290937424,-9.651026725769043\n"
     ]
    },
    {
     "name": "stderr",
     "output_type": "stream",
     "text": [
      "ERROR:root:task: mqtt_task raised exception: [WinError 10054] An existing connection was forcibly closed by the remote host.\n",
      "ERROR:root:task: connection_task raised exception: .\n"
     ]
    },
    {
     "name": "stdout",
     "output_type": "stream",
     "text": [
      "Saved: 2025-09-12 20:28:44,0.20111294090747833,0.040701430290937424,-9.651026725769043\n",
      "Saved: 2025-09-12 20:28:45,0.20111294090747833,0.014365210197865963,-9.651026725769043\n"
     ]
    },
    {
     "name": "stderr",
     "output_type": "stream",
     "text": [
      "ERROR:root:task: mqtt_task raised exception: [WinError 10054] An existing connection was forcibly closed by the remote host.\n",
      "ERROR:root:task: connection_task raised exception: .\n"
     ]
    },
    {
     "name": "stdout",
     "output_type": "stream",
     "text": [
      "Saved: 2025-09-12 20:28:48,0.2082955539226532,0.014365210197865963,-9.651026725769043\n"
     ]
    },
    {
     "name": "stderr",
     "output_type": "stream",
     "text": [
      "ERROR:root:task: mqtt_task raised exception: [WinError 10054] An existing connection was forcibly closed by the remote host.\n",
      "ERROR:root:task: connection_task raised exception: .\n"
     ]
    },
    {
     "name": "stdout",
     "output_type": "stream",
     "text": [
      "Saved: 2025-09-12 20:28:52,0.19393034279346466,0.014365210197865963,-9.651026725769043\n"
     ]
    },
    {
     "name": "stderr",
     "output_type": "stream",
     "text": [
      "ERROR:root:task: mqtt_task raised exception: [WinError 10054] An existing connection was forcibly closed by the remote host.\n",
      "ERROR:root:task: connection_task raised exception: .\n"
     ]
    },
    {
     "name": "stdout",
     "output_type": "stream",
     "text": [
      "Saved: 2025-09-12 20:28:56,0.2082955539226532,0.014365210197865963,-9.651026725769043\n"
     ]
    },
    {
     "name": "stderr",
     "output_type": "stream",
     "text": [
      "ERROR:root:task: mqtt_task raised exception: [WinError 10054] An existing connection was forcibly closed by the remote host.\n",
      "ERROR:root:task: connection_task raised exception: .\n",
      "ERROR:root:task: mqtt_task raised exception: [WinError 10054] An existing connection was forcibly closed by the remote host.\n",
      "ERROR:root:task: connection_task raised exception: .\n"
     ]
    },
    {
     "name": "stdout",
     "output_type": "stream",
     "text": [
      "Saved: 2025-09-12 20:29:04,0.2513911724090576,0.014365210197865963,-9.651026725769043\n"
     ]
    },
    {
     "name": "stderr",
     "output_type": "stream",
     "text": [
      "ERROR:root:task: mqtt_task raised exception: [WinError 10054] An existing connection was forcibly closed by the remote host.\n",
      "ERROR:root:task: connection_task raised exception: .\n"
     ]
    },
    {
     "name": "stdout",
     "output_type": "stream",
     "text": [
      "Saved: 2025-09-12 20:29:07,0.19393034279346466,0.014365210197865963,-9.651026725769043\n"
     ]
    },
    {
     "name": "stderr",
     "output_type": "stream",
     "text": [
      "ERROR:root:task: mqtt_task raised exception: [WinError 10054] An existing connection was forcibly closed by the remote host.\n",
      "ERROR:root:task: connection_task raised exception: .\n",
      "ERROR:root:task: mqtt_task raised exception: [WinError 10054] An existing connection was forcibly closed by the remote host.\n",
      "ERROR:root:task: connection_task raised exception: .\n"
     ]
    },
    {
     "name": "stdout",
     "output_type": "stream",
     "text": [
      "Saved: 2025-09-12 20:29:15,0.19393034279346466,0.014365210197865963,-9.651026725769043\n"
     ]
    },
    {
     "name": "stderr",
     "output_type": "stream",
     "text": [
      "ERROR:root:task: mqtt_task raised exception: [WinError 10054] An existing connection was forcibly closed by the remote host.\n",
      "ERROR:root:task: connection_task raised exception: .\n"
     ]
    },
    {
     "name": "stdout",
     "output_type": "stream",
     "text": [
      "Saved: 2025-09-12 20:29:18,0.2082955539226532,0.014365210197865963,-9.651026725769043\n",
      "Saved: 2025-09-12 20:29:19,0.2082955539226532,0.15083470940589905,-9.651026725769043\n"
     ]
    },
    {
     "name": "stderr",
     "output_type": "stream",
     "text": [
      "ERROR:root:task: mqtt_task raised exception: [WinError 10054] An existing connection was forcibly closed by the remote host.\n",
      "ERROR:root:task: connection_task raised exception: .\n",
      "ERROR:root:task: mqtt_task raised exception: [WinError 10054] An existing connection was forcibly closed by the remote host.\n",
      "ERROR:root:task: connection_task raised exception: .\n"
     ]
    },
    {
     "name": "stdout",
     "output_type": "stream",
     "text": [
      "Saved: 2025-09-12 20:29:26,0.1867477297782898,0.15083470940589905,-9.651026725769043\n"
     ]
    },
    {
     "name": "stderr",
     "output_type": "stream",
     "text": [
      "ERROR:root:task: mqtt_task raised exception: [WinError 10054] An existing connection was forcibly closed by the remote host.\n",
      "ERROR:root:task: connection_task raised exception: .\n",
      "ERROR:root:task: mqtt_task raised exception: [WinError 10054] An existing connection was forcibly closed by the remote host.\n",
      "ERROR:root:task: connection_task raised exception: .\n",
      "ERROR:root:task: mqtt_task raised exception: [WinError 10054] An existing connection was forcibly closed by the remote host.\n",
      "ERROR:root:task: connection_task raised exception: .\n",
      "ERROR:root:task: mqtt_task raised exception: [WinError 10054] An existing connection was forcibly closed by the remote host.\n",
      "ERROR:root:task: connection_task raised exception: .\n"
     ]
    },
    {
     "name": "stdout",
     "output_type": "stream",
     "text": [
      "Saved: 2025-09-12 20:29:39,0.19632454216480255,0.15083470940589905,-9.651026725769043\n",
      "Creating visualizations...\n"
     ]
    },
    {
     "name": "stderr",
     "output_type": "stream",
     "text": [
      "ERROR:root:task: mqtt_task raised exception: [WinError 10054] An existing connection was forcibly closed by the remote host.\n"
     ]
    },
    {
     "name": "stdout",
     "output_type": "stream",
     "text": [
      "Visualizations saved as 'accelerometer_analysis.png'\n",
      "Analyzing patterns...\n",
      "X-axis: 52 peaks, average interval: 14.53 samples\n",
      "Y-axis: 8 peaks, average interval: 89.86 samples\n",
      "Pattern analysis saved as 'pattern_analysis.txt'\n"
     ]
    },
    {
     "name": "stderr",
     "output_type": "stream",
     "text": [
      "ERROR:root:task: connection_task raised exception: .\n"
     ]
    },
    {
     "name": "stdout",
     "output_type": "stream",
     "text": [
      "Saved: 2025-09-12 20:29:43,0.19153612852096558,0.15083470940589905,-9.651026725769043\n"
     ]
    },
    {
     "name": "stderr",
     "output_type": "stream",
     "text": [
      "ERROR:root:task: mqtt_task raised exception: [WinError 10054] An existing connection was forcibly closed by the remote host.\n",
      "ERROR:root:task: connection_task raised exception: .\n"
     ]
    },
    {
     "name": "stdout",
     "output_type": "stream",
     "text": [
      "Saved: 2025-09-12 20:29:47,0.19153612852096558,0.035913024097681046,-9.651026725769043\n"
     ]
    },
    {
     "name": "stderr",
     "output_type": "stream",
     "text": [
      "ERROR:root:task: mqtt_task raised exception: [WinError 10054] An existing connection was forcibly closed by the remote host.\n",
      "ERROR:root:task: connection_task raised exception: .\n"
     ]
    },
    {
     "name": "stdout",
     "output_type": "stream",
     "text": [
      "Saved: 2025-09-12 20:29:51,0.20350714027881622,0.035913024097681046,-9.651026725769043\n"
     ]
    },
    {
     "name": "stderr",
     "output_type": "stream",
     "text": [
      "ERROR:root:task: mqtt_task raised exception: [WinError 10054] An existing connection was forcibly closed by the remote host.\n",
      "ERROR:root:task: connection_task raised exception: .\n"
     ]
    },
    {
     "name": "stdout",
     "output_type": "stream",
     "text": [
      "Saved: 2025-09-12 20:29:54,0.2106897532939911,0.035913024097681046,-9.651026725769043\n"
     ]
    },
    {
     "name": "stderr",
     "output_type": "stream",
     "text": [
      "ERROR:root:task: mqtt_task raised exception: [WinError 10054] An existing connection was forcibly closed by the remote host.\n",
      "ERROR:root:task: connection_task raised exception: .\n"
     ]
    },
    {
     "name": "stdout",
     "output_type": "stream",
     "text": [
      "Saved: 2025-09-12 20:29:58,0.18914192914962769,0.035913024097681046,-9.651026725769043\n"
     ]
    },
    {
     "name": "stderr",
     "output_type": "stream",
     "text": [
      "ERROR:root:task: mqtt_task raised exception: [WinError 10054] An existing connection was forcibly closed by the remote host.\n",
      "ERROR:root:task: connection_task raised exception: .\n"
     ]
    },
    {
     "name": "stdout",
     "output_type": "stream",
     "text": [
      "Saved: 2025-09-12 20:30:02,0.20111294090747833,0.035913024097681046,-9.651026725769043\n"
     ]
    },
    {
     "name": "stderr",
     "output_type": "stream",
     "text": [
      "ERROR:root:task: mqtt_task raised exception: [WinError 10054] An existing connection was forcibly closed by the remote host.\n",
      "ERROR:root:task: connection_task raised exception: .\n"
     ]
    },
    {
     "name": "stdout",
     "output_type": "stream",
     "text": [
      "Saved: 2025-09-12 20:30:06,0.19871874153614044,0.035913024097681046,-9.651026725769043\n"
     ]
    },
    {
     "name": "stderr",
     "output_type": "stream",
     "text": [
      "ERROR:root:task: mqtt_task raised exception: [WinError 10054] An existing connection was forcibly closed by the remote host.\n",
      "ERROR:root:task: connection_task raised exception: .\n",
      "ERROR:root:task: mqtt_task raised exception: [WinError 10054] An existing connection was forcibly closed by the remote host.\n",
      "ERROR:root:task: connection_task raised exception: .\n"
     ]
    },
    {
     "name": "stdout",
     "output_type": "stream",
     "text": [
      "Saved: 2025-09-12 20:30:13,0.19871874153614044,0.035913024097681046,-9.651026725769043\n"
     ]
    },
    {
     "name": "stderr",
     "output_type": "stream",
     "text": [
      "ERROR:root:task: mqtt_task raised exception: [WinError 10054] An existing connection was forcibly closed by the remote host.\n",
      "ERROR:root:task: connection_task raised exception: .\n"
     ]
    },
    {
     "name": "stdout",
     "output_type": "stream",
     "text": [
      "Saved: 2025-09-12 20:30:17,0.2059013396501541,0.035913024097681046,-9.651026725769043\n"
     ]
    },
    {
     "name": "stderr",
     "output_type": "stream",
     "text": [
      "ERROR:root:task: mqtt_task raised exception: [WinError 10054] An existing connection was forcibly closed by the remote host.\n",
      "ERROR:root:task: connection_task raised exception: .\n",
      "ERROR:root:task: mqtt_task raised exception: [WinError 10054] An existing connection was forcibly closed by the remote host.\n",
      "ERROR:root:task: connection_task raised exception: .\n"
     ]
    },
    {
     "name": "stdout",
     "output_type": "stream",
     "text": [
      "Saved: 2025-09-12 20:30:25,0.19153612852096558,0.035913024097681046,-9.651026725769043\n"
     ]
    },
    {
     "name": "stderr",
     "output_type": "stream",
     "text": [
      "ERROR:root:task: mqtt_task raised exception: [WinError 10054] An existing connection was forcibly closed by the remote host.\n",
      "ERROR:root:task: connection_task raised exception: .\n"
     ]
    },
    {
     "name": "stdout",
     "output_type": "stream",
     "text": [
      "Saved: 2025-09-12 20:30:29,0.19153612852096558,0.035913024097681046,-9.651026725769043\n"
     ]
    },
    {
     "name": "stderr",
     "output_type": "stream",
     "text": [
      "ERROR:root:task: mqtt_task raised exception: [WinError 10054] An existing connection was forcibly closed by the remote host.\n",
      "ERROR:root:task: connection_task raised exception: .\n",
      "ERROR:root:task: mqtt_task raised exception: [WinError 10054] An existing connection was forcibly closed by the remote host.\n",
      "ERROR:root:task: connection_task raised exception: .\n"
     ]
    },
    {
     "name": "stdout",
     "output_type": "stream",
     "text": [
      "Saved: 2025-09-12 20:30:36,0.19393034279346466,0.035913024097681046,-9.651026725769043\n"
     ]
    },
    {
     "name": "stderr",
     "output_type": "stream",
     "text": [
      "ERROR:root:task: mqtt_task raised exception: [WinError 10054] An existing connection was forcibly closed by the remote host.\n",
      "ERROR:root:task: connection_task raised exception: .\n"
     ]
    },
    {
     "name": "stdout",
     "output_type": "stream",
     "text": [
      "Saved: 2025-09-12 20:30:40,0.19393034279346466,0.0454898327589035,-9.651026725769043\n"
     ]
    },
    {
     "name": "stderr",
     "output_type": "stream",
     "text": [
      "ERROR:root:task: mqtt_task raised exception: [WinError 10054] An existing connection was forcibly closed by the remote host.\n",
      "ERROR:root:task: connection_task raised exception: .\n",
      "ERROR:root:task: mqtt_task raised exception: [WinError 10054] An existing connection was forcibly closed by the remote host.\n",
      "ERROR:root:task: connection_task raised exception: .\n"
     ]
    },
    {
     "name": "stdout",
     "output_type": "stream",
     "text": [
      "Saved: 2025-09-12 20:30:47,0.19153612852096558,0.0454898327589035,-9.651026725769043\n"
     ]
    },
    {
     "name": "stderr",
     "output_type": "stream",
     "text": [
      "ERROR:root:task: mqtt_task raised exception: [WinError 10054] An existing connection was forcibly closed by the remote host.\n",
      "ERROR:root:task: connection_task raised exception: .\n"
     ]
    },
    {
     "name": "stdout",
     "output_type": "stream",
     "text": [
      "Saved: 2025-09-12 20:30:51,0.2106897532939911,0.0454898327589035,-9.651026725769043\n"
     ]
    },
    {
     "name": "stderr",
     "output_type": "stream",
     "text": [
      "ERROR:root:task: mqtt_task raised exception: [WinError 10054] An existing connection was forcibly closed by the remote host.\n",
      "ERROR:root:task: connection_task raised exception: .\n",
      "ERROR:root:task: mqtt_task raised exception: [WinError 10054] An existing connection was forcibly closed by the remote host.\n",
      "ERROR:root:task: connection_task raised exception: .\n"
     ]
    },
    {
     "name": "stdout",
     "output_type": "stream",
     "text": [
      "Saved: 2025-09-12 20:30:58,0.20111294090747833,0.0454898327589035,-9.651026725769043\n"
     ]
    },
    {
     "name": "stderr",
     "output_type": "stream",
     "text": [
      "ERROR:root:task: mqtt_task raised exception: [WinError 10054] An existing connection was forcibly closed by the remote host.\n",
      "ERROR:root:task: connection_task raised exception: .\n"
     ]
    },
    {
     "name": "stdout",
     "output_type": "stream",
     "text": [
      "Saved: 2025-09-12 20:31:01,0.20350714027881622,0.0454898327589035,-9.651026725769043\n",
      "Saved: 2025-09-12 20:31:02,0.20350714027881622,0.040701430290937424,-9.651026725769043\n"
     ]
    },
    {
     "name": "stderr",
     "output_type": "stream",
     "text": [
      "ERROR:root:task: mqtt_task raised exception: [WinError 10054] An existing connection was forcibly closed by the remote host.\n",
      "ERROR:root:task: connection_task raised exception: .\n",
      "ERROR:root:task: mqtt_task raised exception: [WinError 10054] An existing connection was forcibly closed by the remote host.\n",
      "ERROR:root:task: connection_task raised exception: .\n"
     ]
    },
    {
     "name": "stdout",
     "output_type": "stream",
     "text": [
      "Saved: 2025-09-12 20:31:10,0.20111294090747833,0.040701430290937424,-9.651026725769043\n"
     ]
    },
    {
     "name": "stderr",
     "output_type": "stream",
     "text": [
      "ERROR:root:task: mqtt_task raised exception: [WinError 10054] An existing connection was forcibly closed by the remote host.\n",
      "ERROR:root:task: connection_task raised exception: .\n"
     ]
    },
    {
     "name": "stdout",
     "output_type": "stream",
     "text": [
      "Saved: 2025-09-12 20:31:14,0.20111294090747833,0.040701430290937424,-9.651026725769043\n"
     ]
    },
    {
     "name": "stderr",
     "output_type": "stream",
     "text": [
      "ERROR:root:task: mqtt_task raised exception: [WinError 10054] An existing connection was forcibly closed by the remote host.\n",
      "ERROR:root:task: connection_task raised exception: .\n",
      "ERROR:root:task: mqtt_task raised exception: [WinError 10054] An existing connection was forcibly closed by the remote host.\n",
      "ERROR:root:task: connection_task raised exception: .\n",
      "ERROR:root:task: mqtt_task raised exception: [WinError 10054] An existing connection was forcibly closed by the remote host.\n",
      "ERROR:root:task: connection_task raised exception: .\n"
     ]
    },
    {
     "name": "stdout",
     "output_type": "stream",
     "text": [
      "Saved: 2025-09-12 20:31:24,0.20111294090747833,0.040701430290937424,-9.651026725769043\n",
      "Saved: 2025-09-12 20:31:25,0.20111294090747833,0.031124621629714966,-9.651026725769043\n",
      "Saved: 2025-09-12 20:31:26,0.20111294090747833,0.031124621629714966,9.959878921508789\n"
     ]
    },
    {
     "name": "stderr",
     "output_type": "stream",
     "text": [
      "ERROR:root:task: mqtt_task raised exception: [WinError 10054] An existing connection was forcibly closed by the remote host.\n",
      "ERROR:root:task: connection_task raised exception: .\n",
      "ERROR:root:task: mqtt_task raised exception: [WinError 10054] An existing connection was forcibly closed by the remote host.\n",
      "ERROR:root:task: connection_task raised exception: .\n"
     ]
    },
    {
     "name": "stdout",
     "output_type": "stream",
     "text": [
      "Saved: 2025-09-12 20:31:33,0.1843535304069519,0.031124621629714966,9.959878921508789\n"
     ]
    },
    {
     "name": "stderr",
     "output_type": "stream",
     "text": [
      "ERROR:root:task: mqtt_task raised exception: [WinError 10054] An existing connection was forcibly closed by the remote host.\n",
      "ERROR:root:task: connection_task raised exception: .\n"
     ]
    },
    {
     "name": "stdout",
     "output_type": "stream",
     "text": [
      "Saved: 2025-09-12 20:31:37,0.19153612852096558,0.031124621629714966,9.959878921508789\n"
     ]
    },
    {
     "name": "stderr",
     "output_type": "stream",
     "text": [
      "ERROR:root:task: mqtt_task raised exception: [WinError 10054] An existing connection was forcibly closed by the remote host.\n",
      "ERROR:root:task: connection_task raised exception: .\n",
      "ERROR:root:task: mqtt_task raised exception: [WinError 10054] An existing connection was forcibly closed by the remote host.\n",
      "ERROR:root:task: connection_task raised exception: .\n"
     ]
    },
    {
     "name": "stdout",
     "output_type": "stream",
     "text": [
      "Saved: 2025-09-12 20:31:45,0.19871874153614044,0.031124621629714966,9.959878921508789\n",
      "Saved: 2025-09-12 20:31:46,0.19871874153614044,0.028730420395731926,9.959878921508789\n"
     ]
    },
    {
     "name": "stderr",
     "output_type": "stream",
     "text": [
      "ERROR:root:task: mqtt_task raised exception: [WinError 10054] An existing connection was forcibly closed by the remote host.\n",
      "ERROR:root:task: connection_task raised exception: .\n",
      "ERROR:root:task: mqtt_task raised exception: [WinError 10054] An existing connection was forcibly closed by the remote host.\n",
      "ERROR:root:task: connection_task raised exception: .\n",
      "ERROR:root:task: mqtt_task raised exception: [WinError 10054] An existing connection was forcibly closed by the remote host.\n",
      "ERROR:root:task: connection_task raised exception: .\n",
      "ERROR:root:task: mqtt_task raised exception: [WinError 10054] An existing connection was forcibly closed by the remote host.\n",
      "ERROR:root:task: connection_task raised exception: .\n"
     ]
    },
    {
     "name": "stdout",
     "output_type": "stream",
     "text": [
      "Saved: 2025-09-12 20:31:58,0.18914192914962769,0.028730420395731926,9.959878921508789\n"
     ]
    },
    {
     "name": "stderr",
     "output_type": "stream",
     "text": [
      "ERROR:root:task: mqtt_task raised exception: [WinError 10054] An existing connection was forcibly closed by the remote host.\n",
      "ERROR:root:task: connection_task raised exception: .\n"
     ]
    },
    {
     "name": "stdout",
     "output_type": "stream",
     "text": [
      "Saved: 2025-09-12 20:32:02,0.19393034279346466,0.028730420395731926,9.959878921508789\n"
     ]
    },
    {
     "name": "stderr",
     "output_type": "stream",
     "text": [
      "ERROR:root:task: mqtt_task raised exception: [WinError 10054] An existing connection was forcibly closed by the remote host.\n",
      "ERROR:root:task: connection_task raised exception: .\n"
     ]
    },
    {
     "name": "stdout",
     "output_type": "stream",
     "text": [
      "Saved: 2025-09-12 20:32:04,0.20350714027881622,0.028730420395731926,9.959878921508789\n",
      "Saved: 2025-09-12 20:32:06,0.20350714027881622,0.033518824726343155,9.959878921508789\n"
     ]
    },
    {
     "name": "stderr",
     "output_type": "stream",
     "text": [
      "ERROR:root:task: mqtt_task raised exception: [WinError 10054] An existing connection was forcibly closed by the remote host.\n",
      "ERROR:root:task: connection_task raised exception: .\n"
     ]
    },
    {
     "name": "stdout",
     "output_type": "stream",
     "text": [
      "Saved: 2025-09-12 20:32:09,0.19153612852096558,0.033518824726343155,9.959878921508789\n"
     ]
    },
    {
     "name": "stderr",
     "output_type": "stream",
     "text": [
      "ERROR:root:task: mqtt_task raised exception: [WinError 10054] An existing connection was forcibly closed by the remote host.\n",
      "ERROR:root:task: connection_task raised exception: .\n"
     ]
    },
    {
     "name": "stdout",
     "output_type": "stream",
     "text": [
      "Saved: 2025-09-12 20:32:13,0.19393034279346466,0.033518824726343155,9.959878921508789\n"
     ]
    },
    {
     "name": "stderr",
     "output_type": "stream",
     "text": [
      "ERROR:root:task: mqtt_task raised exception: [WinError 10054] An existing connection was forcibly closed by the remote host.\n",
      "ERROR:root:task: connection_task raised exception: .\n"
     ]
    },
    {
     "name": "stdout",
     "output_type": "stream",
     "text": [
      "Saved: 2025-09-12 20:32:17,0.19393034279346466,0.033518824726343155,9.959878921508789\n"
     ]
    },
    {
     "name": "stderr",
     "output_type": "stream",
     "text": [
      "ERROR:root:task: mqtt_task raised exception: [WinError 10054] An existing connection was forcibly closed by the remote host.\n",
      "ERROR:root:task: connection_task raised exception: .\n"
     ]
    },
    {
     "name": "stdout",
     "output_type": "stream",
     "text": [
      "Saved: 2025-09-12 20:32:21,0.18914192914962769,0.033518824726343155,9.959878921508789\n"
     ]
    },
    {
     "name": "stderr",
     "output_type": "stream",
     "text": [
      "ERROR:root:task: mqtt_task raised exception: [WinError 10054] An existing connection was forcibly closed by the remote host.\n",
      "ERROR:root:task: connection_task raised exception: .\n"
     ]
    },
    {
     "name": "stdout",
     "output_type": "stream",
     "text": [
      "Saved: 2025-09-12 20:32:24,0.19871874153614044,0.033518824726343155,9.959878921508789\n"
     ]
    },
    {
     "name": "stderr",
     "output_type": "stream",
     "text": [
      "ERROR:root:task: mqtt_task raised exception: [WinError 10054] An existing connection was forcibly closed by the remote host.\n",
      "ERROR:root:task: connection_task raised exception: .\n"
     ]
    },
    {
     "name": "stdout",
     "output_type": "stream",
     "text": [
      "Saved: 2025-09-12 20:32:28,0.19871874153614044,0.021547814831137657,9.959878921508789\n",
      "Saved: 2025-09-12 20:32:29,0.19871874153614044,0.021547814831137657,9.919178009033203\n"
     ]
    },
    {
     "name": "stderr",
     "output_type": "stream",
     "text": [
      "ERROR:root:task: mqtt_task raised exception: [WinError 10054] An existing connection was forcibly closed by the remote host.\n",
      "ERROR:root:task: connection_task raised exception: .\n"
     ]
    },
    {
     "name": "stdout",
     "output_type": "stream",
     "text": [
      "Saved: 2025-09-12 20:32:33,0.19871874153614044,0.028730420395731926,9.919178009033203\n"
     ]
    },
    {
     "name": "stderr",
     "output_type": "stream",
     "text": [
      "ERROR:root:task: mqtt_task raised exception: [WinError 10054] An existing connection was forcibly closed by the remote host.\n",
      "ERROR:root:task: connection_task raised exception: .\n",
      "ERROR:root:task: mqtt_task raised exception: [WinError 10054] An existing connection was forcibly closed by the remote host.\n",
      "ERROR:root:task: connection_task raised exception: .\n"
     ]
    },
    {
     "name": "stdout",
     "output_type": "stream",
     "text": [
      "Saved: 2025-09-12 20:32:41,0.19632454216480255,0.028730420395731926,9.919178009033203\n"
     ]
    },
    {
     "name": "stderr",
     "output_type": "stream",
     "text": [
      "ERROR:root:task: mqtt_task raised exception: [WinError 10054] An existing connection was forcibly closed by the remote host.\n",
      "ERROR:root:task: connection_task raised exception: .\n"
     ]
    },
    {
     "name": "stdout",
     "output_type": "stream",
     "text": [
      "Saved: 2025-09-12 20:32:44,0.19153612852096558,0.028730420395731926,9.919178009033203\n"
     ]
    },
    {
     "name": "stderr",
     "output_type": "stream",
     "text": [
      "ERROR:root:task: mqtt_task raised exception: [WinError 10054] An existing connection was forcibly closed by the remote host.\n",
      "ERROR:root:task: connection_task raised exception: .\n",
      "ERROR:root:task: mqtt_task raised exception: [WinError 10054] An existing connection was forcibly closed by the remote host.\n",
      "ERROR:root:task: connection_task raised exception: .\n"
     ]
    },
    {
     "name": "stdout",
     "output_type": "stream",
     "text": [
      "Saved: 2025-09-12 20:32:52,0.19871874153614044,0.028730420395731926,9.919178009033203\n"
     ]
    },
    {
     "name": "stderr",
     "output_type": "stream",
     "text": [
      "ERROR:root:task: mqtt_task raised exception: [WinError 10054] An existing connection was forcibly closed by the remote host.\n",
      "ERROR:root:task: connection_task raised exception: .\n"
     ]
    },
    {
     "name": "stdout",
     "output_type": "stream",
     "text": [
      "Saved: 2025-09-12 20:32:55,0.19871874153614044,0.040701430290937424,9.919178009033203\n"
     ]
    },
    {
     "name": "stderr",
     "output_type": "stream",
     "text": [
      "ERROR:root:task: mqtt_task raised exception: [WinError 10054] An existing connection was forcibly closed by the remote host.\n",
      "ERROR:root:task: connection_task raised exception: .\n",
      "ERROR:root:task: mqtt_task raised exception: [WinError 10054] An existing connection was forcibly closed by the remote host.\n",
      "ERROR:root:task: connection_task raised exception: .\n"
     ]
    },
    {
     "name": "stdout",
     "output_type": "stream",
     "text": [
      "Saved: 2025-09-12 20:33:03,0.17956513166427612,0.040701430290937424,9.919178009033203\n"
     ]
    },
    {
     "name": "stderr",
     "output_type": "stream",
     "text": [
      "ERROR:root:task: mqtt_task raised exception: [WinError 10054] An existing connection was forcibly closed by the remote host.\n",
      "ERROR:root:task: connection_task raised exception: .\n"
     ]
    },
    {
     "name": "stdout",
     "output_type": "stream",
     "text": [
      "Saved: 2025-09-12 20:33:07,0.181959331035614,0.040701430290937424,9.919178009033203\n"
     ]
    },
    {
     "name": "stderr",
     "output_type": "stream",
     "text": [
      "ERROR:root:task: mqtt_task raised exception: [WinError 10054] An existing connection was forcibly closed by the remote host.\n",
      "ERROR:root:task: connection_task raised exception: .\n"
     ]
    },
    {
     "name": "stdout",
     "output_type": "stream",
     "text": [
      "Saved: 2025-09-12 20:33:11,0.2059013396501541,0.040701430290937424,9.919178009033203\n"
     ]
    },
    {
     "name": "stderr",
     "output_type": "stream",
     "text": [
      "ERROR:root:task: mqtt_task raised exception: [WinError 10054] An existing connection was forcibly closed by the remote host.\n",
      "ERROR:root:task: connection_task raised exception: .\n"
     ]
    },
    {
     "name": "stdout",
     "output_type": "stream",
     "text": [
      "Saved: 2025-09-12 20:33:14,0.2059013396501541,0.040701430290937424,9.919178009033203\n"
     ]
    },
    {
     "name": "stderr",
     "output_type": "stream",
     "text": [
      "ERROR:root:task: mqtt_task raised exception: [WinError 10054] An existing connection was forcibly closed by the remote host.\n",
      "ERROR:root:task: connection_task raised exception: .\n"
     ]
    },
    {
     "name": "stdout",
     "output_type": "stream",
     "text": [
      "Saved: 2025-09-12 20:33:18,0.19632454216480255,0.040701430290937424,9.919178009033203\n"
     ]
    },
    {
     "name": "stderr",
     "output_type": "stream",
     "text": [
      "ERROR:root:task: mqtt_task raised exception: [WinError 10054] An existing connection was forcibly closed by the remote host.\n",
      "ERROR:root:task: connection_task raised exception: .\n",
      "ERROR:root:task: mqtt_task raised exception: [WinError 10054] An existing connection was forcibly closed by the remote host.\n",
      "ERROR:root:task: connection_task raised exception: .\n"
     ]
    },
    {
     "name": "stdout",
     "output_type": "stream",
     "text": [
      "Saved: 2025-09-12 20:33:26,0.19393034279346466,0.040701430290937424,9.919178009033203\n"
     ]
    },
    {
     "name": "stderr",
     "output_type": "stream",
     "text": [
      "ERROR:root:task: mqtt_task raised exception: [WinError 10054] An existing connection was forcibly closed by the remote host.\n",
      "ERROR:root:task: connection_task raised exception: .\n"
     ]
    },
    {
     "name": "stdout",
     "output_type": "stream",
     "text": [
      "Saved: 2025-09-12 20:33:30,0.20111294090747833,0.040701430290937424,9.919178009033203\n"
     ]
    },
    {
     "name": "stderr",
     "output_type": "stream",
     "text": [
      "ERROR:root:task: mqtt_task raised exception: [WinError 10054] An existing connection was forcibly closed by the remote host.\n",
      "ERROR:root:task: connection_task raised exception: .\n",
      "ERROR:root:task: mqtt_task raised exception: [WinError 10054] An existing connection was forcibly closed by the remote host.\n",
      "ERROR:root:task: connection_task raised exception: .\n"
     ]
    },
    {
     "name": "stdout",
     "output_type": "stream",
     "text": [
      "Saved: 2025-09-12 20:33:37,0.19632454216480255,0.040701430290937424,9.919178009033203\n"
     ]
    },
    {
     "name": "stderr",
     "output_type": "stream",
     "text": [
      "ERROR:root:task: mqtt_task raised exception: [WinError 10054] An existing connection was forcibly closed by the remote host.\n",
      "ERROR:root:task: connection_task raised exception: .\n"
     ]
    },
    {
     "name": "stdout",
     "output_type": "stream",
     "text": [
      "Saved: 2025-09-12 20:33:41,0.2059013396501541,0.040701430290937424,9.919178009033203\n"
     ]
    },
    {
     "name": "stderr",
     "output_type": "stream",
     "text": [
      "ERROR:root:task: mqtt_task raised exception: [WinError 10054] An existing connection was forcibly closed by the remote host.\n",
      "ERROR:root:task: connection_task raised exception: .\n",
      "ERROR:root:task: mqtt_task raised exception: [WinError 10054] An existing connection was forcibly closed by the remote host.\n",
      "ERROR:root:task: connection_task raised exception: .\n"
     ]
    },
    {
     "name": "stdout",
     "output_type": "stream",
     "text": [
      "Saved: 2025-09-12 20:33:48,0.1843535304069519,0.040701430290937424,9.919178009033203\n"
     ]
    },
    {
     "name": "stderr",
     "output_type": "stream",
     "text": [
      "ERROR:root:task: mqtt_task raised exception: [WinError 10054] An existing connection was forcibly closed by the remote host.\n",
      "ERROR:root:task: connection_task raised exception: .\n"
     ]
    },
    {
     "name": "stdout",
     "output_type": "stream",
     "text": [
      "Saved: 2025-09-12 20:33:52,0.19871874153614044,0.040701430290937424,9.919178009033203\n"
     ]
    },
    {
     "name": "stderr",
     "output_type": "stream",
     "text": [
      "ERROR:root:task: mqtt_task raised exception: [WinError 10054] An existing connection was forcibly closed by the remote host.\n",
      "ERROR:root:task: connection_task raised exception: .\n"
     ]
    },
    {
     "name": "stdout",
     "output_type": "stream",
     "text": [
      "Saved: 2025-09-12 20:33:56,0.19153612852096558,0.040701430290937424,9.919178009033203\n"
     ]
    },
    {
     "name": "stderr",
     "output_type": "stream",
     "text": [
      "ERROR:root:task: mqtt_task raised exception: [WinError 10054] An existing connection was forcibly closed by the remote host.\n",
      "ERROR:root:task: connection_task raised exception: .\n"
     ]
    },
    {
     "name": "stdout",
     "output_type": "stream",
     "text": [
      "Saved: 2025-09-12 20:34:00,0.2082955539226532,0.040701430290937424,9.919178009033203\n"
     ]
    },
    {
     "name": "stderr",
     "output_type": "stream",
     "text": [
      "ERROR:root:task: mqtt_task raised exception: [WinError 10054] An existing connection was forcibly closed by the remote host.\n",
      "ERROR:root:task: connection_task raised exception: .\n"
     ]
    },
    {
     "name": "stdout",
     "output_type": "stream",
     "text": [
      "Saved: 2025-09-12 20:34:03,0.1843535304069519,0.040701430290937424,9.919178009033203\n"
     ]
    },
    {
     "name": "stderr",
     "output_type": "stream",
     "text": [
      "ERROR:root:task: mqtt_task raised exception: [WinError 10054] An existing connection was forcibly closed by the remote host.\n",
      "ERROR:root:task: connection_task raised exception: .\n",
      "ERROR:root:task: mqtt_task raised exception: [WinError 10054] An existing connection was forcibly closed by the remote host.\n",
      "ERROR:root:task: connection_task raised exception: .\n"
     ]
    },
    {
     "name": "stdout",
     "output_type": "stream",
     "text": [
      "Saved: 2025-09-12 20:34:11,0.8810662031173706,0.040701430290937424,9.919178009033203\n"
     ]
    },
    {
     "name": "stderr",
     "output_type": "stream",
     "text": [
      "ERROR:root:task: mqtt_task raised exception: [WinError 10054] An existing connection was forcibly closed by the remote host.\n",
      "ERROR:root:task: connection_task raised exception: .\n"
     ]
    },
    {
     "name": "stdout",
     "output_type": "stream",
     "text": [
      "Saved: 2025-09-12 20:34:15,0.8810662031173706,0.031124621629714966,9.919178009033203\n"
     ]
    },
    {
     "name": "stderr",
     "output_type": "stream",
     "text": [
      "ERROR:root:task: mqtt_task raised exception: [WinError 10054] An existing connection was forcibly closed by the remote host.\n",
      "ERROR:root:task: connection_task raised exception: .\n",
      "ERROR:root:task: mqtt_task raised exception: [WinError 10054] An existing connection was forcibly closed by the remote host.\n",
      "ERROR:root:task: connection_task raised exception: .\n"
     ]
    },
    {
     "name": "stdout",
     "output_type": "stream",
     "text": [
      "Saved: 2025-09-12 20:34:22,0.21308395266532898,0.031124621629714966,9.919178009033203\n"
     ]
    },
    {
     "name": "stderr",
     "output_type": "stream",
     "text": [
      "ERROR:root:task: mqtt_task raised exception: [WinError 10054] An existing connection was forcibly closed by the remote host.\n",
      "ERROR:root:task: connection_task raised exception: .\n"
     ]
    },
    {
     "name": "stdout",
     "output_type": "stream",
     "text": [
      "Saved: 2025-09-12 20:34:26,0.20111294090747833,0.031124621629714966,9.919178009033203\n"
     ]
    },
    {
     "name": "stderr",
     "output_type": "stream",
     "text": [
      "ERROR:root:task: mqtt_task raised exception: [WinError 10054] An existing connection was forcibly closed by the remote host.\n",
      "ERROR:root:task: connection_task raised exception: .\n",
      "ERROR:root:task: mqtt_task raised exception: [WinError 10054] An existing connection was forcibly closed by the remote host.\n",
      "ERROR:root:task: connection_task raised exception: .\n"
     ]
    },
    {
     "name": "stdout",
     "output_type": "stream",
     "text": [
      "Saved: 2025-09-12 20:34:33,0.2082955539226532,0.031124621629714966,9.919178009033203\n"
     ]
    },
    {
     "name": "stderr",
     "output_type": "stream",
     "text": [
      "ERROR:root:task: mqtt_task raised exception: [WinError 10054] An existing connection was forcibly closed by the remote host.\n",
      "ERROR:root:task: connection_task raised exception: .\n",
      "ERROR:root:task: mqtt_task raised exception: [WinError 10054] An existing connection was forcibly closed by the remote host.\n",
      "ERROR:root:task: connection_task raised exception: .\n",
      "ERROR:root:task: mqtt_task raised exception: [WinError 10054] An existing connection was forcibly closed by the remote host.\n",
      "ERROR:root:task: connection_task raised exception: .\n"
     ]
    },
    {
     "name": "stdout",
     "output_type": "stream",
     "text": [
      "Saved: 2025-09-12 20:34:44,0.19393034279346466,0.031124621629714966,9.919178009033203\n"
     ]
    },
    {
     "name": "stderr",
     "output_type": "stream",
     "text": [
      "ERROR:root:task: mqtt_task raised exception: [WinError 10054] An existing connection was forcibly closed by the remote host.\n",
      "ERROR:root:task: connection_task raised exception: .\n"
     ]
    },
    {
     "name": "stdout",
     "output_type": "stream",
     "text": [
      "Saved: 2025-09-12 20:34:48,0.19393034279346466,0.043095629662275314,9.919178009033203\n"
     ]
    },
    {
     "name": "stderr",
     "output_type": "stream",
     "text": [
      "ERROR:root:task: mqtt_task raised exception: [WinError 10054] An existing connection was forcibly closed by the remote host.\n",
      "ERROR:root:task: connection_task raised exception: .\n",
      "ERROR:root:task: mqtt_task raised exception: [WinError 10054] An existing connection was forcibly closed by the remote host.\n",
      "ERROR:root:task: connection_task raised exception: .\n"
     ]
    },
    {
     "name": "stdout",
     "output_type": "stream",
     "text": [
      "Saved: 2025-09-12 20:34:55,0.15801730751991272,0.043095629662275314,9.919178009033203\n"
     ]
    },
    {
     "name": "stderr",
     "output_type": "stream",
     "text": [
      "ERROR:root:task: mqtt_task raised exception: [WinError 10054] An existing connection was forcibly closed by the remote host.\n",
      "ERROR:root:task: connection_task raised exception: .\n"
     ]
    },
    {
     "name": "stdout",
     "output_type": "stream",
     "text": [
      "Saved: 2025-09-12 20:34:59,0.19153612852096558,0.043095629662275314,9.919178009033203\n"
     ]
    },
    {
     "name": "stderr",
     "output_type": "stream",
     "text": [
      "ERROR:root:task: mqtt_task raised exception: [WinError 10054] An existing connection was forcibly closed by the remote host.\n",
      "ERROR:root:task: connection_task raised exception: .\n"
     ]
    },
    {
     "name": "stdout",
     "output_type": "stream",
     "text": [
      "Saved: 2025-09-12 20:35:03,0.19153612852096558,0.031124621629714966,9.919178009033203\n"
     ]
    },
    {
     "name": "stderr",
     "output_type": "stream",
     "text": [
      "ERROR:root:task: mqtt_task raised exception: [WinError 10054] An existing connection was forcibly closed by the remote host.\n",
      "ERROR:root:task: connection_task raised exception: .\n"
     ]
    },
    {
     "name": "stdout",
     "output_type": "stream",
     "text": [
      "Saved: 2025-09-12 20:35:07,0.19871874153614044,0.031124621629714966,9.919178009033203\n"
     ]
    },
    {
     "name": "stderr",
     "output_type": "stream",
     "text": [
      "ERROR:root:task: mqtt_task raised exception: [WinError 10054] An existing connection was forcibly closed by the remote host.\n",
      "ERROR:root:task: connection_task raised exception: .\n"
     ]
    },
    {
     "name": "stdout",
     "output_type": "stream",
     "text": [
      "Saved: 2025-09-12 20:35:11,0.19871874153614044,0.031124621629714966,9.919178009033203\n"
     ]
    },
    {
     "name": "stderr",
     "output_type": "stream",
     "text": [
      "ERROR:root:task: mqtt_task raised exception: [WinError 10054] An existing connection was forcibly closed by the remote host.\n",
      "ERROR:root:task: connection_task raised exception: .\n",
      "ERROR:root:task: mqtt_task raised exception: [WinError 10054] An existing connection was forcibly closed by the remote host.\n",
      "ERROR:root:task: connection_task raised exception: .\n"
     ]
    },
    {
     "name": "stdout",
     "output_type": "stream",
     "text": [
      "Saved: 2025-09-12 20:35:19,0.1867477297782898,0.031124621629714966,9.919178009033203\n"
     ]
    },
    {
     "name": "stderr",
     "output_type": "stream",
     "text": [
      "ERROR:root:task: mqtt_task raised exception: [WinError 10054] An existing connection was forcibly closed by the remote host.\n",
      "ERROR:root:task: connection_task raised exception: .\n"
     ]
    },
    {
     "name": "stdout",
     "output_type": "stream",
     "text": [
      "Saved: 2025-09-12 20:35:21,0.19632454216480255,0.031124621629714966,9.919178009033203\n",
      "Saved: 2025-09-12 20:35:22,0.19632454216480255,0.031124621629714966,9.919178009033203\n"
     ]
    },
    {
     "name": "stderr",
     "output_type": "stream",
     "text": [
      "ERROR:root:task: mqtt_task raised exception: [WinError 10054] An existing connection was forcibly closed by the remote host.\n",
      "ERROR:root:task: connection_task raised exception: .\n",
      "ERROR:root:task: mqtt_task raised exception: [WinError 10054] An existing connection was forcibly closed by the remote host.\n",
      "ERROR:root:task: connection_task raised exception: .\n"
     ]
    },
    {
     "name": "stdout",
     "output_type": "stream",
     "text": [
      "Saved: 2025-09-12 20:35:30,0.22026655077934265,0.031124621629714966,9.919178009033203\n"
     ]
    },
    {
     "name": "stderr",
     "output_type": "stream",
     "text": [
      "ERROR:root:task: mqtt_task raised exception: [WinError 10054] An existing connection was forcibly closed by the remote host.\n",
      "ERROR:root:task: connection_task raised exception: .\n"
     ]
    },
    {
     "name": "stdout",
     "output_type": "stream",
     "text": [
      "Saved: 2025-09-12 20:35:34,0.19393034279346466,0.031124621629714966,9.919178009033203\n"
     ]
    },
    {
     "name": "stderr",
     "output_type": "stream",
     "text": [
      "ERROR:root:task: mqtt_task raised exception: [WinError 10054] An existing connection was forcibly closed by the remote host.\n",
      "ERROR:root:task: connection_task raised exception: .\n"
     ]
    },
    {
     "name": "stdout",
     "output_type": "stream",
     "text": [
      "Saved: 2025-09-12 20:35:37,0.18914192914962769,0.031124621629714966,9.919178009033203\n"
     ]
    },
    {
     "name": "stderr",
     "output_type": "stream",
     "text": [
      "ERROR:root:task: mqtt_task raised exception: [WinError 10054] An existing connection was forcibly closed by the remote host.\n",
      "ERROR:root:task: connection_task raised exception: .\n"
     ]
    },
    {
     "name": "stdout",
     "output_type": "stream",
     "text": [
      "Saved: 2025-09-12 20:35:41,0.1867477297782898,0.031124621629714966,9.919178009033203\n"
     ]
    },
    {
     "name": "stderr",
     "output_type": "stream",
     "text": [
      "ERROR:root:task: mqtt_task raised exception: [WinError 10054] An existing connection was forcibly closed by the remote host.\n",
      "ERROR:root:task: connection_task raised exception: .\n"
     ]
    },
    {
     "name": "stdout",
     "output_type": "stream",
     "text": [
      "Saved: 2025-09-12 20:35:45,0.2059013396501541,0.031124621629714966,9.919178009033203\n"
     ]
    },
    {
     "name": "stderr",
     "output_type": "stream",
     "text": [
      "ERROR:root:task: mqtt_task raised exception: [WinError 10054] An existing connection was forcibly closed by the remote host.\n",
      "ERROR:root:task: connection_task raised exception: .\n"
     ]
    },
    {
     "name": "stdout",
     "output_type": "stream",
     "text": [
      "Saved: 2025-09-12 20:35:47,0.19871874153614044,0.031124621629714966,9.919178009033203\n",
      "Saved: 2025-09-12 20:35:48,0.19871874153614044,0.028730420395731926,9.919178009033203\n"
     ]
    },
    {
     "name": "stderr",
     "output_type": "stream",
     "text": [
      "ERROR:root:task: mqtt_task raised exception: [WinError 10054] An existing connection was forcibly closed by the remote host.\n",
      "ERROR:root:task: connection_task raised exception: .\n"
     ]
    },
    {
     "name": "stdout",
     "output_type": "stream",
     "text": [
      "Saved: 2025-09-12 20:35:52,0.2106897532939911,0.028730420395731926,9.919178009033203\n"
     ]
    },
    {
     "name": "stderr",
     "output_type": "stream",
     "text": [
      "ERROR:root:task: mqtt_task raised exception: [WinError 10054] An existing connection was forcibly closed by the remote host.\n",
      "ERROR:root:task: connection_task raised exception: .\n"
     ]
    },
    {
     "name": "stdout",
     "output_type": "stream",
     "text": [
      "Saved: 2025-09-12 20:35:56,0.17717093229293823,0.028730420395731926,9.919178009033203\n"
     ]
    },
    {
     "name": "stderr",
     "output_type": "stream",
     "text": [
      "ERROR:root:task: mqtt_task raised exception: [WinError 10054] An existing connection was forcibly closed by the remote host.\n",
      "ERROR:root:task: connection_task raised exception: .\n",
      "ERROR:root:task: mqtt_task raised exception: [WinError 10054] An existing connection was forcibly closed by the remote host.\n",
      "ERROR:root:task: connection_task raised exception: .\n"
     ]
    },
    {
     "name": "stdout",
     "output_type": "stream",
     "text": [
      "Saved: 2025-09-12 20:36:04,0.2106897532939911,0.028730420395731926,9.919178009033203\n"
     ]
    },
    {
     "name": "stderr",
     "output_type": "stream",
     "text": [
      "ERROR:root:task: mqtt_task raised exception: [WinError 10054] An existing connection was forcibly closed by the remote host.\n",
      "ERROR:root:task: connection_task raised exception: .\n"
     ]
    },
    {
     "name": "stdout",
     "output_type": "stream",
     "text": [
      "Saved: 2025-09-12 20:36:07,0.18914192914962769,0.028730420395731926,9.919178009033203\n"
     ]
    },
    {
     "name": "stderr",
     "output_type": "stream",
     "text": [
      "ERROR:root:task: mqtt_task raised exception: [WinError 10054] An existing connection was forcibly closed by the remote host.\n",
      "ERROR:root:task: connection_task raised exception: .\n",
      "ERROR:root:task: mqtt_task raised exception: [WinError 10054] An existing connection was forcibly closed by the remote host.\n",
      "ERROR:root:task: connection_task raised exception: .\n"
     ]
    },
    {
     "name": "stdout",
     "output_type": "stream",
     "text": [
      "Saved: 2025-09-12 20:36:15,0.1843535304069519,0.028730420395731926,9.919178009033203\n"
     ]
    },
    {
     "name": "stderr",
     "output_type": "stream",
     "text": [
      "ERROR:root:task: mqtt_task raised exception: [WinError 10054] An existing connection was forcibly closed by the remote host.\n",
      "ERROR:root:task: connection_task raised exception: .\n"
     ]
    },
    {
     "name": "stdout",
     "output_type": "stream",
     "text": [
      "Saved: 2025-09-12 20:36:19,0.19393034279346466,0.028730420395731926,9.919178009033203\n"
     ]
    },
    {
     "name": "stderr",
     "output_type": "stream",
     "text": [
      "ERROR:root:task: mqtt_task raised exception: [WinError 10054] An existing connection was forcibly closed by the remote host.\n",
      "ERROR:root:task: connection_task raised exception: .\n"
     ]
    },
    {
     "name": "stdout",
     "output_type": "stream",
     "text": [
      "Saved: 2025-09-12 20:36:22,0.19393034279346466,0.028730420395731926,9.919178009033203\n",
      "Saved: 2025-09-12 20:36:23,0.19393034279346466,0.035913024097681046,9.919178009033203\n"
     ]
    },
    {
     "name": "stderr",
     "output_type": "stream",
     "text": [
      "ERROR:root:task: mqtt_task raised exception: [WinError 10054] An existing connection was forcibly closed by the remote host.\n",
      "ERROR:root:task: connection_task raised exception: .\n",
      "ERROR:root:task: mqtt_task raised exception: [WinError 10054] An existing connection was forcibly closed by the remote host.\n",
      "ERROR:root:task: connection_task raised exception: .\n"
     ]
    },
    {
     "name": "stdout",
     "output_type": "stream",
     "text": [
      "Saved: 2025-09-12 20:36:29,0.19871874153614044,0.035913024097681046,9.919178009033203\n"
     ]
    },
    {
     "name": "stderr",
     "output_type": "stream",
     "text": [
      "ERROR:root:task: mqtt_task raised exception: [WinError 10054] An existing connection was forcibly closed by the remote host.\n",
      "ERROR:root:task: connection_task raised exception: .\n"
     ]
    },
    {
     "name": "stdout",
     "output_type": "stream",
     "text": [
      "Saved: 2025-09-12 20:36:33,0.19153612852096558,0.035913024097681046,9.919178009033203\n"
     ]
    },
    {
     "name": "stderr",
     "output_type": "stream",
     "text": [
      "ERROR:root:task: mqtt_task raised exception: [WinError 10054] An existing connection was forcibly closed by the remote host.\n",
      "ERROR:root:task: connection_task raised exception: .\n"
     ]
    },
    {
     "name": "stdout",
     "output_type": "stream",
     "text": [
      "Saved: 2025-09-12 20:36:37,0.20111294090747833,0.035913024097681046,9.919178009033203\n"
     ]
    },
    {
     "name": "stderr",
     "output_type": "stream",
     "text": [
      "ERROR:root:task: mqtt_task raised exception: [WinError 10054] An existing connection was forcibly closed by the remote host.\n",
      "ERROR:root:task: connection_task raised exception: .\n"
     ]
    },
    {
     "name": "stdout",
     "output_type": "stream",
     "text": [
      "Saved: 2025-09-12 20:36:41,0.18914192914962769,0.035913024097681046,9.919178009033203\n"
     ]
    },
    {
     "name": "stderr",
     "output_type": "stream",
     "text": [
      "ERROR:root:task: mqtt_task raised exception: [WinError 10054] An existing connection was forcibly closed by the remote host.\n",
      "ERROR:root:task: connection_task raised exception: .\n"
     ]
    },
    {
     "name": "stdout",
     "output_type": "stream",
     "text": [
      "Saved: 2025-09-12 20:36:44,0.19153612852096558,0.035913024097681046,9.919178009033203\n"
     ]
    },
    {
     "name": "stderr",
     "output_type": "stream",
     "text": [
      "ERROR:root:task: mqtt_task raised exception: [WinError 10054] An existing connection was forcibly closed by the remote host.\n",
      "ERROR:root:task: connection_task raised exception: .\n"
     ]
    },
    {
     "name": "stdout",
     "output_type": "stream",
     "text": [
      "Saved: 2025-09-12 20:36:48,0.19153612852096558,0.031124621629714966,9.919178009033203\n"
     ]
    },
    {
     "name": "stderr",
     "output_type": "stream",
     "text": [
      "ERROR:root:task: mqtt_task raised exception: [WinError 10054] An existing connection was forcibly closed by the remote host.\n",
      "ERROR:root:task: connection_task raised exception: .\n"
     ]
    },
    {
     "name": "stdout",
     "output_type": "stream",
     "text": [
      "Saved: 2025-09-12 20:36:52,0.20111294090747833,0.031124621629714966,9.919178009033203\n"
     ]
    },
    {
     "name": "stderr",
     "output_type": "stream",
     "text": [
      "ERROR:root:task: mqtt_task raised exception: [WinError 10054] An existing connection was forcibly closed by the remote host.\n",
      "ERROR:root:task: connection_task raised exception: .\n"
     ]
    },
    {
     "name": "stdout",
     "output_type": "stream",
     "text": [
      "Saved: 2025-09-12 20:36:55,0.19393034279346466,0.031124621629714966,9.919178009033203\n"
     ]
    },
    {
     "name": "stderr",
     "output_type": "stream",
     "text": [
      "ERROR:root:task: mqtt_task raised exception: [WinError 10054] An existing connection was forcibly closed by the remote host.\n",
      "ERROR:root:task: connection_task raised exception: .\n"
     ]
    },
    {
     "name": "stdout",
     "output_type": "stream",
     "text": [
      "Saved: 2025-09-12 20:36:59,0.1867477297782898,0.031124621629714966,9.919178009033203\n"
     ]
    },
    {
     "name": "stderr",
     "output_type": "stream",
     "text": [
      "ERROR:root:task: mqtt_task raised exception: [WinError 10054] An existing connection was forcibly closed by the remote host.\n",
      "ERROR:root:task: connection_task raised exception: .\n"
     ]
    },
    {
     "name": "stdout",
     "output_type": "stream",
     "text": [
      "Saved: 2025-09-12 20:37:03,0.19632454216480255,0.031124621629714966,9.919178009033203\n"
     ]
    },
    {
     "name": "stderr",
     "output_type": "stream",
     "text": [
      "ERROR:root:task: mqtt_task raised exception: [WinError 10054] An existing connection was forcibly closed by the remote host.\n",
      "ERROR:root:task: connection_task raised exception: .\n"
     ]
    },
    {
     "name": "stdout",
     "output_type": "stream",
     "text": [
      "Saved: 2025-09-12 20:37:07,0.18914192914962769,0.031124621629714966,9.919178009033203\n"
     ]
    },
    {
     "name": "stderr",
     "output_type": "stream",
     "text": [
      "ERROR:root:task: mqtt_task raised exception: [WinError 10054] An existing connection was forcibly closed by the remote host.\n",
      "ERROR:root:task: connection_task raised exception: .\n"
     ]
    },
    {
     "name": "stdout",
     "output_type": "stream",
     "text": [
      "Saved: 2025-09-12 20:37:10,0.19871874153614044,0.031124621629714966,9.919178009033203\n"
     ]
    },
    {
     "name": "stderr",
     "output_type": "stream",
     "text": [
      "ERROR:root:task: mqtt_task raised exception: [WinError 10054] An existing connection was forcibly closed by the remote host.\n",
      "ERROR:root:task: connection_task raised exception: .\n"
     ]
    },
    {
     "name": "stdout",
     "output_type": "stream",
     "text": [
      "Saved: 2025-09-12 20:37:14,0.20111294090747833,0.031124621629714966,9.919178009033203\n",
      "Creating visualizations...\n"
     ]
    },
    {
     "name": "stderr",
     "output_type": "stream",
     "text": [
      "ERROR:root:task: mqtt_task raised exception: [WinError 10054] An existing connection was forcibly closed by the remote host.\n"
     ]
    },
    {
     "name": "stdout",
     "output_type": "stream",
     "text": [
      "Visualizations saved as 'accelerometer_analysis.png'\n",
      "Analyzing patterns...\n",
      "X-axis: 53 peaks, average interval: 16.38 samples\n",
      "Y-axis: 8 peaks, average interval: 89.86 samples\n",
      "Pattern analysis saved as 'pattern_analysis.txt'\n"
     ]
    },
    {
     "name": "stderr",
     "output_type": "stream",
     "text": [
      "ERROR:root:task: connection_task raised exception: .\n",
      "ERROR:root:task: mqtt_task raised exception: [WinError 10054] An existing connection was forcibly closed by the remote host.\n",
      "ERROR:root:task: connection_task raised exception: .\n"
     ]
    },
    {
     "name": "stdout",
     "output_type": "stream",
     "text": [
      "Saved: 2025-09-12 20:37:22,0.1843535304069519,0.031124621629714966,9.919178009033203\n"
     ]
    },
    {
     "name": "stderr",
     "output_type": "stream",
     "text": [
      "ERROR:root:task: mqtt_task raised exception: [WinError 10054] An existing connection was forcibly closed by the remote host.\n",
      "ERROR:root:task: connection_task raised exception: .\n"
     ]
    },
    {
     "name": "stdout",
     "output_type": "stream",
     "text": [
      "Saved: 2025-09-12 20:37:26,0.19153612852096558,0.031124621629714966,9.919178009033203\n"
     ]
    },
    {
     "name": "stderr",
     "output_type": "stream",
     "text": [
      "ERROR:root:task: mqtt_task raised exception: [WinError 10054] An existing connection was forcibly closed by the remote host.\n",
      "ERROR:root:task: connection_task raised exception: .\n",
      "ERROR:root:task: mqtt_task raised exception: [WinError 10054] An existing connection was forcibly closed by the remote host.\n",
      "ERROR:root:task: connection_task raised exception: .\n"
     ]
    },
    {
     "name": "stdout",
     "output_type": "stream",
     "text": [
      "Saved: 2025-09-12 20:37:34,0.181959331035614,0.031124621629714966,9.919178009033203\n"
     ]
    },
    {
     "name": "stderr",
     "output_type": "stream",
     "text": [
      "ERROR:root:task: mqtt_task raised exception: [WinError 10054] An existing connection was forcibly closed by the remote host.\n",
      "ERROR:root:task: connection_task raised exception: .\n"
     ]
    },
    {
     "name": "stdout",
     "output_type": "stream",
     "text": [
      "Saved: 2025-09-12 20:37:37,0.18914192914962769,0.031124621629714966,9.919178009033203\n"
     ]
    },
    {
     "name": "stderr",
     "output_type": "stream",
     "text": [
      "ERROR:root:task: mqtt_task raised exception: [WinError 10054] An existing connection was forcibly closed by the remote host.\n",
      "ERROR:root:task: connection_task raised exception: .\n",
      "ERROR:root:task: mqtt_task raised exception: [WinError 10054] An existing connection was forcibly closed by the remote host.\n",
      "ERROR:root:task: connection_task raised exception: .\n"
     ]
    },
    {
     "name": "stdout",
     "output_type": "stream",
     "text": [
      "Saved: 2025-09-12 20:37:45,0.2082955539226532,0.031124621629714966,9.919178009033203\n"
     ]
    },
    {
     "name": "stderr",
     "output_type": "stream",
     "text": [
      "ERROR:root:task: mqtt_task raised exception: [WinError 10054] An existing connection was forcibly closed by the remote host.\n",
      "ERROR:root:task: connection_task raised exception: .\n"
     ]
    },
    {
     "name": "stdout",
     "output_type": "stream",
     "text": [
      "Saved: 2025-09-12 20:37:49,0.20350714027881622,0.031124621629714966,9.919178009033203\n"
     ]
    },
    {
     "name": "stderr",
     "output_type": "stream",
     "text": [
      "ERROR:root:task: mqtt_task raised exception: [WinError 10054] An existing connection was forcibly closed by the remote host.\n",
      "ERROR:root:task: connection_task raised exception: .\n",
      "ERROR:root:task: mqtt_task raised exception: [WinError 10054] An existing connection was forcibly closed by the remote host.\n",
      "ERROR:root:task: connection_task raised exception: .\n"
     ]
    },
    {
     "name": "stdout",
     "output_type": "stream",
     "text": [
      "Saved: 2025-09-12 20:37:56,0.19871874153614044,0.031124621629714966,9.919178009033203\n"
     ]
    },
    {
     "name": "stderr",
     "output_type": "stream",
     "text": [
      "ERROR:root:task: mqtt_task raised exception: [WinError 10054] An existing connection was forcibly closed by the remote host.\n",
      "ERROR:root:task: connection_task raised exception: .\n"
     ]
    },
    {
     "name": "stdout",
     "output_type": "stream",
     "text": [
      "Saved: 2025-09-12 20:37:59,0.19393034279346466,0.031124621629714966,9.919178009033203\n",
      "Saved: 2025-09-12 20:38:00,0.19393034279346466,0.021547814831137657,9.919178009033203\n"
     ]
    },
    {
     "name": "stderr",
     "output_type": "stream",
     "text": [
      "ERROR:root:task: mqtt_task raised exception: [WinError 10054] An existing connection was forcibly closed by the remote host.\n",
      "ERROR:root:task: connection_task raised exception: .\n",
      "ERROR:root:task: mqtt_task raised exception: [WinError 10054] An existing connection was forcibly closed by the remote host.\n",
      "ERROR:root:task: connection_task raised exception: .\n"
     ]
    },
    {
     "name": "stdout",
     "output_type": "stream",
     "text": [
      "Saved: 2025-09-12 20:38:07,0.18914192914962769,0.021547814831137657,9.919178009033203\n"
     ]
    },
    {
     "name": "stderr",
     "output_type": "stream",
     "text": [
      "ERROR:root:task: mqtt_task raised exception: [WinError 10054] An existing connection was forcibly closed by the remote host.\n",
      "ERROR:root:task: connection_task raised exception: .\n"
     ]
    },
    {
     "name": "stdout",
     "output_type": "stream",
     "text": [
      "Saved: 2025-09-12 20:38:11,0.19393034279346466,0.021547814831137657,9.919178009033203\n"
     ]
    },
    {
     "name": "stderr",
     "output_type": "stream",
     "text": [
      "ERROR:root:task: mqtt_task raised exception: [WinError 10054] An existing connection was forcibly closed by the remote host.\n",
      "ERROR:root:task: connection_task raised exception: .\n"
     ]
    },
    {
     "name": "stdout",
     "output_type": "stream",
     "text": [
      "Saved: 2025-09-12 20:38:14,0.1843535304069519,0.021547814831137657,9.919178009033203\n",
      "Saved: 2025-09-12 20:38:15,0.1843535304069519,0.038307227194309235,9.919178009033203\n"
     ]
    },
    {
     "name": "stderr",
     "output_type": "stream",
     "text": [
      "ERROR:root:task: mqtt_task raised exception: [WinError 10054] An existing connection was forcibly closed by the remote host.\n",
      "ERROR:root:task: connection_task raised exception: .\n"
     ]
    },
    {
     "name": "stdout",
     "output_type": "stream",
     "text": [
      "Saved: 2025-09-12 20:38:19,0.18914192914962769,0.038307227194309235,9.919178009033203\n"
     ]
    },
    {
     "name": "stderr",
     "output_type": "stream",
     "text": [
      "ERROR:root:task: mqtt_task raised exception: [WinError 10054] An existing connection was forcibly closed by the remote host.\n",
      "ERROR:root:task: connection_task raised exception: .\n"
     ]
    },
    {
     "name": "stdout",
     "output_type": "stream",
     "text": [
      "Saved: 2025-09-12 20:38:23,0.20350714027881622,0.038307227194309235,9.919178009033203\n"
     ]
    },
    {
     "name": "stderr",
     "output_type": "stream",
     "text": [
      "ERROR:root:task: mqtt_task raised exception: [WinError 10054] An existing connection was forcibly closed by the remote host.\n",
      "ERROR:root:task: connection_task raised exception: .\n",
      "ERROR:root:task: mqtt_task raised exception: [WinError 10054] An existing connection was forcibly closed by the remote host.\n",
      "ERROR:root:task: connection_task raised exception: .\n"
     ]
    },
    {
     "name": "stdout",
     "output_type": "stream",
     "text": [
      "Saved: 2025-09-12 20:38:30,0.1843535304069519,0.038307227194309235,9.919178009033203\n"
     ]
    },
    {
     "name": "stderr",
     "output_type": "stream",
     "text": [
      "ERROR:root:task: mqtt_task raised exception: [WinError 10054] An existing connection was forcibly closed by the remote host.\n",
      "ERROR:root:task: connection_task raised exception: .\n"
     ]
    },
    {
     "name": "stdout",
     "output_type": "stream",
     "text": [
      "Saved: 2025-09-12 20:38:34,0.1867477297782898,0.038307227194309235,9.919178009033203\n"
     ]
    },
    {
     "name": "stderr",
     "output_type": "stream",
     "text": [
      "ERROR:root:task: mqtt_task raised exception: [WinError 10054] An existing connection was forcibly closed by the remote host.\n",
      "ERROR:root:task: connection_task raised exception: .\n",
      "ERROR:root:task: mqtt_task raised exception: [WinError 10054] An existing connection was forcibly closed by the remote host.\n",
      "ERROR:root:task: connection_task raised exception: .\n"
     ]
    },
    {
     "name": "stdout",
     "output_type": "stream",
     "text": [
      "Saved: 2025-09-12 20:38:42,0.16998831927776337,0.038307227194309235,9.919178009033203\n"
     ]
    },
    {
     "name": "stderr",
     "output_type": "stream",
     "text": [
      "ERROR:root:task: mqtt_task raised exception: [WinError 10054] An existing connection was forcibly closed by the remote host.\n",
      "ERROR:root:task: connection_task raised exception: .\n"
     ]
    },
    {
     "name": "stdout",
     "output_type": "stream",
     "text": [
      "Saved: 2025-09-12 20:38:46,0.19632454216480255,0.038307227194309235,9.919178009033203\n"
     ]
    },
    {
     "name": "stderr",
     "output_type": "stream",
     "text": [
      "ERROR:root:task: mqtt_task raised exception: [WinError 10054] An existing connection was forcibly closed by the remote host.\n",
      "ERROR:root:task: connection_task raised exception: .\n",
      "ERROR:root:task: mqtt_task raised exception: [WinError 10054] An existing connection was forcibly closed by the remote host.\n",
      "ERROR:root:task: connection_task raised exception: .\n"
     ]
    },
    {
     "name": "stdout",
     "output_type": "stream",
     "text": [
      "Saved: 2025-09-12 20:38:53,0.19632454216480255,0.038307227194309235,9.919178009033203\n"
     ]
    },
    {
     "name": "stderr",
     "output_type": "stream",
     "text": [
      "ERROR:root:task: mqtt_task raised exception: [WinError 10054] An existing connection was forcibly closed by the remote host.\n",
      "ERROR:root:task: connection_task raised exception: .\n"
     ]
    },
    {
     "name": "stdout",
     "output_type": "stream",
     "text": [
      "Saved: 2025-09-12 20:38:57,0.19153612852096558,0.038307227194309235,9.919178009033203\n"
     ]
    },
    {
     "name": "stderr",
     "output_type": "stream",
     "text": [
      "ERROR:root:task: mqtt_task raised exception: [WinError 10054] An existing connection was forcibly closed by the remote host.\n",
      "ERROR:root:task: connection_task raised exception: .\n",
      "ERROR:root:task: mqtt_task raised exception: [WinError 10054] An existing connection was forcibly closed by the remote host.\n",
      "ERROR:root:task: connection_task raised exception: .\n"
     ]
    },
    {
     "name": "stdout",
     "output_type": "stream",
     "text": [
      "Saved: 2025-09-12 20:39:05,0.22505496442317963,0.038307227194309235,9.919178009033203\n"
     ]
    },
    {
     "name": "stderr",
     "output_type": "stream",
     "text": [
      "ERROR:root:task: mqtt_task raised exception: [WinError 10054] An existing connection was forcibly closed by the remote host.\n",
      "ERROR:root:task: connection_task raised exception: .\n"
     ]
    },
    {
     "name": "stdout",
     "output_type": "stream",
     "text": [
      "Saved: 2025-09-12 20:39:08,0.21787235140800476,0.038307227194309235,9.919178009033203\n"
     ]
    },
    {
     "name": "stderr",
     "output_type": "stream",
     "text": [
      "ERROR:root:task: mqtt_task raised exception: [WinError 10054] An existing connection was forcibly closed by the remote host.\n",
      "ERROR:root:task: connection_task raised exception: .\n"
     ]
    },
    {
     "name": "stdout",
     "output_type": "stream",
     "text": [
      "Saved: 2025-09-12 20:39:11,0.2106897532939911,0.038307227194309235,9.919178009033203\n",
      "Saved: 2025-09-12 20:39:12,0.2106897532939911,0.038307227194309235,9.926360130310059\n"
     ]
    },
    {
     "name": "stderr",
     "output_type": "stream",
     "text": [
      "ERROR:root:task: mqtt_task raised exception: [WinError 10054] An existing connection was forcibly closed by the remote host.\n",
      "ERROR:root:task: connection_task raised exception: .\n"
     ]
    },
    {
     "name": "stdout",
     "output_type": "stream",
     "text": [
      "Saved: 2025-09-12 20:39:16,0.1843535304069519,0.038307227194309235,9.926360130310059\n"
     ]
    },
    {
     "name": "stderr",
     "output_type": "stream",
     "text": [
      "ERROR:root:task: mqtt_task raised exception: [WinError 10054] An existing connection was forcibly closed by the remote host.\n",
      "ERROR:root:task: connection_task raised exception: .\n"
     ]
    },
    {
     "name": "stdout",
     "output_type": "stream",
     "text": [
      "Saved: 2025-09-12 20:39:20,0.19871874153614044,0.038307227194309235,9.926360130310059\n"
     ]
    },
    {
     "name": "stderr",
     "output_type": "stream",
     "text": [
      "ERROR:root:task: mqtt_task raised exception: [WinError 10054] An existing connection was forcibly closed by the remote host.\n",
      "ERROR:root:task: connection_task raised exception: .\n",
      "ERROR:root:task: mqtt_task raised exception: [WinError 10054] An existing connection was forcibly closed by the remote host.\n",
      "ERROR:root:task: connection_task raised exception: .\n",
      "ERROR:root:task: mqtt_task raised exception: [WinError 10054] An existing connection was forcibly closed by the remote host.\n",
      "ERROR:root:task: connection_task raised exception: .\n",
      "ERROR:root:task: mqtt_task raised exception: [WinError 10054] An existing connection was forcibly closed by the remote host.\n",
      "ERROR:root:task: connection_task raised exception: .\n",
      "ERROR:root:task: mqtt_task raised exception: [WinError 10054] An existing connection was forcibly closed by the remote host.\n",
      "ERROR:root:task: connection_task raised exception: .\n",
      "ERROR:root:task: mqtt_task raised exception: [WinError 10054] An existing connection was forcibly closed by the remote host.\n",
      "ERROR:root:task: connection_task raised exception: .\n"
     ]
    },
    {
     "name": "stdout",
     "output_type": "stream",
     "text": [
      "Saved: 2025-09-12 20:39:39,0.19632454216480255,0.038307227194309235,9.926360130310059\n"
     ]
    },
    {
     "name": "stderr",
     "output_type": "stream",
     "text": [
      "ERROR:root:task: mqtt_task raised exception: [WinError 10054] An existing connection was forcibly closed by the remote host.\n",
      "ERROR:root:task: connection_task raised exception: .\n",
      "ERROR:root:task: mqtt_task raised exception: [WinError 10054] An existing connection was forcibly closed by the remote host.\n",
      "ERROR:root:task: connection_task raised exception: .\n"
     ]
    },
    {
     "name": "stdout",
     "output_type": "stream",
     "text": [
      "Saved: 2025-09-12 20:39:44,0.19632454216480255,0.019153613597154617,9.926360130310059\n"
     ]
    },
    {
     "name": "stderr",
     "output_type": "stream",
     "text": [
      "ERROR:root:task: mqtt_task raised exception: [WinError 10054] An existing connection was forcibly closed by the remote host.\n",
      "ERROR:root:task: connection_task raised exception: .\n",
      "ERROR:root:task: mqtt_task raised exception: [WinError 10054] An existing connection was forcibly closed by the remote host.\n",
      "ERROR:root:task: connection_task raised exception: .\n",
      "ERROR:root:task: mqtt_task raised exception: [WinError 10054] An existing connection was forcibly closed by the remote host.\n",
      "ERROR:root:task: connection_task raised exception: .\n",
      "ERROR:root:task: mqtt_task raised exception: [WinError 10054] An existing connection was forcibly closed by the remote host.\n",
      "ERROR:root:task: connection_task raised exception: .\n",
      "ERROR:root:task: mqtt_task raised exception: [WinError 10054] An existing connection was forcibly closed by the remote host.\n",
      "ERROR:root:task: connection_task raised exception: .\n",
      "ERROR:root:task: mqtt_task raised exception: [WinError 10054] An existing connection was forcibly closed by the remote host.\n",
      "ERROR:root:task: connection_task raised exception: .\n",
      "ERROR:root:task: mqtt_task raised exception: [WinError 10054] An existing connection was forcibly closed by the remote host.\n",
      "ERROR:root:task: connection_task raised exception: .\n",
      "ERROR:root:task: mqtt_task raised exception: [WinError 10054] An existing connection was forcibly closed by the remote host.\n",
      "ERROR:root:task: connection_task raised exception: .\n",
      "ERROR:root:task: mqtt_task raised exception: [WinError 10054] An existing connection was forcibly closed by the remote host.\n",
      "ERROR:root:task: connection_task raised exception: .\n"
     ]
    },
    {
     "name": "stdout",
     "output_type": "stream",
     "text": [
      "Saved: 2025-09-12 20:40:10,0.19393034279346466,0.019153613597154617,9.926360130310059\n"
     ]
    },
    {
     "name": "stderr",
     "output_type": "stream",
     "text": [
      "ERROR:root:task: mqtt_task raised exception: [WinError 10054] An existing connection was forcibly closed by the remote host.\n",
      "ERROR:root:task: connection_task raised exception: .\n"
     ]
    },
    {
     "name": "stdout",
     "output_type": "stream",
     "text": [
      "Saved: 2025-09-12 20:40:14,0.2082955539226532,0.019153613597154617,9.926360130310059\n"
     ]
    },
    {
     "name": "stderr",
     "output_type": "stream",
     "text": [
      "ERROR:root:task: mqtt_task raised exception: [WinError 10054] An existing connection was forcibly closed by the remote host.\n",
      "ERROR:root:task: connection_task raised exception: .\n"
     ]
    },
    {
     "name": "stdout",
     "output_type": "stream",
     "text": [
      "Saved: 2025-09-12 20:40:18,0.19153612852096558,0.019153613597154617,9.926360130310059\n"
     ]
    },
    {
     "name": "stderr",
     "output_type": "stream",
     "text": [
      "ERROR:root:task: mqtt_task raised exception: [WinError 10054] An existing connection was forcibly closed by the remote host.\n",
      "ERROR:root:task: connection_task raised exception: .\n",
      "ERROR:root:task: mqtt_task raised exception: [WinError 10054] An existing connection was forcibly closed by the remote host.\n",
      "ERROR:root:task: connection_task raised exception: .\n"
     ]
    },
    {
     "name": "stdout",
     "output_type": "stream",
     "text": [
      "Saved: 2025-09-12 20:40:26,0.19871874153614044,0.019153613597154617,9.926360130310059\n"
     ]
    },
    {
     "name": "stderr",
     "output_type": "stream",
     "text": [
      "ERROR:root:task: mqtt_task raised exception: [WinError 10054] An existing connection was forcibly closed by the remote host.\n",
      "ERROR:root:task: connection_task raised exception: .\n"
     ]
    },
    {
     "name": "stdout",
     "output_type": "stream",
     "text": [
      "Saved: 2025-09-12 20:40:29,0.1867477297782898,0.019153613597154617,9.926360130310059\n"
     ]
    },
    {
     "name": "stderr",
     "output_type": "stream",
     "text": [
      "ERROR:root:task: mqtt_task raised exception: [WinError 10054] An existing connection was forcibly closed by the remote host.\n",
      "ERROR:root:task: connection_task raised exception: .\n",
      "ERROR:root:task: mqtt_task raised exception: [WinError 10054] An existing connection was forcibly closed by the remote host.\n",
      "ERROR:root:task: connection_task raised exception: .\n"
     ]
    },
    {
     "name": "stdout",
     "output_type": "stream",
     "text": [
      "Saved: 2025-09-12 20:40:37,0.20111294090747833,0.019153613597154617,9.926360130310059\n"
     ]
    },
    {
     "name": "stderr",
     "output_type": "stream",
     "text": [
      "ERROR:root:task: mqtt_task raised exception: [WinError 10054] An existing connection was forcibly closed by the remote host.\n",
      "ERROR:root:task: connection_task raised exception: .\n"
     ]
    },
    {
     "name": "stdout",
     "output_type": "stream",
     "text": [
      "Saved: 2025-09-12 20:40:41,0.19393034279346466,0.019153613597154617,9.926360130310059\n"
     ]
    },
    {
     "name": "stderr",
     "output_type": "stream",
     "text": [
      "ERROR:root:task: mqtt_task raised exception: [WinError 10054] An existing connection was forcibly closed by the remote host.\n",
      "ERROR:root:task: connection_task raised exception: .\n"
     ]
    },
    {
     "name": "stdout",
     "output_type": "stream",
     "text": [
      "Saved: 2025-09-12 20:40:44,0.20111294090747833,0.019153613597154617,9.926360130310059\n"
     ]
    },
    {
     "name": "stderr",
     "output_type": "stream",
     "text": [
      "ERROR:root:task: mqtt_task raised exception: [WinError 10054] An existing connection was forcibly closed by the remote host.\n",
      "ERROR:root:task: connection_task raised exception: .\n"
     ]
    },
    {
     "name": "stdout",
     "output_type": "stream",
     "text": [
      "Saved: 2025-09-12 20:40:48,0.2106897532939911,0.019153613597154617,9.926360130310059\n"
     ]
    },
    {
     "name": "stderr",
     "output_type": "stream",
     "text": [
      "ERROR:root:task: mqtt_task raised exception: [WinError 10054] An existing connection was forcibly closed by the remote host.\n",
      "ERROR:root:task: connection_task raised exception: .\n"
     ]
    },
    {
     "name": "stdout",
     "output_type": "stream",
     "text": [
      "Saved: 2025-09-12 20:40:52,0.1843535304069519,0.019153613597154617,9.926360130310059\n"
     ]
    },
    {
     "name": "stderr",
     "output_type": "stream",
     "text": [
      "ERROR:root:task: mqtt_task raised exception: [WinError 10054] An existing connection was forcibly closed by the remote host.\n",
      "ERROR:root:task: connection_task raised exception: .\n"
     ]
    },
    {
     "name": "stdout",
     "output_type": "stream",
     "text": [
      "Saved: 2025-09-12 20:40:56,0.2059013396501541,0.019153613597154617,9.926360130310059\n"
     ]
    },
    {
     "name": "stderr",
     "output_type": "stream",
     "text": [
      "ERROR:root:task: mqtt_task raised exception: [WinError 10054] An existing connection was forcibly closed by the remote host.\n",
      "ERROR:root:task: connection_task raised exception: .\n"
     ]
    },
    {
     "name": "stdout",
     "output_type": "stream",
     "text": [
      "Saved: 2025-09-12 20:40:59,0.19393034279346466,0.019153613597154617,9.926360130310059\n"
     ]
    },
    {
     "name": "stderr",
     "output_type": "stream",
     "text": [
      "ERROR:root:task: mqtt_task raised exception: [WinError 10054] An existing connection was forcibly closed by the remote host.\n",
      "ERROR:root:task: connection_task raised exception: .\n"
     ]
    },
    {
     "name": "stdout",
     "output_type": "stream",
     "text": [
      "Saved: 2025-09-12 20:41:03,0.20350714027881622,0.019153613597154617,9.926360130310059\n"
     ]
    },
    {
     "name": "stderr",
     "output_type": "stream",
     "text": [
      "ERROR:root:task: mqtt_task raised exception: [WinError 10054] An existing connection was forcibly closed by the remote host.\n",
      "ERROR:root:task: connection_task raised exception: .\n",
      "ERROR:root:task: mqtt_task raised exception: [WinError 10054] An existing connection was forcibly closed by the remote host.\n",
      "ERROR:root:task: connection_task raised exception: .\n"
     ]
    },
    {
     "name": "stdout",
     "output_type": "stream",
     "text": [
      "Saved: 2025-09-12 20:41:11,0.19871874153614044,0.019153613597154617,9.926360130310059\n"
     ]
    },
    {
     "name": "stderr",
     "output_type": "stream",
     "text": [
      "ERROR:root:task: mqtt_task raised exception: [WinError 10054] An existing connection was forcibly closed by the remote host.\n",
      "ERROR:root:task: connection_task raised exception: .\n"
     ]
    },
    {
     "name": "stdout",
     "output_type": "stream",
     "text": [
      "Saved: 2025-09-12 20:41:14,0.19871874153614044,0.019153613597154617,9.926360130310059\n",
      "Saved: 2025-09-12 20:41:15,0.19871874153614044,0.033518824726343155,9.926360130310059\n"
     ]
    },
    {
     "name": "stderr",
     "output_type": "stream",
     "text": [
      "ERROR:root:task: mqtt_task raised exception: [WinError 10054] An existing connection was forcibly closed by the remote host.\n",
      "ERROR:root:task: connection_task raised exception: .\n"
     ]
    },
    {
     "name": "stdout",
     "output_type": "stream",
     "text": [
      "Saved: 2025-09-12 20:41:19,0.19393034279346466,0.033518824726343155,9.926360130310059\n"
     ]
    },
    {
     "name": "stderr",
     "output_type": "stream",
     "text": [
      "ERROR:root:task: mqtt_task raised exception: [WinError 10054] An existing connection was forcibly closed by the remote host.\n",
      "ERROR:root:task: connection_task raised exception: .\n"
     ]
    },
    {
     "name": "stdout",
     "output_type": "stream",
     "text": [
      "Saved: 2025-09-12 20:41:22,0.2082955539226532,0.033518824726343155,9.926360130310059\n"
     ]
    },
    {
     "name": "stderr",
     "output_type": "stream",
     "text": [
      "ERROR:root:task: mqtt_task raised exception: [WinError 10054] An existing connection was forcibly closed by the remote host.\n",
      "ERROR:root:task: connection_task raised exception: .\n",
      "ERROR:root:task: mqtt_task raised exception: [WinError 10054] An existing connection was forcibly closed by the remote host.\n",
      "ERROR:root:task: connection_task raised exception: .\n"
     ]
    },
    {
     "name": "stdout",
     "output_type": "stream",
     "text": [
      "Saved: 2025-09-12 20:41:28,0.19153612852096558,0.033518824726343155,9.926360130310059\n",
      "Saved: 2025-09-12 20:41:29,0.19153612852096558,0.033518824726343155,9.919178009033203\n"
     ]
    },
    {
     "name": "stderr",
     "output_type": "stream",
     "text": [
      "ERROR:root:task: mqtt_task raised exception: [WinError 10054] An existing connection was forcibly closed by the remote host.\n",
      "ERROR:root:task: connection_task raised exception: .\n"
     ]
    },
    {
     "name": "stdout",
     "output_type": "stream",
     "text": [
      "Saved: 2025-09-12 20:41:32,0.20111294090747833,0.033518824726343155,9.919178009033203\n"
     ]
    },
    {
     "name": "stderr",
     "output_type": "stream",
     "text": [
      "ERROR:root:task: mqtt_task raised exception: [WinError 10054] An existing connection was forcibly closed by the remote host.\n",
      "ERROR:root:task: connection_task raised exception: .\n"
     ]
    },
    {
     "name": "stdout",
     "output_type": "stream",
     "text": [
      "Saved: 2025-09-12 20:41:36,0.20111294090747833,0.023942016065120697,9.919178009033203\n"
     ]
    },
    {
     "name": "stderr",
     "output_type": "stream",
     "text": [
      "ERROR:root:task: mqtt_task raised exception: [WinError 10054] An existing connection was forcibly closed by the remote host.\n",
      "ERROR:root:task: connection_task raised exception: .\n",
      "ERROR:root:task: mqtt_task raised exception: [WinError 10054] An existing connection was forcibly closed by the remote host.\n",
      "ERROR:root:task: connection_task raised exception: .\n",
      "ERROR:root:task: mqtt_task raised exception: [WinError 10054] An existing connection was forcibly closed by the remote host.\n",
      "ERROR:root:task: connection_task raised exception: .\n",
      "ERROR:root:task: mqtt_task raised exception: [WinError 10054] An existing connection was forcibly closed by the remote host.\n",
      "ERROR:root:task: connection_task raised exception: .\n"
     ]
    },
    {
     "name": "stdout",
     "output_type": "stream",
     "text": [
      "Saved: 2025-09-12 20:41:48,0.20111294090747833,0.040701430290937424,9.919178009033203\n"
     ]
    },
    {
     "name": "stderr",
     "output_type": "stream",
     "text": [
      "ERROR:root:task: mqtt_task raised exception: [WinError 10054] An existing connection was forcibly closed by the remote host.\n",
      "ERROR:root:task: connection_task raised exception: .\n"
     ]
    },
    {
     "name": "stdout",
     "output_type": "stream",
     "text": [
      "Saved: 2025-09-12 20:41:51,0.19632454216480255,0.040701430290937424,9.919178009033203\n"
     ]
    },
    {
     "name": "stderr",
     "output_type": "stream",
     "text": [
      "ERROR:root:task: mqtt_task raised exception: [WinError 10054] An existing connection was forcibly closed by the remote host.\n",
      "ERROR:root:task: connection_task raised exception: .\n",
      "ERROR:root:task: mqtt_task raised exception: [WinError 10054] An existing connection was forcibly closed by the remote host.\n",
      "ERROR:root:task: connection_task raised exception: .\n",
      "ERROR:root:task: mqtt_task raised exception: [WinError 10054] An existing connection was forcibly closed by the remote host.\n",
      "ERROR:root:task: connection_task raised exception: .\n"
     ]
    },
    {
     "name": "stdout",
     "output_type": "stream",
     "text": [
      "Saved: 2025-09-12 20:42:02,0.19393034279346466,0.040701430290937424,9.919178009033203\n"
     ]
    },
    {
     "name": "stderr",
     "output_type": "stream",
     "text": [
      "ERROR:root:task: mqtt_task raised exception: [WinError 10054] An existing connection was forcibly closed by the remote host.\n",
      "ERROR:root:task: connection_task raised exception: .\n",
      "ERROR:root:task: mqtt_task raised exception: [WinError 10054] An existing connection was forcibly closed by the remote host.\n",
      "ERROR:root:task: connection_task raised exception: .\n"
     ]
    },
    {
     "name": "stdout",
     "output_type": "stream",
     "text": [
      "Saved: 2025-09-12 20:42:08,0.2059013396501541,0.040701430290937424,9.919178009033203\n"
     ]
    },
    {
     "name": "stderr",
     "output_type": "stream",
     "text": [
      "ERROR:root:task: mqtt_task raised exception: [WinError 10054] An existing connection was forcibly closed by the remote host.\n",
      "ERROR:root:task: connection_task raised exception: .\n",
      "ERROR:root:task: mqtt_task raised exception: [WinError 10054] An existing connection was forcibly closed by the remote host.\n",
      "ERROR:root:task: connection_task raised exception: .\n",
      "ERROR:root:task: mqtt_task raised exception: [WinError 10054] An existing connection was forcibly closed by the remote host.\n",
      "ERROR:root:task: connection_task raised exception: .\n",
      "ERROR:root:task: mqtt_task raised exception: [WinError 10054] An existing connection was forcibly closed by the remote host.\n",
      "ERROR:root:task: connection_task raised exception: .\n",
      "ERROR:root:task: mqtt_task raised exception: [WinError 10054] An existing connection was forcibly closed by the remote host.\n",
      "ERROR:root:task: connection_task raised exception: .\n"
     ]
    },
    {
     "name": "stdout",
     "output_type": "stream",
     "text": [
      "Saved: 2025-09-12 20:42:22,0.19871874153614044,0.040701430290937424,9.919178009033203\n",
      "Saved: 2025-09-12 20:42:23,0.19871874153614044,0.040701430290937424,9.921571731567383\n"
     ]
    },
    {
     "name": "stderr",
     "output_type": "stream",
     "text": [
      "ERROR:root:task: mqtt_task raised exception: [WinError 10054] An existing connection was forcibly closed by the remote host.\n",
      "ERROR:root:task: connection_task raised exception: .\n",
      "ERROR:root:task: mqtt_task raised exception: [WinError 10054] An existing connection was forcibly closed by the remote host.\n",
      "ERROR:root:task: connection_task raised exception: .\n",
      "ERROR:root:task: mqtt_task raised exception: [WinError 10054] An existing connection was forcibly closed by the remote host.\n",
      "ERROR:root:task: connection_task raised exception: .\n",
      "ERROR:root:task: mqtt_task raised exception: [WinError 10054] An existing connection was forcibly closed by the remote host.\n",
      "ERROR:root:task: connection_task raised exception: .\n"
     ]
    },
    {
     "name": "stdout",
     "output_type": "stream",
     "text": [
      "Saved: 2025-09-12 20:42:35,0.2059013396501541,0.040701430290937424,9.921571731567383\n"
     ]
    },
    {
     "name": "stderr",
     "output_type": "stream",
     "text": [
      "ERROR:root:task: mqtt_task raised exception: [WinError 10054] An existing connection was forcibly closed by the remote host.\n",
      "ERROR:root:task: connection_task raised exception: .\n"
     ]
    },
    {
     "name": "stdout",
     "output_type": "stream",
     "text": [
      "Saved: 2025-09-12 20:42:39,0.2106897532939911,0.040701430290937424,9.921571731567383\n"
     ]
    },
    {
     "name": "stderr",
     "output_type": "stream",
     "text": [
      "ERROR:root:task: mqtt_task raised exception: [WinError 10054] An existing connection was forcibly closed by the remote host.\n"
     ]
    },
    {
     "name": "stdout",
     "output_type": "stream",
     "text": [
      "Saved: 2025-09-12 20:42:40,0.2106897532939911,0.033518824726343155,9.921571731567383\n"
     ]
    },
    {
     "name": "stderr",
     "output_type": "stream",
     "text": [
      "ERROR:root:task: connection_task raised exception: .\n",
      "ERROR:root:task: mqtt_task raised exception: [WinError 10054] An existing connection was forcibly closed by the remote host.\n",
      "ERROR:root:task: connection_task raised exception: .\n"
     ]
    },
    {
     "name": "stdout",
     "output_type": "stream",
     "text": [
      "Saved: 2025-09-12 20:42:46,0.21547815203666687,0.033518824726343155,9.921571731567383\n"
     ]
    },
    {
     "name": "stderr",
     "output_type": "stream",
     "text": [
      "ERROR:root:task: mqtt_task raised exception: [WinError 10054] An existing connection was forcibly closed by the remote host.\n",
      "ERROR:root:task: connection_task raised exception: .\n"
     ]
    },
    {
     "name": "stdout",
     "output_type": "stream",
     "text": [
      "Saved: 2025-09-12 20:42:50,0.2059013396501541,0.033518824726343155,9.921571731567383\n"
     ]
    },
    {
     "name": "stderr",
     "output_type": "stream",
     "text": [
      "ERROR:root:task: mqtt_task raised exception: [WinError 10054] An existing connection was forcibly closed by the remote host.\n",
      "ERROR:root:task: connection_task raised exception: .\n"
     ]
    },
    {
     "name": "stdout",
     "output_type": "stream",
     "text": [
      "Saved: 2025-09-12 20:42:54,0.2106897532939911,0.033518824726343155,9.921571731567383\n"
     ]
    },
    {
     "name": "stderr",
     "output_type": "stream",
     "text": [
      "ERROR:root:task: mqtt_task raised exception: [WinError 10054] An existing connection was forcibly closed by the remote host.\n",
      "ERROR:root:task: connection_task raised exception: .\n",
      "ERROR:root:task: mqtt_task raised exception: [WinError 10054] An existing connection was forcibly closed by the remote host.\n"
     ]
    },
    {
     "name": "stdout",
     "output_type": "stream",
     "text": [
      "Saved: 2025-09-12 20:42:59,0.181959331035614,0.033518824726343155,9.921571731567383\n"
     ]
    },
    {
     "name": "stderr",
     "output_type": "stream",
     "text": [
      "ERROR:root:task: connection_task raised exception: .\n"
     ]
    },
    {
     "name": "stdout",
     "output_type": "stream",
     "text": [
      "Saved: 2025-09-12 20:43:02,0.2106897532939911,0.033518824726343155,9.921571731567383\n"
     ]
    },
    {
     "name": "stderr",
     "output_type": "stream",
     "text": [
      "ERROR:root:task: mqtt_task raised exception: [WinError 10054] An existing connection was forcibly closed by the remote host.\n",
      "ERROR:root:task: connection_task raised exception: .\n",
      "ERROR:root:task: mqtt_task raised exception: [WinError 10054] An existing connection was forcibly closed by the remote host.\n",
      "ERROR:root:task: connection_task raised exception: .\n"
     ]
    },
    {
     "name": "stdout",
     "output_type": "stream",
     "text": [
      "Saved: 2025-09-12 20:43:09,0.2082955539226532,0.033518824726343155,9.921571731567383\n"
     ]
    },
    {
     "name": "stderr",
     "output_type": "stream",
     "text": [
      "ERROR:root:task: mqtt_task raised exception: [WinError 10054] An existing connection was forcibly closed by the remote host.\n",
      "ERROR:root:task: connection_task raised exception: .\n"
     ]
    },
    {
     "name": "stdout",
     "output_type": "stream",
     "text": [
      "Saved: 2025-09-12 20:43:13,0.19393034279346466,0.033518824726343155,9.921571731567383\n"
     ]
    },
    {
     "name": "stderr",
     "output_type": "stream",
     "text": [
      "ERROR:root:task: mqtt_task raised exception: [WinError 10054] An existing connection was forcibly closed by the remote host.\n",
      "ERROR:root:task: connection_task raised exception: .\n",
      "ERROR:root:task: mqtt_task raised exception: [WinError 10054] An existing connection was forcibly closed by the remote host.\n",
      "ERROR:root:task: connection_task raised exception: .\n"
     ]
    },
    {
     "name": "stdout",
     "output_type": "stream",
     "text": [
      "Saved: 2025-09-12 20:43:21,0.19393034279346466,0.033518824726343155,9.921571731567383\n"
     ]
    },
    {
     "name": "stderr",
     "output_type": "stream",
     "text": [
      "ERROR:root:task: mqtt_task raised exception: [WinError 10054] An existing connection was forcibly closed by the remote host.\n",
      "ERROR:root:task: connection_task raised exception: .\n"
     ]
    },
    {
     "name": "stdout",
     "output_type": "stream",
     "text": [
      "Saved: 2025-09-12 20:43:24,0.20350714027881622,0.033518824726343155,9.921571731567383\n"
     ]
    },
    {
     "name": "stderr",
     "output_type": "stream",
     "text": [
      "ERROR:root:task: mqtt_task raised exception: [WinError 10054] An existing connection was forcibly closed by the remote host.\n",
      "ERROR:root:task: connection_task raised exception: .\n"
     ]
    },
    {
     "name": "stdout",
     "output_type": "stream",
     "text": [
      "Saved: 2025-09-12 20:43:28,0.2082955539226532,0.033518824726343155,9.921571731567383\n",
      "Saved: 2025-09-12 20:43:29,0.2082955539226532,0.028730420395731926,9.921571731567383\n"
     ]
    },
    {
     "name": "stderr",
     "output_type": "stream",
     "text": [
      "ERROR:root:task: mqtt_task raised exception: [WinError 10054] An existing connection was forcibly closed by the remote host.\n",
      "ERROR:root:task: connection_task raised exception: .\n"
     ]
    },
    {
     "name": "stdout",
     "output_type": "stream",
     "text": [
      "Saved: 2025-09-12 20:43:33,0.2082955539226532,0.028730420395731926,9.921571731567383\n"
     ]
    },
    {
     "name": "stderr",
     "output_type": "stream",
     "text": [
      "ERROR:root:task: mqtt_task raised exception: [WinError 10054] An existing connection was forcibly closed by the remote host.\n",
      "ERROR:root:task: connection_task raised exception: .\n"
     ]
    },
    {
     "name": "stdout",
     "output_type": "stream",
     "text": [
      "Saved: 2025-09-12 20:43:37,0.2082955539226532,0.033518824726343155,9.921571731567383\n"
     ]
    },
    {
     "name": "stderr",
     "output_type": "stream",
     "text": [
      "ERROR:root:task: mqtt_task raised exception: [WinError 10054] An existing connection was forcibly closed by the remote host.\n",
      "ERROR:root:task: connection_task raised exception: .\n",
      "ERROR:root:task: mqtt_task raised exception: [WinError 10054] An existing connection was forcibly closed by the remote host.\n",
      "ERROR:root:task: connection_task raised exception: .\n"
     ]
    },
    {
     "name": "stdout",
     "output_type": "stream",
     "text": [
      "Saved: 2025-09-12 20:43:44,0.2082955539226532,0.033518824726343155,9.921571731567383\n"
     ]
    },
    {
     "name": "stderr",
     "output_type": "stream",
     "text": [
      "ERROR:root:task: mqtt_task raised exception: [WinError 10054] An existing connection was forcibly closed by the remote host.\n",
      "ERROR:root:task: connection_task raised exception: .\n"
     ]
    },
    {
     "name": "stdout",
     "output_type": "stream",
     "text": [
      "Saved: 2025-09-12 20:43:48,0.2082955539226532,0.028730420395731926,9.921571731567383\n"
     ]
    },
    {
     "name": "stderr",
     "output_type": "stream",
     "text": [
      "ERROR:root:task: mqtt_task raised exception: [WinError 10054] An existing connection was forcibly closed by the remote host.\n",
      "ERROR:root:task: connection_task raised exception: .\n",
      "ERROR:root:task: mqtt_task raised exception: [WinError 10054] An existing connection was forcibly closed by the remote host.\n",
      "ERROR:root:task: connection_task raised exception: .\n"
     ]
    },
    {
     "name": "stdout",
     "output_type": "stream",
     "text": [
      "Saved: 2025-09-12 20:43:56,0.2082955539226532,0.028730420395731926,9.916783332824707\n"
     ]
    },
    {
     "name": "stderr",
     "output_type": "stream",
     "text": [
      "ERROR:root:task: mqtt_task raised exception: [WinError 10054] An existing connection was forcibly closed by the remote host.\n",
      "ERROR:root:task: connection_task raised exception: .\n"
     ]
    },
    {
     "name": "stdout",
     "output_type": "stream",
     "text": [
      "Saved: 2025-09-12 20:43:59,0.21547815203666687,0.028730420395731926,9.916783332824707\n"
     ]
    },
    {
     "name": "stderr",
     "output_type": "stream",
     "text": [
      "ERROR:root:task: mqtt_task raised exception: [WinError 10054] An existing connection was forcibly closed by the remote host.\n",
      "ERROR:root:task: connection_task raised exception: .\n",
      "ERROR:root:task: mqtt_task raised exception: [WinError 10054] An existing connection was forcibly closed by the remote host.\n",
      "ERROR:root:task: connection_task raised exception: .\n"
     ]
    },
    {
     "name": "stdout",
     "output_type": "stream",
     "text": [
      "Saved: 2025-09-12 20:44:07,0.2059013396501541,0.028730420395731926,9.916783332824707\n"
     ]
    },
    {
     "name": "stderr",
     "output_type": "stream",
     "text": [
      "ERROR:root:task: mqtt_task raised exception: [WinError 10054] An existing connection was forcibly closed by the remote host.\n",
      "ERROR:root:task: connection_task raised exception: .\n"
     ]
    },
    {
     "name": "stdout",
     "output_type": "stream",
     "text": [
      "Saved: 2025-09-12 20:44:11,0.1867477297782898,0.028730420395731926,9.916783332824707\n"
     ]
    },
    {
     "name": "stderr",
     "output_type": "stream",
     "text": [
      "ERROR:root:task: mqtt_task raised exception: [WinError 10054] An existing connection was forcibly closed by the remote host.\n",
      "ERROR:root:task: connection_task raised exception: .\n"
     ]
    },
    {
     "name": "stdout",
     "output_type": "stream",
     "text": [
      "Saved: 2025-09-12 20:44:14,0.2082955539226532,0.028730420395731926,9.916783332824707\n"
     ]
    },
    {
     "name": "stderr",
     "output_type": "stream",
     "text": [
      "ERROR:root:task: mqtt_task raised exception: [WinError 10054] An existing connection was forcibly closed by the remote host.\n",
      "ERROR:root:task: connection_task raised exception: .\n"
     ]
    },
    {
     "name": "stdout",
     "output_type": "stream",
     "text": [
      "Saved: 2025-09-12 20:44:18,0.1843535304069519,0.028730420395731926,9.916783332824707\n"
     ]
    },
    {
     "name": "stderr",
     "output_type": "stream",
     "text": [
      "ERROR:root:task: mqtt_task raised exception: [WinError 10054] An existing connection was forcibly closed by the remote host.\n",
      "ERROR:root:task: connection_task raised exception: .\n"
     ]
    },
    {
     "name": "stdout",
     "output_type": "stream",
     "text": [
      "Saved: 2025-09-12 20:44:23,0.19632454216480255,0.028730420395731926,9.916783332824707\n"
     ]
    },
    {
     "name": "stderr",
     "output_type": "stream",
     "text": [
      "ERROR:root:task: mqtt_task raised exception: [WinError 10054] An existing connection was forcibly closed by the remote host.\n",
      "ERROR:root:task: connection_task raised exception: .\n",
      "ERROR:root:task: mqtt_task raised exception: [WinError 10054] An existing connection was forcibly closed by the remote host.\n",
      "ERROR:root:task: connection_task raised exception: .\n"
     ]
    },
    {
     "name": "stdout",
     "output_type": "stream",
     "text": [
      "Saved: 2025-09-12 20:44:30,0.19871874153614044,0.028730420395731926,9.916783332824707\n"
     ]
    },
    {
     "name": "stderr",
     "output_type": "stream",
     "text": [
      "ERROR:root:task: mqtt_task raised exception: [WinError 10054] An existing connection was forcibly closed by the remote host.\n",
      "ERROR:root:task: connection_task raised exception: .\n",
      "ERROR:root:task: mqtt_task raised exception: [WinError 10054] An existing connection was forcibly closed by the remote host.\n",
      "ERROR:root:task: connection_task raised exception: .\n"
     ]
    },
    {
     "name": "stdout",
     "output_type": "stream",
     "text": [
      "Saved: 2025-09-12 20:44:37,0.18914192914962769,0.028730420395731926,9.916783332824707\n"
     ]
    },
    {
     "name": "stderr",
     "output_type": "stream",
     "text": [
      "ERROR:root:task: mqtt_task raised exception: [WinError 10054] An existing connection was forcibly closed by the remote host.\n",
      "ERROR:root:task: connection_task raised exception: .\n"
     ]
    },
    {
     "name": "stdout",
     "output_type": "stream",
     "text": [
      "Saved: 2025-09-12 20:44:41,0.20350714027881622,0.028730420395731926,9.916783332824707\n"
     ]
    },
    {
     "name": "stderr",
     "output_type": "stream",
     "text": [
      "ERROR:root:task: mqtt_task raised exception: [WinError 10054] An existing connection was forcibly closed by the remote host.\n",
      "ERROR:root:task: connection_task raised exception: .\n"
     ]
    },
    {
     "name": "stdout",
     "output_type": "stream",
     "text": [
      "Saved: 2025-09-12 20:44:45,0.19871874153614044,0.028730420395731926,9.916783332824707\n"
     ]
    },
    {
     "name": "stderr",
     "output_type": "stream",
     "text": [
      "ERROR:root:task: mqtt_task raised exception: [WinError 10054] An existing connection was forcibly closed by the remote host.\n",
      "ERROR:root:task: connection_task raised exception: .\n"
     ]
    },
    {
     "name": "stdout",
     "output_type": "stream",
     "text": [
      "Saved: 2025-09-12 20:44:48,0.19871874153614044,0.028730420395731926,9.916783332824707\n"
     ]
    },
    {
     "name": "stderr",
     "output_type": "stream",
     "text": [
      "ERROR:root:task: mqtt_task raised exception: [WinError 10054] An existing connection was forcibly closed by the remote host.\n",
      "ERROR:root:task: connection_task raised exception: .\n"
     ]
    },
    {
     "name": "stdout",
     "output_type": "stream",
     "text": [
      "Saved: 2025-09-12 20:44:52,0.20111294090747833,0.028730420395731926,9.916783332824707\n"
     ]
    },
    {
     "name": "stderr",
     "output_type": "stream",
     "text": [
      "ERROR:root:task: mqtt_task raised exception: [WinError 10054] An existing connection was forcibly closed by the remote host.\n",
      "ERROR:root:task: connection_task raised exception: .\n",
      "ERROR:root:task: mqtt_task raised exception: [WinError 10054] An existing connection was forcibly closed by the remote host.\n",
      "ERROR:root:task: connection_task raised exception: .\n",
      "ERROR:root:task: mqtt_task raised exception: [WinError 10054] An existing connection was forcibly closed by the remote host.\n",
      "ERROR:root:task: connection_task raised exception: .\n",
      "ERROR:root:task: mqtt_task raised exception: [WinError 10054] An existing connection was forcibly closed by the remote host.\n",
      "ERROR:root:task: connection_task raised exception: .\n"
     ]
    },
    {
     "name": "stdout",
     "output_type": "stream",
     "text": [
      "Saved: 2025-09-12 20:45:05,0.2082955539226532,0.028730420395731926,9.916783332824707\n"
     ]
    },
    {
     "name": "stderr",
     "output_type": "stream",
     "text": [
      "ERROR:root:task: mqtt_task raised exception: [WinError 10054] An existing connection was forcibly closed by the remote host.\n",
      "ERROR:root:task: connection_task raised exception: .\n",
      "ERROR:root:task: mqtt_task raised exception: [WinError 10054] An existing connection was forcibly closed by the remote host.\n",
      "ERROR:root:task: connection_task raised exception: .\n"
     ]
    },
    {
     "name": "stdout",
     "output_type": "stream",
     "text": [
      "Saved: 2025-09-12 20:45:12,0.1867477297782898,0.028730420395731926,9.916783332824707\n"
     ]
    },
    {
     "name": "stderr",
     "output_type": "stream",
     "text": [
      "ERROR:root:task: mqtt_task raised exception: [WinError 10054] An existing connection was forcibly closed by the remote host.\n",
      "ERROR:root:task: connection_task raised exception: .\n",
      "ERROR:root:task: mqtt_task raised exception: [WinError 10054] An existing connection was forcibly closed by the remote host.\n",
      "ERROR:root:task: connection_task raised exception: .\n",
      "ERROR:root:task: mqtt_task raised exception: [WinError 10054] An existing connection was forcibly closed by the remote host.\n",
      "ERROR:root:task: connection_task raised exception: .\n",
      "ERROR:root:task: mqtt_task raised exception: [WinError 10054] An existing connection was forcibly closed by the remote host.\n",
      "ERROR:root:task: connection_task raised exception: .\n",
      "ERROR:root:task: mqtt_task raised exception: [WinError 10054] An existing connection was forcibly closed by the remote host.\n",
      "ERROR:root:task: connection_task raised exception: .\n",
      "ERROR:root:task: mqtt_task raised exception: [WinError 10054] An existing connection was forcibly closed by the remote host.\n",
      "ERROR:root:task: connection_task raised exception: .\n"
     ]
    },
    {
     "name": "stdout",
     "output_type": "stream",
     "text": [
      "Saved: 2025-09-12 20:45:29,0.1867477297782898,0.028730420395731926,9.916783332824707\n"
     ]
    },
    {
     "name": "stderr",
     "output_type": "stream",
     "text": [
      "ERROR:root:task: mqtt_task raised exception: [WinError 10054] An existing connection was forcibly closed by the remote host.\n",
      "ERROR:root:task: connection_task raised exception: .\n"
     ]
    },
    {
     "name": "stdout",
     "output_type": "stream",
     "text": [
      "Saved: 2025-09-12 20:45:33,0.20350714027881622,0.028730420395731926,9.916783332824707\n"
     ]
    },
    {
     "name": "stderr",
     "output_type": "stream",
     "text": [
      "ERROR:root:task: mqtt_task raised exception: [WinError 10054] An existing connection was forcibly closed by the remote host.\n",
      "ERROR:root:task: connection_task raised exception: .\n"
     ]
    },
    {
     "name": "stdout",
     "output_type": "stream",
     "text": [
      "Saved: 2025-09-12 20:45:37,0.20350714027881622,0.028730420395731926,9.916783332824707\n"
     ]
    },
    {
     "name": "stderr",
     "output_type": "stream",
     "text": [
      "ERROR:root:task: mqtt_task raised exception: [WinError 10054] An existing connection was forcibly closed by the remote host.\n",
      "ERROR:root:task: connection_task raised exception: .\n"
     ]
    },
    {
     "name": "stdout",
     "output_type": "stream",
     "text": [
      "Saved: 2025-09-12 20:45:40,0.19871874153614044,0.028730420395731926,9.916783332824707\n"
     ]
    },
    {
     "name": "stderr",
     "output_type": "stream",
     "text": [
      "ERROR:root:task: mqtt_task raised exception: [WinError 10054] An existing connection was forcibly closed by the remote host.\n",
      "ERROR:root:task: connection_task raised exception: .\n"
     ]
    },
    {
     "name": "stdout",
     "output_type": "stream",
     "text": [
      "Saved: 2025-09-12 20:45:44,0.19393034279346466,0.028730420395731926,9.916783332824707\n"
     ]
    },
    {
     "name": "stderr",
     "output_type": "stream",
     "text": [
      "ERROR:root:task: mqtt_task raised exception: [WinError 10054] An existing connection was forcibly closed by the remote host.\n",
      "ERROR:root:task: connection_task raised exception: .\n",
      "ERROR:root:task: mqtt_task raised exception: [WinError 10054] An existing connection was forcibly closed by the remote host.\n",
      "ERROR:root:task: connection_task raised exception: .\n",
      "ERROR:root:task: mqtt_task raised exception: [WinError 10054] An existing connection was forcibly closed by the remote host.\n",
      "ERROR:root:task: connection_task raised exception: .\n"
     ]
    },
    {
     "name": "stdout",
     "output_type": "stream",
     "text": [
      "Saved: 2025-09-12 20:45:54,0.1843535304069519,0.028730420395731926,9.916783332824707\n"
     ]
    },
    {
     "name": "stderr",
     "output_type": "stream",
     "text": [
      "ERROR:root:task: mqtt_task raised exception: [WinError 10054] An existing connection was forcibly closed by the remote host.\n",
      "ERROR:root:task: connection_task raised exception: .\n",
      "ERROR:root:task: mqtt_task raised exception: [WinError 10054] An existing connection was forcibly closed by the remote host.\n",
      "ERROR:root:task: connection_task raised exception: .\n",
      "ERROR:root:task: mqtt_task raised exception: [WinError 10054] An existing connection was forcibly closed by the remote host.\n",
      "ERROR:root:task: connection_task raised exception: .\n",
      "ERROR:root:task: mqtt_task raised exception: [WinError 10054] An existing connection was forcibly closed by the remote host.\n",
      "ERROR:root:task: connection_task raised exception: .\n",
      "ERROR:root:task: mqtt_task raised exception: [WinError 10054] An existing connection was forcibly closed by the remote host.\n",
      "ERROR:root:task: connection_task raised exception: .\n",
      "ERROR:root:task: mqtt_task raised exception: [WinError 10054] An existing connection was forcibly closed by the remote host.\n",
      "ERROR:root:task: connection_task raised exception: .\n",
      "ERROR:root:task: mqtt_task raised exception: [WinError 10054] An existing connection was forcibly closed by the remote host.\n",
      "ERROR:root:task: connection_task raised exception: .\n",
      "ERROR:root:task: mqtt_task raised exception: [WinError 10054] An existing connection was forcibly closed by the remote host.\n",
      "ERROR:root:task: connection_task raised exception: .\n",
      "ERROR:root:task: mqtt_task raised exception: [WinError 10054] An existing connection was forcibly closed by the remote host.\n",
      "ERROR:root:task: connection_task raised exception: .\n",
      "ERROR:root:task: mqtt_task raised exception: [WinError 10054] An existing connection was forcibly closed by the remote host.\n",
      "ERROR:root:task: connection_task raised exception: .\n",
      "ERROR:root:task: mqtt_task raised exception: [WinError 10054] An existing connection was forcibly closed by the remote host.\n",
      "ERROR:root:task: connection_task raised exception: .\n",
      "ERROR:root:task: mqtt_task raised exception: [WinError 10054] An existing connection was forcibly closed by the remote host.\n",
      "ERROR:root:task: connection_task raised exception: .\n",
      "ERROR:root:task: mqtt_task raised exception: [WinError 10054] An existing connection was forcibly closed by the remote host.\n",
      "ERROR:root:task: connection_task raised exception: .\n",
      "ERROR:root:task: mqtt_task raised exception: [WinError 10054] An existing connection was forcibly closed by the remote host.\n",
      "ERROR:root:task: connection_task raised exception: .\n",
      "ERROR:root:task: mqtt_task raised exception: [WinError 10054] An existing connection was forcibly closed by the remote host.\n",
      "ERROR:root:task: connection_task raised exception: .\n",
      "ERROR:root:task: mqtt_task raised exception: [WinError 10054] An existing connection was forcibly closed by the remote host.\n",
      "ERROR:root:task: connection_task raised exception: .\n"
     ]
    },
    {
     "name": "stdout",
     "output_type": "stream",
     "text": [
      "Saved: 2025-09-12 20:46:40,0.19393034279346466,0.028730420395731926,9.916783332824707\n"
     ]
    },
    {
     "name": "stderr",
     "output_type": "stream",
     "text": [
      "ERROR:root:task: mqtt_task raised exception: [WinError 10054] An existing connection was forcibly closed by the remote host.\n",
      "ERROR:root:task: connection_task raised exception: .\n",
      "ERROR:root:task: mqtt_task raised exception: [WinError 10054] An existing connection was forcibly closed by the remote host.\n",
      "ERROR:root:task: connection_task raised exception: .\n",
      "ERROR:root:task: mqtt_task raised exception: [WinError 10054] An existing connection was forcibly closed by the remote host.\n",
      "ERROR:root:task: connection_task raised exception: .\n",
      "ERROR:root:task: mqtt_task raised exception: [WinError 10054] An existing connection was forcibly closed by the remote host.\n",
      "ERROR:root:task: connection_task raised exception: .\n",
      "ERROR:root:task: mqtt_task raised exception: [WinError 10054] An existing connection was forcibly closed by the remote host.\n",
      "ERROR:root:task: connection_task raised exception: .\n"
     ]
    },
    {
     "name": "stdout",
     "output_type": "stream",
     "text": [
      "Saved: 2025-09-12 20:46:55,0.19871874153614044,0.028730420395731926,9.916783332824707\n",
      "Saved: 2025-09-12 20:46:56,0.19871874153614044,0.021547814831137657,9.916783332824707\n"
     ]
    },
    {
     "name": "stderr",
     "output_type": "stream",
     "text": [
      "ERROR:root:task: mqtt_task raised exception: [WinError 10054] An existing connection was forcibly closed by the remote host.\n",
      "ERROR:root:task: connection_task raised exception: .\n",
      "ERROR:root:task: mqtt_task raised exception: [WinError 10054] An existing connection was forcibly closed by the remote host.\n",
      "ERROR:root:task: connection_task raised exception: .\n"
     ]
    },
    {
     "name": "stdout",
     "output_type": "stream",
     "text": [
      "Saved: 2025-09-12 20:47:04,0.2059013396501541,0.021547814831137657,9.916783332824707\n",
      "Creating visualizations...\n"
     ]
    },
    {
     "name": "stderr",
     "output_type": "stream",
     "text": [
      "ERROR:root:task: mqtt_task raised exception: [WinError 10054] An existing connection was forcibly closed by the remote host.\n"
     ]
    },
    {
     "name": "stdout",
     "output_type": "stream",
     "text": [
      "Visualizations saved as 'accelerometer_analysis.png'\n",
      "Analyzing patterns...\n",
      "X-axis: 53 peaks, average interval: 16.38 samples\n",
      "Y-axis: 8 peaks, average interval: 89.86 samples\n",
      "Pattern analysis saved as 'pattern_analysis.txt'\n"
     ]
    },
    {
     "name": "stderr",
     "output_type": "stream",
     "text": [
      "ERROR:root:task: connection_task raised exception: .\n"
     ]
    },
    {
     "name": "stdout",
     "output_type": "stream",
     "text": [
      "Saved: 2025-09-12 20:47:08,0.20111294090747833,0.021547814831137657,9.916783332824707\n",
      "Creating visualizations...\n"
     ]
    },
    {
     "name": "stderr",
     "output_type": "stream",
     "text": [
      "ERROR:root:task: mqtt_task raised exception: [WinError 10054] An existing connection was forcibly closed by the remote host.\n"
     ]
    },
    {
     "name": "stdout",
     "output_type": "stream",
     "text": [
      "Visualizations saved as 'accelerometer_analysis.png'\n",
      "Analyzing patterns...\n",
      "X-axis: 53 peaks, average interval: 16.38 samples\n",
      "Y-axis: 8 peaks, average interval: 89.86 samples\n",
      "Pattern analysis saved as 'pattern_analysis.txt'\n"
     ]
    },
    {
     "name": "stderr",
     "output_type": "stream",
     "text": [
      "ERROR:root:task: connection_task raised exception: .\n",
      "ERROR:root:task: mqtt_task raised exception: [WinError 10054] An existing connection was forcibly closed by the remote host.\n",
      "ERROR:root:task: connection_task raised exception: .\n",
      "ERROR:root:task: mqtt_task raised exception: [WinError 10054] An existing connection was forcibly closed by the remote host.\n",
      "ERROR:root:task: connection_task raised exception: .\n",
      "ERROR:root:task: mqtt_task raised exception: [WinError 10054] An existing connection was forcibly closed by the remote host.\n",
      "ERROR:root:task: connection_task raised exception: .\n"
     ]
    },
    {
     "name": "stdout",
     "output_type": "stream",
     "text": [
      "Saved: 2025-09-12 20:47:19,0.1867477297782898,0.021547814831137657,9.916783332824707\n",
      "Creating visualizations...\n"
     ]
    },
    {
     "name": "stderr",
     "output_type": "stream",
     "text": [
      "ERROR:root:task: mqtt_task raised exception: [WinError 10054] An existing connection was forcibly closed by the remote host.\n"
     ]
    },
    {
     "name": "stdout",
     "output_type": "stream",
     "text": [
      "Visualizations saved as 'accelerometer_analysis.png'\n",
      "Analyzing patterns...\n",
      "X-axis: 53 peaks, average interval: 16.38 samples\n",
      "Y-axis: 8 peaks, average interval: 89.86 samples\n",
      "Pattern analysis saved as 'pattern_analysis.txt'\n"
     ]
    },
    {
     "name": "stderr",
     "output_type": "stream",
     "text": [
      "ERROR:root:task: connection_task raised exception: .\n",
      "ERROR:root:task: mqtt_task raised exception: [WinError 10054] An existing connection was forcibly closed by the remote host.\n",
      "ERROR:root:task: connection_task raised exception: .\n"
     ]
    },
    {
     "name": "stdout",
     "output_type": "stream",
     "text": [
      "Saved: 2025-09-12 20:47:26,0.20350714027881622,0.021547814831137657,9.916783332824707\n",
      "Creating visualizations...\n"
     ]
    },
    {
     "name": "stderr",
     "output_type": "stream",
     "text": [
      "ERROR:root:task: mqtt_task raised exception: [WinError 10054] An existing connection was forcibly closed by the remote host.\n"
     ]
    },
    {
     "name": "stdout",
     "output_type": "stream",
     "text": [
      "Visualizations saved as 'accelerometer_analysis.png'\n",
      "Analyzing patterns...\n",
      "X-axis: 53 peaks, average interval: 16.38 samples\n",
      "Y-axis: 8 peaks, average interval: 89.86 samples\n",
      "Pattern analysis saved as 'pattern_analysis.txt'\n"
     ]
    },
    {
     "name": "stderr",
     "output_type": "stream",
     "text": [
      "ERROR:root:task: connection_task raised exception: .\n"
     ]
    },
    {
     "name": "stdout",
     "output_type": "stream",
     "text": [
      "Saved: 2025-09-12 20:47:30,0.20350714027881622,0.021547814831137657,9.916783332824707\n",
      "Creating visualizations...\n",
      "Visualizations saved as 'accelerometer_analysis.png'\n",
      "Analyzing patterns...\n",
      "X-axis: 53 peaks, average interval: 16.38 samples\n",
      "Y-axis: 8 peaks, average interval: 89.86 samples\n",
      "Pattern analysis saved as 'pattern_analysis.txt'\n",
      "Saved: 2025-09-12 20:47:33,0.20350714027881622,0.033518824726343155,9.916783332824707\n",
      "Creating visualizations...\n"
     ]
    },
    {
     "name": "stderr",
     "output_type": "stream",
     "text": [
      "ERROR:root:task: mqtt_task raised exception: [WinError 10054] An existing connection was forcibly closed by the remote host.\n"
     ]
    },
    {
     "name": "stdout",
     "output_type": "stream",
     "text": [
      "Visualizations saved as 'accelerometer_analysis.png'\n",
      "Analyzing patterns...\n",
      "X-axis: 52 peaks, average interval: 16.59 samples\n",
      "Y-axis: 8 peaks, average interval: 89.86 samples\n",
      "Pattern analysis saved as 'pattern_analysis.txt'\n"
     ]
    },
    {
     "name": "stderr",
     "output_type": "stream",
     "text": [
      "ERROR:root:task: connection_task raised exception: .\n",
      "ERROR:root:task: mqtt_task raised exception: [WinError 10054] An existing connection was forcibly closed by the remote host.\n",
      "ERROR:root:task: connection_task raised exception: .\n",
      "ERROR:root:task: mqtt_task raised exception: [WinError 10054] An existing connection was forcibly closed by the remote host.\n",
      "ERROR:root:task: connection_task raised exception: .\n",
      "ERROR:root:task: mqtt_task raised exception: [WinError 10054] An existing connection was forcibly closed by the remote host.\n",
      "ERROR:root:task: connection_task raised exception: .\n",
      "ERROR:root:task: mqtt_task raised exception: [WinError 10054] An existing connection was forcibly closed by the remote host.\n",
      "ERROR:root:task: connection_task raised exception: .\n",
      "ERROR:root:task: mqtt_task raised exception: [WinError 10054] An existing connection was forcibly closed by the remote host.\n",
      "ERROR:root:task: connection_task raised exception: .\n",
      "ERROR:root:task: mqtt_task raised exception: [WinError 10054] An existing connection was forcibly closed by the remote host.\n",
      "ERROR:root:task: connection_task raised exception: .\n"
     ]
    },
    {
     "name": "stdout",
     "output_type": "stream",
     "text": [
      "Saved: 2025-09-12 20:47:52,0.19632454216480255,0.033518824726343155,9.916783332824707\n",
      "Creating visualizations...\n"
     ]
    },
    {
     "name": "stderr",
     "output_type": "stream",
     "text": [
      "ERROR:root:task: mqtt_task raised exception: [WinError 10054] An existing connection was forcibly closed by the remote host.\n"
     ]
    },
    {
     "name": "stdout",
     "output_type": "stream",
     "text": [
      "Visualizations saved as 'accelerometer_analysis.png'\n",
      "Analyzing patterns...\n",
      "X-axis: 52 peaks, average interval: 16.59 samples\n",
      "Y-axis: 8 peaks, average interval: 89.86 samples\n",
      "Pattern analysis saved as 'pattern_analysis.txt'\n"
     ]
    },
    {
     "name": "stderr",
     "output_type": "stream",
     "text": [
      "ERROR:root:task: connection_task raised exception: .\n"
     ]
    },
    {
     "name": "stdout",
     "output_type": "stream",
     "text": [
      "Saved: 2025-09-12 20:47:57,0.1843535304069519,0.033518824726343155,9.916783332824707\n",
      "Creating visualizations...\n"
     ]
    },
    {
     "name": "stderr",
     "output_type": "stream",
     "text": [
      "ERROR:root:task: mqtt_task raised exception: [WinError 10054] An existing connection was forcibly closed by the remote host.\n"
     ]
    },
    {
     "name": "stdout",
     "output_type": "stream",
     "text": [
      "Visualizations saved as 'accelerometer_analysis.png'\n",
      "Analyzing patterns...\n",
      "X-axis: 52 peaks, average interval: 16.59 samples\n",
      "Y-axis: 8 peaks, average interval: 89.86 samples\n",
      "Pattern analysis saved as 'pattern_analysis.txt'\n"
     ]
    },
    {
     "name": "stderr",
     "output_type": "stream",
     "text": [
      "ERROR:root:task: connection_task raised exception: .\n",
      "ERROR:root:task: mqtt_task raised exception: [WinError 10054] An existing connection was forcibly closed by the remote host.\n",
      "ERROR:root:task: connection_task raised exception: .\n"
     ]
    },
    {
     "name": "stdout",
     "output_type": "stream",
     "text": [
      "Saved: 2025-09-12 20:48:04,0.20350714027881622,0.033518824726343155,9.916783332824707\n",
      "Creating visualizations...\n"
     ]
    },
    {
     "name": "stderr",
     "output_type": "stream",
     "text": [
      "ERROR:root:task: mqtt_task raised exception: [WinError 10054] An existing connection was forcibly closed by the remote host.\n"
     ]
    },
    {
     "name": "stdout",
     "output_type": "stream",
     "text": [
      "Visualizations saved as 'accelerometer_analysis.png'\n",
      "Analyzing patterns...\n",
      "X-axis: 52 peaks, average interval: 16.59 samples\n",
      "Y-axis: 8 peaks, average interval: 89.86 samples\n",
      "Pattern analysis saved as 'pattern_analysis.txt'\n"
     ]
    },
    {
     "name": "stderr",
     "output_type": "stream",
     "text": [
      "ERROR:root:task: connection_task raised exception: .\n",
      "ERROR:root:task: mqtt_task raised exception: [WinError 10054] An existing connection was forcibly closed by the remote host.\n",
      "ERROR:root:task: connection_task raised exception: .\n",
      "ERROR:root:task: mqtt_task raised exception: [WinError 10054] An existing connection was forcibly closed by the remote host.\n",
      "ERROR:root:task: connection_task raised exception: .\n",
      "ERROR:root:task: mqtt_task raised exception: [WinError 10054] An existing connection was forcibly closed by the remote host.\n",
      "ERROR:root:task: connection_task raised exception: .\n"
     ]
    },
    {
     "name": "stdout",
     "output_type": "stream",
     "text": [
      "Saved: 2025-09-12 20:48:16,0.19153612852096558,0.033518824726343155,9.916783332824707\n",
      "Creating visualizations...\n"
     ]
    },
    {
     "name": "stderr",
     "output_type": "stream",
     "text": [
      "ERROR:root:task: mqtt_task raised exception: [WinError 10054] An existing connection was forcibly closed by the remote host.\n"
     ]
    },
    {
     "name": "stdout",
     "output_type": "stream",
     "text": [
      "Visualizations saved as 'accelerometer_analysis.png'\n",
      "Analyzing patterns...\n",
      "X-axis: 52 peaks, average interval: 16.59 samples\n",
      "Y-axis: 8 peaks, average interval: 89.86 samples\n",
      "Pattern analysis saved as 'pattern_analysis.txt'\n"
     ]
    },
    {
     "name": "stderr",
     "output_type": "stream",
     "text": [
      "ERROR:root:task: connection_task raised exception: .\n"
     ]
    },
    {
     "name": "stdout",
     "output_type": "stream",
     "text": [
      "Saved: 2025-09-12 20:48:20,0.20350714027881622,0.033518824726343155,9.916783332824707\n",
      "Creating visualizations...\n"
     ]
    },
    {
     "name": "stderr",
     "output_type": "stream",
     "text": [
      "ERROR:root:task: mqtt_task raised exception: [WinError 10054] An existing connection was forcibly closed by the remote host.\n"
     ]
    },
    {
     "name": "stdout",
     "output_type": "stream",
     "text": [
      "Visualizations saved as 'accelerometer_analysis.png'\n",
      "Analyzing patterns...\n",
      "X-axis: 52 peaks, average interval: 16.59 samples\n",
      "Y-axis: 8 peaks, average interval: 89.86 samples\n",
      "Pattern analysis saved as 'pattern_analysis.txt'\n"
     ]
    },
    {
     "name": "stderr",
     "output_type": "stream",
     "text": [
      "ERROR:root:task: connection_task raised exception: .\n",
      "ERROR:root:task: mqtt_task raised exception: [WinError 10054] An existing connection was forcibly closed by the remote host.\n",
      "ERROR:root:task: connection_task raised exception: .\n",
      "ERROR:root:task: mqtt_task raised exception: [WinError 10054] An existing connection was forcibly closed by the remote host.\n",
      "ERROR:root:task: connection_task raised exception: .\n",
      "ERROR:root:task: mqtt_task raised exception: [WinError 10054] An existing connection was forcibly closed by the remote host.\n",
      "ERROR:root:task: connection_task raised exception: .\n"
     ]
    },
    {
     "name": "stdout",
     "output_type": "stream",
     "text": [
      "Saved: 2025-09-12 20:48:34,0.18914192914962769,0.033518824726343155,9.916783332824707\n",
      "Creating visualizations...\n"
     ]
    },
    {
     "name": "stderr",
     "output_type": "stream",
     "text": [
      "ERROR:root:task: mqtt_task raised exception: [WinError 10054] An existing connection was forcibly closed by the remote host.\n"
     ]
    },
    {
     "name": "stdout",
     "output_type": "stream",
     "text": [
      "Visualizations saved as 'accelerometer_analysis.png'\n",
      "Analyzing patterns...\n",
      "X-axis: 51 peaks, average interval: 16.84 samples\n",
      "Y-axis: 8 peaks, average interval: 89.86 samples\n",
      "Pattern analysis saved as 'pattern_analysis.txt'\n"
     ]
    },
    {
     "name": "stderr",
     "output_type": "stream",
     "text": [
      "ERROR:root:task: connection_task raised exception: .\n",
      "ERROR:root:task: mqtt_task raised exception: [WinError 10054] An existing connection was forcibly closed by the remote host.\n",
      "ERROR:root:task: connection_task raised exception: .\n",
      "ERROR:root:task: mqtt_task raised exception: [WinError 10054] An existing connection was forcibly closed by the remote host.\n",
      "ERROR:root:task: connection_task raised exception: .\n",
      "ERROR:root:task: mqtt_task raised exception: [WinError 10054] An existing connection was forcibly closed by the remote host.\n",
      "ERROR:root:task: connection_task raised exception: .\n"
     ]
    },
    {
     "name": "stdout",
     "output_type": "stream",
     "text": [
      "Saved: 2025-09-12 20:48:46,0.19153612852096558,0.033518824726343155,9.916783332824707\n",
      "Creating visualizations...\n",
      "Visualizations saved as 'accelerometer_analysis.png'\n",
      "Analyzing patterns...\n",
      "X-axis: 51 peaks, average interval: 16.84 samples\n",
      "Y-axis: 8 peaks, average interval: 89.86 samples\n",
      "Pattern analysis saved as 'pattern_analysis.txt'\n",
      "Saved: 2025-09-12 20:48:48,0.19153612852096558,0.026336219161748886,9.916783332824707\n",
      "Creating visualizations...\n"
     ]
    },
    {
     "name": "stderr",
     "output_type": "stream",
     "text": [
      "ERROR:root:task: mqtt_task raised exception: [WinError 10054] An existing connection was forcibly closed by the remote host.\n"
     ]
    },
    {
     "name": "stdout",
     "output_type": "stream",
     "text": [
      "Visualizations saved as 'accelerometer_analysis.png'\n",
      "Analyzing patterns...\n",
      "X-axis: 51 peaks, average interval: 16.84 samples\n",
      "Y-axis: 8 peaks, average interval: 89.86 samples\n",
      "Pattern analysis saved as 'pattern_analysis.txt'\n"
     ]
    },
    {
     "name": "stderr",
     "output_type": "stream",
     "text": [
      "ERROR:root:task: connection_task raised exception: .\n",
      "ERROR:root:task: mqtt_task raised exception: [WinError 10054] An existing connection was forcibly closed by the remote host.\n",
      "ERROR:root:task: connection_task raised exception: .\n"
     ]
    },
    {
     "name": "stdout",
     "output_type": "stream",
     "text": [
      "Saved: 2025-09-12 20:48:56,0.2082955539226532,0.026336219161748886,9.916783332824707\n",
      "Creating visualizations...\n"
     ]
    },
    {
     "name": "stderr",
     "output_type": "stream",
     "text": [
      "ERROR:root:task: mqtt_task raised exception: [WinError 10054] An existing connection was forcibly closed by the remote host.\n"
     ]
    },
    {
     "name": "stdout",
     "output_type": "stream",
     "text": [
      "Visualizations saved as 'accelerometer_analysis.png'\n",
      "Analyzing patterns...\n",
      "X-axis: 51 peaks, average interval: 16.84 samples\n",
      "Y-axis: 8 peaks, average interval: 89.86 samples\n",
      "Pattern analysis saved as 'pattern_analysis.txt'\n"
     ]
    },
    {
     "name": "stderr",
     "output_type": "stream",
     "text": [
      "ERROR:root:task: connection_task raised exception: .\n"
     ]
    },
    {
     "name": "stdout",
     "output_type": "stream",
     "text": [
      "Saved: 2025-09-12 20:49:00,0.2082955539226532,0.026336219161748886,9.916783332824707\n",
      "Creating visualizations...\n"
     ]
    },
    {
     "name": "stderr",
     "output_type": "stream",
     "text": [
      "ERROR:root:task: mqtt_task raised exception: [WinError 10054] An existing connection was forcibly closed by the remote host.\n"
     ]
    },
    {
     "name": "stdout",
     "output_type": "stream",
     "text": [
      "Visualizations saved as 'accelerometer_analysis.png'\n",
      "Analyzing patterns...\n",
      "X-axis: 50 peaks, average interval: 17.12 samples\n",
      "Y-axis: 8 peaks, average interval: 89.86 samples\n",
      "Pattern analysis saved as 'pattern_analysis.txt'\n"
     ]
    },
    {
     "name": "stderr",
     "output_type": "stream",
     "text": [
      "ERROR:root:task: connection_task raised exception: .\n",
      "ERROR:root:task: mqtt_task raised exception: [WinError 10054] An existing connection was forcibly closed by the remote host.\n",
      "ERROR:root:task: connection_task raised exception: .\n"
     ]
    },
    {
     "name": "stdout",
     "output_type": "stream",
     "text": [
      "Saved: 2025-09-12 20:49:08,0.19871874153614044,0.026336219161748886,9.916783332824707\n",
      "Creating visualizations...\n"
     ]
    },
    {
     "name": "stderr",
     "output_type": "stream",
     "text": [
      "ERROR:root:task: mqtt_task raised exception: [WinError 10054] An existing connection was forcibly closed by the remote host.\n"
     ]
    },
    {
     "name": "stdout",
     "output_type": "stream",
     "text": [
      "Visualizations saved as 'accelerometer_analysis.png'\n",
      "Analyzing patterns...\n",
      "X-axis: 50 peaks, average interval: 17.12 samples\n",
      "Y-axis: 7 peaks, average interval: 97.67 samples\n",
      "Pattern analysis saved as 'pattern_analysis.txt'\n"
     ]
    },
    {
     "name": "stderr",
     "output_type": "stream",
     "text": [
      "ERROR:root:task: connection_task raised exception: .\n"
     ]
    },
    {
     "name": "stdout",
     "output_type": "stream",
     "text": [
      "Saved: 2025-09-12 20:49:12,0.19871874153614044,0.026336219161748886,9.916783332824707\n",
      "Creating visualizations...\n"
     ]
    },
    {
     "name": "stderr",
     "output_type": "stream",
     "text": [
      "ERROR:root:task: mqtt_task raised exception: [WinError 10054] An existing connection was forcibly closed by the remote host.\n"
     ]
    },
    {
     "name": "stdout",
     "output_type": "stream",
     "text": [
      "Visualizations saved as 'accelerometer_analysis.png'\n",
      "Analyzing patterns...\n",
      "X-axis: 50 peaks, average interval: 17.12 samples\n",
      "Y-axis: 7 peaks, average interval: 97.67 samples\n",
      "Pattern analysis saved as 'pattern_analysis.txt'\n"
     ]
    },
    {
     "name": "stderr",
     "output_type": "stream",
     "text": [
      "ERROR:root:task: connection_task raised exception: .\n",
      "ERROR:root:task: mqtt_task raised exception: [WinError 10054] An existing connection was forcibly closed by the remote host.\n",
      "ERROR:root:task: connection_task raised exception: .\n"
     ]
    },
    {
     "name": "stdout",
     "output_type": "stream",
     "text": [
      "Saved: 2025-09-12 20:49:20,0.06703764945268631,0.026336219161748886,9.916783332824707\n",
      "Creating visualizations...\n"
     ]
    },
    {
     "name": "stderr",
     "output_type": "stream",
     "text": [
      "ERROR:root:task: mqtt_task raised exception: [WinError 10054] An existing connection was forcibly closed by the remote host.\n"
     ]
    },
    {
     "name": "stdout",
     "output_type": "stream",
     "text": [
      "Visualizations saved as 'accelerometer_analysis.png'\n",
      "Analyzing patterns...\n",
      "X-axis: 49 peaks, average interval: 17.31 samples\n",
      "Y-axis: 7 peaks, average interval: 97.67 samples\n",
      "Pattern analysis saved as 'pattern_analysis.txt'\n"
     ]
    },
    {
     "name": "stderr",
     "output_type": "stream",
     "text": [
      "ERROR:root:task: connection_task raised exception: .\n",
      "ERROR:root:task: mqtt_task raised exception: [WinError 10054] An existing connection was forcibly closed by the remote host.\n",
      "ERROR:root:task: connection_task raised exception: .\n",
      "ERROR:root:task: mqtt_task raised exception: [WinError 10054] An existing connection was forcibly closed by the remote host.\n",
      "ERROR:root:task: connection_task raised exception: .\n",
      "ERROR:root:task: mqtt_task raised exception: [WinError 10054] An existing connection was forcibly closed by the remote host.\n",
      "ERROR:root:task: connection_task raised exception: .\n"
     ]
    },
    {
     "name": "stdout",
     "output_type": "stream",
     "text": [
      "Data collection completed. Files saved:\n",
      "- accel.csv: Combined accelerometer data\n",
      "- accelerometer_analysis.png: Visualization plots\n",
      "- pattern_analysis.txt: Pattern analysis report\n"
     ]
    },
    {
     "ename": "KeyboardInterrupt",
     "evalue": "",
     "output_type": "error",
     "traceback": [
      "\u001b[1;31m---------------------------------------------------------------------------\u001b[0m",
      "\u001b[1;31mKeyboardInterrupt\u001b[0m                         Traceback (most recent call last)",
      "Cell \u001b[1;32mIn[1], line 225\u001b[0m\n\u001b[0;32m    223\u001b[0m \u001b[38;5;66;03m# Run the main function\u001b[39;00m\n\u001b[0;32m    224\u001b[0m \u001b[38;5;28;01mif\u001b[39;00m \u001b[38;5;18m__name__\u001b[39m \u001b[38;5;241m==\u001b[39m \u001b[38;5;124m\"\u001b[39m\u001b[38;5;124m__main__\u001b[39m\u001b[38;5;124m\"\u001b[39m:\n\u001b[1;32m--> 225\u001b[0m     asyncio\u001b[38;5;241m.\u001b[39mrun(main())\n",
      "File \u001b[1;32m~\\anaconda3\\Lib\\site-packages\\nest_asyncio.py:30\u001b[0m, in \u001b[0;36m_patch_asyncio.<locals>.run\u001b[1;34m(main, debug)\u001b[0m\n\u001b[0;32m     28\u001b[0m task \u001b[38;5;241m=\u001b[39m asyncio\u001b[38;5;241m.\u001b[39mensure_future(main)\n\u001b[0;32m     29\u001b[0m \u001b[38;5;28;01mtry\u001b[39;00m:\n\u001b[1;32m---> 30\u001b[0m     \u001b[38;5;28;01mreturn\u001b[39;00m loop\u001b[38;5;241m.\u001b[39mrun_until_complete(task)\n\u001b[0;32m     31\u001b[0m \u001b[38;5;28;01mfinally\u001b[39;00m:\n\u001b[0;32m     32\u001b[0m     \u001b[38;5;28;01mif\u001b[39;00m \u001b[38;5;129;01mnot\u001b[39;00m task\u001b[38;5;241m.\u001b[39mdone():\n",
      "File \u001b[1;32m~\\anaconda3\\Lib\\site-packages\\nest_asyncio.py:92\u001b[0m, in \u001b[0;36m_patch_loop.<locals>.run_until_complete\u001b[1;34m(self, future)\u001b[0m\n\u001b[0;32m     90\u001b[0m     f\u001b[38;5;241m.\u001b[39m_log_destroy_pending \u001b[38;5;241m=\u001b[39m \u001b[38;5;28;01mFalse\u001b[39;00m\n\u001b[0;32m     91\u001b[0m \u001b[38;5;28;01mwhile\u001b[39;00m \u001b[38;5;129;01mnot\u001b[39;00m f\u001b[38;5;241m.\u001b[39mdone():\n\u001b[1;32m---> 92\u001b[0m     \u001b[38;5;28mself\u001b[39m\u001b[38;5;241m.\u001b[39m_run_once()\n\u001b[0;32m     93\u001b[0m     \u001b[38;5;28;01mif\u001b[39;00m \u001b[38;5;28mself\u001b[39m\u001b[38;5;241m.\u001b[39m_stopping:\n\u001b[0;32m     94\u001b[0m         \u001b[38;5;28;01mbreak\u001b[39;00m\n",
      "File \u001b[1;32m~\\anaconda3\\Lib\\site-packages\\nest_asyncio.py:115\u001b[0m, in \u001b[0;36m_patch_loop.<locals>._run_once\u001b[1;34m(self)\u001b[0m\n\u001b[0;32m    108\u001b[0m     heappop(scheduled)\n\u001b[0;32m    110\u001b[0m timeout \u001b[38;5;241m=\u001b[39m (\n\u001b[0;32m    111\u001b[0m     \u001b[38;5;241m0\u001b[39m \u001b[38;5;28;01mif\u001b[39;00m ready \u001b[38;5;129;01mor\u001b[39;00m \u001b[38;5;28mself\u001b[39m\u001b[38;5;241m.\u001b[39m_stopping\n\u001b[0;32m    112\u001b[0m     \u001b[38;5;28;01melse\u001b[39;00m \u001b[38;5;28mmin\u001b[39m(\u001b[38;5;28mmax\u001b[39m(\n\u001b[0;32m    113\u001b[0m         scheduled[\u001b[38;5;241m0\u001b[39m]\u001b[38;5;241m.\u001b[39m_when \u001b[38;5;241m-\u001b[39m \u001b[38;5;28mself\u001b[39m\u001b[38;5;241m.\u001b[39mtime(), \u001b[38;5;241m0\u001b[39m), \u001b[38;5;241m86400\u001b[39m) \u001b[38;5;28;01mif\u001b[39;00m scheduled\n\u001b[0;32m    114\u001b[0m     \u001b[38;5;28;01melse\u001b[39;00m \u001b[38;5;28;01mNone\u001b[39;00m)\n\u001b[1;32m--> 115\u001b[0m event_list \u001b[38;5;241m=\u001b[39m \u001b[38;5;28mself\u001b[39m\u001b[38;5;241m.\u001b[39m_selector\u001b[38;5;241m.\u001b[39mselect(timeout)\n\u001b[0;32m    116\u001b[0m \u001b[38;5;28mself\u001b[39m\u001b[38;5;241m.\u001b[39m_process_events(event_list)\n\u001b[0;32m    118\u001b[0m end_time \u001b[38;5;241m=\u001b[39m \u001b[38;5;28mself\u001b[39m\u001b[38;5;241m.\u001b[39mtime() \u001b[38;5;241m+\u001b[39m \u001b[38;5;28mself\u001b[39m\u001b[38;5;241m.\u001b[39m_clock_resolution\n",
      "File \u001b[1;32m~\\anaconda3\\Lib\\selectors.py:314\u001b[0m, in \u001b[0;36mSelectSelector.select\u001b[1;34m(self, timeout)\u001b[0m\n\u001b[0;32m    312\u001b[0m ready \u001b[38;5;241m=\u001b[39m []\n\u001b[0;32m    313\u001b[0m \u001b[38;5;28;01mtry\u001b[39;00m:\n\u001b[1;32m--> 314\u001b[0m     r, w, _ \u001b[38;5;241m=\u001b[39m \u001b[38;5;28mself\u001b[39m\u001b[38;5;241m.\u001b[39m_select(\u001b[38;5;28mself\u001b[39m\u001b[38;5;241m.\u001b[39m_readers, \u001b[38;5;28mself\u001b[39m\u001b[38;5;241m.\u001b[39m_writers, [], timeout)\n\u001b[0;32m    315\u001b[0m \u001b[38;5;28;01mexcept\u001b[39;00m \u001b[38;5;167;01mInterruptedError\u001b[39;00m:\n\u001b[0;32m    316\u001b[0m     \u001b[38;5;28;01mreturn\u001b[39;00m ready\n",
      "File \u001b[1;32m~\\anaconda3\\Lib\\selectors.py:305\u001b[0m, in \u001b[0;36mSelectSelector._select\u001b[1;34m(self, r, w, _, timeout)\u001b[0m\n\u001b[0;32m    304\u001b[0m \u001b[38;5;28;01mdef\u001b[39;00m\u001b[38;5;250m \u001b[39m\u001b[38;5;21m_select\u001b[39m(\u001b[38;5;28mself\u001b[39m, r, w, _, timeout\u001b[38;5;241m=\u001b[39m\u001b[38;5;28;01mNone\u001b[39;00m):\n\u001b[1;32m--> 305\u001b[0m     r, w, x \u001b[38;5;241m=\u001b[39m select\u001b[38;5;241m.\u001b[39mselect(r, w, w, timeout)\n\u001b[0;32m    306\u001b[0m     \u001b[38;5;28;01mreturn\u001b[39;00m r, w \u001b[38;5;241m+\u001b[39m x, []\n",
      "\u001b[1;31mKeyboardInterrupt\u001b[0m: "
     ]
    }
   ],
   "source": [
    "from arduino_iot_cloud import ArduinoCloudClient\n",
    "import datetime\n",
    "import asyncio\n",
    "import pandas as pd\n",
    "import matplotlib.pyplot as plt\n",
    "import numpy as np\n",
    "import csv\n",
    "import os\n",
    "from collections import deque\n",
    "import nest_asyncio\n",
    "\n",
    "# Apply nest_asyncio for async operations in environments like Jupyter\n",
    "nest_asyncio.apply()\n",
    "\n",
    "# Arduino Cloud Configuration\n",
    "DEVICE_ID = \"7c085c20-b2ad-4248-88cb-fa699d451afe\"\n",
    "SECRET_KEY = \"XqwDz6uY8og9oQzGj6NFUThHL\"\n",
    "\n",
    "# Initialize Arduino Cloud Client\n",
    "client = ArduinoCloudClient(device_id=DEVICE_ID, username=DEVICE_ID, password=SECRET_KEY)\n",
    "\n",
    "# Data storage\n",
    "file_all = open(\"accel.csv\", \"a\")\n",
    "data_buffer = {\"x\": None, \"y\": None, \"z\": None}\n",
    "data_history = {\"timestamp\": [], \"x\": [], \"y\": [], \"z\": []}\n",
    "BUFFER_SIZE = 1000  # Number of samples to keep in memory\n",
    "\n",
    "# Create CSV header if file is empty\n",
    "if os.path.getsize(\"accel.csv\") == 0:\n",
    "    file_all.write(\"timestamp,x,y,z\\n\")\n",
    "\n",
    "def get_timestamp():\n",
    "    return datetime.datetime.now().strftime(\"%Y-%m-%d %H:%M:%S\")\n",
    "\n",
    "def write_combined():\n",
    "    if None not in data_buffer.values():  # all three values present\n",
    "        ts = get_timestamp()\n",
    "        line = f\"{ts},{data_buffer['x']},{data_buffer['y']},{data_buffer['z']}\\n\"\n",
    "        file_all.write(line)\n",
    "        file_all.flush()\n",
    "        \n",
    "        # Also store in memory for visualization\n",
    "        data_history[\"timestamp\"].append(datetime.datetime.now())\n",
    "        data_history[\"x\"].append(data_buffer[\"x\"])\n",
    "        data_history[\"y\"].append(data_buffer[\"y\"])\n",
    "        data_history[\"z\"].append(data_buffer[\"z\"])\n",
    "        \n",
    "        # Keep only the most recent BUFFER_SIZE samples\n",
    "        for key in data_history:\n",
    "            if len(data_history[key]) > BUFFER_SIZE:\n",
    "                data_history[key] = data_history[key][-BUFFER_SIZE:]\n",
    "        \n",
    "        print(f\"Saved: {line.strip()}\")\n",
    "        \n",
    "        # Create visualizations periodically\n",
    "        if len(data_history[\"x\"]) % 100 == 0:  # Update plots every 100 samples\n",
    "            create_visualizations()\n",
    "\n",
    "def callback_x(client, value):\n",
    "    if value is not None:\n",
    "        data_buffer[\"x\"] = value\n",
    "        write_combined()\n",
    "\n",
    "def callback_y(client, value):\n",
    "    if value is not None:\n",
    "        data_buffer[\"y\"] = value\n",
    "        write_combined()\n",
    "\n",
    "def callback_z(client, value):\n",
    "    if value is not None:\n",
    "        data_buffer[\"z\"] = value\n",
    "        write_combined()\n",
    "\n",
    "def create_visualizations():\n",
    "    \"\"\"Create and save visualizations of the accelerometer data\"\"\"\n",
    "    if len(data_history[\"x\"]) < 50:  # Need at least 50 samples\n",
    "        return\n",
    "    \n",
    "    print(\"Creating visualizations...\")\n",
    "    \n",
    "    # Create the 4 required graphs for Activity 8.1\n",
    "    fig, ((ax1, ax2), (ax3, ax4)) = plt.subplots(2, 2, figsize=(15, 10))\n",
    "    fig.suptitle('Accelerometer Data Analysis', fontsize=16)\n",
    "    \n",
    "    # X-axis plot\n",
    "    ax1.plot(data_history[\"timestamp\"], data_history[\"x\"], 'r-')\n",
    "    ax1.set_title('X-axis Acceleration')\n",
    "    ax1.set_ylabel('Acceleration (m/s²)')\n",
    "    ax1.tick_params(axis='x', rotation=45)\n",
    "    \n",
    "    # Y-axis plot\n",
    "    ax2.plot(data_history[\"timestamp\"], data_history[\"y\"], 'g-')\n",
    "    ax2.set_title('Y-axis Acceleration')\n",
    "    ax2.set_ylabel('Acceleration (m/s²)')\n",
    "    ax2.tick_params(axis='x', rotation=45)\n",
    "    \n",
    "    # Z-axis plot\n",
    "    ax3.plot(data_history[\"timestamp\"], data_history[\"z\"], 'b-')\n",
    "    ax3.set_title('Z-axis Acceleration')\n",
    "    ax3.set_ylabel('Acceleration (m/s²)')\n",
    "    ax3.tick_params(axis='x', rotation=45)\n",
    "    \n",
    "    # Combined plot\n",
    "    ax4.plot(data_history[\"timestamp\"], data_history[\"x\"], 'r-', label='X-axis', alpha=0.7)\n",
    "    ax4.plot(data_history[\"timestamp\"], data_history[\"y\"], 'g-', label='Y-axis', alpha=0.7)\n",
    "    ax4.plot(data_history[\"timestamp\"], data_history[\"z\"], 'b-', label='Z-axis', alpha=0.7)\n",
    "    ax4.set_title('Combined Acceleration Data')\n",
    "    ax4.set_ylabel('Acceleration (m/s²)')\n",
    "    ax4.legend()\n",
    "    ax4.tick_params(axis='x', rotation=45)\n",
    "    \n",
    "    plt.tight_layout()\n",
    "    plt.savefig('accelerometer_analysis.png', dpi=300, bbox_inches='tight')\n",
    "    plt.close()\n",
    "    \n",
    "    print(\"Visualizations saved as 'accelerometer_analysis.png'\")\n",
    "    \n",
    "    # Perform pattern analysis\n",
    "    analyze_patterns()\n",
    "\n",
    "def analyze_patterns():\n",
    "    \"\"\"Analyze the data for repeating patterns\"\"\"\n",
    "    if len(data_history[\"x\"]) < 100:\n",
    "        return\n",
    "    \n",
    "    print(\"Analyzing patterns...\")\n",
    "    \n",
    "    # Convert to numpy arrays for analysis\n",
    "    x_data = np.array(data_history[\"x\"])\n",
    "    y_data = np.array(data_history[\"y\"])\n",
    "    z_data = np.array(data_history[\"z\"])\n",
    "    \n",
    "    # Calculate magnitude\n",
    "    magnitude = np.sqrt(x_data**2 + y_data**2 + z_data**2)\n",
    "    \n",
    "    # Find peaks in each axis\n",
    "    from scipy import signal\n",
    "    \n",
    "    # Analyze X-axis\n",
    "    x_peaks, _ = signal.find_peaks(x_data, prominence=0.5)\n",
    "    x_peak_times = [data_history[\"timestamp\"][i] for i in x_peaks]\n",
    "    \n",
    "    # Analyze Y-axis\n",
    "    y_peaks, _ = signal.find_peaks(y_data, prominence=0.5)\n",
    "    y_peak_times = [data_history[\"timestamp\"][i] for i in y_peaks]\n",
    "    \n",
    "    # Analyze Z-axis\n",
    "    z_peaks, _ = signal.find_peaks(z_data, prominence=0.5)\n",
    "    z_peak_times = [data_history[\"timestamp\"][i] for i in z_peaks]\n",
    "    \n",
    "    # Calculate time differences between peaks\n",
    "    if len(x_peaks) > 1:\n",
    "        x_intervals = np.diff(x_peaks)\n",
    "        print(f\"X-axis: {len(x_peaks)} peaks, average interval: {np.mean(x_intervals):.2f} samples\")\n",
    "    \n",
    "    if len(y_peaks) > 1:\n",
    "        y_intervals = np.diff(y_peaks)\n",
    "        print(f\"Y-axis: {len(y_peaks)} peaks, average interval: {np.mean(y_intervals):.2f} samples\")\n",
    "    \n",
    "    if len(z_peaks) > 1:\n",
    "        z_intervals = np.diff(z_peaks)\n",
    "        print(f\"Z-axis: {len(z_peaks)} peaks, average interval: {np.mean(z_intervals):.2f} samples\")\n",
    "    \n",
    "    # Create a pattern analysis report\n",
    "    with open(\"pattern_analysis.txt\", \"w\") as f:\n",
    "        f.write(\"Accelerometer Pattern Analysis Report\\n\")\n",
    "        f.write(\"====================================\\n\\n\")\n",
    "        f.write(f\"Total samples: {len(data_history['x'])}\\n\")\n",
    "        f.write(f\"Time range: {data_history['timestamp'][0]} to {data_history['timestamp'][-1]}\\n\\n\")\n",
    "        \n",
    "        f.write(\"X-axis Statistics:\\n\")\n",
    "        f.write(f\"  Mean: {np.mean(x_data):.3f}, Std: {np.std(x_data):.3f}\\n\")\n",
    "        f.write(f\"  Min: {np.min(x_data):.3f}, Max: {np.max(x_data):.3f}\\n\")\n",
    "        f.write(f\"  Peaks detected: {len(x_peaks)}\\n\\n\")\n",
    "        \n",
    "        f.write(\"Y-axis Statistics:\\n\")\n",
    "        f.write(f\"  Mean: {np.mean(y_data):.3f}, Std: {np.std(y_data):.3f}\\n\")\n",
    "        f.write(f\"  Min: {np.min(y_data):.3f}, Max: {np.max(y_data):.3f}\\n\")\n",
    "        f.write(f\"  Peaks detected: {len(y_peaks)}\\n\\n\")\n",
    "        \n",
    "        f.write(\"Z-axis Statistics:\\n\")\n",
    "        f.write(f\"  Mean: {np.mean(z_data):.3f}, Std: {np.std(z_data):.3f}\\n\")\n",
    "        f.write(f\"  Min: {np.min(z_data):.3f}, Max: {np.max(z_data):.3f}\\n\")\n",
    "        f.write(f\"  Peaks detected: {len(z_peaks)}\\n\\n\")\n",
    "        \n",
    "        f.write(\"Pattern Analysis:\\n\")\n",
    "        if len(x_peaks) > 2 and np.std(np.diff(x_peaks)) < 5:\n",
    "            f.write(\"  X-axis shows regular repeating pattern\\n\")\n",
    "        if len(y_peaks) > 2 and np.std(np.diff(y_peaks)) < 5:\n",
    "            f.write(\"  Y-axis shows regular repeating pattern\\n\")\n",
    "        if len(z_peaks) > 2 and np.std(np.diff(z_peaks)) < 5:\n",
    "            f.write(\"  Z-axis shows regular repeating pattern\\n\")\n",
    "        \n",
    "        f.write(\"\\nThe repeating patterns indicate deliberate smartphone movements\\n\")\n",
    "        f.write(\"with consistent timing, suggesting specific gestures or activities.\\n\")\n",
    "    \n",
    "    print(\"Pattern analysis saved as 'pattern_analysis.txt'\")\n",
    "\n",
    "# Register callbacks\n",
    "client.register(\"py_x\", value=0.0, on_write=callback_x)\n",
    "client.register(\"py_y\", value=0.0, on_write=callback_y)\n",
    "client.register(\"py_z\", value=0.0, on_write=callback_z)\n",
    "\n",
    "# Main function to run the client\n",
    "async def main():\n",
    "    print(\"Starting Arduino Cloud client...\")\n",
    "    print(\"Waiting for accelerometer data...\")\n",
    "    print(\"Press Ctrl+C to stop\")\n",
    "    \n",
    "    try:\n",
    "        await client.run(interval=1.0, backoff=1.2)\n",
    "    except KeyboardInterrupt:\n",
    "        print(\"\\nStopping client...\")\n",
    "    except Exception as e:\n",
    "        print(f\"Error: {e}\")\n",
    "    finally:\n",
    "        file_all.close()\n",
    "        print(\"Data collection completed. Files saved:\")\n",
    "        print(\"- accel.csv: Combined accelerometer data\")\n",
    "        print(\"- accelerometer_analysis.png: Visualization plots\")\n",
    "        print(\"- pattern_analysis.txt: Pattern analysis report\")\n",
    "\n",
    "# Run the main function\n",
    "if __name__ == \"__main__\":\n",
    "    asyncio.run(main())"
   ]
  },
  {
   "cell_type": "code",
   "execution_count": null,
   "id": "8e04a382-2abc-4cfe-96b4-19b8b4f1d5a8",
   "metadata": {},
   "outputs": [],
   "source": []
  }
 ],
 "metadata": {
  "kernelspec": {
   "display_name": "Python [conda env:base] *",
   "language": "python",
   "name": "conda-base-py"
  },
  "language_info": {
   "codemirror_mode": {
    "name": "ipython",
    "version": 3
   },
   "file_extension": ".py",
   "mimetype": "text/x-python",
   "name": "python",
   "nbconvert_exporter": "python",
   "pygments_lexer": "ipython3",
   "version": "3.13.5"
  }
 },
 "nbformat": 4,
 "nbformat_minor": 5
}
